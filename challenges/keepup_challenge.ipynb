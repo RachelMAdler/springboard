{
 "cells": [
  {
   "cell_type": "markdown",
   "metadata": {},
   "source": [
    "<div class=\"alert alert-success\">\n",
    "<h1>SETUP</h1>\n",
    "</div>"
   ]
  },
  {
   "cell_type": "markdown",
   "metadata": {},
   "source": [
    "## Import libraries"
   ]
  },
  {
   "cell_type": "code",
   "execution_count": 1,
   "metadata": {
    "ExecuteTime": {
     "end_time": "2017-11-29T16:10:11.629936Z",
     "start_time": "2017-11-29T11:10:10.433181-05:00"
    },
    "collapsed": true
   },
   "outputs": [],
   "source": [
    "import pandas as pd\n",
    "import numpy as np\n",
    "import seaborn as sns\n",
    "import matplotlib.pyplot as plt\n",
    "%matplotlib inline\n",
    "sns.set_style('whitegrid')"
   ]
  },
  {
   "cell_type": "markdown",
   "metadata": {},
   "source": [
    "## Read in file and save as dictionary"
   ]
  },
  {
   "cell_type": "code",
   "execution_count": 2,
   "metadata": {
    "ExecuteTime": {
     "end_time": "2017-11-29T16:11:03.650080Z",
     "start_time": "2017-11-29T11:10:11.632813-05:00"
    },
    "collapsed": true
   },
   "outputs": [],
   "source": [
    "# initialize variables\n",
    "my_dict = dict()\n",
    "reviews = []\n",
    "categories = []\n",
    "ct = 0\n",
    "keywords=['Id','ASIN','title','group','salesrank','similar','categories','reviews']\n",
    "\n",
    "with open('amazon-meta.txt') as file:\n",
    "    for line in file:\n",
    "        ct+=1\n",
    "        # only keep single spaces\n",
    "        line = ' '.join(line.split())\n",
    "\n",
    "        # remove empty lines and first two lines\n",
    "        if not line == '' and ct >= 2 :\n",
    "\n",
    "            # assign key\n",
    "            key = line.split(':')[0]\n",
    "\n",
    "            # assign entry (removing extra white space)\n",
    "            entry = line.replace(key + ':','').strip()\n",
    "\n",
    "            if key in keywords:\n",
    "                if key == 'Id':\n",
    "\n",
    "                    # save reviews from previous item\n",
    "                    if reviews != []:\n",
    "                        my_dict[prev_id]['reviews_all'] = reviews\n",
    "                    # save categories from previous item\n",
    "                    if categories != []:\n",
    "                        my_dict[prev_id]['cats_all'] = categories\n",
    "\n",
    "                    # add new ID to dictionary\n",
    "                    my_dict[entry] = dict()\n",
    "                    prev_id = entry\n",
    "                    reviews = []\n",
    "                    categories = []\n",
    "                else:\n",
    "                    my_dict[prev_id][key] = entry\n",
    "\n",
    "            # if line contains a review, add to review list\n",
    "            elif ('helpful' in entry) and ('votes' in entry):\n",
    "                reviews.append(entry)\n",
    "\n",
    "            # if line contains categories, add to categories list\n",
    "            elif line[0] == '|':\n",
    "                categories.append(entry)"
   ]
  },
  {
   "cell_type": "markdown",
   "metadata": {},
   "source": [
    "## Convert dictionary to dataframe"
   ]
  },
  {
   "cell_type": "code",
   "execution_count": 3,
   "metadata": {
    "ExecuteTime": {
     "end_time": "2017-11-29T16:11:15.630577Z",
     "start_time": "2017-11-29T11:11:03.652643-05:00"
    }
   },
   "outputs": [
    {
     "data": {
      "text/html": [
       "<div>\n",
       "<table border=\"1\" class=\"dataframe\">\n",
       "  <thead>\n",
       "    <tr style=\"text-align: right;\">\n",
       "      <th></th>\n",
       "      <th>ASIN</th>\n",
       "      <th>title</th>\n",
       "      <th>group</th>\n",
       "      <th>salesrank</th>\n",
       "      <th>similar</th>\n",
       "      <th>categories</th>\n",
       "      <th>reviews</th>\n",
       "      <th>reviews_all</th>\n",
       "      <th>cats_all</th>\n",
       "    </tr>\n",
       "  </thead>\n",
       "  <tbody>\n",
       "    <tr>\n",
       "      <th>0</th>\n",
       "      <td>0771044445</td>\n",
       "      <td>NaN</td>\n",
       "      <td>NaN</td>\n",
       "      <td>NaN</td>\n",
       "      <td>NaN</td>\n",
       "      <td>NaN</td>\n",
       "      <td>NaN</td>\n",
       "      <td>NaN</td>\n",
       "      <td>NaN</td>\n",
       "    </tr>\n",
       "    <tr>\n",
       "      <th>1</th>\n",
       "      <td>0827229534</td>\n",
       "      <td>Patterns of Preaching: A Sermon Sampler</td>\n",
       "      <td>Book</td>\n",
       "      <td>396585</td>\n",
       "      <td>5 0804215715 156101074X 0687023955 0687074231 ...</td>\n",
       "      <td>2</td>\n",
       "      <td>total: 2 downloaded: 2 avg rating: 5</td>\n",
       "      <td>[A2JW67OY8U6HHK rating: 5 votes: 10 helpful: 9...</td>\n",
       "      <td>[|Books[283155]|Subjects[1000]|Religion &amp; Spir...</td>\n",
       "    </tr>\n",
       "    <tr>\n",
       "      <th>10</th>\n",
       "      <td>0375709363</td>\n",
       "      <td>The Edward Said Reader</td>\n",
       "      <td>Book</td>\n",
       "      <td>220379</td>\n",
       "      <td>5 039474067X 0679730672 0679750541 1400030668 ...</td>\n",
       "      <td>3</td>\n",
       "      <td>total: 6 downloaded: 6 avg rating: 4</td>\n",
       "      <td>[A2RI73IFW2GWU1 rating: 4 votes: 12 helpful: 7...</td>\n",
       "      <td>[|Books[283155]|Subjects[1000]|Literature &amp; Fi...</td>\n",
       "    </tr>\n",
       "    <tr>\n",
       "      <th>100</th>\n",
       "      <td>0787958743</td>\n",
       "      <td>Guide to Effective Staff Development in Health...</td>\n",
       "      <td>Book</td>\n",
       "      <td>783690</td>\n",
       "      <td>5 1886624089 0397554168 1560535253 0875847471 ...</td>\n",
       "      <td>2</td>\n",
       "      <td>total: 0 downloaded: 0 avg rating: 0</td>\n",
       "      <td>NaN</td>\n",
       "      <td>[|Books[283155]|Subjects[1000]|Medicine[13996]...</td>\n",
       "    </tr>\n",
       "    <tr>\n",
       "      <th>1000</th>\n",
       "      <td>0830815627</td>\n",
       "      <td>Invitation to Theology</td>\n",
       "      <td>Book</td>\n",
       "      <td>497795</td>\n",
       "      <td>5 0830814493 0687095735 0801090962 0960263845 ...</td>\n",
       "      <td>1</td>\n",
       "      <td>total: 1 downloaded: 1 avg rating: 5</td>\n",
       "      <td>[A2C67F0TPHMI7D rating: 5 votes: 3 helpful: 3]</td>\n",
       "      <td>[|Books[283155]|Subjects[1000]|Religion &amp; Spir...</td>\n",
       "    </tr>\n",
       "  </tbody>\n",
       "</table>\n",
       "</div>"
      ],
      "text/plain": [
       "            ASIN                                              title group  \\\n",
       "0     0771044445                                                NaN   NaN   \n",
       "1     0827229534            Patterns of Preaching: A Sermon Sampler  Book   \n",
       "10    0375709363                             The Edward Said Reader  Book   \n",
       "100   0787958743  Guide to Effective Staff Development in Health...  Book   \n",
       "1000  0830815627                             Invitation to Theology  Book   \n",
       "\n",
       "     salesrank                                            similar categories  \\\n",
       "0          NaN                                                NaN        NaN   \n",
       "1       396585  5 0804215715 156101074X 0687023955 0687074231 ...          2   \n",
       "10      220379  5 039474067X 0679730672 0679750541 1400030668 ...          3   \n",
       "100     783690  5 1886624089 0397554168 1560535253 0875847471 ...          2   \n",
       "1000    497795  5 0830814493 0687095735 0801090962 0960263845 ...          1   \n",
       "\n",
       "                                   reviews  \\\n",
       "0                                      NaN   \n",
       "1     total: 2 downloaded: 2 avg rating: 5   \n",
       "10    total: 6 downloaded: 6 avg rating: 4   \n",
       "100   total: 0 downloaded: 0 avg rating: 0   \n",
       "1000  total: 1 downloaded: 1 avg rating: 5   \n",
       "\n",
       "                                            reviews_all  \\\n",
       "0                                                   NaN   \n",
       "1     [A2JW67OY8U6HHK rating: 5 votes: 10 helpful: 9...   \n",
       "10    [A2RI73IFW2GWU1 rating: 4 votes: 12 helpful: 7...   \n",
       "100                                                 NaN   \n",
       "1000     [A2C67F0TPHMI7D rating: 5 votes: 3 helpful: 3]   \n",
       "\n",
       "                                               cats_all  \n",
       "0                                                   NaN  \n",
       "1     [|Books[283155]|Subjects[1000]|Religion & Spir...  \n",
       "10    [|Books[283155]|Subjects[1000]|Literature & Fi...  \n",
       "100   [|Books[283155]|Subjects[1000]|Medicine[13996]...  \n",
       "1000  [|Books[283155]|Subjects[1000]|Religion & Spir...  "
      ]
     },
     "execution_count": 3,
     "metadata": {},
     "output_type": "execute_result"
    }
   ],
   "source": [
    "df = pd.DataFrame.from_dict(my_dict, orient='index')\n",
    "df.head()"
   ]
  },
  {
   "cell_type": "markdown",
   "metadata": {},
   "source": [
    "<div class=\"alert alert-success\">\n",
    "<h1>PART A</h1>\n",
    "</div>"
   ]
  },
  {
   "cell_type": "markdown",
   "metadata": {},
   "source": [
    "## 1: Trustworthiness of ratings"
   ]
  },
  {
   "cell_type": "markdown",
   "metadata": {},
   "source": [
    "### Code"
   ]
  },
  {
   "cell_type": "markdown",
   "metadata": {},
   "source": [
    "**Create subset dataframe and do basic cleaning**"
   ]
  },
  {
   "cell_type": "code",
   "execution_count": 59,
   "metadata": {
    "ExecuteTime": {
     "end_time": "2017-11-29T18:23:55.609947Z",
     "start_time": "2017-11-29T13:23:13.593200-05:00"
    },
    "collapsed": true
   },
   "outputs": [],
   "source": [
    "# create subset dataframe with just reviews\n",
    "df_revs = df[['reviews', 'reviews_all', 'group', 'salesrank']]\n",
    "\n",
    "# remove rows without review data\n",
    "df_revs = df_revs[pd.notnull(df_revs['reviews'])]\n",
    "\n",
    "# convert 'reviews' column to list\n",
    "df_revs['reviews'] = df_revs['reviews'].str.split()\n",
    "\n",
    "# make columns for each review component\n",
    "df_revs['total'] = df_revs.apply(lambda row: row.reviews[1], axis=1)\n",
    "df_revs['downloaded'] = df_revs.apply(lambda row: row.reviews[3], axis=1)\n",
    "df_revs['avg_rating'] = df_revs.apply(lambda row: row.reviews[6], axis=1)\n",
    "\n",
    "# convert columns to numeric\n",
    "df_revs['total'] = pd.to_numeric(df_revs['total'])\n",
    "df_revs['downloaded'] = pd.to_numeric(df_revs['downloaded'])\n",
    "df_revs['avg_rating'] = pd.to_numeric(df_revs['avg_rating'])\n",
    "df_revs['salesrank'] = pd.to_numeric(df_revs['salesrank'])\n",
    "\n",
    "# remove rows/products with no reviews (where total = 0)\n",
    "df_revs = df_revs[df_revs['total'] != 0]"
   ]
  },
  {
   "cell_type": "markdown",
   "metadata": {},
   "source": [
    "**Graph number of products by rating**"
   ]
  },
  {
   "cell_type": "code",
   "execution_count": 60,
   "metadata": {
    "ExecuteTime": {
     "end_time": "2017-11-29T18:24:42.850027Z",
     "start_time": "2017-11-29T13:24:42.410060-05:00"
    }
   },
   "outputs": [
    {
     "data": {
      "image/png": "[encoded data removed]",
      "text/plain": [
       "<matplotlib.figure.Figure at 0x28363c860>"
      ]
     },
     "metadata": {},
     "output_type": "display_data"
    }
   ],
   "source": [
    "g = sns.distplot(df_revs['avg_rating'], kde=False)\n",
    "g.figure.set_size_inches(12,7)\n",
    "g.axes.set_title('Number of Products by Rating\\n', fontsize=20)\n",
    "g.set_xlabel('Average Rating', size=20)\n",
    "g.set_ylabel('Number of Products', size=20)\n",
    "g.tick_params(labelsize=16)"
   ]
  },
  {
   "cell_type": "markdown",
   "metadata": {},
   "source": [
    "**Calculate proportion of ratings that are 1 and 5**"
   ]
  },
  {
   "cell_type": "code",
   "execution_count": 61,
   "metadata": {
    "ExecuteTime": {
     "end_time": "2017-11-29T18:24:44.686038Z",
     "start_time": "2017-11-29T13:24:44.622508-05:00"
    },
    "collapsed": true
   },
   "outputs": [],
   "source": [
    "prop_one = round(len(df_revs[df_revs.avg_rating == 1])/len(df_revs) * 100,1)\n",
    "prop_five = round(len(df_revs[df_revs.avg_rating == 5])/len(df_revs) * 100,1)"
   ]
  },
  {
   "cell_type": "markdown",
   "metadata": {},
   "source": [
    "**Perform shapiro-wilk test for normality**"
   ]
  },
  {
   "cell_type": "code",
   "execution_count": 62,
   "metadata": {
    "ExecuteTime": {
     "end_time": "2017-11-29T18:24:46.393784Z",
     "start_time": "2017-11-29T13:24:46.365293-05:00"
    }
   },
   "outputs": [
    {
     "name": "stdout",
     "output_type": "stream",
     "text": [
      "W = 0.82, p = 0.0000000000\n"
     ]
    },
    {
     "name": "stderr",
     "output_type": "stream",
     "text": [
      "/Users/Rachel/.pyenv/versions/py36_env/lib/python3.6/site-packages/scipy/stats/morestats.py:1326: UserWarning: p-value may not be accurate for N > 5000.\n",
      "  warnings.warn(\"p-value may not be accurate for N > 5000.\")\n"
     ]
    }
   ],
   "source": [
    "from scipy import stats\n",
    "\n",
    "W, p = stats.shapiro(df_revs.avg_rating)\n",
    "print('W = {:.2f}, p = {:.10f}'.format(W, p))"
   ]
  },
  {
   "cell_type": "markdown",
   "metadata": {},
   "source": [
    "**Create dataframe to look at individual reviews**"
   ]
  },
  {
   "cell_type": "code",
   "execution_count": 11,
   "metadata": {
    "ExecuteTime": {
     "end_time": "2017-11-29T16:30:15.056200Z",
     "start_time": "2017-11-29T11:12:16.734232-05:00"
    },
    "collapsed": true
   },
   "outputs": [],
   "source": [
    "# remove rows without review data\n",
    "df_revs = df_revs[pd.notnull(df_revs['reviews_all'])]\n",
    "\n",
    "rows_list = []\n",
    "    \n",
    "for i in range(0,len(df_revs)):\n",
    "    curr_val = df_revs.iloc[i,1]\n",
    "    for j in range(0,len(curr_val)):    \n",
    "        new_str = df_revs.iloc[i,1][j].split()\n",
    "        dict1 = {}\n",
    "        dict1['review_id'] = new_str[0]\n",
    "        dict1['rating'] = new_str[2]\n",
    "        dict1['votes'] = new_str[4]\n",
    "        dict1['helpful'] = new_str[6]\n",
    "\n",
    "        rows_list.append(dict1)\n",
    "\n",
    "df_revs2 = pd.DataFrame(rows_list)\n",
    "\n",
    "# convert relevant columns to numeric\n",
    "df_revs2['helpful'] = pd.to_numeric(df_revs2['helpful'])\n",
    "df_revs2['votes'] = pd.to_numeric(df_revs2['votes'])\n",
    "df_revs2['rating'] = pd.to_numeric(df_revs2['rating'])"
   ]
  },
  {
   "cell_type": "markdown",
   "metadata": {},
   "source": [
    "**Examine mean helpfulness and votes by rating**"
   ]
  },
  {
   "cell_type": "code",
   "execution_count": 49,
   "metadata": {
    "ExecuteTime": {
     "end_time": "2017-11-29T18:01:15.045603Z",
     "start_time": "2017-11-29T13:01:14.514685-05:00"
    }
   },
   "outputs": [
    {
     "name": "stdout",
     "output_type": "stream",
     "text": [
      "Mean Helpfulness and Votes by Rating\n"
     ]
    },
    {
     "data": {
      "text/html": [
       "<div>\n",
       "<table border=\"1\" class=\"dataframe\">\n",
       "  <thead>\n",
       "    <tr style=\"text-align: right;\">\n",
       "      <th></th>\n",
       "      <th>helpful</th>\n",
       "      <th>votes</th>\n",
       "    </tr>\n",
       "    <tr>\n",
       "      <th>rating</th>\n",
       "      <th></th>\n",
       "      <th></th>\n",
       "    </tr>\n",
       "  </thead>\n",
       "  <tbody>\n",
       "    <tr>\n",
       "      <th>1</th>\n",
       "      <td>5.12</td>\n",
       "      <td>13.77</td>\n",
       "    </tr>\n",
       "    <tr>\n",
       "      <th>2</th>\n",
       "      <td>4.30</td>\n",
       "      <td>9.18</td>\n",
       "    </tr>\n",
       "    <tr>\n",
       "      <th>3</th>\n",
       "      <td>3.40</td>\n",
       "      <td>6.04</td>\n",
       "    </tr>\n",
       "    <tr>\n",
       "      <th>4</th>\n",
       "      <td>3.28</td>\n",
       "      <td>4.52</td>\n",
       "    </tr>\n",
       "    <tr>\n",
       "      <th>5</th>\n",
       "      <td>3.79</td>\n",
       "      <td>4.93</td>\n",
       "    </tr>\n",
       "  </tbody>\n",
       "</table>\n",
       "</div>"
      ],
      "text/plain": [
       "        helpful  votes\n",
       "rating                \n",
       "1          5.12  13.77\n",
       "2          4.30   9.18\n",
       "3          3.40   6.04\n",
       "4          3.28   4.52\n",
       "5          3.79   4.93"
      ]
     },
     "execution_count": 49,
     "metadata": {},
     "output_type": "execute_result"
    }
   ],
   "source": [
    "print('Mean Helpfulness and Votes by Rating')\n",
    "df_revs2.groupby(by='rating').mean().round(2)"
   ]
  },
  {
   "cell_type": "code",
   "execution_count": 51,
   "metadata": {
    "ExecuteTime": {
     "end_time": "2017-11-29T18:02:32.167680Z",
     "start_time": "2017-11-29T13:02:29.534070-05:00"
    }
   },
   "outputs": [
    {
     "name": "stdout",
     "output_type": "stream",
     "text": [
      "                            OLS Regression Results                            \n",
      "==============================================================================\n",
      "Dep. Variable:                helpful   R-squared:                       0.001\n",
      "Model:                            OLS   Adj. R-squared:                  0.001\n",
      "Method:                 Least Squares   F-statistic:                     4365.\n",
      "Date:                Wed, 29 Nov 2017   Prob (F-statistic):               0.00\n",
      "Time:                        13:02:32   Log-Likelihood:            -2.8965e+07\n",
      "No. Observations:             7593243   AIC:                         5.793e+07\n",
      "Df Residuals:                 7593241   BIC:                         5.793e+07\n",
      "Df Model:                           1                                         \n",
      "Covariance Type:            nonrobust                                         \n",
      "==============================================================================\n",
      "                 coef    std err          t      P>|t|      [0.025      0.975]\n",
      "------------------------------------------------------------------------------\n",
      "Intercept      4.6744      0.014    336.381      0.000       4.647       4.702\n",
      "rating        -0.2105      0.003    -66.068      0.000      -0.217      -0.204\n",
      "================================================================================\n",
      "Omnibus:                 36477935.351   Durbin-Watson:                     1.627\n",
      "Prob(Omnibus):                  0.000   Jarque-Bera (JB):   4128304063902340.000\n",
      "Skew:                         186.464   Prob(JB):                           0.00\n",
      "Kurtosis:                  114231.769   Cond. No.                           16.0\n",
      "================================================================================\n",
      "\n",
      "Warnings:\n",
      "[1] Standard Errors assume that the covariance matrix of the errors is correctly specified.\n"
     ]
    }
   ],
   "source": [
    "from statsmodels.formula.api import ols\n",
    "\n",
    "m = ols('helpful ~ rating', df_revs2).fit()\n",
    "print(m.summary())"
   ]
  },
  {
   "cell_type": "markdown",
   "metadata": {},
   "source": [
    "<div class=\"alert alert-warning\">\n",
    "<h3>Response: Part A, Question 1</h3>\n",
    "</div>"
   ]
  },
  {
   "cell_type": "markdown",
   "metadata": {
    "variables": {
     "prop_five": "36.2",
     "prop_one": "0.7"
    }
   },
   "source": [
    "As the graph *\"Number of Products by Rating\"* shows, the ratings are not normally distributed.  Rather, they are skewed toward the positive end: many more products receive average ratings of 5 ({{prop_five}}%) than average ratings of 1 ({{prop_one}}%).  The fact that the distribution of ratings isn't normal is confirmed by the Shapiro-Wilk test for normality, as shown above (p < .0001).\n",
    "\n",
    "In addition, the table *\"Mean Helpfulness and Votes by Rating\"* indicates that ratings of 1 and 2 are deemed to be the most helpful by customers, on average.  An ANOVA confirms that there is a significant difference between how helpful the review is and its rating, F(1, 7,593,241) = 4365, p < .0001).\n",
    "\n",
    "Given the fact that higher ratings are more frequent but generally less helpful, it suggests that some of these high ratings are uninformative and perhaps even fraudulent.  For example, it's possible that some companies are fabricating positive reviews that are then deemed unhelpful by customers."
   ]
  },
  {
   "cell_type": "markdown",
   "metadata": {},
   "source": [
    "## 2. Category bloat"
   ]
  },
  {
   "cell_type": "markdown",
   "metadata": {},
   "source": [
    "### Code"
   ]
  },
  {
   "cell_type": "code",
   "execution_count": 54,
   "metadata": {
    "ExecuteTime": {
     "end_time": "2017-11-29T18:16:14.647212Z",
     "start_time": "2017-11-29T13:16:08.403574-05:00"
    }
   },
   "outputs": [
    {
     "data": {
      "text/html": [
       "<div>\n",
       "<table border=\"1\" class=\"dataframe\">\n",
       "  <thead>\n",
       "    <tr style=\"text-align: right;\">\n",
       "      <th></th>\n",
       "      <th>ASIN</th>\n",
       "      <th>group</th>\n",
       "      <th>salesrank</th>\n",
       "      <th>categories</th>\n",
       "      <th>cats_all</th>\n",
       "    </tr>\n",
       "  </thead>\n",
       "  <tbody>\n",
       "    <tr>\n",
       "      <th>1</th>\n",
       "      <td>0827229534</td>\n",
       "      <td>Book</td>\n",
       "      <td>396585</td>\n",
       "      <td>2</td>\n",
       "      <td>[|Books[283155]|Subjects[1000]|Religion &amp; Spir...</td>\n",
       "    </tr>\n",
       "    <tr>\n",
       "      <th>10</th>\n",
       "      <td>0375709363</td>\n",
       "      <td>Book</td>\n",
       "      <td>220379</td>\n",
       "      <td>3</td>\n",
       "      <td>[|Books[283155]|Subjects[1000]|Literature &amp; Fi...</td>\n",
       "    </tr>\n",
       "    <tr>\n",
       "      <th>100</th>\n",
       "      <td>0787958743</td>\n",
       "      <td>Book</td>\n",
       "      <td>783690</td>\n",
       "      <td>2</td>\n",
       "      <td>[|Books[283155]|Subjects[1000]|Medicine[13996]...</td>\n",
       "    </tr>\n",
       "    <tr>\n",
       "      <th>1000</th>\n",
       "      <td>0830815627</td>\n",
       "      <td>Book</td>\n",
       "      <td>497795</td>\n",
       "      <td>1</td>\n",
       "      <td>[|Books[283155]|Subjects[1000]|Religion &amp; Spir...</td>\n",
       "    </tr>\n",
       "    <tr>\n",
       "      <th>10000</th>\n",
       "      <td>1589600282</td>\n",
       "      <td>Book</td>\n",
       "      <td>1544234</td>\n",
       "      <td>3</td>\n",
       "      <td>[|Books[283155]|Subjects[1000]|Religion &amp; Spir...</td>\n",
       "    </tr>\n",
       "  </tbody>\n",
       "</table>\n",
       "</div>"
      ],
      "text/plain": [
       "             ASIN group salesrank categories  \\\n",
       "1      0827229534  Book    396585          2   \n",
       "10     0375709363  Book    220379          3   \n",
       "100    0787958743  Book    783690          2   \n",
       "1000   0830815627  Book    497795          1   \n",
       "10000  1589600282  Book   1544234          3   \n",
       "\n",
       "                                                cats_all  \n",
       "1      [|Books[283155]|Subjects[1000]|Religion & Spir...  \n",
       "10     [|Books[283155]|Subjects[1000]|Literature & Fi...  \n",
       "100    [|Books[283155]|Subjects[1000]|Medicine[13996]...  \n",
       "1000   [|Books[283155]|Subjects[1000]|Religion & Spir...  \n",
       "10000  [|Books[283155]|Subjects[1000]|Religion & Spir...  "
      ]
     },
     "execution_count": 54,
     "metadata": {},
     "output_type": "execute_result"
    }
   ],
   "source": [
    "# create subset df with just books and relevant columns\n",
    "df_books = df[df['group'] == 'Book']\n",
    "df_books = df_books[['ASIN', 'group', 'salesrank', 'categories', 'cats_all']]\n",
    "\n",
    "# remove rows without category data\n",
    "df_books = df_books[pd.notnull(df_books['categories'])]\n",
    "\n",
    "df_books.head()"
   ]
  },
  {
   "cell_type": "markdown",
   "metadata": {},
   "source": [
    "**Make dictionary of categories and number of products in each**"
   ]
  },
  {
   "cell_type": "code",
   "execution_count": 55,
   "metadata": {
    "ExecuteTime": {
     "end_time": "2017-11-29T18:17:51.779258Z",
     "start_time": "2017-11-29T13:16:16.248658-05:00"
    },
    "collapsed": true
   },
   "outputs": [],
   "source": [
    "cats_dict = dict()\n",
    "col = df_books.columns.get_loc('cats_all') # get col # for cats_all column\n",
    "\n",
    "for row in range(0, len(df_books)):\n",
    "    if type(df_books.iloc[row,col]) == list:\n",
    "        for category in df_books.iloc[row,4]:\n",
    "            if category in cats_dict:\n",
    "                cats_dict[category] += 1\n",
    "            else:\n",
    "                cats_dict[category] = 1"
   ]
  },
  {
   "cell_type": "markdown",
   "metadata": {},
   "source": [
    "**Create dataframe of number of books and number of categories**\n",
    "\n",
    "For example: 1,036 categories only contain 1 book"
   ]
  },
  {
   "cell_type": "code",
   "execution_count": 56,
   "metadata": {
    "ExecuteTime": {
     "end_time": "2017-11-29T18:17:55.126089Z",
     "start_time": "2017-11-29T13:17:55.107683-05:00"
    }
   },
   "outputs": [
    {
     "data": {
      "text/html": [
       "<div>\n",
       "<table border=\"1\" class=\"dataframe\">\n",
       "  <thead>\n",
       "    <tr style=\"text-align: right;\">\n",
       "      <th></th>\n",
       "      <th>num_books</th>\n",
       "      <th>num_cats</th>\n",
       "    </tr>\n",
       "  </thead>\n",
       "  <tbody>\n",
       "    <tr>\n",
       "      <th>0</th>\n",
       "      <td>1</td>\n",
       "      <td>1036</td>\n",
       "    </tr>\n",
       "    <tr>\n",
       "      <th>1</th>\n",
       "      <td>2</td>\n",
       "      <td>734</td>\n",
       "    </tr>\n",
       "    <tr>\n",
       "      <th>2</th>\n",
       "      <td>3</td>\n",
       "      <td>628</td>\n",
       "    </tr>\n",
       "    <tr>\n",
       "      <th>3</th>\n",
       "      <td>4</td>\n",
       "      <td>491</td>\n",
       "    </tr>\n",
       "    <tr>\n",
       "      <th>4</th>\n",
       "      <td>5</td>\n",
       "      <td>461</td>\n",
       "    </tr>\n",
       "  </tbody>\n",
       "</table>\n",
       "</div>"
      ],
      "text/plain": [
       "   num_books  num_cats\n",
       "0          1      1036\n",
       "1          2       734\n",
       "2          3       628\n",
       "3          4       491\n",
       "4          5       461"
      ]
     },
     "execution_count": 56,
     "metadata": {},
     "output_type": "execute_result"
    }
   ],
   "source": [
    "import itertools\n",
    "\n",
    "# create dictionary with number of books and number of categories\n",
    "temp_dict = [(k, len(list(v))) for k, v in itertools.groupby(sorted(cats_dict.values()))]\n",
    "\n",
    "# create dataframe from above dictionary\n",
    "df_books_cats = pd.DataFrame.from_dict(temp_dict)\n",
    "df_books_cats = df_books_cats.rename(columns={0: 'num_books', 1: 'num_cats'})\n",
    "df_books_cats.head()"
   ]
  },
  {
   "cell_type": "markdown",
   "metadata": {},
   "source": [
    "**Calculate values for response**"
   ]
  },
  {
   "cell_type": "code",
   "execution_count": 57,
   "metadata": {
    "ExecuteTime": {
     "end_time": "2017-11-29T18:17:57.033204Z",
     "start_time": "2017-11-29T13:17:56.740513-05:00"
    },
    "collapsed": true
   },
   "outputs": [],
   "source": [
    "# calculate number of categories to be removed\n",
    "num_cats_to_remove = sum(df_books_cats[df_books_cats['num_books'] <= 2]['num_cats'])\n",
    "\n",
    "# calculate percentage of total categories to be removed\n",
    "prop_cats_to_remove = 100*((num_cats_to_remove)/len(cats_dict))\n",
    "\n",
    "# calculate number of all category entries in dataset\n",
    "df_books['categories'] = pd.to_numeric(df_books['categories'])\n",
    "all_cat_entries = sum(df_books['categories'])\n",
    "\n",
    "# calculate percentage of total category entries to be removed\n",
    "cat_entries_to_remove = (734*2)+1036\n",
    "prop_entries_to_remove = 100*(cat_entries_to_remove / all_cat_entries)"
   ]
  },
  {
   "cell_type": "markdown",
   "metadata": {},
   "source": [
    "<div class=\"alert alert-warning\">\n",
    "<h3>Response: Part A, Question 2</h3>\n",
    "</div>"
   ]
  },
  {
   "cell_type": "markdown",
   "metadata": {
    "variables": {
     "'{:,}'.format(all_cat_entries)": "1,440,329",
     "'{:,}'.format(len(cats_dict))": "12,853",
     "'{:.2f}%'.format(prop_cats_to_remove)": "13.77%",
     "'{:.2f}%'.format(prop_entries_to_remove)": "0.17%"
    }
   },
   "source": [
    "**a.** Yes, there appears to be some degree of category bloat.  There are 1,036 categories that contain only 1 book each, while a single category contains 18,438 books.\n",
    "\n",
    "**b.** If I remove categories with only one book within the category (1,036) or two books within the category (734), that would correspond to {{'{:.2f}%'.format(prop_cats_to_remove)}} of all categories ({{'{:,}'.format(len(cats_dict))}}).  That would also correspond to 2,504 category entries (1,036 + 734\\*2), which is only {{'{:.2f}%'.format(prop_entries_to_remove)}} of the total number of category entries ({{'{:,}'.format(all_cat_entries)}}).\n",
    "\n",
    "After removing these unnecessary categories, the books in those categories could be put into the next highest category.  For example, if a book was in the *Literature & Fiction|Drama|United States* category, but that category was removed, the book could be put instead into the *Literature & Fiction|Drama* category."
   ]
  },
  {
   "cell_type": "markdown",
   "metadata": {},
   "source": [
    "<div class=\"alert alert-success\">\n",
    "<h1>PART B</h1>\n",
    "</div>"
   ]
  },
  {
   "cell_type": "markdown",
   "metadata": {},
   "source": [
    "<div class=\"alert alert-warning\">\n",
    "<h2>Algorithm thinking</h2>\n",
    "</div>"
   ]
  },
  {
   "cell_type": "markdown",
   "metadata": {},
   "source": [
    "I would use clustering to identify groups of products that are similar or tend to be purchased together.  In particular, a method that can identify hierarchical clusters would be best suited to the task."
   ]
  },
  {
   "cell_type": "markdown",
   "metadata": {},
   "source": [
    "<div class=\"alert alert-warning\">\n",
    "<h2>Product thinking</h2>\n",
    "</div>"
   ]
  },
  {
   "cell_type": "markdown",
   "metadata": {
    "collapsed": true
   },
   "source": [
    "**A.** I think it is a good idea to show users the categorization hierarchy for items because it allows them to more easily identify other similar items that they might like to purchase.  For example, if they find a book in the *Literature & Fiction|Drama|United States* category, they can easily click on \"Drama\" to find books they might not have otherwise found.  To test this hypothesis, I would use A/B testing and show one group of people the hierarchy and another group of people no hierarchy.  I could then see which group is more likely to buy the current product as well as similar products.\n",
    "\n",
    "**B.** I think it is a good idea to show users similar or co-purchased items because it can show them similar products to consider buying or products that might be useful to buy along with the current product.  For example, if they are purchasing something that requires batteries, and the co-purchased items include batteries, they may be more likely to remember to buy them.  As above, I would use A/B testing to test this hypothesis.  One group of people would see similar/co-purchased products and another group would not.  Then I would compare the proportion of users in each group that purchased the current item as well as similar/co-purchased items.\n",
    "\n",
    "**C.** I think it is a good idea to show users reviews/ratings for items because it allows them to identify the best product for their needs.  That is, they can identify the best-rated products as well as read about aspects of the products mentioned in the reviews that they may be curious about.  Again, as above, I would use A/B testing to evaluate this hypothesis.  One group of people would see reviews while another group would not.  I would then compare the proportion of users in each group that purchased the current product."
   ]
  }
 ],
 "metadata": {
  "kernelspec": {
   "display_name": "Python 3",
   "language": "python",
   "name": "python3"
  },
  "language_info": {
   "codemirror_mode": {
    "name": "ipython",
    "version": 3
   },
   "file_extension": ".py",
   "mimetype": "text/x-python",
   "name": "python",
   "nbconvert_exporter": "python",
   "pygments_lexer": "ipython3",
   "version": "3.6.0"
  },
  "toc": {
   "nav_menu": {},
   "number_sections": true,
   "sideBar": true,
   "skip_h1_title": false,
   "toc_cell": false,
   "toc_position": {},
   "toc_section_display": "block",
   "toc_window_display": false
  }
 },
 "nbformat": 4,
 "nbformat_minor": 2
}
