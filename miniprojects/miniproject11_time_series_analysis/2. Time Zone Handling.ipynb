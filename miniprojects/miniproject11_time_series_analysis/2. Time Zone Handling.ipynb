{
 "cells": [
  {
   "cell_type": "code",
   "execution_count": 1,
   "metadata": {
    "collapsed": true
   },
   "outputs": [],
   "source": [
    "import numpy as np\n",
    "import pandas as pd"
   ]
  },
  {
   "cell_type": "markdown",
   "metadata": {},
   "source": [
    "## setting timezones"
   ]
  },
  {
   "cell_type": "code",
   "execution_count": 2,
   "metadata": {
    "collapsed": true
   },
   "outputs": [],
   "source": [
    "rng = pd.date_range('3/6/2012 00:00', periods = 15, freq = 'D')\n",
    "rng.tz # pandas doesn't add timezone unless explicitly included"
   ]
  },
  {
   "cell_type": "code",
   "execution_count": 3,
   "metadata": {
    "collapsed": false
   },
   "outputs": [
    {
     "data": {
      "text/plain": [
       "<DstTzInfo 'Europe/London' LMT-1 day, 23:59:00 STD>"
      ]
     },
     "execution_count": 3,
     "metadata": {},
     "output_type": "execute_result"
    }
   ],
   "source": [
    "rng_tz = pd.date_range('3/6/2012 00:00', periods = 15, freq = 'D', tz = 'Europe/London')\n",
    "rng_tz.tz"
   ]
  },
  {
   "cell_type": "markdown",
   "metadata": {},
   "source": [
    "## getting lists of timezones"
   ]
  },
  {
   "cell_type": "code",
   "execution_count": 4,
   "metadata": {
    "collapsed": false
   },
   "outputs": [
    {
     "name": "stdout",
     "output_type": "stream",
     "text": [
      "439\n",
      "593\n",
      "{'Australia/LHI', 'America/Fort_Wayne', 'Australia/West', 'Mexico/BajaSur', 'America/Catamarca', 'Etc/GMT-1', 'Poland', 'Asia/Tel_Aviv', 'Etc/GMT+10', 'America/Virgin', 'US/Michigan', 'Chile/EasterIsland', 'Kwajalein', 'Egypt', 'Etc/GMT-13', 'Africa/Timbuktu', 'Brazil/DeNoronha', 'ROK', 'Etc/GMT-11', 'Portugal', 'Etc/GMT+9', 'Brazil/Acre', 'W-SU', 'America/Atka', 'Iceland', 'EST', 'Mexico/General', 'Greenwich', 'Zulu', 'MST7MDT', 'EET', 'Africa/Asmera', 'Asia/Ujung_Pandang', 'Etc/Universal', 'Atlantic/Faeroe', 'Canada/East-Saskatchewan', 'Asia/Istanbul', 'Asia/Ulan_Bator', 'Jamaica', 'PST8PDT', 'Asia/Dacca', 'America/Montreal', 'Asia/Chongqing', 'Pacific/Samoa', 'America/Rosario', 'Australia/North', 'Etc/GMT+0', 'Pacific/Truk', 'CST6CDT', 'Australia/NSW', 'Japan', 'US/East-Indiana', 'MST', 'US/Aleutian', 'US/Pacific-New', 'WET', 'Canada/Saskatchewan', 'Asia/Kashgar', 'Etc/GMT+1', 'Etc/GMT-7', 'America/Indianapolis', 'UCT', 'Singapore', 'Australia/Queensland', 'Turkey', 'Etc/GMT-9', 'ROC', 'GMT+0', 'US/Samoa', 'America/Knox_IN', 'America/Louisville', 'America/Ensenada', 'Europe/Tiraspol', 'Pacific/Ponape', 'Etc/GMT-14', 'Europe/Belfast', 'Etc/Zulu', 'Etc/GMT-2', 'Asia/Rangoon', 'Australia/South', 'US/Indiana-Starke', 'Australia/ACT', 'Iran', 'Atlantic/Jan_Mayen', 'America/Santa_Isabel', 'Europe/Nicosia', 'GMT0', 'GB', 'Etc/GMT+7', 'Etc/GMT-5', 'Asia/Thimbu', 'Asia/Katmandu', 'Etc/GMT-3', 'Asia/Saigon', 'Etc/GMT+6', 'Asia/Calcutta', 'Etc/GMT+5', 'EST5EDT', 'America/Argentina/ComodRivadavia', 'Etc/GMT+2', 'Cuba', 'Etc/Greenwich', 'Asia/Macao', 'HST', 'Brazil/East', 'Canada/Yukon', 'Etc/GMT-4', 'Pacific/Johnston', 'Hongkong', 'America/Jujuy', 'Etc/GMT+3', 'Asia/Ashkhabad', 'Israel', 'Eire', 'Pacific/Yap', 'Brazil/West', 'Etc/GMT-10', 'Australia/Yancowinna', 'Libya', 'Etc/GMT+4', 'Etc/GMT-6', 'Etc/UCT', 'Asia/Chungking', 'Universal', 'Etc/GMT+8', 'Etc/GMT-12', 'CET', 'America/Mendoza', 'Etc/GMT+12', 'Etc/UTC', 'Etc/GMT0', 'Australia/Victoria', 'Australia/Canberra', 'PRC', 'America/Shiprock', 'Etc/GMT-0', 'Antarctica/South_Pole', 'Chile/Continental', 'Navajo', 'America/Coral_Harbour', 'Etc/GMT', 'GMT-0', 'Asia/Harbin', 'America/Cordoba', 'Australia/Tasmania', 'MET', 'NZ', 'Etc/GMT-8', 'NZ-CHAT', 'Etc/GMT+11', 'America/Porto_Acre', 'GB-Eire', 'Mexico/BajaNorte', 'America/Buenos_Aires'}\n"
     ]
    }
   ],
   "source": [
    "from pytz import common_timezones, all_timezones\n",
    "\n",
    "print(len(common_timezones))\n",
    "print(len(all_timezones))\n",
    "print(set(all_timezones) - set(common_timezones))"
   ]
  },
  {
   "cell_type": "markdown",
   "metadata": {},
   "source": [
    "## localizing a timestamp"
   ]
  },
  {
   "cell_type": "code",
   "execution_count": 5,
   "metadata": {
    "collapsed": false
   },
   "outputs": [
    {
     "data": {
      "text/plain": [
       "Timestamp('2016-07-10 08:50:00')"
      ]
     },
     "execution_count": 5,
     "metadata": {},
     "output_type": "execute_result"
    }
   ],
   "source": [
    "# You can also localize a naive timestamp\n",
    "t_naive = pd.Timestamp('2016-07-10 08:50')\n",
    "t_naive"
   ]
  },
  {
   "cell_type": "code",
   "execution_count": 6,
   "metadata": {
    "collapsed": false
   },
   "outputs": [
    {
     "data": {
      "text/plain": [
       "Timestamp('2016-07-10 08:50:00-0500', tz='US/Central')"
      ]
     },
     "execution_count": 6,
     "metadata": {},
     "output_type": "execute_result"
    }
   ],
   "source": [
    "t = t_naive.tz_localize(tz = 'US/Central')\n",
    "t"
   ]
  },
  {
   "cell_type": "code",
   "execution_count": 7,
   "metadata": {
    "collapsed": false
   },
   "outputs": [
    {
     "data": {
      "text/plain": [
       "Timestamp('2016-07-10 22:50:00+0900', tz='Asia/Tokyo')"
      ]
     },
     "execution_count": 7,
     "metadata": {},
     "output_type": "execute_result"
    }
   ],
   "source": [
    "t.tz_convert('Asia/Tokyo')"
   ]
  },
  {
   "cell_type": "markdown",
   "metadata": {},
   "source": [
    "tz_localize: sets the timezone\n",
    "\n",
    "tz_convert: converts the timezone"
   ]
  },
  {
   "cell_type": "markdown",
   "metadata": {},
   "source": [
    "## daylight savings"
   ]
  },
  {
   "cell_type": "code",
   "execution_count": 8,
   "metadata": {
    "collapsed": false
   },
   "outputs": [
    {
     "data": {
      "text/plain": [
       "2016-03-10 00:00:00-06:00    0\n",
       "2016-03-11 00:00:00-06:00    1\n",
       "2016-03-12 00:00:00-06:00    2\n",
       "2016-03-13 00:00:00-06:00    3\n",
       "2016-03-14 00:00:00-05:00    4\n",
       "2016-03-15 00:00:00-05:00    5\n",
       "2016-03-16 00:00:00-05:00    6\n",
       "2016-03-17 00:00:00-05:00    7\n",
       "2016-03-18 00:00:00-05:00    8\n",
       "2016-03-19 00:00:00-05:00    9\n",
       "Freq: D, dtype: int64"
      ]
     },
     "execution_count": 8,
     "metadata": {},
     "output_type": "execute_result"
    }
   ],
   "source": [
    "rng = pd.date_range('2016-03-10', periods=10, tz='US/Central')\n",
    "ts = pd.Series(range(10), index=rng)\n",
    "ts"
   ]
  },
  {
   "cell_type": "code",
   "execution_count": 9,
   "metadata": {
    "collapsed": false
   },
   "outputs": [
    {
     "data": {
      "text/plain": [
       "2016-03-10 00:00:00+00:00    0\n",
       "2016-03-11 00:00:00+00:00    1\n",
       "2016-03-12 00:00:00+00:00    2\n",
       "2016-03-13 00:00:00+00:00    3\n",
       "2016-03-14 00:00:00+00:00    4\n",
       "2016-03-15 00:00:00+00:00    5\n",
       "2016-03-16 00:00:00+00:00    6\n",
       "2016-03-17 00:00:00+00:00    7\n",
       "2016-03-18 00:00:00+00:00    8\n",
       "2016-03-19 00:00:00+00:00    9\n",
       "Freq: D, dtype: int64"
      ]
     },
     "execution_count": 9,
     "metadata": {},
     "output_type": "execute_result"
    }
   ],
   "source": [
    "rng = pd.date_range('2016-03-10', periods=10, tz='utc')\n",
    "ts = pd.Series(range(10), index=rng)\n",
    "ts"
   ]
  },
  {
   "cell_type": "code",
   "execution_count": 10,
   "metadata": {
    "collapsed": false
   },
   "outputs": [
    {
     "data": {
      "text/plain": [
       "2016-03-09 18:00:00-06:00    0\n",
       "2016-03-10 18:00:00-06:00    1\n",
       "2016-03-11 18:00:00-06:00    2\n",
       "2016-03-12 18:00:00-06:00    3\n",
       "2016-03-13 19:00:00-05:00    4\n",
       "2016-03-14 19:00:00-05:00    5\n",
       "2016-03-15 19:00:00-05:00    6\n",
       "2016-03-16 19:00:00-05:00    7\n",
       "2016-03-17 19:00:00-05:00    8\n",
       "2016-03-18 19:00:00-05:00    9\n",
       "Freq: D, dtype: int64"
      ]
     },
     "execution_count": 10,
     "metadata": {},
     "output_type": "execute_result"
    }
   ],
   "source": [
    "ts.tz_convert('US/Central')"
   ]
  },
  {
   "cell_type": "code",
   "execution_count": 11,
   "metadata": {
    "collapsed": false
   },
   "outputs": [
    {
     "data": {
      "text/plain": [
       "DatetimeIndex(['2016-03-12 22:00:00-05:00', '2016-03-12 23:00:00-05:00',\n",
       "               '2016-03-13 00:00:00-05:00', '2016-03-13 01:00:00-05:00',\n",
       "               '2016-03-13 03:00:00-04:00', '2016-03-13 04:00:00-04:00',\n",
       "               '2016-03-13 05:00:00-04:00', '2016-03-13 06:00:00-04:00',\n",
       "               '2016-03-13 07:00:00-04:00', '2016-03-13 08:00:00-04:00',\n",
       "               '2016-03-13 09:00:00-04:00', '2016-03-13 10:00:00-04:00'],\n",
       "              dtype='datetime64[ns, US/Eastern]', freq='H')"
      ]
     },
     "execution_count": 11,
     "metadata": {},
     "output_type": "execute_result"
    }
   ],
   "source": [
    "pd.date_range('03-12-2016 22:00', periods = 12, freq = 'H', tz = 'US/Eastern')"
   ]
  },
  {
   "cell_type": "code",
   "execution_count": 12,
   "metadata": {
    "collapsed": false
   },
   "outputs": [
    {
     "data": {
      "text/plain": [
       "Timestamp('2016-03-13 03:00:00-0400', tz='US/Eastern')"
      ]
     },
     "execution_count": 12,
     "metadata": {},
     "output_type": "execute_result"
    }
   ],
   "source": [
    "# May autocorrect an error rather than giving you a non-existent time error\n",
    "pd.Timestamp('2016-03-13 02:00', tz = 'US/Eastern')"
   ]
  }
 ],
 "metadata": {
  "kernelspec": {
   "display_name": "Python 3",
   "language": "python",
   "name": "python3"
  },
  "language_info": {
   "codemirror_mode": {
    "name": "ipython",
    "version": 3
   },
   "file_extension": ".py",
   "mimetype": "text/x-python",
   "name": "python",
   "nbconvert_exporter": "python",
   "pygments_lexer": "ipython3",
   "version": "3.6.0"
  }
 },
 "nbformat": 4,
 "nbformat_minor": 0
}
