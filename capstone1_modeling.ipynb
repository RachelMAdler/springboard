{
 "cells": [
  {
   "cell_type": "markdown",
   "metadata": {},
   "source": [
    "<div class=\"alert alert-success\">\n",
    "<h1>TABLE OF CONTENTS</h1>\n",
    "</div>"
   ]
  },
  {
   "cell_type": "markdown",
   "metadata": {},
   "source": [
    "* [Notes](#NOTES)\n",
    "* [Setup](#SETUP)\n",
    "* [Modeling Functions](#MODELING-FUNCTIONS)\n",
    "* [Logistic Regression](#LOGISTIC-REGRESSION)\n",
    "* [KNN](#KNN)\n",
    "* [Random Forests](#RANDOM-FORESTS)\n",
    "* [SVC](#SVC)\n",
    "* [Clustering](#CLUSTERING)\n",
    "* [DBSCAN](#DBSCAN)"
   ]
  },
  {
   "cell_type": "markdown",
   "metadata": {},
   "source": [
    "<div class=\"alert alert-success\">\n",
    "<h1>NOTES</h1>\n",
    "</div>"
   ]
  },
  {
   "cell_type": "markdown",
   "metadata": {},
   "source": [
    "There are 3 sets of columns:\n",
    "\n",
    "* **sec_cols**: security incident columns (outcome variables)\n",
    "    * values = -1 (no), 1 (yes), and 0 (NA)\n",
    "* **dem_cols**: demographic info columns (predictor variables)\n",
    "* **hab_cols**: security habit columns (predictor variables)"
   ]
  },
  {
   "cell_type": "markdown",
   "metadata": {},
   "source": [
    "<div class=\"alert alert-success\">\n",
    "<h1>SETUP</h1>\n",
    "</div>"
   ]
  },
  {
   "cell_type": "markdown",
   "metadata": {},
   "source": [
    "## Import libraries"
   ]
  },
  {
   "cell_type": "code",
   "execution_count": 1,
   "metadata": {
    "collapsed": false
   },
   "outputs": [],
   "source": [
    "import pandas as pd\n",
    "import numpy as np\n",
    "import matplotlib.pyplot as plt\n",
    "%matplotlib inline"
   ]
  },
  {
   "cell_type": "markdown",
   "metadata": {},
   "source": [
    "## Read in data"
   ]
  },
  {
   "cell_type": "code",
   "execution_count": 2,
   "metadata": {
    "collapsed": false
   },
   "outputs": [],
   "source": [
    "df = pd.read_csv('cybersecurity_clean_31Jul17.txt', sep = '\\t', encoding = 'utf8')"
   ]
  },
  {
   "cell_type": "markdown",
   "metadata": {},
   "source": [
    "## Create age groups"
   ]
  },
  {
   "cell_type": "code",
   "execution_count": 3,
   "metadata": {
    "collapsed": false
   },
   "outputs": [],
   "source": [
    "for i in range(0,len(df.age)):\n",
    "    j = df.loc[i,'age']\n",
    "    if(j >= 1) & (j <= 20): df.loc[i,'age_group'] = '1-20'\n",
    "    elif(j >= 21) & (j <= 30): df.loc[i,'age_group'] = '21-30'\n",
    "    elif(j >= 31) & (j <= 40): df.loc[i,'age_group'] = '31-40'\n",
    "    elif(j >= 41) & (j <= 50): df.loc[i,'age_group'] = '41-50'\n",
    "    elif(j >= 51) & (j <= 60): df.loc[i,'age_group'] = '51-60'\n",
    "    elif(j >= 61) & (j <= 70): df.loc[i,'age_group'] = '61-70'\n",
    "    elif(j >= 71) & (j <= 80): df.loc[i,'age_group'] = '71-80'\n",
    "    elif(j >= 81): df.loc[i,'age_group'] = '81+'\n",
    "    else: df.loc[i,'age_group'] = 'other'"
   ]
  },
  {
   "cell_type": "markdown",
   "metadata": {},
   "source": [
    "## Create income groups"
   ]
  },
  {
   "cell_type": "code",
   "execution_count": 4,
   "metadata": {
    "collapsed": true
   },
   "outputs": [],
   "source": [
    "for i in range(0,len(df.inc)):\n",
    "    j = df.loc[i,'inc']\n",
    "    if(j == 1): df.loc[i,'inc_group'] = '$0-\\n10,000'\n",
    "    elif(j == 2): df.loc[i,'inc_group'] = '$10,000-\\n19,999'\n",
    "    elif(j == 3): df.loc[i,'inc_group'] = '$20,000-\\n29,999'\n",
    "    elif(j == 4): df.loc[i,'inc_group'] = '$30,000-\\n39,999'\n",
    "    elif(j == 5): df.loc[i,'inc_group'] = '$40,000-\\n49,999'\n",
    "    elif(j == 6): df.loc[i,'inc_group'] = '$50,000-\\n59,999'\n",
    "    elif(j == 7): df.loc[i,'inc_group'] = '$75,000-\\n99,999'\n",
    "    elif(j == 8): df.loc[i,'inc_group'] = '$100,000-\\n149,999'\n",
    "    elif(j == 9): df.loc[i,'inc_group'] = '$150,000+'\n",
    "    else: df.loc[i,'inc_group'] = 'Other'"
   ]
  },
  {
   "cell_type": "markdown",
   "metadata": {},
   "source": [
    "## Create subset dataframes"
   ]
  },
  {
   "cell_type": "code",
   "execution_count": 5,
   "metadata": {
    "collapsed": false
   },
   "outputs": [
    {
     "name": "stdout",
     "output_type": "stream",
     "text": [
      "Security incident variables:  ['ID', 'secur2a', 'secur2b', 'secur2c', 'secur2d', 'secur2e', 'secur2f', 'secur2g']\n"
     ]
    }
   ],
   "source": [
    "sec_cols = [s for s in df.columns if (s.lower().strip().startswith('sec')) |\n",
    "           (s == 'ID') and\n",
    "           (s != 'secur1')]\n",
    "df_sec = df[sec_cols]\n",
    "\n",
    "print('Security incident variables: ', sec_cols)"
   ]
  },
  {
   "cell_type": "code",
   "execution_count": 6,
   "metadata": {
    "collapsed": false
   },
   "outputs": [
    {
     "name": "stdout",
     "output_type": "stream",
     "text": [
      "Security habit variables:  ['ID', 'habits1a', 'habits1b', 'habits1c', 'habits1d', 'habits1e', 'habits2', 'habits3', 'habits4c', 'habits5', 'habits6', 'habits7', 'habits8', 'habits9', 'habits10', 'habits11', 'habits12', 'wifi2a', 'wifi2b', 'wifi2c', 'wifi2d']\n"
     ]
    }
   ],
   "source": [
    "exclude = ['habits4a', 'habits4b', 'habits1f', 'habits1fos', 'habits9os', 'habits1cnt']\n",
    "hab_cols = [s for s in df.columns if (s.lower().strip().startswith('hab')) |\n",
    "           (s == 'ID') |\n",
    "           (s.lower().strip().startswith('wifi2')) and \n",
    "           (s not in exclude)]\n",
    "df_hab = df[hab_cols]\n",
    "\n",
    "print('Security habit variables: ', hab_cols)"
   ]
  },
  {
   "cell_type": "code",
   "execution_count": 7,
   "metadata": {
    "collapsed": false
   },
   "outputs": [
    {
     "name": "stdout",
     "output_type": "stream",
     "text": [
      "Demographic variables:  ['ID', 'sex', 'age', 'educ2', 'hisp', 'race3m1', 'marital', 'par', 'emplnw3', 'party', 'partyln', 'ideo', 'inc', 'usr']\n"
     ]
    }
   ],
   "source": [
    "temp = ['sex','age','educ2','hisp','race3m1','marital',\n",
    "        'par','emplnw3','party','partyln','ideo','inc',\n",
    "        'usr']\n",
    "dem_cols = [s for s in df.columns if (s in temp) |\n",
    "            (s == 'ID')]\n",
    "df_dem = df[dem_cols]\n",
    "\n",
    "print('Demographic variables: ', dem_cols)"
   ]
  },
  {
   "cell_type": "markdown",
   "metadata": {},
   "source": [
    "## Create dictionary of columns"
   ]
  },
  {
   "cell_type": "code",
   "execution_count": 8,
   "metadata": {
    "collapsed": false
   },
   "outputs": [
    {
     "name": "stdout",
     "output_type": "stream",
     "text": [
      "secur2a SSN compromised\n",
      "secur2b Other sensitive info compromised\n",
      "secur2c Fraudulent charges on credit/debit card\n",
      "secur2d Someone took over email\n",
      "secur2e Someone took over social media account\n",
      "secur2f Someone opened line of credit/applied for loan under name\n",
      "secur2g Someone received tax refund under name\n"
     ]
    }
   ],
   "source": [
    "dict_sec_cols = {'secur2a': 'SSN compromised',\n",
    "                 'secur2b': 'Other sensitive info compromised',\n",
    "                 'secur2c': 'Fraudulent charges on credit/debit card',\n",
    "                 'secur2d': 'Someone took over email',\n",
    "                 'secur2e': 'Someone took over social media account',\n",
    "                 'secur2f': 'Someone opened line of credit/applied for loan under name',\n",
    "                 'secur2g': 'Someone received tax refund under name'}\n",
    "\n",
    "for key, val in dict_sec_cols.items():\n",
    "    print(key,val)"
   ]
  },
  {
   "cell_type": "markdown",
   "metadata": {},
   "source": [
    "# Correlations"
   ]
  },
  {
   "cell_type": "markdown",
   "metadata": {},
   "source": [
    "## Security incident variables"
   ]
  },
  {
   "cell_type": "code",
   "execution_count": 9,
   "metadata": {
    "collapsed": false
   },
   "outputs": [
    {
     "data": {
      "text/html": [
       "<div>\n",
       "<table border=\"1\" class=\"dataframe\">\n",
       "  <thead>\n",
       "    <tr style=\"text-align: right;\">\n",
       "      <th></th>\n",
       "      <th>ID</th>\n",
       "      <th>secur2a</th>\n",
       "      <th>secur2b</th>\n",
       "      <th>secur2c</th>\n",
       "      <th>secur2d</th>\n",
       "      <th>secur2e</th>\n",
       "      <th>secur2f</th>\n",
       "      <th>secur2g</th>\n",
       "    </tr>\n",
       "  </thead>\n",
       "  <tbody>\n",
       "    <tr>\n",
       "      <th>ID</th>\n",
       "      <td>1.000000</td>\n",
       "      <td>0.072080</td>\n",
       "      <td>0.040866</td>\n",
       "      <td>0.072952</td>\n",
       "      <td>0.104097</td>\n",
       "      <td>0.025571</td>\n",
       "      <td>0.000368</td>\n",
       "      <td>0.000181</td>\n",
       "    </tr>\n",
       "    <tr>\n",
       "      <th>secur2a</th>\n",
       "      <td>0.072080</td>\n",
       "      <td>1.000000</td>\n",
       "      <td>0.313427</td>\n",
       "      <td>0.184122</td>\n",
       "      <td>0.143392</td>\n",
       "      <td>0.049244</td>\n",
       "      <td>0.261746</td>\n",
       "      <td>0.214680</td>\n",
       "    </tr>\n",
       "    <tr>\n",
       "      <th>secur2b</th>\n",
       "      <td>0.040866</td>\n",
       "      <td>0.313427</td>\n",
       "      <td>1.000000</td>\n",
       "      <td>0.332780</td>\n",
       "      <td>0.210134</td>\n",
       "      <td>-0.005351</td>\n",
       "      <td>0.226394</td>\n",
       "      <td>0.050177</td>\n",
       "    </tr>\n",
       "    <tr>\n",
       "      <th>secur2c</th>\n",
       "      <td>0.072952</td>\n",
       "      <td>0.184122</td>\n",
       "      <td>0.332780</td>\n",
       "      <td>1.000000</td>\n",
       "      <td>0.187828</td>\n",
       "      <td>0.005934</td>\n",
       "      <td>0.197522</td>\n",
       "      <td>0.067478</td>\n",
       "    </tr>\n",
       "    <tr>\n",
       "      <th>secur2d</th>\n",
       "      <td>0.104097</td>\n",
       "      <td>0.143392</td>\n",
       "      <td>0.210134</td>\n",
       "      <td>0.187828</td>\n",
       "      <td>1.000000</td>\n",
       "      <td>0.161101</td>\n",
       "      <td>0.159210</td>\n",
       "      <td>0.071669</td>\n",
       "    </tr>\n",
       "    <tr>\n",
       "      <th>secur2e</th>\n",
       "      <td>0.025571</td>\n",
       "      <td>0.049244</td>\n",
       "      <td>-0.005351</td>\n",
       "      <td>0.005934</td>\n",
       "      <td>0.161101</td>\n",
       "      <td>1.000000</td>\n",
       "      <td>0.071255</td>\n",
       "      <td>0.077058</td>\n",
       "    </tr>\n",
       "    <tr>\n",
       "      <th>secur2f</th>\n",
       "      <td>0.000368</td>\n",
       "      <td>0.261746</td>\n",
       "      <td>0.226394</td>\n",
       "      <td>0.197522</td>\n",
       "      <td>0.159210</td>\n",
       "      <td>0.071255</td>\n",
       "      <td>1.000000</td>\n",
       "      <td>0.167113</td>\n",
       "    </tr>\n",
       "    <tr>\n",
       "      <th>secur2g</th>\n",
       "      <td>0.000181</td>\n",
       "      <td>0.214680</td>\n",
       "      <td>0.050177</td>\n",
       "      <td>0.067478</td>\n",
       "      <td>0.071669</td>\n",
       "      <td>0.077058</td>\n",
       "      <td>0.167113</td>\n",
       "      <td>1.000000</td>\n",
       "    </tr>\n",
       "  </tbody>\n",
       "</table>\n",
       "</div>"
      ],
      "text/plain": [
       "               ID   secur2a   secur2b   secur2c   secur2d   secur2e   secur2f  \\\n",
       "ID       1.000000  0.072080  0.040866  0.072952  0.104097  0.025571  0.000368   \n",
       "secur2a  0.072080  1.000000  0.313427  0.184122  0.143392  0.049244  0.261746   \n",
       "secur2b  0.040866  0.313427  1.000000  0.332780  0.210134 -0.005351  0.226394   \n",
       "secur2c  0.072952  0.184122  0.332780  1.000000  0.187828  0.005934  0.197522   \n",
       "secur2d  0.104097  0.143392  0.210134  0.187828  1.000000  0.161101  0.159210   \n",
       "secur2e  0.025571  0.049244 -0.005351  0.005934  0.161101  1.000000  0.071255   \n",
       "secur2f  0.000368  0.261746  0.226394  0.197522  0.159210  0.071255  1.000000   \n",
       "secur2g  0.000181  0.214680  0.050177  0.067478  0.071669  0.077058  0.167113   \n",
       "\n",
       "          secur2g  \n",
       "ID       0.000181  \n",
       "secur2a  0.214680  \n",
       "secur2b  0.050177  \n",
       "secur2c  0.067478  \n",
       "secur2d  0.071669  \n",
       "secur2e  0.077058  \n",
       "secur2f  0.167113  \n",
       "secur2g  1.000000  "
      ]
     },
     "execution_count": 9,
     "metadata": {},
     "output_type": "execute_result"
    }
   ],
   "source": [
    "df_sec.corr()"
   ]
  },
  {
   "cell_type": "markdown",
   "metadata": {},
   "source": [
    "## Security habit variables"
   ]
  },
  {
   "cell_type": "code",
   "execution_count": 10,
   "metadata": {
    "collapsed": false
   },
   "outputs": [
    {
     "data": {
      "text/html": [
       "<div>\n",
       "<table border=\"1\" class=\"dataframe\">\n",
       "  <thead>\n",
       "    <tr style=\"text-align: right;\">\n",
       "      <th></th>\n",
       "      <th>ID</th>\n",
       "      <th>habits1a</th>\n",
       "      <th>habits1b</th>\n",
       "      <th>habits1c</th>\n",
       "      <th>habits1d</th>\n",
       "      <th>habits1e</th>\n",
       "      <th>habits2</th>\n",
       "      <th>habits3</th>\n",
       "      <th>habits4c</th>\n",
       "      <th>habits5</th>\n",
       "      <th>...</th>\n",
       "      <th>habits7</th>\n",
       "      <th>habits8</th>\n",
       "      <th>habits9</th>\n",
       "      <th>habits10</th>\n",
       "      <th>habits11</th>\n",
       "      <th>habits12</th>\n",
       "      <th>wifi2a</th>\n",
       "      <th>wifi2b</th>\n",
       "      <th>wifi2c</th>\n",
       "      <th>wifi2d</th>\n",
       "    </tr>\n",
       "  </thead>\n",
       "  <tbody>\n",
       "    <tr>\n",
       "      <th>ID</th>\n",
       "      <td>1.000000</td>\n",
       "      <td>0.183073</td>\n",
       "      <td>0.040823</td>\n",
       "      <td>0.110087</td>\n",
       "      <td>0.113262</td>\n",
       "      <td>0.136921</td>\n",
       "      <td>0.138584</td>\n",
       "      <td>0.139372</td>\n",
       "      <td>0.042008</td>\n",
       "      <td>0.064479</td>\n",
       "      <td>...</td>\n",
       "      <td>0.088516</td>\n",
       "      <td>0.151842</td>\n",
       "      <td>0.196000</td>\n",
       "      <td>0.157131</td>\n",
       "      <td>0.167480</td>\n",
       "      <td>0.024132</td>\n",
       "      <td>0.018453</td>\n",
       "      <td>0.004635</td>\n",
       "      <td>0.127739</td>\n",
       "      <td>0.132822</td>\n",
       "    </tr>\n",
       "    <tr>\n",
       "      <th>habits1a</th>\n",
       "      <td>0.183073</td>\n",
       "      <td>1.000000</td>\n",
       "      <td>0.055674</td>\n",
       "      <td>0.094748</td>\n",
       "      <td>0.088844</td>\n",
       "      <td>0.128422</td>\n",
       "      <td>0.238986</td>\n",
       "      <td>0.510972</td>\n",
       "      <td>0.095607</td>\n",
       "      <td>0.208840</td>\n",
       "      <td>...</td>\n",
       "      <td>-0.024552</td>\n",
       "      <td>0.202567</td>\n",
       "      <td>0.181217</td>\n",
       "      <td>0.197469</td>\n",
       "      <td>0.233134</td>\n",
       "      <td>0.070714</td>\n",
       "      <td>-0.217492</td>\n",
       "      <td>-0.224720</td>\n",
       "      <td>0.012738</td>\n",
       "      <td>0.029241</td>\n",
       "    </tr>\n",
       "    <tr>\n",
       "      <th>habits1b</th>\n",
       "      <td>0.040823</td>\n",
       "      <td>0.055674</td>\n",
       "      <td>1.000000</td>\n",
       "      <td>-0.051519</td>\n",
       "      <td>0.081297</td>\n",
       "      <td>0.067287</td>\n",
       "      <td>0.326063</td>\n",
       "      <td>0.259651</td>\n",
       "      <td>0.194989</td>\n",
       "      <td>0.127481</td>\n",
       "      <td>...</td>\n",
       "      <td>-0.096776</td>\n",
       "      <td>0.018599</td>\n",
       "      <td>0.013333</td>\n",
       "      <td>0.143170</td>\n",
       "      <td>0.122541</td>\n",
       "      <td>-0.005790</td>\n",
       "      <td>-0.110265</td>\n",
       "      <td>-0.194280</td>\n",
       "      <td>-0.100717</td>\n",
       "      <td>-0.052179</td>\n",
       "    </tr>\n",
       "    <tr>\n",
       "      <th>habits1c</th>\n",
       "      <td>0.110087</td>\n",
       "      <td>0.094748</td>\n",
       "      <td>-0.051519</td>\n",
       "      <td>1.000000</td>\n",
       "      <td>0.122601</td>\n",
       "      <td>0.202593</td>\n",
       "      <td>0.296074</td>\n",
       "      <td>0.113560</td>\n",
       "      <td>0.116470</td>\n",
       "      <td>0.136122</td>\n",
       "      <td>...</td>\n",
       "      <td>0.211228</td>\n",
       "      <td>0.210087</td>\n",
       "      <td>0.206472</td>\n",
       "      <td>0.028803</td>\n",
       "      <td>0.038755</td>\n",
       "      <td>0.012985</td>\n",
       "      <td>0.119003</td>\n",
       "      <td>-0.025907</td>\n",
       "      <td>0.180584</td>\n",
       "      <td>0.200469</td>\n",
       "    </tr>\n",
       "    <tr>\n",
       "      <th>habits1d</th>\n",
       "      <td>0.113262</td>\n",
       "      <td>0.088844</td>\n",
       "      <td>0.081297</td>\n",
       "      <td>0.122601</td>\n",
       "      <td>1.000000</td>\n",
       "      <td>0.262554</td>\n",
       "      <td>0.500973</td>\n",
       "      <td>0.115101</td>\n",
       "      <td>0.222221</td>\n",
       "      <td>0.143687</td>\n",
       "      <td>...</td>\n",
       "      <td>0.059604</td>\n",
       "      <td>0.181439</td>\n",
       "      <td>0.161058</td>\n",
       "      <td>0.113946</td>\n",
       "      <td>0.138885</td>\n",
       "      <td>-0.035652</td>\n",
       "      <td>0.037129</td>\n",
       "      <td>0.027421</td>\n",
       "      <td>0.080417</td>\n",
       "      <td>0.143080</td>\n",
       "    </tr>\n",
       "    <tr>\n",
       "      <th>habits1e</th>\n",
       "      <td>0.136921</td>\n",
       "      <td>0.128422</td>\n",
       "      <td>0.067287</td>\n",
       "      <td>0.202593</td>\n",
       "      <td>0.262554</td>\n",
       "      <td>1.000000</td>\n",
       "      <td>0.377690</td>\n",
       "      <td>0.055410</td>\n",
       "      <td>0.177683</td>\n",
       "      <td>0.203903</td>\n",
       "      <td>...</td>\n",
       "      <td>0.137085</td>\n",
       "      <td>0.146539</td>\n",
       "      <td>0.123842</td>\n",
       "      <td>0.054136</td>\n",
       "      <td>0.103644</td>\n",
       "      <td>0.000722</td>\n",
       "      <td>0.076992</td>\n",
       "      <td>0.024533</td>\n",
       "      <td>0.128029</td>\n",
       "      <td>0.193178</td>\n",
       "    </tr>\n",
       "    <tr>\n",
       "      <th>habits2</th>\n",
       "      <td>0.138584</td>\n",
       "      <td>0.238986</td>\n",
       "      <td>0.326063</td>\n",
       "      <td>0.296074</td>\n",
       "      <td>0.500973</td>\n",
       "      <td>0.377690</td>\n",
       "      <td>1.000000</td>\n",
       "      <td>0.220547</td>\n",
       "      <td>0.267822</td>\n",
       "      <td>0.148345</td>\n",
       "      <td>...</td>\n",
       "      <td>0.063957</td>\n",
       "      <td>0.197127</td>\n",
       "      <td>0.162676</td>\n",
       "      <td>0.113223</td>\n",
       "      <td>0.140825</td>\n",
       "      <td>0.001747</td>\n",
       "      <td>0.021864</td>\n",
       "      <td>-0.052551</td>\n",
       "      <td>0.050082</td>\n",
       "      <td>0.151428</td>\n",
       "    </tr>\n",
       "    <tr>\n",
       "      <th>habits3</th>\n",
       "      <td>0.139372</td>\n",
       "      <td>0.510972</td>\n",
       "      <td>0.259651</td>\n",
       "      <td>0.113560</td>\n",
       "      <td>0.115101</td>\n",
       "      <td>0.055410</td>\n",
       "      <td>0.220547</td>\n",
       "      <td>1.000000</td>\n",
       "      <td>0.057213</td>\n",
       "      <td>0.170201</td>\n",
       "      <td>...</td>\n",
       "      <td>-0.182065</td>\n",
       "      <td>0.237070</td>\n",
       "      <td>0.248696</td>\n",
       "      <td>0.271845</td>\n",
       "      <td>0.258158</td>\n",
       "      <td>0.102834</td>\n",
       "      <td>-0.398896</td>\n",
       "      <td>-0.392012</td>\n",
       "      <td>-0.173753</td>\n",
       "      <td>-0.158589</td>\n",
       "    </tr>\n",
       "    <tr>\n",
       "      <th>habits4c</th>\n",
       "      <td>0.042008</td>\n",
       "      <td>0.095607</td>\n",
       "      <td>0.194989</td>\n",
       "      <td>0.116470</td>\n",
       "      <td>0.222221</td>\n",
       "      <td>0.177683</td>\n",
       "      <td>0.267822</td>\n",
       "      <td>0.057213</td>\n",
       "      <td>1.000000</td>\n",
       "      <td>0.161064</td>\n",
       "      <td>...</td>\n",
       "      <td>0.044074</td>\n",
       "      <td>0.062927</td>\n",
       "      <td>0.026525</td>\n",
       "      <td>0.117245</td>\n",
       "      <td>0.162461</td>\n",
       "      <td>-0.052224</td>\n",
       "      <td>0.102532</td>\n",
       "      <td>0.039616</td>\n",
       "      <td>0.135923</td>\n",
       "      <td>0.208694</td>\n",
       "    </tr>\n",
       "    <tr>\n",
       "      <th>habits5</th>\n",
       "      <td>0.064479</td>\n",
       "      <td>0.208840</td>\n",
       "      <td>0.127481</td>\n",
       "      <td>0.136122</td>\n",
       "      <td>0.143687</td>\n",
       "      <td>0.203903</td>\n",
       "      <td>0.148345</td>\n",
       "      <td>0.170201</td>\n",
       "      <td>0.161064</td>\n",
       "      <td>1.000000</td>\n",
       "      <td>...</td>\n",
       "      <td>0.194327</td>\n",
       "      <td>0.146339</td>\n",
       "      <td>0.157304</td>\n",
       "      <td>0.129403</td>\n",
       "      <td>0.172596</td>\n",
       "      <td>0.003689</td>\n",
       "      <td>0.079722</td>\n",
       "      <td>0.074462</td>\n",
       "      <td>0.226470</td>\n",
       "      <td>0.253709</td>\n",
       "    </tr>\n",
       "    <tr>\n",
       "      <th>habits6</th>\n",
       "      <td>0.150050</td>\n",
       "      <td>0.225136</td>\n",
       "      <td>0.153748</td>\n",
       "      <td>0.159674</td>\n",
       "      <td>0.134849</td>\n",
       "      <td>0.183910</td>\n",
       "      <td>0.208096</td>\n",
       "      <td>0.321328</td>\n",
       "      <td>0.140491</td>\n",
       "      <td>0.212184</td>\n",
       "      <td>...</td>\n",
       "      <td>0.092528</td>\n",
       "      <td>0.303397</td>\n",
       "      <td>0.261840</td>\n",
       "      <td>0.192877</td>\n",
       "      <td>0.184899</td>\n",
       "      <td>0.123692</td>\n",
       "      <td>-0.071349</td>\n",
       "      <td>-0.068162</td>\n",
       "      <td>0.099979</td>\n",
       "      <td>0.170036</td>\n",
       "    </tr>\n",
       "    <tr>\n",
       "      <th>habits7</th>\n",
       "      <td>0.088516</td>\n",
       "      <td>-0.024552</td>\n",
       "      <td>-0.096776</td>\n",
       "      <td>0.211228</td>\n",
       "      <td>0.059604</td>\n",
       "      <td>0.137085</td>\n",
       "      <td>0.063957</td>\n",
       "      <td>-0.182065</td>\n",
       "      <td>0.044074</td>\n",
       "      <td>0.194327</td>\n",
       "      <td>...</td>\n",
       "      <td>1.000000</td>\n",
       "      <td>0.094918</td>\n",
       "      <td>0.154720</td>\n",
       "      <td>-0.078569</td>\n",
       "      <td>0.027942</td>\n",
       "      <td>-0.029795</td>\n",
       "      <td>0.214327</td>\n",
       "      <td>0.199838</td>\n",
       "      <td>0.413709</td>\n",
       "      <td>0.271200</td>\n",
       "    </tr>\n",
       "    <tr>\n",
       "      <th>habits8</th>\n",
       "      <td>0.151842</td>\n",
       "      <td>0.202567</td>\n",
       "      <td>0.018599</td>\n",
       "      <td>0.210087</td>\n",
       "      <td>0.181439</td>\n",
       "      <td>0.146539</td>\n",
       "      <td>0.197127</td>\n",
       "      <td>0.237070</td>\n",
       "      <td>0.062927</td>\n",
       "      <td>0.146339</td>\n",
       "      <td>...</td>\n",
       "      <td>0.094918</td>\n",
       "      <td>1.000000</td>\n",
       "      <td>0.709842</td>\n",
       "      <td>0.346276</td>\n",
       "      <td>0.331288</td>\n",
       "      <td>0.207777</td>\n",
       "      <td>-0.035377</td>\n",
       "      <td>-0.040794</td>\n",
       "      <td>0.122932</td>\n",
       "      <td>0.146792</td>\n",
       "    </tr>\n",
       "    <tr>\n",
       "      <th>habits9</th>\n",
       "      <td>0.196000</td>\n",
       "      <td>0.181217</td>\n",
       "      <td>0.013333</td>\n",
       "      <td>0.206472</td>\n",
       "      <td>0.161058</td>\n",
       "      <td>0.123842</td>\n",
       "      <td>0.162676</td>\n",
       "      <td>0.248696</td>\n",
       "      <td>0.026525</td>\n",
       "      <td>0.157304</td>\n",
       "      <td>...</td>\n",
       "      <td>0.154720</td>\n",
       "      <td>0.709842</td>\n",
       "      <td>1.000000</td>\n",
       "      <td>0.299389</td>\n",
       "      <td>0.338172</td>\n",
       "      <td>0.126155</td>\n",
       "      <td>-0.039666</td>\n",
       "      <td>-0.067381</td>\n",
       "      <td>0.116740</td>\n",
       "      <td>0.067385</td>\n",
       "    </tr>\n",
       "    <tr>\n",
       "      <th>habits10</th>\n",
       "      <td>0.157131</td>\n",
       "      <td>0.197469</td>\n",
       "      <td>0.143170</td>\n",
       "      <td>0.028803</td>\n",
       "      <td>0.113946</td>\n",
       "      <td>0.054136</td>\n",
       "      <td>0.113223</td>\n",
       "      <td>0.271845</td>\n",
       "      <td>0.117245</td>\n",
       "      <td>0.129403</td>\n",
       "      <td>...</td>\n",
       "      <td>-0.078569</td>\n",
       "      <td>0.346276</td>\n",
       "      <td>0.299389</td>\n",
       "      <td>1.000000</td>\n",
       "      <td>0.746951</td>\n",
       "      <td>0.123296</td>\n",
       "      <td>-0.070826</td>\n",
       "      <td>-0.069255</td>\n",
       "      <td>0.061600</td>\n",
       "      <td>0.079005</td>\n",
       "    </tr>\n",
       "    <tr>\n",
       "      <th>habits11</th>\n",
       "      <td>0.167480</td>\n",
       "      <td>0.233134</td>\n",
       "      <td>0.122541</td>\n",
       "      <td>0.038755</td>\n",
       "      <td>0.138885</td>\n",
       "      <td>0.103644</td>\n",
       "      <td>0.140825</td>\n",
       "      <td>0.258158</td>\n",
       "      <td>0.162461</td>\n",
       "      <td>0.172596</td>\n",
       "      <td>...</td>\n",
       "      <td>0.027942</td>\n",
       "      <td>0.331288</td>\n",
       "      <td>0.338172</td>\n",
       "      <td>0.746951</td>\n",
       "      <td>1.000000</td>\n",
       "      <td>0.050796</td>\n",
       "      <td>-0.057532</td>\n",
       "      <td>-0.088278</td>\n",
       "      <td>0.115782</td>\n",
       "      <td>0.104523</td>\n",
       "    </tr>\n",
       "    <tr>\n",
       "      <th>habits12</th>\n",
       "      <td>0.024132</td>\n",
       "      <td>0.070714</td>\n",
       "      <td>-0.005790</td>\n",
       "      <td>0.012985</td>\n",
       "      <td>-0.035652</td>\n",
       "      <td>0.000722</td>\n",
       "      <td>0.001747</td>\n",
       "      <td>0.102834</td>\n",
       "      <td>-0.052224</td>\n",
       "      <td>0.003689</td>\n",
       "      <td>...</td>\n",
       "      <td>-0.029795</td>\n",
       "      <td>0.207777</td>\n",
       "      <td>0.126155</td>\n",
       "      <td>0.123296</td>\n",
       "      <td>0.050796</td>\n",
       "      <td>1.000000</td>\n",
       "      <td>-0.044228</td>\n",
       "      <td>-0.074576</td>\n",
       "      <td>-0.042122</td>\n",
       "      <td>-0.055226</td>\n",
       "    </tr>\n",
       "    <tr>\n",
       "      <th>wifi2a</th>\n",
       "      <td>0.018453</td>\n",
       "      <td>-0.217492</td>\n",
       "      <td>-0.110265</td>\n",
       "      <td>0.119003</td>\n",
       "      <td>0.037129</td>\n",
       "      <td>0.076992</td>\n",
       "      <td>0.021864</td>\n",
       "      <td>-0.398896</td>\n",
       "      <td>0.102532</td>\n",
       "      <td>0.079722</td>\n",
       "      <td>...</td>\n",
       "      <td>0.214327</td>\n",
       "      <td>-0.035377</td>\n",
       "      <td>-0.039666</td>\n",
       "      <td>-0.070826</td>\n",
       "      <td>-0.057532</td>\n",
       "      <td>-0.044228</td>\n",
       "      <td>1.000000</td>\n",
       "      <td>0.612314</td>\n",
       "      <td>0.367929</td>\n",
       "      <td>0.401499</td>\n",
       "    </tr>\n",
       "    <tr>\n",
       "      <th>wifi2b</th>\n",
       "      <td>0.004635</td>\n",
       "      <td>-0.224720</td>\n",
       "      <td>-0.194280</td>\n",
       "      <td>-0.025907</td>\n",
       "      <td>0.027421</td>\n",
       "      <td>0.024533</td>\n",
       "      <td>-0.052551</td>\n",
       "      <td>-0.392012</td>\n",
       "      <td>0.039616</td>\n",
       "      <td>0.074462</td>\n",
       "      <td>...</td>\n",
       "      <td>0.199838</td>\n",
       "      <td>-0.040794</td>\n",
       "      <td>-0.067381</td>\n",
       "      <td>-0.069255</td>\n",
       "      <td>-0.088278</td>\n",
       "      <td>-0.074576</td>\n",
       "      <td>0.612314</td>\n",
       "      <td>1.000000</td>\n",
       "      <td>0.332084</td>\n",
       "      <td>0.374471</td>\n",
       "    </tr>\n",
       "    <tr>\n",
       "      <th>wifi2c</th>\n",
       "      <td>0.127739</td>\n",
       "      <td>0.012738</td>\n",
       "      <td>-0.100717</td>\n",
       "      <td>0.180584</td>\n",
       "      <td>0.080417</td>\n",
       "      <td>0.128029</td>\n",
       "      <td>0.050082</td>\n",
       "      <td>-0.173753</td>\n",
       "      <td>0.135923</td>\n",
       "      <td>0.226470</td>\n",
       "      <td>...</td>\n",
       "      <td>0.413709</td>\n",
       "      <td>0.122932</td>\n",
       "      <td>0.116740</td>\n",
       "      <td>0.061600</td>\n",
       "      <td>0.115782</td>\n",
       "      <td>-0.042122</td>\n",
       "      <td>0.367929</td>\n",
       "      <td>0.332084</td>\n",
       "      <td>1.000000</td>\n",
       "      <td>0.612180</td>\n",
       "    </tr>\n",
       "    <tr>\n",
       "      <th>wifi2d</th>\n",
       "      <td>0.132822</td>\n",
       "      <td>0.029241</td>\n",
       "      <td>-0.052179</td>\n",
       "      <td>0.200469</td>\n",
       "      <td>0.143080</td>\n",
       "      <td>0.193178</td>\n",
       "      <td>0.151428</td>\n",
       "      <td>-0.158589</td>\n",
       "      <td>0.208694</td>\n",
       "      <td>0.253709</td>\n",
       "      <td>...</td>\n",
       "      <td>0.271200</td>\n",
       "      <td>0.146792</td>\n",
       "      <td>0.067385</td>\n",
       "      <td>0.079005</td>\n",
       "      <td>0.104523</td>\n",
       "      <td>-0.055226</td>\n",
       "      <td>0.401499</td>\n",
       "      <td>0.374471</td>\n",
       "      <td>0.612180</td>\n",
       "      <td>1.000000</td>\n",
       "    </tr>\n",
       "  </tbody>\n",
       "</table>\n",
       "<p>21 rows × 21 columns</p>\n",
       "</div>"
      ],
      "text/plain": [
       "                ID  habits1a  habits1b  habits1c  habits1d  habits1e  \\\n",
       "ID        1.000000  0.183073  0.040823  0.110087  0.113262  0.136921   \n",
       "habits1a  0.183073  1.000000  0.055674  0.094748  0.088844  0.128422   \n",
       "habits1b  0.040823  0.055674  1.000000 -0.051519  0.081297  0.067287   \n",
       "habits1c  0.110087  0.094748 -0.051519  1.000000  0.122601  0.202593   \n",
       "habits1d  0.113262  0.088844  0.081297  0.122601  1.000000  0.262554   \n",
       "habits1e  0.136921  0.128422  0.067287  0.202593  0.262554  1.000000   \n",
       "habits2   0.138584  0.238986  0.326063  0.296074  0.500973  0.377690   \n",
       "habits3   0.139372  0.510972  0.259651  0.113560  0.115101  0.055410   \n",
       "habits4c  0.042008  0.095607  0.194989  0.116470  0.222221  0.177683   \n",
       "habits5   0.064479  0.208840  0.127481  0.136122  0.143687  0.203903   \n",
       "habits6   0.150050  0.225136  0.153748  0.159674  0.134849  0.183910   \n",
       "habits7   0.088516 -0.024552 -0.096776  0.211228  0.059604  0.137085   \n",
       "habits8   0.151842  0.202567  0.018599  0.210087  0.181439  0.146539   \n",
       "habits9   0.196000  0.181217  0.013333  0.206472  0.161058  0.123842   \n",
       "habits10  0.157131  0.197469  0.143170  0.028803  0.113946  0.054136   \n",
       "habits11  0.167480  0.233134  0.122541  0.038755  0.138885  0.103644   \n",
       "habits12  0.024132  0.070714 -0.005790  0.012985 -0.035652  0.000722   \n",
       "wifi2a    0.018453 -0.217492 -0.110265  0.119003  0.037129  0.076992   \n",
       "wifi2b    0.004635 -0.224720 -0.194280 -0.025907  0.027421  0.024533   \n",
       "wifi2c    0.127739  0.012738 -0.100717  0.180584  0.080417  0.128029   \n",
       "wifi2d    0.132822  0.029241 -0.052179  0.200469  0.143080  0.193178   \n",
       "\n",
       "           habits2   habits3  habits4c   habits5    ...      habits7  \\\n",
       "ID        0.138584  0.139372  0.042008  0.064479    ...     0.088516   \n",
       "habits1a  0.238986  0.510972  0.095607  0.208840    ...    -0.024552   \n",
       "habits1b  0.326063  0.259651  0.194989  0.127481    ...    -0.096776   \n",
       "habits1c  0.296074  0.113560  0.116470  0.136122    ...     0.211228   \n",
       "habits1d  0.500973  0.115101  0.222221  0.143687    ...     0.059604   \n",
       "habits1e  0.377690  0.055410  0.177683  0.203903    ...     0.137085   \n",
       "habits2   1.000000  0.220547  0.267822  0.148345    ...     0.063957   \n",
       "habits3   0.220547  1.000000  0.057213  0.170201    ...    -0.182065   \n",
       "habits4c  0.267822  0.057213  1.000000  0.161064    ...     0.044074   \n",
       "habits5   0.148345  0.170201  0.161064  1.000000    ...     0.194327   \n",
       "habits6   0.208096  0.321328  0.140491  0.212184    ...     0.092528   \n",
       "habits7   0.063957 -0.182065  0.044074  0.194327    ...     1.000000   \n",
       "habits8   0.197127  0.237070  0.062927  0.146339    ...     0.094918   \n",
       "habits9   0.162676  0.248696  0.026525  0.157304    ...     0.154720   \n",
       "habits10  0.113223  0.271845  0.117245  0.129403    ...    -0.078569   \n",
       "habits11  0.140825  0.258158  0.162461  0.172596    ...     0.027942   \n",
       "habits12  0.001747  0.102834 -0.052224  0.003689    ...    -0.029795   \n",
       "wifi2a    0.021864 -0.398896  0.102532  0.079722    ...     0.214327   \n",
       "wifi2b   -0.052551 -0.392012  0.039616  0.074462    ...     0.199838   \n",
       "wifi2c    0.050082 -0.173753  0.135923  0.226470    ...     0.413709   \n",
       "wifi2d    0.151428 -0.158589  0.208694  0.253709    ...     0.271200   \n",
       "\n",
       "           habits8   habits9  habits10  habits11  habits12    wifi2a  \\\n",
       "ID        0.151842  0.196000  0.157131  0.167480  0.024132  0.018453   \n",
       "habits1a  0.202567  0.181217  0.197469  0.233134  0.070714 -0.217492   \n",
       "habits1b  0.018599  0.013333  0.143170  0.122541 -0.005790 -0.110265   \n",
       "habits1c  0.210087  0.206472  0.028803  0.038755  0.012985  0.119003   \n",
       "habits1d  0.181439  0.161058  0.113946  0.138885 -0.035652  0.037129   \n",
       "habits1e  0.146539  0.123842  0.054136  0.103644  0.000722  0.076992   \n",
       "habits2   0.197127  0.162676  0.113223  0.140825  0.001747  0.021864   \n",
       "habits3   0.237070  0.248696  0.271845  0.258158  0.102834 -0.398896   \n",
       "habits4c  0.062927  0.026525  0.117245  0.162461 -0.052224  0.102532   \n",
       "habits5   0.146339  0.157304  0.129403  0.172596  0.003689  0.079722   \n",
       "habits6   0.303397  0.261840  0.192877  0.184899  0.123692 -0.071349   \n",
       "habits7   0.094918  0.154720 -0.078569  0.027942 -0.029795  0.214327   \n",
       "habits8   1.000000  0.709842  0.346276  0.331288  0.207777 -0.035377   \n",
       "habits9   0.709842  1.000000  0.299389  0.338172  0.126155 -0.039666   \n",
       "habits10  0.346276  0.299389  1.000000  0.746951  0.123296 -0.070826   \n",
       "habits11  0.331288  0.338172  0.746951  1.000000  0.050796 -0.057532   \n",
       "habits12  0.207777  0.126155  0.123296  0.050796  1.000000 -0.044228   \n",
       "wifi2a   -0.035377 -0.039666 -0.070826 -0.057532 -0.044228  1.000000   \n",
       "wifi2b   -0.040794 -0.067381 -0.069255 -0.088278 -0.074576  0.612314   \n",
       "wifi2c    0.122932  0.116740  0.061600  0.115782 -0.042122  0.367929   \n",
       "wifi2d    0.146792  0.067385  0.079005  0.104523 -0.055226  0.401499   \n",
       "\n",
       "            wifi2b    wifi2c    wifi2d  \n",
       "ID        0.004635  0.127739  0.132822  \n",
       "habits1a -0.224720  0.012738  0.029241  \n",
       "habits1b -0.194280 -0.100717 -0.052179  \n",
       "habits1c -0.025907  0.180584  0.200469  \n",
       "habits1d  0.027421  0.080417  0.143080  \n",
       "habits1e  0.024533  0.128029  0.193178  \n",
       "habits2  -0.052551  0.050082  0.151428  \n",
       "habits3  -0.392012 -0.173753 -0.158589  \n",
       "habits4c  0.039616  0.135923  0.208694  \n",
       "habits5   0.074462  0.226470  0.253709  \n",
       "habits6  -0.068162  0.099979  0.170036  \n",
       "habits7   0.199838  0.413709  0.271200  \n",
       "habits8  -0.040794  0.122932  0.146792  \n",
       "habits9  -0.067381  0.116740  0.067385  \n",
       "habits10 -0.069255  0.061600  0.079005  \n",
       "habits11 -0.088278  0.115782  0.104523  \n",
       "habits12 -0.074576 -0.042122 -0.055226  \n",
       "wifi2a    0.612314  0.367929  0.401499  \n",
       "wifi2b    1.000000  0.332084  0.374471  \n",
       "wifi2c    0.332084  1.000000  0.612180  \n",
       "wifi2d    0.374471  0.612180  1.000000  \n",
       "\n",
       "[21 rows x 21 columns]"
      ]
     },
     "execution_count": 10,
     "metadata": {},
     "output_type": "execute_result"
    }
   ],
   "source": [
    "df_hab.corr()"
   ]
  },
  {
   "cell_type": "markdown",
   "metadata": {},
   "source": [
    "## Demographic variables"
   ]
  },
  {
   "cell_type": "code",
   "execution_count": 11,
   "metadata": {
    "collapsed": false
   },
   "outputs": [
    {
     "data": {
      "text/html": [
       "<div>\n",
       "<table border=\"1\" class=\"dataframe\">\n",
       "  <thead>\n",
       "    <tr style=\"text-align: right;\">\n",
       "      <th></th>\n",
       "      <th>ID</th>\n",
       "      <th>sex</th>\n",
       "      <th>age</th>\n",
       "      <th>educ2</th>\n",
       "      <th>hisp</th>\n",
       "      <th>race3m1</th>\n",
       "      <th>marital</th>\n",
       "      <th>par</th>\n",
       "      <th>emplnw3</th>\n",
       "      <th>party</th>\n",
       "      <th>partyln</th>\n",
       "      <th>ideo</th>\n",
       "      <th>inc</th>\n",
       "      <th>usr</th>\n",
       "    </tr>\n",
       "  </thead>\n",
       "  <tbody>\n",
       "    <tr>\n",
       "      <th>ID</th>\n",
       "      <td>1.000000</td>\n",
       "      <td>-0.119406</td>\n",
       "      <td>-0.343113</td>\n",
       "      <td>-0.010926</td>\n",
       "      <td>0.103976</td>\n",
       "      <td>0.112147</td>\n",
       "      <td>0.027175</td>\n",
       "      <td>0.106426</td>\n",
       "      <td>-0.204131</td>\n",
       "      <td>-0.005242</td>\n",
       "      <td>0.040151</td>\n",
       "      <td>0.059691</td>\n",
       "      <td>-0.111167</td>\n",
       "      <td>0.113990</td>\n",
       "    </tr>\n",
       "    <tr>\n",
       "      <th>sex</th>\n",
       "      <td>-0.119406</td>\n",
       "      <td>1.000000</td>\n",
       "      <td>0.100085</td>\n",
       "      <td>-0.032790</td>\n",
       "      <td>-0.002374</td>\n",
       "      <td>0.048729</td>\n",
       "      <td>-0.003834</td>\n",
       "      <td>-0.013111</td>\n",
       "      <td>0.221449</td>\n",
       "      <td>-0.049019</td>\n",
       "      <td>-0.093035</td>\n",
       "      <td>0.053488</td>\n",
       "      <td>0.005074</td>\n",
       "      <td>-0.043298</td>\n",
       "    </tr>\n",
       "    <tr>\n",
       "      <th>age</th>\n",
       "      <td>-0.343113</td>\n",
       "      <td>0.100085</td>\n",
       "      <td>1.000000</td>\n",
       "      <td>0.163559</td>\n",
       "      <td>-0.127582</td>\n",
       "      <td>-0.177774</td>\n",
       "      <td>-0.256278</td>\n",
       "      <td>-0.268125</td>\n",
       "      <td>0.250020</td>\n",
       "      <td>-0.088816</td>\n",
       "      <td>-0.123027</td>\n",
       "      <td>-0.120902</td>\n",
       "      <td>0.211119</td>\n",
       "      <td>-0.091053</td>\n",
       "    </tr>\n",
       "    <tr>\n",
       "      <th>educ2</th>\n",
       "      <td>-0.010926</td>\n",
       "      <td>-0.032790</td>\n",
       "      <td>0.163559</td>\n",
       "      <td>1.000000</td>\n",
       "      <td>0.026655</td>\n",
       "      <td>-0.050589</td>\n",
       "      <td>-0.072269</td>\n",
       "      <td>0.004125</td>\n",
       "      <td>-0.018757</td>\n",
       "      <td>-0.053825</td>\n",
       "      <td>-0.026698</td>\n",
       "      <td>-0.092463</td>\n",
       "      <td>0.155940</td>\n",
       "      <td>-0.038071</td>\n",
       "    </tr>\n",
       "    <tr>\n",
       "      <th>hisp</th>\n",
       "      <td>0.103976</td>\n",
       "      <td>-0.002374</td>\n",
       "      <td>-0.127582</td>\n",
       "      <td>0.026655</td>\n",
       "      <td>1.000000</td>\n",
       "      <td>0.487058</td>\n",
       "      <td>0.076618</td>\n",
       "      <td>0.127328</td>\n",
       "      <td>-0.023787</td>\n",
       "      <td>0.024166</td>\n",
       "      <td>0.034256</td>\n",
       "      <td>-0.041843</td>\n",
       "      <td>0.016345</td>\n",
       "      <td>0.055148</td>\n",
       "    </tr>\n",
       "    <tr>\n",
       "      <th>race3m1</th>\n",
       "      <td>0.112147</td>\n",
       "      <td>0.048729</td>\n",
       "      <td>-0.177774</td>\n",
       "      <td>-0.050589</td>\n",
       "      <td>0.487058</td>\n",
       "      <td>1.000000</td>\n",
       "      <td>0.108447</td>\n",
       "      <td>0.119486</td>\n",
       "      <td>0.032119</td>\n",
       "      <td>0.092149</td>\n",
       "      <td>0.107876</td>\n",
       "      <td>0.029285</td>\n",
       "      <td>-0.082905</td>\n",
       "      <td>0.061872</td>\n",
       "    </tr>\n",
       "    <tr>\n",
       "      <th>marital</th>\n",
       "      <td>0.027175</td>\n",
       "      <td>-0.003834</td>\n",
       "      <td>-0.256278</td>\n",
       "      <td>-0.072269</td>\n",
       "      <td>0.076618</td>\n",
       "      <td>0.108447</td>\n",
       "      <td>1.000000</td>\n",
       "      <td>-0.240432</td>\n",
       "      <td>0.144174</td>\n",
       "      <td>0.084820</td>\n",
       "      <td>-0.002562</td>\n",
       "      <td>0.122642</td>\n",
       "      <td>-0.015750</td>\n",
       "      <td>0.058423</td>\n",
       "    </tr>\n",
       "    <tr>\n",
       "      <th>par</th>\n",
       "      <td>0.106426</td>\n",
       "      <td>-0.013111</td>\n",
       "      <td>-0.268125</td>\n",
       "      <td>0.004125</td>\n",
       "      <td>0.127328</td>\n",
       "      <td>0.119486</td>\n",
       "      <td>-0.240432</td>\n",
       "      <td>1.000000</td>\n",
       "      <td>-0.224839</td>\n",
       "      <td>0.033337</td>\n",
       "      <td>0.036833</td>\n",
       "      <td>-0.089019</td>\n",
       "      <td>-0.067813</td>\n",
       "      <td>-0.042455</td>\n",
       "    </tr>\n",
       "    <tr>\n",
       "      <th>emplnw3</th>\n",
       "      <td>-0.204131</td>\n",
       "      <td>0.221449</td>\n",
       "      <td>0.250020</td>\n",
       "      <td>-0.018757</td>\n",
       "      <td>-0.023787</td>\n",
       "      <td>0.032119</td>\n",
       "      <td>0.144174</td>\n",
       "      <td>-0.224839</td>\n",
       "      <td>1.000000</td>\n",
       "      <td>0.050664</td>\n",
       "      <td>-0.042718</td>\n",
       "      <td>0.010396</td>\n",
       "      <td>0.044492</td>\n",
       "      <td>-0.092209</td>\n",
       "    </tr>\n",
       "    <tr>\n",
       "      <th>party</th>\n",
       "      <td>-0.005242</td>\n",
       "      <td>-0.049019</td>\n",
       "      <td>-0.088816</td>\n",
       "      <td>-0.053825</td>\n",
       "      <td>0.024166</td>\n",
       "      <td>0.092149</td>\n",
       "      <td>0.084820</td>\n",
       "      <td>0.033337</td>\n",
       "      <td>0.050664</td>\n",
       "      <td>1.000000</td>\n",
       "      <td>0.461573</td>\n",
       "      <td>0.168174</td>\n",
       "      <td>-0.002514</td>\n",
       "      <td>0.045377</td>\n",
       "    </tr>\n",
       "    <tr>\n",
       "      <th>partyln</th>\n",
       "      <td>0.040151</td>\n",
       "      <td>-0.093035</td>\n",
       "      <td>-0.123027</td>\n",
       "      <td>-0.026698</td>\n",
       "      <td>0.034256</td>\n",
       "      <td>0.107876</td>\n",
       "      <td>-0.002562</td>\n",
       "      <td>0.036833</td>\n",
       "      <td>-0.042718</td>\n",
       "      <td>0.461573</td>\n",
       "      <td>1.000000</td>\n",
       "      <td>0.113929</td>\n",
       "      <td>-0.000400</td>\n",
       "      <td>0.006428</td>\n",
       "    </tr>\n",
       "    <tr>\n",
       "      <th>ideo</th>\n",
       "      <td>0.059691</td>\n",
       "      <td>0.053488</td>\n",
       "      <td>-0.120902</td>\n",
       "      <td>-0.092463</td>\n",
       "      <td>-0.041843</td>\n",
       "      <td>0.029285</td>\n",
       "      <td>0.122642</td>\n",
       "      <td>-0.089019</td>\n",
       "      <td>0.010396</td>\n",
       "      <td>0.168174</td>\n",
       "      <td>0.113929</td>\n",
       "      <td>1.000000</td>\n",
       "      <td>-0.079734</td>\n",
       "      <td>0.090431</td>\n",
       "    </tr>\n",
       "    <tr>\n",
       "      <th>inc</th>\n",
       "      <td>-0.111167</td>\n",
       "      <td>0.005074</td>\n",
       "      <td>0.211119</td>\n",
       "      <td>0.155940</td>\n",
       "      <td>0.016345</td>\n",
       "      <td>-0.082905</td>\n",
       "      <td>-0.015750</td>\n",
       "      <td>-0.067813</td>\n",
       "      <td>0.044492</td>\n",
       "      <td>-0.002514</td>\n",
       "      <td>-0.000400</td>\n",
       "      <td>-0.079734</td>\n",
       "      <td>1.000000</td>\n",
       "      <td>-0.024640</td>\n",
       "    </tr>\n",
       "    <tr>\n",
       "      <th>usr</th>\n",
       "      <td>0.113990</td>\n",
       "      <td>-0.043298</td>\n",
       "      <td>-0.091053</td>\n",
       "      <td>-0.038071</td>\n",
       "      <td>0.055148</td>\n",
       "      <td>0.061872</td>\n",
       "      <td>0.058423</td>\n",
       "      <td>-0.042455</td>\n",
       "      <td>-0.092209</td>\n",
       "      <td>0.045377</td>\n",
       "      <td>0.006428</td>\n",
       "      <td>0.090431</td>\n",
       "      <td>-0.024640</td>\n",
       "      <td>1.000000</td>\n",
       "    </tr>\n",
       "  </tbody>\n",
       "</table>\n",
       "</div>"
      ],
      "text/plain": [
       "               ID       sex       age     educ2      hisp   race3m1   marital  \\\n",
       "ID       1.000000 -0.119406 -0.343113 -0.010926  0.103976  0.112147  0.027175   \n",
       "sex     -0.119406  1.000000  0.100085 -0.032790 -0.002374  0.048729 -0.003834   \n",
       "age     -0.343113  0.100085  1.000000  0.163559 -0.127582 -0.177774 -0.256278   \n",
       "educ2   -0.010926 -0.032790  0.163559  1.000000  0.026655 -0.050589 -0.072269   \n",
       "hisp     0.103976 -0.002374 -0.127582  0.026655  1.000000  0.487058  0.076618   \n",
       "race3m1  0.112147  0.048729 -0.177774 -0.050589  0.487058  1.000000  0.108447   \n",
       "marital  0.027175 -0.003834 -0.256278 -0.072269  0.076618  0.108447  1.000000   \n",
       "par      0.106426 -0.013111 -0.268125  0.004125  0.127328  0.119486 -0.240432   \n",
       "emplnw3 -0.204131  0.221449  0.250020 -0.018757 -0.023787  0.032119  0.144174   \n",
       "party   -0.005242 -0.049019 -0.088816 -0.053825  0.024166  0.092149  0.084820   \n",
       "partyln  0.040151 -0.093035 -0.123027 -0.026698  0.034256  0.107876 -0.002562   \n",
       "ideo     0.059691  0.053488 -0.120902 -0.092463 -0.041843  0.029285  0.122642   \n",
       "inc     -0.111167  0.005074  0.211119  0.155940  0.016345 -0.082905 -0.015750   \n",
       "usr      0.113990 -0.043298 -0.091053 -0.038071  0.055148  0.061872  0.058423   \n",
       "\n",
       "              par   emplnw3     party   partyln      ideo       inc       usr  \n",
       "ID       0.106426 -0.204131 -0.005242  0.040151  0.059691 -0.111167  0.113990  \n",
       "sex     -0.013111  0.221449 -0.049019 -0.093035  0.053488  0.005074 -0.043298  \n",
       "age     -0.268125  0.250020 -0.088816 -0.123027 -0.120902  0.211119 -0.091053  \n",
       "educ2    0.004125 -0.018757 -0.053825 -0.026698 -0.092463  0.155940 -0.038071  \n",
       "hisp     0.127328 -0.023787  0.024166  0.034256 -0.041843  0.016345  0.055148  \n",
       "race3m1  0.119486  0.032119  0.092149  0.107876  0.029285 -0.082905  0.061872  \n",
       "marital -0.240432  0.144174  0.084820 -0.002562  0.122642 -0.015750  0.058423  \n",
       "par      1.000000 -0.224839  0.033337  0.036833 -0.089019 -0.067813 -0.042455  \n",
       "emplnw3 -0.224839  1.000000  0.050664 -0.042718  0.010396  0.044492 -0.092209  \n",
       "party    0.033337  0.050664  1.000000  0.461573  0.168174 -0.002514  0.045377  \n",
       "partyln  0.036833 -0.042718  0.461573  1.000000  0.113929 -0.000400  0.006428  \n",
       "ideo    -0.089019  0.010396  0.168174  0.113929  1.000000 -0.079734  0.090431  \n",
       "inc     -0.067813  0.044492 -0.002514 -0.000400 -0.079734  1.000000 -0.024640  \n",
       "usr     -0.042455 -0.092209  0.045377  0.006428  0.090431 -0.024640  1.000000  "
      ]
     },
     "execution_count": 11,
     "metadata": {},
     "output_type": "execute_result"
    }
   ],
   "source": [
    "df_dem.corr()"
   ]
  },
  {
   "cell_type": "markdown",
   "metadata": {},
   "source": [
    "## Security incident variables x Demographic variables"
   ]
  },
  {
   "cell_type": "code",
   "execution_count": 12,
   "metadata": {
    "collapsed": false
   },
   "outputs": [],
   "source": [
    "# Function to calculate correlations between columns in two dataframes\n",
    "\n",
    "def corr(df1, df2):\n",
    "    n = len(df1)\n",
    "    v1, v2 = df1.values, df2.values\n",
    "    sums = np.multiply.outer(v2.sum(0), v1.sum(0))\n",
    "    stds = np.multiply.outer(v2.std(0), v1.std(0))\n",
    "    \n",
    "    return pd.DataFrame((v2.T.dot(v1) - sums / n) / stds / n,\n",
    "                        df2.columns, df1.columns)"
   ]
  },
  {
   "cell_type": "code",
   "execution_count": 13,
   "metadata": {
    "collapsed": false
   },
   "outputs": [
    {
     "data": {
      "text/html": [
       "<div>\n",
       "<table border=\"1\" class=\"dataframe\">\n",
       "  <thead>\n",
       "    <tr style=\"text-align: right;\">\n",
       "      <th></th>\n",
       "      <th>ID</th>\n",
       "      <th>sex</th>\n",
       "      <th>age</th>\n",
       "      <th>educ2</th>\n",
       "      <th>hisp</th>\n",
       "      <th>race3m1</th>\n",
       "      <th>marital</th>\n",
       "      <th>par</th>\n",
       "      <th>emplnw3</th>\n",
       "      <th>party</th>\n",
       "      <th>partyln</th>\n",
       "      <th>ideo</th>\n",
       "      <th>inc</th>\n",
       "      <th>usr</th>\n",
       "    </tr>\n",
       "  </thead>\n",
       "  <tbody>\n",
       "    <tr>\n",
       "      <th>ID</th>\n",
       "      <td>1.000000</td>\n",
       "      <td>-0.119406</td>\n",
       "      <td>-0.343113</td>\n",
       "      <td>-0.010926</td>\n",
       "      <td>0.103976</td>\n",
       "      <td>0.112147</td>\n",
       "      <td>0.027175</td>\n",
       "      <td>0.106426</td>\n",
       "      <td>-0.204131</td>\n",
       "      <td>-0.005242</td>\n",
       "      <td>0.040151</td>\n",
       "      <td>0.059691</td>\n",
       "      <td>-0.111167</td>\n",
       "      <td>0.113990</td>\n",
       "    </tr>\n",
       "    <tr>\n",
       "      <th>secur2a</th>\n",
       "      <td>0.072080</td>\n",
       "      <td>-0.030320</td>\n",
       "      <td>-0.035065</td>\n",
       "      <td>-0.008632</td>\n",
       "      <td>0.025851</td>\n",
       "      <td>0.014530</td>\n",
       "      <td>-0.104695</td>\n",
       "      <td>0.079287</td>\n",
       "      <td>-0.089091</td>\n",
       "      <td>0.028590</td>\n",
       "      <td>0.035654</td>\n",
       "      <td>0.023675</td>\n",
       "      <td>-0.022383</td>\n",
       "      <td>0.021950</td>\n",
       "    </tr>\n",
       "    <tr>\n",
       "      <th>secur2b</th>\n",
       "      <td>0.040866</td>\n",
       "      <td>0.004734</td>\n",
       "      <td>0.003588</td>\n",
       "      <td>-0.031545</td>\n",
       "      <td>-0.057366</td>\n",
       "      <td>-0.106956</td>\n",
       "      <td>-0.154279</td>\n",
       "      <td>0.055819</td>\n",
       "      <td>-0.119232</td>\n",
       "      <td>-0.007301</td>\n",
       "      <td>-0.027898</td>\n",
       "      <td>0.063029</td>\n",
       "      <td>-0.038112</td>\n",
       "      <td>0.050394</td>\n",
       "    </tr>\n",
       "    <tr>\n",
       "      <th>secur2c</th>\n",
       "      <td>0.072952</td>\n",
       "      <td>-0.046588</td>\n",
       "      <td>0.002489</td>\n",
       "      <td>0.003524</td>\n",
       "      <td>-0.090925</td>\n",
       "      <td>-0.118831</td>\n",
       "      <td>-0.203682</td>\n",
       "      <td>0.044959</td>\n",
       "      <td>-0.166174</td>\n",
       "      <td>-0.039088</td>\n",
       "      <td>0.072154</td>\n",
       "      <td>0.051133</td>\n",
       "      <td>-0.002749</td>\n",
       "      <td>0.080112</td>\n",
       "    </tr>\n",
       "    <tr>\n",
       "      <th>secur2d</th>\n",
       "      <td>0.104097</td>\n",
       "      <td>-0.002071</td>\n",
       "      <td>-0.147863</td>\n",
       "      <td>-0.039613</td>\n",
       "      <td>0.023180</td>\n",
       "      <td>-0.006598</td>\n",
       "      <td>-0.024650</td>\n",
       "      <td>0.125619</td>\n",
       "      <td>-0.144305</td>\n",
       "      <td>0.011587</td>\n",
       "      <td>0.038981</td>\n",
       "      <td>0.060056</td>\n",
       "      <td>-0.050390</td>\n",
       "      <td>0.017205</td>\n",
       "    </tr>\n",
       "    <tr>\n",
       "      <th>secur2e</th>\n",
       "      <td>0.025571</td>\n",
       "      <td>0.066730</td>\n",
       "      <td>-0.038598</td>\n",
       "      <td>-0.014350</td>\n",
       "      <td>0.067735</td>\n",
       "      <td>0.043507</td>\n",
       "      <td>0.135979</td>\n",
       "      <td>-0.055915</td>\n",
       "      <td>0.062612</td>\n",
       "      <td>-0.021987</td>\n",
       "      <td>-0.027047</td>\n",
       "      <td>0.021751</td>\n",
       "      <td>-0.025550</td>\n",
       "      <td>-0.018430</td>\n",
       "    </tr>\n",
       "    <tr>\n",
       "      <th>secur2f</th>\n",
       "      <td>0.000368</td>\n",
       "      <td>0.007001</td>\n",
       "      <td>0.028736</td>\n",
       "      <td>-0.028114</td>\n",
       "      <td>0.048383</td>\n",
       "      <td>0.036955</td>\n",
       "      <td>-0.043536</td>\n",
       "      <td>0.026722</td>\n",
       "      <td>-0.007297</td>\n",
       "      <td>0.002093</td>\n",
       "      <td>0.010621</td>\n",
       "      <td>0.003048</td>\n",
       "      <td>0.013215</td>\n",
       "      <td>0.015216</td>\n",
       "    </tr>\n",
       "    <tr>\n",
       "      <th>secur2g</th>\n",
       "      <td>0.000181</td>\n",
       "      <td>0.033695</td>\n",
       "      <td>0.058045</td>\n",
       "      <td>0.001262</td>\n",
       "      <td>0.036077</td>\n",
       "      <td>0.008052</td>\n",
       "      <td>0.006507</td>\n",
       "      <td>-0.017757</td>\n",
       "      <td>0.039903</td>\n",
       "      <td>-0.021220</td>\n",
       "      <td>-0.000901</td>\n",
       "      <td>0.013184</td>\n",
       "      <td>-0.013529</td>\n",
       "      <td>-0.003001</td>\n",
       "    </tr>\n",
       "  </tbody>\n",
       "</table>\n",
       "</div>"
      ],
      "text/plain": [
       "               ID       sex       age     educ2      hisp   race3m1   marital  \\\n",
       "ID       1.000000 -0.119406 -0.343113 -0.010926  0.103976  0.112147  0.027175   \n",
       "secur2a  0.072080 -0.030320 -0.035065 -0.008632  0.025851  0.014530 -0.104695   \n",
       "secur2b  0.040866  0.004734  0.003588 -0.031545 -0.057366 -0.106956 -0.154279   \n",
       "secur2c  0.072952 -0.046588  0.002489  0.003524 -0.090925 -0.118831 -0.203682   \n",
       "secur2d  0.104097 -0.002071 -0.147863 -0.039613  0.023180 -0.006598 -0.024650   \n",
       "secur2e  0.025571  0.066730 -0.038598 -0.014350  0.067735  0.043507  0.135979   \n",
       "secur2f  0.000368  0.007001  0.028736 -0.028114  0.048383  0.036955 -0.043536   \n",
       "secur2g  0.000181  0.033695  0.058045  0.001262  0.036077  0.008052  0.006507   \n",
       "\n",
       "              par   emplnw3     party   partyln      ideo       inc       usr  \n",
       "ID       0.106426 -0.204131 -0.005242  0.040151  0.059691 -0.111167  0.113990  \n",
       "secur2a  0.079287 -0.089091  0.028590  0.035654  0.023675 -0.022383  0.021950  \n",
       "secur2b  0.055819 -0.119232 -0.007301 -0.027898  0.063029 -0.038112  0.050394  \n",
       "secur2c  0.044959 -0.166174 -0.039088  0.072154  0.051133 -0.002749  0.080112  \n",
       "secur2d  0.125619 -0.144305  0.011587  0.038981  0.060056 -0.050390  0.017205  \n",
       "secur2e -0.055915  0.062612 -0.021987 -0.027047  0.021751 -0.025550 -0.018430  \n",
       "secur2f  0.026722 -0.007297  0.002093  0.010621  0.003048  0.013215  0.015216  \n",
       "secur2g -0.017757  0.039903 -0.021220 -0.000901  0.013184 -0.013529 -0.003001  "
      ]
     },
     "execution_count": 13,
     "metadata": {},
     "output_type": "execute_result"
    }
   ],
   "source": [
    "corr(df_dem, df_sec)"
   ]
  },
  {
   "cell_type": "markdown",
   "metadata": {},
   "source": [
    "## Security incident variables x Security habit variables"
   ]
  },
  {
   "cell_type": "code",
   "execution_count": 14,
   "metadata": {
    "collapsed": false
   },
   "outputs": [
    {
     "data": {
      "text/html": [
       "<div>\n",
       "<table border=\"1\" class=\"dataframe\">\n",
       "  <thead>\n",
       "    <tr style=\"text-align: right;\">\n",
       "      <th></th>\n",
       "      <th>ID</th>\n",
       "      <th>habits1a</th>\n",
       "      <th>habits1b</th>\n",
       "      <th>habits1c</th>\n",
       "      <th>habits1d</th>\n",
       "      <th>habits1e</th>\n",
       "      <th>habits2</th>\n",
       "      <th>habits3</th>\n",
       "      <th>habits4c</th>\n",
       "      <th>habits5</th>\n",
       "      <th>...</th>\n",
       "      <th>habits7</th>\n",
       "      <th>habits8</th>\n",
       "      <th>habits9</th>\n",
       "      <th>habits10</th>\n",
       "      <th>habits11</th>\n",
       "      <th>habits12</th>\n",
       "      <th>wifi2a</th>\n",
       "      <th>wifi2b</th>\n",
       "      <th>wifi2c</th>\n",
       "      <th>wifi2d</th>\n",
       "    </tr>\n",
       "  </thead>\n",
       "  <tbody>\n",
       "    <tr>\n",
       "      <th>ID</th>\n",
       "      <td>1.000000</td>\n",
       "      <td>0.183073</td>\n",
       "      <td>0.040823</td>\n",
       "      <td>0.110087</td>\n",
       "      <td>0.113262</td>\n",
       "      <td>0.136921</td>\n",
       "      <td>0.138584</td>\n",
       "      <td>0.139372</td>\n",
       "      <td>0.042008</td>\n",
       "      <td>0.064479</td>\n",
       "      <td>...</td>\n",
       "      <td>0.088516</td>\n",
       "      <td>0.151842</td>\n",
       "      <td>0.196000</td>\n",
       "      <td>0.157131</td>\n",
       "      <td>0.167480</td>\n",
       "      <td>0.024132</td>\n",
       "      <td>0.018453</td>\n",
       "      <td>0.004635</td>\n",
       "      <td>0.127739</td>\n",
       "      <td>0.132822</td>\n",
       "    </tr>\n",
       "    <tr>\n",
       "      <th>secur2a</th>\n",
       "      <td>0.072080</td>\n",
       "      <td>0.014996</td>\n",
       "      <td>0.024304</td>\n",
       "      <td>0.079987</td>\n",
       "      <td>0.007166</td>\n",
       "      <td>0.000794</td>\n",
       "      <td>0.050720</td>\n",
       "      <td>0.048192</td>\n",
       "      <td>0.069716</td>\n",
       "      <td>0.069366</td>\n",
       "      <td>...</td>\n",
       "      <td>0.014839</td>\n",
       "      <td>0.097182</td>\n",
       "      <td>0.107420</td>\n",
       "      <td>0.088302</td>\n",
       "      <td>0.079532</td>\n",
       "      <td>0.062710</td>\n",
       "      <td>0.003550</td>\n",
       "      <td>-0.007899</td>\n",
       "      <td>0.016219</td>\n",
       "      <td>0.065232</td>\n",
       "    </tr>\n",
       "    <tr>\n",
       "      <th>secur2b</th>\n",
       "      <td>0.040866</td>\n",
       "      <td>0.079479</td>\n",
       "      <td>0.062333</td>\n",
       "      <td>0.056242</td>\n",
       "      <td>0.084433</td>\n",
       "      <td>0.031960</td>\n",
       "      <td>0.125076</td>\n",
       "      <td>0.110201</td>\n",
       "      <td>0.146549</td>\n",
       "      <td>0.141250</td>\n",
       "      <td>...</td>\n",
       "      <td>0.018873</td>\n",
       "      <td>0.098475</td>\n",
       "      <td>0.080589</td>\n",
       "      <td>0.090738</td>\n",
       "      <td>0.062301</td>\n",
       "      <td>0.085787</td>\n",
       "      <td>0.023264</td>\n",
       "      <td>0.001006</td>\n",
       "      <td>0.065446</td>\n",
       "      <td>0.109405</td>\n",
       "    </tr>\n",
       "    <tr>\n",
       "      <th>secur2c</th>\n",
       "      <td>0.072952</td>\n",
       "      <td>0.085183</td>\n",
       "      <td>0.074544</td>\n",
       "      <td>0.093321</td>\n",
       "      <td>0.074937</td>\n",
       "      <td>0.054730</td>\n",
       "      <td>0.113237</td>\n",
       "      <td>0.140331</td>\n",
       "      <td>0.135357</td>\n",
       "      <td>0.116328</td>\n",
       "      <td>...</td>\n",
       "      <td>0.051354</td>\n",
       "      <td>0.136347</td>\n",
       "      <td>0.113375</td>\n",
       "      <td>0.093041</td>\n",
       "      <td>0.123850</td>\n",
       "      <td>0.019965</td>\n",
       "      <td>0.023707</td>\n",
       "      <td>-0.028231</td>\n",
       "      <td>0.063653</td>\n",
       "      <td>0.113082</td>\n",
       "    </tr>\n",
       "    <tr>\n",
       "      <th>secur2d</th>\n",
       "      <td>0.104097</td>\n",
       "      <td>0.141824</td>\n",
       "      <td>0.051424</td>\n",
       "      <td>0.100096</td>\n",
       "      <td>0.095092</td>\n",
       "      <td>0.142836</td>\n",
       "      <td>0.113582</td>\n",
       "      <td>0.140649</td>\n",
       "      <td>0.122851</td>\n",
       "      <td>0.121390</td>\n",
       "      <td>...</td>\n",
       "      <td>0.068926</td>\n",
       "      <td>0.120652</td>\n",
       "      <td>0.136967</td>\n",
       "      <td>0.060746</td>\n",
       "      <td>0.051788</td>\n",
       "      <td>0.074566</td>\n",
       "      <td>-0.000928</td>\n",
       "      <td>-0.036413</td>\n",
       "      <td>0.060873</td>\n",
       "      <td>0.052463</td>\n",
       "    </tr>\n",
       "    <tr>\n",
       "      <th>secur2e</th>\n",
       "      <td>0.025571</td>\n",
       "      <td>-0.184295</td>\n",
       "      <td>-0.100139</td>\n",
       "      <td>0.003569</td>\n",
       "      <td>0.038374</td>\n",
       "      <td>0.014606</td>\n",
       "      <td>-0.020672</td>\n",
       "      <td>-0.281991</td>\n",
       "      <td>-0.005471</td>\n",
       "      <td>-0.033966</td>\n",
       "      <td>...</td>\n",
       "      <td>0.211011</td>\n",
       "      <td>-0.018368</td>\n",
       "      <td>0.026638</td>\n",
       "      <td>-0.139129</td>\n",
       "      <td>-0.105102</td>\n",
       "      <td>0.048604</td>\n",
       "      <td>0.163846</td>\n",
       "      <td>0.153177</td>\n",
       "      <td>0.138271</td>\n",
       "      <td>0.039319</td>\n",
       "    </tr>\n",
       "    <tr>\n",
       "      <th>secur2f</th>\n",
       "      <td>0.000368</td>\n",
       "      <td>-0.048391</td>\n",
       "      <td>-0.025437</td>\n",
       "      <td>-0.019109</td>\n",
       "      <td>0.016545</td>\n",
       "      <td>0.013228</td>\n",
       "      <td>0.047447</td>\n",
       "      <td>-0.006194</td>\n",
       "      <td>0.045859</td>\n",
       "      <td>-0.043040</td>\n",
       "      <td>...</td>\n",
       "      <td>-0.013140</td>\n",
       "      <td>-0.010075</td>\n",
       "      <td>0.018298</td>\n",
       "      <td>0.029252</td>\n",
       "      <td>-0.012681</td>\n",
       "      <td>0.063624</td>\n",
       "      <td>0.053571</td>\n",
       "      <td>0.025124</td>\n",
       "      <td>-0.029764</td>\n",
       "      <td>0.004025</td>\n",
       "    </tr>\n",
       "    <tr>\n",
       "      <th>secur2g</th>\n",
       "      <td>0.000181</td>\n",
       "      <td>-0.061285</td>\n",
       "      <td>0.033503</td>\n",
       "      <td>0.008841</td>\n",
       "      <td>-0.002233</td>\n",
       "      <td>0.013687</td>\n",
       "      <td>-0.018018</td>\n",
       "      <td>-0.078129</td>\n",
       "      <td>0.013064</td>\n",
       "      <td>-0.034826</td>\n",
       "      <td>...</td>\n",
       "      <td>-0.012401</td>\n",
       "      <td>-0.071232</td>\n",
       "      <td>-0.055527</td>\n",
       "      <td>-0.024432</td>\n",
       "      <td>-0.046423</td>\n",
       "      <td>0.017813</td>\n",
       "      <td>-0.004281</td>\n",
       "      <td>-0.016321</td>\n",
       "      <td>-0.027180</td>\n",
       "      <td>-0.038973</td>\n",
       "    </tr>\n",
       "  </tbody>\n",
       "</table>\n",
       "<p>8 rows × 21 columns</p>\n",
       "</div>"
      ],
      "text/plain": [
       "               ID  habits1a  habits1b  habits1c  habits1d  habits1e   habits2  \\\n",
       "ID       1.000000  0.183073  0.040823  0.110087  0.113262  0.136921  0.138584   \n",
       "secur2a  0.072080  0.014996  0.024304  0.079987  0.007166  0.000794  0.050720   \n",
       "secur2b  0.040866  0.079479  0.062333  0.056242  0.084433  0.031960  0.125076   \n",
       "secur2c  0.072952  0.085183  0.074544  0.093321  0.074937  0.054730  0.113237   \n",
       "secur2d  0.104097  0.141824  0.051424  0.100096  0.095092  0.142836  0.113582   \n",
       "secur2e  0.025571 -0.184295 -0.100139  0.003569  0.038374  0.014606 -0.020672   \n",
       "secur2f  0.000368 -0.048391 -0.025437 -0.019109  0.016545  0.013228  0.047447   \n",
       "secur2g  0.000181 -0.061285  0.033503  0.008841 -0.002233  0.013687 -0.018018   \n",
       "\n",
       "          habits3  habits4c   habits5    ...      habits7   habits8   habits9  \\\n",
       "ID       0.139372  0.042008  0.064479    ...     0.088516  0.151842  0.196000   \n",
       "secur2a  0.048192  0.069716  0.069366    ...     0.014839  0.097182  0.107420   \n",
       "secur2b  0.110201  0.146549  0.141250    ...     0.018873  0.098475  0.080589   \n",
       "secur2c  0.140331  0.135357  0.116328    ...     0.051354  0.136347  0.113375   \n",
       "secur2d  0.140649  0.122851  0.121390    ...     0.068926  0.120652  0.136967   \n",
       "secur2e -0.281991 -0.005471 -0.033966    ...     0.211011 -0.018368  0.026638   \n",
       "secur2f -0.006194  0.045859 -0.043040    ...    -0.013140 -0.010075  0.018298   \n",
       "secur2g -0.078129  0.013064 -0.034826    ...    -0.012401 -0.071232 -0.055527   \n",
       "\n",
       "         habits10  habits11  habits12    wifi2a    wifi2b    wifi2c    wifi2d  \n",
       "ID       0.157131  0.167480  0.024132  0.018453  0.004635  0.127739  0.132822  \n",
       "secur2a  0.088302  0.079532  0.062710  0.003550 -0.007899  0.016219  0.065232  \n",
       "secur2b  0.090738  0.062301  0.085787  0.023264  0.001006  0.065446  0.109405  \n",
       "secur2c  0.093041  0.123850  0.019965  0.023707 -0.028231  0.063653  0.113082  \n",
       "secur2d  0.060746  0.051788  0.074566 -0.000928 -0.036413  0.060873  0.052463  \n",
       "secur2e -0.139129 -0.105102  0.048604  0.163846  0.153177  0.138271  0.039319  \n",
       "secur2f  0.029252 -0.012681  0.063624  0.053571  0.025124 -0.029764  0.004025  \n",
       "secur2g -0.024432 -0.046423  0.017813 -0.004281 -0.016321 -0.027180 -0.038973  \n",
       "\n",
       "[8 rows x 21 columns]"
      ]
     },
     "execution_count": 14,
     "metadata": {},
     "output_type": "execute_result"
    }
   ],
   "source": [
    "corr(df_hab, df_sec)"
   ]
  },
  {
   "cell_type": "markdown",
   "metadata": {},
   "source": [
    "<div class=\"alert alert-success\">\n",
    "<h1>MODELING FUNCTIONS</h1>\n",
    "</div>"
   ]
  },
  {
   "cell_type": "markdown",
   "metadata": {},
   "source": [
    "### Function: cv_optimize (cross-validation)\n",
    "**Input**\n",
    "- Classifier ('clf')\n",
    "- Grid of hyperparameters implemented as a dictionary ('parameters')\n",
    "- Training set, as a samples x features array ('XTrain')\n",
    "- Set of labels ('ytrain)\n",
    "\n",
    "**Function**\n",
    "\n",
    "Takes the training set, splits it into `n_folds` parts, sets up `n_folds` folds, and carries out a cross-validation by splitting the training set into a training and validation section for each fold for us\n",
    "\n",
    "**Output**\n",
    "- Prints the best value of the parameters\n",
    "- Returns the best classifier ('best')"
   ]
  },
  {
   "cell_type": "code",
   "execution_count": 15,
   "metadata": {
    "collapsed": false
   },
   "outputs": [],
   "source": [
    "from sklearn.model_selection import GridSearchCV\n",
    "from sklearn import metrics\n",
    "\n",
    "def cv_optimize(clf, parameters, Xtrain, ytrain, n_folds, scorer):\n",
    "    \n",
    "    gs = GridSearchCV(clf,\n",
    "                      param_grid = parameters,\n",
    "                      cv = n_folds,\n",
    "                      scoring = scorer)\n",
    "    gs.fit(Xtrain, ytrain)\n",
    "    print('\\tBest Parameters: ' + str(gs.best_params_))\n",
    "    print('\\tScoring method used: ' + str(gs.scorer_) + ')')\n",
    "    \n",
    "    return gs.best_estimator_"
   ]
  },
  {
   "cell_type": "markdown",
   "metadata": {},
   "source": [
    "### Function: do_classify\n",
    "**Input**\n",
    "- Classifier ('clf')\n",
    "- Parameters, such as regularization parameter ('parameters')\n",
    "- Dataframe containing features and target ('in_df')\n",
    "- List of columns to use as features ('feature_names')\n",
    "- Column to use as target ('targetname')\n",
    "- Value to use as target - will be set to 1; all others will be set to 0 ('targetlval')\n",
    "- ('standardize')\n",
    "- ('train_size')\n",
    "\n",
    "**Function**\n",
    "- Splits dataframe into 80% training and 20% test\n",
    "- Standardizes the dataset if desired (scales the data so that it has a mean of 0 and is described in units of its SD)\n",
    "- Trains model on training set using cross-validation\n",
    "- Uses cv_optimize to obtain best classifier and then re-trains on entire training set\n",
    "- Calculates and prints training and test set accuracy\n",
    "\n",
    "**Output**\n",
    "- Returns split data and trained classifier"
   ]
  },
  {
   "cell_type": "code",
   "execution_count": 16,
   "metadata": {
    "collapsed": false
   },
   "outputs": [],
   "source": [
    "from sklearn.model_selection import train_test_split\n",
    "from sklearn import metrics\n",
    "\n",
    "def do_classify(clf, parameters, in_df, feature_names, targetname, target1val, standardize, train_size, scorer):\n",
    "    \n",
    "    n_folds = 5\n",
    "    \n",
    "    # ============= Create X and y ============= #\n",
    "    sub_df = in_df[feature_names]\n",
    "    \n",
    "    if standardize:\n",
    "        sub_df_std = (sub_df - sub_df.mean())/sub_df.std()\n",
    "    else:\n",
    "        sub_df_std = sub_df\n",
    "    \n",
    "    # X = df with feature columns\n",
    "    X = sub_df_std.values\n",
    "    \n",
    "    if clf == LogisticRegression:\n",
    "        # y = array with 1 when value in target column matches targetlval, and 0 when it doesn't\n",
    "        y = (in_df[targetname].values == target1val)*1\n",
    "    else:\n",
    "        y = in_df[targetname]\n",
    "    \n",
    "    # ============= Split into training and test sets ============= #\n",
    "    Xtrain, Xtest, ytrain, ytest = train_test_split(X, y, train_size=train_size)\n",
    "    \n",
    "    # ============= Create and fit model ============= #\n",
    "    clf = cv_optimize(clf, parameters, Xtrain, ytrain, n_folds, scorer)\n",
    "    clf = clf.fit(Xtrain, ytrain)\n",
    "    \n",
    "    # ============= Calculate model metrics ============= #\n",
    "    # calculate and print training and test set accuracy scores\n",
    "    training_accuracy = clf.score(Xtrain, ytrain)\n",
    "    test_accuracy = clf.score(Xtest, ytest)\n",
    "    \n",
    "    print('\\tAccuracy on training data: {:0.2f}'.format(training_accuracy))\n",
    "    print('\\tAccuracy on test data:     {:0.2f}'.format(test_accuracy))\n",
    "    \n",
    "    # calculate other metrics\n",
    "    ypred = clf.predict(Xtest)\n",
    "    classes = in_df[targetname].unique()\n",
    "    calc_metrics(clf, ytest, ypred, classes)\n",
    "    \n",
    "    return clf, Xtrain, ytrain, Xtest, ytest"
   ]
  },
  {
   "cell_type": "markdown",
   "metadata": {},
   "source": [
    "### Function: Calculate metrics\n",
    "Calculates and prints precision, recall, and confusion matrix"
   ]
  },
  {
   "cell_type": "code",
   "execution_count": 17,
   "metadata": {
    "collapsed": false
   },
   "outputs": [],
   "source": [
    "from sklearn import metrics\n",
    "\n",
    "def calc_metrics(clf, y_true, y_pred, classes):\n",
    "    \n",
    "    if len(classes) == 2:\n",
    "        average_param = 'binary'\n",
    "    else:\n",
    "        average_param = 'weighted'\n",
    "    \n",
    "    # ============= Calculate precision, recall, F1, and Cohen's Kappa ============= #\n",
    "    precision = metrics.precision_score(y_true,\n",
    "                                        y_pred,\n",
    "                                        average=average_param)\n",
    "    \n",
    "    recall = metrics.recall_score(y_true,\n",
    "                                  y_pred,\n",
    "                                  average=average_param)\n",
    "    \n",
    "    f1 = metrics.f1_score(y_true,\n",
    "                          y_pred,\n",
    "                          average=average_param)\n",
    "    \n",
    "    cohenk = metrics.cohen_kappa_score(y_true,\n",
    "                                       y_pred)\n",
    "    \n",
    "    print('\\tPrecision: ' + str(round(precision,2)))\n",
    "    print('\\tRecall: ' + str(round(recall,2))) \n",
    "    print('\\tF1 Score: ' + str(round(f1,2)))\n",
    "    print('\\tCohen\\'s Kappa: ' + str(round(cohenk,2)))\n",
    "    \n",
    "    # ============= Create and plot confusion matrix ============= #\n",
    "    cnf_matrix = metrics.confusion_matrix(y_true, y_pred)\n",
    "    np.set_printoptions(precision=2)\n",
    "\n",
    "    plt.figure()\n",
    "    plot_confusion_matrix(cnf_matrix, classes, False)\n",
    "    plt.show()"
   ]
  },
  {
   "cell_type": "markdown",
   "metadata": {},
   "source": [
    "### Function: Plot confusion matrix\n",
    "Prints and plots the confusion matrix. Normalization can be applied by setting `normalize=True`"
   ]
  },
  {
   "cell_type": "code",
   "execution_count": 18,
   "metadata": {
    "collapsed": false
   },
   "outputs": [],
   "source": [
    "import itertools\n",
    "\n",
    "def plot_confusion_matrix(cm, classes, normalize, cmap=plt.cm.Blues):\n",
    "    \n",
    "    if normalize:\n",
    "        cm = cm.astype('float') / cm.sum(axis=1)[:, np.newaxis]\n",
    "        title = 'Confusion matrix, with normalization'\n",
    "    else:\n",
    "        title = 'Confusion matrix, without normalization'\n",
    "\n",
    "    plt.imshow(cm, interpolation='nearest', cmap=cmap)\n",
    "    plt.title(title)\n",
    "    plt.colorbar()\n",
    "    tick_marks = np.arange(len(classes))\n",
    "    plt.xticks(tick_marks, classes, rotation=45)\n",
    "    plt.yticks(tick_marks, classes)\n",
    "\n",
    "    fmt = '.2f' if normalize else 'd'\n",
    "    thresh = cm.max() / 2.\n",
    "    for i, j in itertools.product(range(cm.shape[0]), range(cm.shape[1])):\n",
    "        plt.text(j, i, format(cm[i, j], fmt),\n",
    "                 horizontalalignment=\"center\",\n",
    "                 color=\"white\" if cm[i, j] > thresh else \"black\")\n",
    "\n",
    "    plt.tight_layout()\n",
    "    plt.ylabel('True label')\n",
    "    plt.xlabel('Predicted label')"
   ]
  },
  {
   "cell_type": "markdown",
   "metadata": {},
   "source": [
    "### Function: Calculate proportion in classes\n",
    "Given a dataframe and column, prints number of observations per class in column and proportion of total observations"
   ]
  },
  {
   "cell_type": "code",
   "execution_count": 19,
   "metadata": {
    "collapsed": true
   },
   "outputs": [],
   "source": [
    "def calc_prop_class(df, col):\n",
    "    classes = df[col].unique()\n",
    "    for c in classes:\n",
    "        num_obs = sum(df[col] == c)\n",
    "        total_obs = len(df[col])\n",
    "        prop = round(100*(num_obs / total_obs),2)\n",
    "        print('\\tObservations in class ' + str(c) + ': ' + str(num_obs) + ' (' + str(prop) + '%)')    "
   ]
  },
  {
   "cell_type": "markdown",
   "metadata": {},
   "source": [
    "<div class=\"alert alert-success\">\n",
    "<h1>LOGISTIC REGRESSION</h1>\n",
    "</div>"
   ]
  },
  {
   "cell_type": "markdown",
   "metadata": {},
   "source": [
    "### Perform logistic regression"
   ]
  },
  {
   "cell_type": "code",
   "execution_count": 20,
   "metadata": {
    "collapsed": false,
    "scrolled": false
   },
   "outputs": [
    {
     "name": "stdout",
     "output_type": "stream",
     "text": [
      "\n",
      "Y = SECUR2A (SSN compromised)\n",
      "\tObservations in class -1: 867 (83.37%)\n",
      "\tObservations in class 1: 167 (16.06%)\n",
      "\tObservations in class 0: 6 (0.58%)\n",
      "\n",
      "\tX = DEMOGRAPHIC VARIABLES\n",
      "\tBest Parameters: {'C': 0.01, 'class_weight': {-1: 0.2, 1: 0.8}}\n",
      "\tScoring method used: make_scorer(cohen_kappa_score))\n",
      "\tAccuracy on training data: 0.70\n",
      "\tAccuracy on test data:     0.76\n",
      "\tPrecision: 0.25\n",
      "\tRecall: 0.52\n",
      "\tF1 Score: 0.34\n",
      "\tCohen's Kappa: 0.21\n"
     ]
    },
    {
     "data": {
      "image/png": "[encoded data removed]",
      "text/plain": [
       "<matplotlib.figure.Figure at 0x10195c630>"
      ]
     },
     "metadata": {},
     "output_type": "display_data"
    },
    {
     "name": "stdout",
     "output_type": "stream",
     "text": [
      "\n",
      "\tX = SECURITY HABIT VARIABLES\n",
      "\tBest Parameters: {'C': 1e-06, 'class_weight': {-1: 0.2, 1: 0.8}}\n",
      "\tScoring method used: <function _passthrough_scorer at 0x10a3a28c8>)\n",
      "\tAccuracy on training data: 0.84\n",
      "\tAccuracy on test data:     0.85\n",
      "\tPrecision: 0.0\n",
      "\tRecall: 0.0\n",
      "\tF1 Score: 0.0\n",
      "\tCohen's Kappa: 0.0\n"
     ]
    },
    {
     "name": "stderr",
     "output_type": "stream",
     "text": [
      "/Users/Rachel/.pyenv/versions/py36_env/lib/python3.6/site-packages/sklearn/metrics/classification.py:1113: UndefinedMetricWarning: Precision is ill-defined and being set to 0.0 due to no predicted samples.\n",
      "  'precision', 'predicted', average, warn_for)\n",
      "/Users/Rachel/.pyenv/versions/py36_env/lib/python3.6/site-packages/sklearn/metrics/classification.py:1113: UndefinedMetricWarning: F-score is ill-defined and being set to 0.0 due to no predicted samples.\n",
      "  'precision', 'predicted', average, warn_for)\n"
     ]
    },
    {
     "data": {
      "image/png": "[encoded data removed]",
      "text/plain": [
       "<matplotlib.figure.Figure at 0x10ac2c2e8>"
      ]
     },
     "metadata": {},
     "output_type": "display_data"
    },
    {
     "name": "stdout",
     "output_type": "stream",
     "text": [
      "\n",
      "Y = SECUR2B (Other sensitive info compromised)\n",
      "\tObservations in class 1: 402 (38.65%)\n",
      "\tObservations in class -1: 628 (60.38%)\n",
      "\tObservations in class 0: 10 (0.96%)\n",
      "\n",
      "\tX = DEMOGRAPHIC VARIABLES\n",
      "\tBest Parameters: {'C': 0.01, 'class_weight': {-1: 0.4, 1: 0.6}}\n",
      "\tScoring method used: make_scorer(cohen_kappa_score))\n",
      "\tAccuracy on training data: 0.60\n",
      "\tAccuracy on test data:     0.62\n",
      "\tPrecision: 0.5\n",
      "\tRecall: 0.66\n",
      "\tF1 Score: 0.57\n",
      "\tCohen's Kappa: 0.24\n"
     ]
    },
    {
     "data": {
      "image/png": "[encoded data removed]",
      "text/plain": [
       "<matplotlib.figure.Figure at 0x10aa4dda0>"
      ]
     },
     "metadata": {},
     "output_type": "display_data"
    },
    {
     "name": "stdout",
     "output_type": "stream",
     "text": [
      "\n",
      "\tX = SECURITY HABIT VARIABLES\n",
      "\tBest Parameters: {'C': 1e-06, 'class_weight': {-1: 0.5, 1: 0.5}}\n",
      "\tScoring method used: <function _passthrough_scorer at 0x10a3a28c8>)\n",
      "\tAccuracy on training data: 0.60\n",
      "\tAccuracy on test data:     0.64\n",
      "\tPrecision: 0.0\n",
      "\tRecall: 0.0\n",
      "\tF1 Score: 0.0\n",
      "\tCohen's Kappa: 0.0\n"
     ]
    },
    {
     "name": "stderr",
     "output_type": "stream",
     "text": [
      "/Users/Rachel/.pyenv/versions/py36_env/lib/python3.6/site-packages/sklearn/metrics/classification.py:1113: UndefinedMetricWarning: Precision is ill-defined and being set to 0.0 due to no predicted samples.\n",
      "  'precision', 'predicted', average, warn_for)\n",
      "/Users/Rachel/.pyenv/versions/py36_env/lib/python3.6/site-packages/sklearn/metrics/classification.py:1113: UndefinedMetricWarning: F-score is ill-defined and being set to 0.0 due to no predicted samples.\n",
      "  'precision', 'predicted', average, warn_for)\n"
     ]
    },
    {
     "data": {
      "image/png": "[encoded data removed]",
      "text/plain": [
       "<matplotlib.figure.Figure at 0x10ae10a90>"
      ]
     },
     "metadata": {},
     "output_type": "display_data"
    },
    {
     "name": "stdout",
     "output_type": "stream",
     "text": [
      "\n",
      "Y = SECUR2C (Fraudulent charges on credit/debit card)\n",
      "\tObservations in class 1: 475 (45.67%)\n",
      "\tObservations in class -1: 561 (53.94%)\n",
      "\tObservations in class 0: 4 (0.38%)\n",
      "\n",
      "\tX = DEMOGRAPHIC VARIABLES\n",
      "\tBest Parameters: {'C': 0.01, 'class_weight': {-1: 0.5, 1: 0.5}}\n",
      "\tScoring method used: make_scorer(cohen_kappa_score))\n",
      "\tAccuracy on training data: 0.62\n",
      "\tAccuracy on test data:     0.55\n",
      "\tPrecision: 0.56\n",
      "\tRecall: 0.28\n",
      "\tF1 Score: 0.37\n",
      "\tCohen's Kappa: 0.08\n"
     ]
    },
    {
     "data": {
      "image/png": "[encoded data removed]",
      "text/plain": [
       "<matplotlib.figure.Figure at 0x10aa79320>"
      ]
     },
     "metadata": {},
     "output_type": "display_data"
    },
    {
     "name": "stdout",
     "output_type": "stream",
     "text": [
      "\n",
      "\tX = SECURITY HABIT VARIABLES\n",
      "\tBest Parameters: {'C': 0.01, 'class_weight': {-1: 0.5, 1: 0.5}}\n",
      "\tScoring method used: <function _passthrough_scorer at 0x10a3a28c8>)\n",
      "\tAccuracy on training data: 0.57\n",
      "\tAccuracy on test data:     0.53\n",
      "\tPrecision: 0.41\n",
      "\tRecall: 0.13\n",
      "\tF1 Score: 0.2\n",
      "\tCohen's Kappa: -0.02\n"
     ]
    },
    {
     "data": {
      "image/png": "[encoded data removed]",
      "text/plain": [
       "<matplotlib.figure.Figure at 0x10a9a1400>"
      ]
     },
     "metadata": {},
     "output_type": "display_data"
    },
    {
     "name": "stdout",
     "output_type": "stream",
     "text": [
      "\n",
      "Y = SECUR2D (Someone took over email)\n",
      "\tObservations in class 1: 175 (16.83%)\n",
      "\tObservations in class -1: 855 (82.21%)\n",
      "\tObservations in class 0: 10 (0.96%)\n",
      "\n",
      "\tX = DEMOGRAPHIC VARIABLES\n",
      "\tBest Parameters: {'C': 0.0001, 'class_weight': {-1: 0.2, 1: 0.8}}\n",
      "\tScoring method used: make_scorer(cohen_kappa_score))\n",
      "\tAccuracy on training data: 0.69\n",
      "\tAccuracy on test data:     0.59\n",
      "\tPrecision: 0.17\n",
      "\tRecall: 0.36\n",
      "\tF1 Score: 0.23\n",
      "\tCohen's Kappa: -0.0\n"
     ]
    },
    {
     "data": {
      "image/png": "[encoded data removed]",
      "text/plain": [
       "<matplotlib.figure.Figure at 0x10b0a64e0>"
      ]
     },
     "metadata": {},
     "output_type": "display_data"
    },
    {
     "name": "stdout",
     "output_type": "stream",
     "text": [
      "\n",
      "\tX = SECURITY HABIT VARIABLES\n",
      "\tBest Parameters: {'C': 1e-06, 'class_weight': {-1: 0.2, 1: 0.8}}\n",
      "\tScoring method used: <function _passthrough_scorer at 0x10a3a28c8>)\n",
      "\tAccuracy on training data: 0.84\n",
      "\tAccuracy on test data:     0.79\n",
      "\tPrecision: 0.0\n",
      "\tRecall: 0.0\n",
      "\tF1 Score: 0.0\n",
      "\tCohen's Kappa: 0.0\n"
     ]
    },
    {
     "name": "stderr",
     "output_type": "stream",
     "text": [
      "/Users/Rachel/.pyenv/versions/py36_env/lib/python3.6/site-packages/sklearn/metrics/classification.py:1113: UndefinedMetricWarning: Precision is ill-defined and being set to 0.0 due to no predicted samples.\n",
      "  'precision', 'predicted', average, warn_for)\n",
      "/Users/Rachel/.pyenv/versions/py36_env/lib/python3.6/site-packages/sklearn/metrics/classification.py:1113: UndefinedMetricWarning: F-score is ill-defined and being set to 0.0 due to no predicted samples.\n",
      "  'precision', 'predicted', average, warn_for)\n"
     ]
    },
    {
     "data": {
      "image/png": "[encoded data removed]",
      "text/plain": [
       "<matplotlib.figure.Figure at 0x10b14ae80>"
      ]
     },
     "metadata": {},
     "output_type": "display_data"
    },
    {
     "name": "stdout",
     "output_type": "stream",
     "text": [
      "\n",
      "Y = SECUR2E (Someone took over social media account)\n",
      "\tObservations in class -1: 798 (76.73%)\n",
      "\tObservations in class 0: 119 (11.44%)\n",
      "\tObservations in class 1: 123 (11.83%)\n",
      "\n",
      "\tX = DEMOGRAPHIC VARIABLES\n",
      "\tBest Parameters: {'C': 0.01, 'class_weight': {-1: 0.2, 1: 0.8}}\n",
      "\tScoring method used: make_scorer(cohen_kappa_score))\n",
      "\tAccuracy on training data: 0.75\n",
      "\tAccuracy on test data:     0.71\n",
      "\tPrecision: 0.11\n",
      "\tRecall: 0.26\n",
      "\tF1 Score: 0.16\n",
      "\tCohen's Kappa: 0.01\n"
     ]
    },
    {
     "data": {
      "image/png": "[encoded data removed]",
      "text/plain": [
       "<matplotlib.figure.Figure at 0x10a9a1ef0>"
      ]
     },
     "metadata": {},
     "output_type": "display_data"
    },
    {
     "name": "stdout",
     "output_type": "stream",
     "text": [
      "\n",
      "\tX = SECURITY HABIT VARIABLES\n",
      "\tBest Parameters: {'C': 1e-06, 'class_weight': {-1: 0.2, 1: 0.8}}\n",
      "\tScoring method used: <function _passthrough_scorer at 0x10a3a28c8>)\n",
      "\tAccuracy on training data: 0.86\n",
      "\tAccuracy on test data:     0.88\n",
      "\tPrecision: 0.0\n",
      "\tRecall: 0.0\n",
      "\tF1 Score: 0.0\n",
      "\tCohen's Kappa: 0.0\n"
     ]
    },
    {
     "name": "stderr",
     "output_type": "stream",
     "text": [
      "/Users/Rachel/.pyenv/versions/py36_env/lib/python3.6/site-packages/sklearn/metrics/classification.py:1113: UndefinedMetricWarning: Precision is ill-defined and being set to 0.0 due to no predicted samples.\n",
      "  'precision', 'predicted', average, warn_for)\n",
      "/Users/Rachel/.pyenv/versions/py36_env/lib/python3.6/site-packages/sklearn/metrics/classification.py:1113: UndefinedMetricWarning: F-score is ill-defined and being set to 0.0 due to no predicted samples.\n",
      "  'precision', 'predicted', average, warn_for)\n"
     ]
    },
    {
     "data": {
      "image/png": "[encoded data removed]",
      "text/plain": [
       "<matplotlib.figure.Figure at 0x10aa14b70>"
      ]
     },
     "metadata": {},
     "output_type": "display_data"
    },
    {
     "name": "stdout",
     "output_type": "stream",
     "text": [
      "\n",
      "Y = SECUR2F (Someone opened line of credit/applied for loan under name)\n",
      "\tObservations in class -1: 871 (83.75%)\n",
      "\tObservations in class 1: 153 (14.71%)\n",
      "\tObservations in class 0: 16 (1.54%)\n",
      "\n",
      "\tX = DEMOGRAPHIC VARIABLES\n",
      "\tBest Parameters: {'C': 0.01, 'class_weight': {-1: 0.2, 1: 0.8}}\n",
      "\tScoring method used: make_scorer(cohen_kappa_score))\n",
      "\tAccuracy on training data: 0.81\n",
      "\tAccuracy on test data:     0.75\n",
      "\tPrecision: 0.05\n",
      "\tRecall: 0.03\n",
      "\tF1 Score: 0.04\n",
      "\tCohen's Kappa: -0.1\n"
     ]
    },
    {
     "data": {
      "image/png": "[encoded data removed]",
      "text/plain": [
       "<matplotlib.figure.Figure at 0x10b0784a8>"
      ]
     },
     "metadata": {},
     "output_type": "display_data"
    },
    {
     "name": "stdout",
     "output_type": "stream",
     "text": [
      "\n",
      "\tX = SECURITY HABIT VARIABLES\n",
      "\tBest Parameters: {'C': 1e-06, 'class_weight': {-1: 0.2, 1: 0.8}}\n",
      "\tScoring method used: <function _passthrough_scorer at 0x10a3a28c8>)\n",
      "\tAccuracy on training data: 0.85\n",
      "\tAccuracy on test data:     0.86\n",
      "\tPrecision: 0.0\n",
      "\tRecall: 0.0\n",
      "\tF1 Score: 0.0\n",
      "\tCohen's Kappa: 0.0\n"
     ]
    },
    {
     "name": "stderr",
     "output_type": "stream",
     "text": [
      "/Users/Rachel/.pyenv/versions/py36_env/lib/python3.6/site-packages/sklearn/metrics/classification.py:1113: UndefinedMetricWarning: Precision is ill-defined and being set to 0.0 due to no predicted samples.\n",
      "  'precision', 'predicted', average, warn_for)\n",
      "/Users/Rachel/.pyenv/versions/py36_env/lib/python3.6/site-packages/sklearn/metrics/classification.py:1113: UndefinedMetricWarning: F-score is ill-defined and being set to 0.0 due to no predicted samples.\n",
      "  'precision', 'predicted', average, warn_for)\n"
     ]
    },
    {
     "data": {
      "image/png": "[encoded data removed]",
      "text/plain": [
       "<matplotlib.figure.Figure at 0x10aef6208>"
      ]
     },
     "metadata": {},
     "output_type": "display_data"
    },
    {
     "name": "stdout",
     "output_type": "stream",
     "text": [
      "\n",
      "Y = SECUR2G (Someone received tax refund under name)\n",
      "\tObservations in class -1: 970 (93.27%)\n",
      "\tObservations in class 1: 57 (5.48%)\n",
      "\tObservations in class 0: 13 (1.25%)\n",
      "\n",
      "\tX = DEMOGRAPHIC VARIABLES\n",
      "\tBest Parameters: {'C': 1e-06, 'class_weight': {-1: 0.1, 1: 0.9}}\n",
      "\tScoring method used: make_scorer(cohen_kappa_score))\n",
      "\tAccuracy on training data: 0.95\n",
      "\tAccuracy on test data:     0.94\n",
      "\tPrecision: 0.0\n",
      "\tRecall: 0.0\n",
      "\tF1 Score: 0.0\n",
      "\tCohen's Kappa: 0.0\n"
     ]
    },
    {
     "name": "stderr",
     "output_type": "stream",
     "text": [
      "/Users/Rachel/.pyenv/versions/py36_env/lib/python3.6/site-packages/sklearn/metrics/classification.py:1113: UndefinedMetricWarning: Precision is ill-defined and being set to 0.0 due to no predicted samples.\n",
      "  'precision', 'predicted', average, warn_for)\n",
      "/Users/Rachel/.pyenv/versions/py36_env/lib/python3.6/site-packages/sklearn/metrics/classification.py:1113: UndefinedMetricWarning: F-score is ill-defined and being set to 0.0 due to no predicted samples.\n",
      "  'precision', 'predicted', average, warn_for)\n"
     ]
    },
    {
     "data": {
      "image/png": "[encoded data removed]",
      "text/plain": [
       "<matplotlib.figure.Figure at 0x10acdc5f8>"
      ]
     },
     "metadata": {},
     "output_type": "display_data"
    },
    {
     "name": "stdout",
     "output_type": "stream",
     "text": [
      "\n",
      "\tX = SECURITY HABIT VARIABLES\n",
      "\tBest Parameters: {'C': 1e-06, 'class_weight': {-1: 0.1, 1: 0.9}}\n",
      "\tScoring method used: <function _passthrough_scorer at 0x10a3a28c8>)\n",
      "\tAccuracy on training data: 0.94\n",
      "\tAccuracy on test data:     0.95\n",
      "\tPrecision: 0.0\n",
      "\tRecall: 0.0\n",
      "\tF1 Score: 0.0\n",
      "\tCohen's Kappa: 0.0\n"
     ]
    },
    {
     "name": "stderr",
     "output_type": "stream",
     "text": [
      "/Users/Rachel/.pyenv/versions/py36_env/lib/python3.6/site-packages/sklearn/metrics/classification.py:1113: UndefinedMetricWarning: Precision is ill-defined and being set to 0.0 due to no predicted samples.\n",
      "  'precision', 'predicted', average, warn_for)\n",
      "/Users/Rachel/.pyenv/versions/py36_env/lib/python3.6/site-packages/sklearn/metrics/classification.py:1113: UndefinedMetricWarning: F-score is ill-defined and being set to 0.0 due to no predicted samples.\n",
      "  'precision', 'predicted', average, warn_for)\n"
     ]
    },
    {
     "data": {
      "image/png": "[encoded data removed]",
      "text/plain": [
       "<matplotlib.figure.Figure at 0x10ad6b9b0>"
      ]
     },
     "metadata": {},
     "output_type": "display_data"
    }
   ],
   "source": [
    "from sklearn.linear_model import LogisticRegression\n",
    "\n",
    "# create dictionary of parameters\n",
    "dict_params = {'C': [0.000001, 0.00001, 0.0001, 0.001, 0.01, 0.1, 1, 10, 100, 1000],\n",
    "               'class_weight': [{-1:.1, 1:.9},\n",
    "                                {-1:.2, 1:.8},\n",
    "                                {-1:.3, 1:.7},\n",
    "                                {-1:.4, 1:.6},\n",
    "                                {-1:.5, 1:.5},\n",
    "                                {-1:.6, 1:.4},\n",
    "                                {-1:.7, 1:.3},\n",
    "                                {-1:.8, 1:.2},\n",
    "                                {-1:.9, 1:.1}]}\n",
    "\n",
    "# set scoring method for cv_optimize (Cohen's Kappa)\n",
    "scorer = metrics.make_scorer(metrics.cohen_kappa_score)\n",
    "\n",
    "# Iterate through security incident columns and perform logistic regression\n",
    "for y_col in sec_cols:\n",
    "\n",
    "    if y_col != 'ID':\n",
    "        \n",
    "        print('\\nY = ' + y_col.upper() + ' (' + dict_sec_cols[y_col] + ')')\n",
    "        \n",
    "        calc_prop_class(df, y_col)\n",
    "        \n",
    "        # remove rows where y_col is don't know/refused (0)\n",
    "        clf_df = df[df[y_col] != 0]        \n",
    "        \n",
    "        # ============= Perform logistic regression with demographic variables as features ============= #\n",
    "        print('\\n\\tX = DEMOGRAPHIC VARIABLES') \n",
    "        clf, Xtrain, ytrain, Xtest, ytest  = do_classify(clf=LogisticRegression(), \n",
    "                                                         parameters=dict_params, \n",
    "                                                         in_df=clf_df,\n",
    "                                                         feature_names=dem_cols,\n",
    "                                                         targetname=y_col,\n",
    "                                                         target1val=1,\n",
    "                                                         standardize=False,\n",
    "                                                         train_size=0.8,\n",
    "                                                         scorer=scorer)\n",
    "\n",
    "        # ============= Perform logistic regression with security habit variables as features ============= #\n",
    "        print('\\n\\tX = SECURITY HABIT VARIABLES')\n",
    "        clf, Xtrain, ytrain, Xtest, ytest  = do_classify(clf=LogisticRegression(), \n",
    "                                                         parameters=dict_params, \n",
    "                                                         in_df=clf_df,\n",
    "                                                         feature_names=hab_cols,\n",
    "                                                         targetname=y_col,\n",
    "                                                         target1val=1,\n",
    "                                                         standardize=False,\n",
    "                                                         train_size=0.8,\n",
    "                                                         scorer=None)"
   ]
  },
  {
   "cell_type": "markdown",
   "metadata": {
    "collapsed": true
   },
   "source": [
    "<div class=\"alert alert-success\">\n",
    "<h1>KNN</h1>\n",
    "</div>"
   ]
  },
  {
   "cell_type": "code",
   "execution_count": 21,
   "metadata": {
    "collapsed": false,
    "scrolled": false
   },
   "outputs": [
    {
     "name": "stdout",
     "output_type": "stream",
     "text": [
      "\n",
      "Y = SECUR2A (SSN compromised)\n",
      "\tObservations in class -1: 867 (83.37%)\n",
      "\tObservations in class 1: 167 (16.06%)\n",
      "\tObservations in class 0: 6 (0.58%)\n",
      "\n",
      "\tX = DEMOGRAPHIC VARIABLES\n",
      "\tBest Parameters: {'n_neighbors': 1}\n",
      "\tScoring method used: make_scorer(cohen_kappa_score))\n",
      "\tAccuracy on training data: 1.00\n",
      "\tAccuracy on test data:     0.73\n",
      "\tPrecision: 0.67\n",
      "\tRecall: 0.73\n",
      "\tF1 Score: 0.7\n",
      "\tCohen's Kappa: -0.1\n"
     ]
    },
    {
     "name": "stderr",
     "output_type": "stream",
     "text": [
      "/Users/Rachel/.pyenv/versions/py36_env/lib/python3.6/site-packages/sklearn/metrics/classification.py:1115: UndefinedMetricWarning: Recall is ill-defined and being set to 0.0 in labels with no true samples.\n",
      "  'recall', 'true', average, warn_for)\n",
      "/Users/Rachel/.pyenv/versions/py36_env/lib/python3.6/site-packages/sklearn/metrics/classification.py:1115: UndefinedMetricWarning: F-score is ill-defined and being set to 0.0 in labels with no true samples.\n",
      "  'recall', 'true', average, warn_for)\n"
     ]
    },
    {
     "data": {
      "image/png": "[encoded data removed]",
      "text/plain": [
       "<matplotlib.figure.Figure at 0x10a9ff208>"
      ]
     },
     "metadata": {},
     "output_type": "display_data"
    },
    {
     "name": "stdout",
     "output_type": "stream",
     "text": [
      "\n",
      "\tX = SECURITY HABIT VARIABLES\n"
     ]
    },
    {
     "name": "stderr",
     "output_type": "stream",
     "text": [
      "/Users/Rachel/.pyenv/versions/py36_env/lib/python3.6/site-packages/sklearn/model_selection/_split.py:581: Warning: The least populated class in y has only 4 members, which is too few. The minimum number of groups for any class cannot be less than n_splits=5.\n",
      "  % (min_groups, self.n_splits)), Warning)\n"
     ]
    },
    {
     "name": "stdout",
     "output_type": "stream",
     "text": [
      "\tBest Parameters: {'n_neighbors': 1}\n",
      "\tScoring method used: make_scorer(cohen_kappa_score))\n",
      "\tAccuracy on training data: 1.00\n",
      "\tAccuracy on test data:     0.74\n",
      "\tPrecision: 0.75\n",
      "\tRecall: 0.74\n",
      "\tF1 Score: 0.74\n",
      "\tCohen's Kappa: 0.12\n"
     ]
    },
    {
     "data": {
      "image/png": "[encoded data removed]",
      "text/plain": [
       "<matplotlib.figure.Figure at 0x10ac9fb00>"
      ]
     },
     "metadata": {},
     "output_type": "display_data"
    },
    {
     "name": "stdout",
     "output_type": "stream",
     "text": [
      "\n",
      "Y = SECUR2B (Other sensitive info compromised)\n",
      "\tObservations in class 1: 402 (38.65%)\n",
      "\tObservations in class -1: 628 (60.38%)\n",
      "\tObservations in class 0: 10 (0.96%)\n",
      "\n",
      "\tX = DEMOGRAPHIC VARIABLES\n",
      "\tBest Parameters: {'n_neighbors': 20}\n",
      "\tScoring method used: make_scorer(cohen_kappa_score))\n",
      "\tAccuracy on training data: 0.64\n",
      "\tAccuracy on test data:     0.53\n",
      "\tPrecision: 0.49\n",
      "\tRecall: 0.53\n",
      "\tF1 Score: 0.46\n",
      "\tCohen's Kappa: 0.0\n"
     ]
    },
    {
     "name": "stderr",
     "output_type": "stream",
     "text": [
      "/Users/Rachel/.pyenv/versions/py36_env/lib/python3.6/site-packages/sklearn/metrics/classification.py:1113: UndefinedMetricWarning: Precision is ill-defined and being set to 0.0 in labels with no predicted samples.\n",
      "  'precision', 'predicted', average, warn_for)\n",
      "/Users/Rachel/.pyenv/versions/py36_env/lib/python3.6/site-packages/sklearn/metrics/classification.py:1113: UndefinedMetricWarning: F-score is ill-defined and being set to 0.0 in labels with no predicted samples.\n",
      "  'precision', 'predicted', average, warn_for)\n"
     ]
    },
    {
     "data": {
      "image/png": "[encoded data removed]",
      "text/plain": [
       "<matplotlib.figure.Figure at 0x10aa07518>"
      ]
     },
     "metadata": {},
     "output_type": "display_data"
    },
    {
     "name": "stdout",
     "output_type": "stream",
     "text": [
      "\n",
      "\tX = SECURITY HABIT VARIABLES\n",
      "\tBest Parameters: {'n_neighbors': 20}\n",
      "\tScoring method used: make_scorer(cohen_kappa_score))\n",
      "\tAccuracy on training data: 0.62\n",
      "\tAccuracy on test data:     0.56\n",
      "\tPrecision: 0.5\n",
      "\tRecall: 0.56\n",
      "\tF1 Score: 0.48"
     ]
    },
    {
     "name": "stderr",
     "output_type": "stream",
     "text": [
      "/Users/Rachel/.pyenv/versions/py36_env/lib/python3.6/site-packages/sklearn/metrics/classification.py:1113: UndefinedMetricWarning: Precision is ill-defined and being set to 0.0 in labels with no predicted samples.\n",
      "  'precision', 'predicted', average, warn_for)\n",
      "/Users/Rachel/.pyenv/versions/py36_env/lib/python3.6/site-packages/sklearn/metrics/classification.py:1113: UndefinedMetricWarning: F-score is ill-defined and being set to 0.0 in labels with no predicted samples.\n",
      "  'precision', 'predicted', average, warn_for)\n"
     ]
    },
    {
     "name": "stdout",
     "output_type": "stream",
     "text": [
      "\n",
      "\tCohen's Kappa: 0.01\n"
     ]
    },
    {
     "data": {
      "image/png": "[encoded data removed]",
      "text/plain": [
       "<matplotlib.figure.Figure at 0x10b14ccf8>"
      ]
     },
     "metadata": {},
     "output_type": "display_data"
    },
    {
     "name": "stdout",
     "output_type": "stream",
     "text": [
      "\n",
      "Y = SECUR2C (Fraudulent charges on credit/debit card)\n",
      "\tObservations in class 1: 475 (45.67%)\n",
      "\tObservations in class -1: 561 (53.94%)\n",
      "\tObservations in class 0: 4 (0.38%)\n",
      "\n",
      "\tX = DEMOGRAPHIC VARIABLES\n",
      "\tBest Parameters: {'n_neighbors': 1}\n",
      "\tScoring method used: make_scorer(cohen_kappa_score))\n",
      "\tAccuracy on training data: 1.00\n",
      "\tAccuracy on test data:     0.46\n",
      "\tPrecision: 0.47\n",
      "\tRecall: 0.46\n",
      "\tF1 Score: 0.46\n",
      "\tCohen's Kappa: -0.07\n"
     ]
    },
    {
     "name": "stderr",
     "output_type": "stream",
     "text": [
      "/Users/Rachel/.pyenv/versions/py36_env/lib/python3.6/site-packages/sklearn/model_selection/_split.py:581: Warning: The least populated class in y has only 3 members, which is too few. The minimum number of groups for any class cannot be less than n_splits=5.\n",
      "  % (min_groups, self.n_splits)), Warning)\n",
      "/Users/Rachel/.pyenv/versions/py36_env/lib/python3.6/site-packages/sklearn/metrics/classification.py:1113: UndefinedMetricWarning: Precision is ill-defined and being set to 0.0 in labels with no predicted samples.\n",
      "  'precision', 'predicted', average, warn_for)\n",
      "/Users/Rachel/.pyenv/versions/py36_env/lib/python3.6/site-packages/sklearn/metrics/classification.py:1113: UndefinedMetricWarning: F-score is ill-defined and being set to 0.0 in labels with no predicted samples.\n",
      "  'precision', 'predicted', average, warn_for)\n"
     ]
    },
    {
     "data": {
      "image/png": "[encoded data removed]",
      "text/plain": [
       "<matplotlib.figure.Figure at 0x10b13af60>"
      ]
     },
     "metadata": {},
     "output_type": "display_data"
    },
    {
     "name": "stdout",
     "output_type": "stream",
     "text": [
      "\n",
      "\tX = SECURITY HABIT VARIABLES\n",
      "\tBest Parameters: {'n_neighbors': 1}\n",
      "\tScoring method used: make_scorer(cohen_kappa_score))\n",
      "\tAccuracy on training data: 1.00\n",
      "\tAccuracy on test data:     0.46\n",
      "\tPrecision: 0.46\n",
      "\tRecall: 0.46\n",
      "\tF1 Score: 0.46\n",
      "\tCohen's Kappa: -0.08\n"
     ]
    },
    {
     "name": "stderr",
     "output_type": "stream",
     "text": [
      "/Users/Rachel/.pyenv/versions/py36_env/lib/python3.6/site-packages/sklearn/model_selection/_split.py:581: Warning: The least populated class in y has only 3 members, which is too few. The minimum number of groups for any class cannot be less than n_splits=5.\n",
      "  % (min_groups, self.n_splits)), Warning)\n"
     ]
    },
    {
     "data": {
      "image/png": "[encoded data removed]",
      "text/plain": [
       "<matplotlib.figure.Figure at 0x10b1fb2e8>"
      ]
     },
     "metadata": {},
     "output_type": "display_data"
    },
    {
     "name": "stdout",
     "output_type": "stream",
     "text": [
      "\n",
      "Y = SECUR2D (Someone took over email)\n",
      "\tObservations in class 1: 175 (16.83%)\n",
      "\tObservations in class -1: 855 (82.21%)\n",
      "\tObservations in class 0: 10 (0.96%)\n",
      "\n",
      "\tX = DEMOGRAPHIC VARIABLES\n",
      "\tBest Parameters: {'n_neighbors': 5}\n",
      "\tScoring method used: make_scorer(cohen_kappa_score))\n",
      "\tAccuracy on training data: 0.84\n",
      "\tAccuracy on test data:     0.79\n",
      "\tPrecision: 0.69\n",
      "\tRecall: 0.79\n",
      "\tF1 Score: 0.72\n",
      "\tCohen's Kappa: 0.0\n"
     ]
    },
    {
     "name": "stderr",
     "output_type": "stream",
     "text": [
      "/Users/Rachel/.pyenv/versions/py36_env/lib/python3.6/site-packages/sklearn/metrics/classification.py:1113: UndefinedMetricWarning: Precision is ill-defined and being set to 0.0 in labels with no predicted samples.\n",
      "  'precision', 'predicted', average, warn_for)\n",
      "/Users/Rachel/.pyenv/versions/py36_env/lib/python3.6/site-packages/sklearn/metrics/classification.py:1113: UndefinedMetricWarning: F-score is ill-defined and being set to 0.0 in labels with no predicted samples.\n",
      "  'precision', 'predicted', average, warn_for)\n"
     ]
    },
    {
     "data": {
      "image/png": "[encoded data removed]",
      "text/plain": [
       "<matplotlib.figure.Figure at 0x10b0b65c0>"
      ]
     },
     "metadata": {},
     "output_type": "display_data"
    },
    {
     "name": "stdout",
     "output_type": "stream",
     "text": [
      "\n",
      "\tX = SECURITY HABIT VARIABLES\n",
      "\tBest Parameters: {'n_neighbors': 5}\n",
      "\tScoring method used: make_scorer(cohen_kappa_score))\n",
      "\tAccuracy on training data: 0.84\n",
      "\tAccuracy on test data:     0.80\n",
      "\tPrecision: 0.7\n",
      "\tRecall: 0.8\n",
      "\tF1 Score: 0.75\n",
      "\tCohen's Kappa: -0.06\n"
     ]
    },
    {
     "name": "stderr",
     "output_type": "stream",
     "text": [
      "/Users/Rachel/.pyenv/versions/py36_env/lib/python3.6/site-packages/sklearn/metrics/classification.py:1113: UndefinedMetricWarning: Precision is ill-defined and being set to 0.0 in labels with no predicted samples.\n",
      "  'precision', 'predicted', average, warn_for)\n",
      "/Users/Rachel/.pyenv/versions/py36_env/lib/python3.6/site-packages/sklearn/metrics/classification.py:1113: UndefinedMetricWarning: F-score is ill-defined and being set to 0.0 in labels with no predicted samples.\n",
      "  'precision', 'predicted', average, warn_for)\n"
     ]
    },
    {
     "data": {
      "image/png": "[encoded data removed]",
      "text/plain": [
       "<matplotlib.figure.Figure at 0x10b54deb8>"
      ]
     },
     "metadata": {},
     "output_type": "display_data"
    },
    {
     "name": "stdout",
     "output_type": "stream",
     "text": [
      "\n",
      "Y = SECUR2E (Someone took over social media account)\n",
      "\tObservations in class -1: 798 (76.73%)\n",
      "\tObservations in class 0: 119 (11.44%)\n",
      "\tObservations in class 1: 123 (11.83%)\n",
      "\n",
      "\tX = DEMOGRAPHIC VARIABLES\n",
      "\tBest Parameters: {'n_neighbors': 1}\n",
      "\tScoring method used: make_scorer(cohen_kappa_score))\n",
      "\tAccuracy on training data: 1.00\n",
      "\tAccuracy on test data:     0.66\n",
      "\tPrecision: 0.69\n",
      "\tRecall: 0.66\n",
      "\tF1 Score: 0.68\n",
      "\tCohen's Kappa: 0.09\n"
     ]
    },
    {
     "data": {
      "image/png": "[encoded data removed]",
      "text/plain": [
       "<matplotlib.figure.Figure at 0x10acff7b8>"
      ]
     },
     "metadata": {},
     "output_type": "display_data"
    },
    {
     "name": "stdout",
     "output_type": "stream",
     "text": [
      "\n",
      "\tX = SECURITY HABIT VARIABLES\n",
      "\tBest Parameters: {'n_neighbors': 1}\n",
      "\tScoring method used: make_scorer(cohen_kappa_score))\n",
      "\tAccuracy on training data: 1.00\n",
      "\tAccuracy on test data:     0.68\n",
      "\tPrecision: 0.66\n",
      "\tRecall: 0.68\n",
      "\tF1 Score: 0.67\n",
      "\tCohen's Kappa: 0.14\n"
     ]
    },
    {
     "data": {
      "image/png": "[encoded data removed]",
      "text/plain": [
       "<matplotlib.figure.Figure at 0x10b0861d0>"
      ]
     },
     "metadata": {},
     "output_type": "display_data"
    },
    {
     "name": "stdout",
     "output_type": "stream",
     "text": [
      "\n",
      "Y = SECUR2F (Someone opened line of credit/applied for loan under name)\n",
      "\tObservations in class -1: 871 (83.75%)\n",
      "\tObservations in class 1: 153 (14.71%)\n",
      "\tObservations in class 0: 16 (1.54%)\n",
      "\n",
      "\tX = DEMOGRAPHIC VARIABLES\n",
      "\tBest Parameters: {'n_neighbors': 10}\n",
      "\tScoring method used: make_scorer(cohen_kappa_score))\n",
      "\tAccuracy on training data: 0.84\n",
      "\tAccuracy on test data:     0.84\n",
      "\tPrecision: 0.71\n",
      "\tRecall: 0.84\n",
      "\tF1 Score: 0.77\n",
      "\tCohen's Kappa: 0.0\n"
     ]
    },
    {
     "name": "stderr",
     "output_type": "stream",
     "text": [
      "/Users/Rachel/.pyenv/versions/py36_env/lib/python3.6/site-packages/sklearn/metrics/classification.py:1113: UndefinedMetricWarning: Precision is ill-defined and being set to 0.0 in labels with no predicted samples.\n",
      "  'precision', 'predicted', average, warn_for)\n",
      "/Users/Rachel/.pyenv/versions/py36_env/lib/python3.6/site-packages/sklearn/metrics/classification.py:1113: UndefinedMetricWarning: F-score is ill-defined and being set to 0.0 in labels with no predicted samples.\n",
      "  'precision', 'predicted', average, warn_for)\n"
     ]
    },
    {
     "data": {
      "image/png": "[encoded data removed]",
      "text/plain": [
       "<matplotlib.figure.Figure at 0x10b3edf98>"
      ]
     },
     "metadata": {},
     "output_type": "display_data"
    },
    {
     "name": "stdout",
     "output_type": "stream",
     "text": [
      "\n",
      "\tX = SECURITY HABIT VARIABLES\n",
      "\tBest Parameters: {'n_neighbors': 1}\n",
      "\tScoring method used: make_scorer(cohen_kappa_score))\n",
      "\tAccuracy on training data: 1.00\n",
      "\tAccuracy on test data:     0.75\n",
      "\tPrecision: 0.76\n",
      "\tRecall: 0.75\n",
      "\tF1 Score: 0.75\n",
      "\tCohen's Kappa: -0.03\n"
     ]
    },
    {
     "name": "stderr",
     "output_type": "stream",
     "text": [
      "/Users/Rachel/.pyenv/versions/py36_env/lib/python3.6/site-packages/sklearn/metrics/classification.py:1115: UndefinedMetricWarning: Recall is ill-defined and being set to 0.0 in labels with no true samples.\n",
      "  'recall', 'true', average, warn_for)\n",
      "/Users/Rachel/.pyenv/versions/py36_env/lib/python3.6/site-packages/sklearn/metrics/classification.py:1115: UndefinedMetricWarning: F-score is ill-defined and being set to 0.0 in labels with no true samples.\n",
      "  'recall', 'true', average, warn_for)\n"
     ]
    },
    {
     "data": {
      "image/png": "[encoded data removed]",
      "text/plain": [
       "<matplotlib.figure.Figure at 0x10a8b6748>"
      ]
     },
     "metadata": {},
     "output_type": "display_data"
    },
    {
     "name": "stdout",
     "output_type": "stream",
     "text": [
      "\n",
      "Y = SECUR2G (Someone received tax refund under name)\n",
      "\tObservations in class -1: 970 (93.27%)\n",
      "\tObservations in class 1: 57 (5.48%)\n",
      "\tObservations in class 0: 13 (1.25%)\n",
      "\n",
      "\tX = DEMOGRAPHIC VARIABLES\n",
      "\tBest Parameters: {'n_neighbors': 10}\n",
      "\tScoring method used: make_scorer(cohen_kappa_score))\n",
      "\tAccuracy on training data: 0.93\n",
      "\tAccuracy on test data:     0.94\n",
      "\tPrecision: 0.89\n",
      "\tRecall: 0.94\n",
      "\tF1 Score: 0.91\n",
      "\tCohen's Kappa: 0.0\n"
     ]
    },
    {
     "name": "stderr",
     "output_type": "stream",
     "text": [
      "/Users/Rachel/.pyenv/versions/py36_env/lib/python3.6/site-packages/sklearn/metrics/classification.py:1113: UndefinedMetricWarning: Precision is ill-defined and being set to 0.0 in labels with no predicted samples.\n",
      "  'precision', 'predicted', average, warn_for)\n",
      "/Users/Rachel/.pyenv/versions/py36_env/lib/python3.6/site-packages/sklearn/metrics/classification.py:1113: UndefinedMetricWarning: F-score is ill-defined and being set to 0.0 in labels with no predicted samples.\n",
      "  'precision', 'predicted', average, warn_for)\n"
     ]
    },
    {
     "data": {
      "image/png": "[encoded data removed]",
      "text/plain": [
       "<matplotlib.figure.Figure at 0x10aca1be0>"
      ]
     },
     "metadata": {},
     "output_type": "display_data"
    },
    {
     "name": "stdout",
     "output_type": "stream",
     "text": [
      "\n",
      "\tX = SECURITY HABIT VARIABLES\n",
      "\tBest Parameters: {'n_neighbors': 5}\n",
      "\tScoring method used: make_scorer(cohen_kappa_score))\n",
      "\tAccuracy on training data: 0.93\n",
      "\tAccuracy on test data:     0.93\n",
      "\tPrecision: 0.87\n",
      "\tRecall: 0.93\n",
      "\tF1 Score: 0.9\n",
      "\tCohen's Kappa: 0.0"
     ]
    },
    {
     "name": "stderr",
     "output_type": "stream",
     "text": [
      "/Users/Rachel/.pyenv/versions/py36_env/lib/python3.6/site-packages/sklearn/metrics/classification.py:1113: UndefinedMetricWarning: Precision is ill-defined and being set to 0.0 in labels with no predicted samples.\n",
      "  'precision', 'predicted', average, warn_for)\n",
      "/Users/Rachel/.pyenv/versions/py36_env/lib/python3.6/site-packages/sklearn/metrics/classification.py:1113: UndefinedMetricWarning: F-score is ill-defined and being set to 0.0 in labels with no predicted samples.\n",
      "  'precision', 'predicted', average, warn_for)\n"
     ]
    },
    {
     "name": "stdout",
     "output_type": "stream",
     "text": [
      "\n"
     ]
    },
    {
     "data": {
      "image/png": "[encoded data removed]",
      "text/plain": [
       "<matplotlib.figure.Figure at 0x10acf52b0>"
      ]
     },
     "metadata": {},
     "output_type": "display_data"
    }
   ],
   "source": [
    "from sklearn.neighbors import KNeighborsClassifier\n",
    "\n",
    "# create dictionary of parameters\n",
    "dict_params = {'n_neighbors': [1, 5, 10, 15, 20]}\n",
    "\n",
    "# set scoring method for cv_optimize (Cohen's Kappa)\n",
    "scorer = metrics.make_scorer(metrics.cohen_kappa_score)\n",
    "\n",
    "# Iterate through security incident columns and perform logistic regression\n",
    "for y_col in sec_cols:\n",
    "\n",
    "    if y_col != 'ID':\n",
    "        \n",
    "        print('\\nY = ' + y_col.upper() + ' (' + dict_sec_cols[y_col] + ')')\n",
    "        \n",
    "        calc_prop_class(df, y_col)\n",
    "        \n",
    "        # remove rows where y_col is don't know/refused (0)\n",
    "        #knn_df = df[df[y_col] != 0]\n",
    "        clf_df = df\n",
    "        \n",
    "        # ============= Perform knn with demographic variables as features ============= #\n",
    "        print('\\n\\tX = DEMOGRAPHIC VARIABLES') \n",
    "        clf, Xtrain, ytrain, Xtest, ytest  = do_classify(clf=KNeighborsClassifier(), \n",
    "                                                         parameters=dict_params, \n",
    "                                                         in_df=clf_df,\n",
    "                                                         feature_names=dem_cols,\n",
    "                                                         targetname=y_col,\n",
    "                                                         target1val=1,\n",
    "                                                         standardize=False,\n",
    "                                                         train_size=0.8,\n",
    "                                                         scorer=scorer)\n",
    "        \n",
    "        # ============= Perform knn with security habit variables as features ============= #\n",
    "        print('\\n\\tX = SECURITY HABIT VARIABLES')\n",
    "        clf, Xtrain, ytrain, Xtest, ytest  = do_classify(clf=KNeighborsClassifier(), \n",
    "                                                         parameters=dict_params, \n",
    "                                                         in_df=clf_df,\n",
    "                                                         feature_names=hab_cols,\n",
    "                                                         targetname=y_col,\n",
    "                                                         target1val=1,\n",
    "                                                         standardize=False,\n",
    "                                                         train_size=0.8,\n",
    "                                                         scorer=scorer)"
   ]
  },
  {
   "cell_type": "markdown",
   "metadata": {},
   "source": [
    "<div class=\"alert alert-success\">\n",
    "<h1>RANDOM FORESTS</h1>\n",
    "</div>"
   ]
  },
  {
   "cell_type": "code",
   "execution_count": 22,
   "metadata": {
    "collapsed": false,
    "scrolled": false
   },
   "outputs": [
    {
     "name": "stdout",
     "output_type": "stream",
     "text": [
      "\n",
      "Y = SECUR2A (SSN compromised)\n",
      "\n",
      "\tX = DEMOGRAPHIC VARIABLES\n",
      "\tBest Parameters: {'n_estimators': 10}\n",
      "\tScoring method used: make_scorer(cohen_kappa_score))\n",
      "\tAccuracy on training data: 0.97\n",
      "\tAccuracy on test data:     0.83\n",
      "\tPrecision: 0.73\n",
      "\tRecall: 0.83\n",
      "\tF1 Score: 0.78\n",
      "\tCohen's Kappa: -0.04\n"
     ]
    },
    {
     "name": "stderr",
     "output_type": "stream",
     "text": [
      "/Users/Rachel/.pyenv/versions/py36_env/lib/python3.6/site-packages/sklearn/metrics/classification.py:1113: UndefinedMetricWarning: Precision is ill-defined and being set to 0.0 in labels with no predicted samples.\n",
      "  'precision', 'predicted', average, warn_for)\n",
      "/Users/Rachel/.pyenv/versions/py36_env/lib/python3.6/site-packages/sklearn/metrics/classification.py:1113: UndefinedMetricWarning: F-score is ill-defined and being set to 0.0 in labels with no predicted samples.\n",
      "  'precision', 'predicted', average, warn_for)\n"
     ]
    },
    {
     "data": {
      "image/png": "[encoded data removed]",
      "text/plain": [
       "<matplotlib.figure.Figure at 0x10b0826d8>"
      ]
     },
     "metadata": {},
     "output_type": "display_data"
    },
    {
     "name": "stdout",
     "output_type": "stream",
     "text": [
      "\n",
      "\tX = SECURITY HABIT VARIABLES\n"
     ]
    },
    {
     "name": "stderr",
     "output_type": "stream",
     "text": [
      "/Users/Rachel/.pyenv/versions/py36_env/lib/python3.6/site-packages/sklearn/model_selection/_split.py:581: Warning: The least populated class in y has only 4 members, which is too few. The minimum number of groups for any class cannot be less than n_splits=5.\n",
      "  % (min_groups, self.n_splits)), Warning)\n"
     ]
    },
    {
     "name": "stdout",
     "output_type": "stream",
     "text": [
      "\tBest Parameters: {'n_estimators': 1}\n",
      "\tScoring method used: make_scorer(cohen_kappa_score))\n",
      "\tAccuracy on training data: 0.88\n",
      "\tAccuracy on test data:     0.73\n",
      "\tPrecision: 0.71\n",
      "\tRecall: 0.73\n",
      "\tF1 Score: 0.72\n",
      "\tCohen's Kappa: 0.03\n"
     ]
    },
    {
     "data": {
      "image/png": "[encoded data removed]",
      "text/plain": [
       "<matplotlib.figure.Figure at 0x10b019fd0>"
      ]
     },
     "metadata": {},
     "output_type": "display_data"
    },
    {
     "name": "stdout",
     "output_type": "stream",
     "text": [
      "\n",
      "Y = SECUR2B (Other sensitive info compromised)\n",
      "\n",
      "\tX = DEMOGRAPHIC VARIABLES\n",
      "\tBest Parameters: {'n_estimators': 5}\n",
      "\tScoring method used: make_scorer(cohen_kappa_score))\n",
      "\tAccuracy on training data: 0.94\n",
      "\tAccuracy on test data:     0.53\n",
      "\tPrecision: 0.53\n",
      "\tRecall: 0.53\n",
      "\tF1 Score: 0.53\n",
      "\tCohen's Kappa: 0.03\n"
     ]
    },
    {
     "data": {
      "image/png": "[encoded data removed]",
      "text/plain": [
       "<matplotlib.figure.Figure at 0x10aecdef0>"
      ]
     },
     "metadata": {},
     "output_type": "display_data"
    },
    {
     "name": "stdout",
     "output_type": "stream",
     "text": [
      "\n",
      "\tX = SECURITY HABIT VARIABLES\n",
      "\tBest Parameters: {'n_estimators': 20}\n",
      "\tScoring method used: make_scorer(cohen_kappa_score))\n",
      "\tAccuracy on training data: 0.99\n",
      "\tAccuracy on test data:     0.50\n",
      "\tPrecision: 0.49\n",
      "\tRecall: 0.5\n",
      "\tF1 Score: 0.49\n",
      "\tCohen's Kappa: -0.03\n"
     ]
    },
    {
     "data": {
      "image/png": "[encoded data removed]",
      "text/plain": [
       "<matplotlib.figure.Figure at 0x10b0bab00>"
      ]
     },
     "metadata": {},
     "output_type": "display_data"
    },
    {
     "name": "stdout",
     "output_type": "stream",
     "text": [
      "\n",
      "Y = SECUR2C (Fraudulent charges on credit/debit card)\n",
      "\n",
      "\tX = DEMOGRAPHIC VARIABLES\n"
     ]
    },
    {
     "name": "stderr",
     "output_type": "stream",
     "text": [
      "/Users/Rachel/.pyenv/versions/py36_env/lib/python3.6/site-packages/sklearn/model_selection/_split.py:581: Warning: The least populated class in y has only 3 members, which is too few. The minimum number of groups for any class cannot be less than n_splits=5.\n",
      "  % (min_groups, self.n_splits)), Warning)\n"
     ]
    },
    {
     "name": "stdout",
     "output_type": "stream",
     "text": [
      "\tBest Parameters: {'n_estimators': 10}\n",
      "\tScoring method used: make_scorer(cohen_kappa_score))\n",
      "\tAccuracy on training data: 0.98\n",
      "\tAccuracy on test data:     0.61\n",
      "\tPrecision: 0.61\n",
      "\tRecall: 0.61\n",
      "\tF1 Score: 0.61\n",
      "\tCohen's Kappa: 0.22\n"
     ]
    },
    {
     "name": "stderr",
     "output_type": "stream",
     "text": [
      "/Users/Rachel/.pyenv/versions/py36_env/lib/python3.6/site-packages/sklearn/metrics/classification.py:1113: UndefinedMetricWarning: Precision is ill-defined and being set to 0.0 in labels with no predicted samples.\n",
      "  'precision', 'predicted', average, warn_for)\n",
      "/Users/Rachel/.pyenv/versions/py36_env/lib/python3.6/site-packages/sklearn/metrics/classification.py:1113: UndefinedMetricWarning: F-score is ill-defined and being set to 0.0 in labels with no predicted samples.\n",
      "  'precision', 'predicted', average, warn_for)\n"
     ]
    },
    {
     "data": {
      "image/png": "[encoded data removed]",
      "text/plain": [
       "<matplotlib.figure.Figure at 0x10abbe470>"
      ]
     },
     "metadata": {},
     "output_type": "display_data"
    },
    {
     "name": "stdout",
     "output_type": "stream",
     "text": [
      "\n",
      "\tX = SECURITY HABIT VARIABLES\n"
     ]
    },
    {
     "name": "stderr",
     "output_type": "stream",
     "text": [
      "/Users/Rachel/.pyenv/versions/py36_env/lib/python3.6/site-packages/sklearn/model_selection/_split.py:581: Warning: The least populated class in y has only 4 members, which is too few. The minimum number of groups for any class cannot be less than n_splits=5.\n",
      "  % (min_groups, self.n_splits)), Warning)\n"
     ]
    },
    {
     "name": "stdout",
     "output_type": "stream",
     "text": [
      "\tBest Parameters: {'n_estimators': 20}\n",
      "\tScoring method used: make_scorer(cohen_kappa_score))\n",
      "\tAccuracy on training data: 1.00\n",
      "\tAccuracy on test data:     0.55\n",
      "\tPrecision: 0.55\n",
      "\tRecall: 0.55\n",
      "\tF1 Score: 0.55\n",
      "\tCohen's Kappa: 0.08\n"
     ]
    },
    {
     "data": {
      "image/png": "[encoded data removed]",
      "text/plain": [
       "<matplotlib.figure.Figure at 0x10b3fe7b8>"
      ]
     },
     "metadata": {},
     "output_type": "display_data"
    },
    {
     "name": "stdout",
     "output_type": "stream",
     "text": [
      "\n",
      "Y = SECUR2D (Someone took over email)\n",
      "\n",
      "\tX = DEMOGRAPHIC VARIABLES\n",
      "\tBest Parameters: {'n_estimators': 5}\n",
      "\tScoring method used: make_scorer(cohen_kappa_score))\n",
      "\tAccuracy on training data: 0.98\n",
      "\tAccuracy on test data:     0.80\n",
      "\tPrecision: 0.77\n",
      "\tRecall: 0.8\n",
      "\tF1 Score: 0.78\n",
      "\tCohen's Kappa: 0.05\n"
     ]
    },
    {
     "name": "stderr",
     "output_type": "stream",
     "text": [
      "/Users/Rachel/.pyenv/versions/py36_env/lib/python3.6/site-packages/sklearn/metrics/classification.py:1113: UndefinedMetricWarning: Precision is ill-defined and being set to 0.0 in labels with no predicted samples.\n",
      "  'precision', 'predicted', average, warn_for)\n",
      "/Users/Rachel/.pyenv/versions/py36_env/lib/python3.6/site-packages/sklearn/metrics/classification.py:1113: UndefinedMetricWarning: F-score is ill-defined and being set to 0.0 in labels with no predicted samples.\n",
      "  'precision', 'predicted', average, warn_for)\n"
     ]
    },
    {
     "data": {
      "image/png": "[encoded data removed]",
      "text/plain": [
       "<matplotlib.figure.Figure at 0x10abbefd0>"
      ]
     },
     "metadata": {},
     "output_type": "display_data"
    },
    {
     "name": "stdout",
     "output_type": "stream",
     "text": [
      "\n",
      "\tX = SECURITY HABIT VARIABLES\n",
      "\tBest Parameters: {'n_estimators': 1}\n",
      "\tScoring method used: make_scorer(cohen_kappa_score))\n",
      "\tAccuracy on training data: 0.92\n",
      "\tAccuracy on test data:     0.73\n",
      "\tPrecision: 0.76\n",
      "\tRecall: 0.73\n",
      "\tF1 Score: 0.74\n",
      "\tCohen's Kappa: 0.19\n"
     ]
    },
    {
     "data": {
      "image/png": "[encoded data removed]",
      "text/plain": [
       "<matplotlib.figure.Figure at 0x10aa2b908>"
      ]
     },
     "metadata": {},
     "output_type": "display_data"
    },
    {
     "name": "stdout",
     "output_type": "stream",
     "text": [
      "\n",
      "Y = SECUR2E (Someone took over social media account)\n",
      "\n",
      "\tX = DEMOGRAPHIC VARIABLES\n",
      "\tBest Parameters: {'n_estimators': 5}\n",
      "\tScoring method used: make_scorer(cohen_kappa_score))\n",
      "\tAccuracy on training data: 0.96\n",
      "\tAccuracy on test data:     0.76\n",
      "\tPrecision: 0.69\n",
      "\tRecall: 0.76\n",
      "\tF1 Score: 0.7\n",
      "\tCohen's Kappa: 0.15\n"
     ]
    },
    {
     "data": {
      "image/png": "[encoded data removed]",
      "text/plain": [
       "<matplotlib.figure.Figure at 0x10ad6c748>"
      ]
     },
     "metadata": {},
     "output_type": "display_data"
    },
    {
     "name": "stdout",
     "output_type": "stream",
     "text": [
      "\n",
      "\tX = SECURITY HABIT VARIABLES\n",
      "\tBest Parameters: {'n_estimators': 15}\n",
      "\tScoring method used: make_scorer(cohen_kappa_score))\n",
      "\tAccuracy on training data: 0.99\n",
      "\tAccuracy on test data:     0.88\n",
      "\tPrecision: 0.83\n",
      "\tRecall: 0.88\n",
      "\tF1 Score: 0.84\n",
      "\tCohen's Kappa: 0.64\n"
     ]
    },
    {
     "data": {
      "image/png": "[encoded data removed]",
      "text/plain": [
       "<matplotlib.figure.Figure at 0x10b547e80>"
      ]
     },
     "metadata": {},
     "output_type": "display_data"
    },
    {
     "name": "stdout",
     "output_type": "stream",
     "text": [
      "\n",
      "Y = SECUR2F (Someone opened line of credit/applied for loan under name)\n",
      "\n",
      "\tX = DEMOGRAPHIC VARIABLES\n",
      "\tBest Parameters: {'n_estimators': 5}\n",
      "\tScoring method used: make_scorer(cohen_kappa_score))\n",
      "\tAccuracy on training data: 0.96\n",
      "\tAccuracy on test data:     0.82\n",
      "\tPrecision: 0.76\n",
      "\tRecall: 0.82\n",
      "\tF1 Score: 0.79\n",
      "\tCohen's Kappa: -0.03\n"
     ]
    },
    {
     "name": "stderr",
     "output_type": "stream",
     "text": [
      "/Users/Rachel/.pyenv/versions/py36_env/lib/python3.6/site-packages/sklearn/metrics/classification.py:1113: UndefinedMetricWarning: Precision is ill-defined and being set to 0.0 in labels with no predicted samples.\n",
      "  'precision', 'predicted', average, warn_for)\n",
      "/Users/Rachel/.pyenv/versions/py36_env/lib/python3.6/site-packages/sklearn/metrics/classification.py:1113: UndefinedMetricWarning: F-score is ill-defined and being set to 0.0 in labels with no predicted samples.\n",
      "  'precision', 'predicted', average, warn_for)\n"
     ]
    },
    {
     "data": {
      "image/png": "[encoded data removed]",
      "text/plain": [
       "<matplotlib.figure.Figure at 0x10aa14ef0>"
      ]
     },
     "metadata": {},
     "output_type": "display_data"
    },
    {
     "name": "stdout",
     "output_type": "stream",
     "text": [
      "\n",
      "\tX = SECURITY HABIT VARIABLES\n",
      "\tBest Parameters: {'n_estimators': 15}\n",
      "\tScoring method used: make_scorer(cohen_kappa_score))\n",
      "\tAccuracy on training data: 0.98\n",
      "\tAccuracy on test data:     0.79\n",
      "\tPrecision: 0.67\n",
      "\tRecall: 0.79\n",
      "\tF1 Score: 0.73\n",
      "\tCohen's Kappa: -0.05\n"
     ]
    },
    {
     "data": {
      "image/png": "[encoded data removed]",
      "text/plain": [
       "<matplotlib.figure.Figure at 0x10b4b77b8>"
      ]
     },
     "metadata": {},
     "output_type": "display_data"
    },
    {
     "name": "stdout",
     "output_type": "stream",
     "text": [
      "\n",
      "Y = SECUR2G (Someone received tax refund under name)\n",
      "\n",
      "\tX = DEMOGRAPHIC VARIABLES\n",
      "\tBest Parameters: {'n_estimators': 1}\n",
      "\tScoring method used: make_scorer(cohen_kappa_score))\n",
      "\tAccuracy on training data: 0.95\n",
      "\tAccuracy on test data:     0.86\n",
      "\tPrecision: 0.89\n",
      "\tRecall: 0.86\n",
      "\tF1 Score: 0.87\n",
      "\tCohen's Kappa: 0.01\n"
     ]
    },
    {
     "data": {
      "image/png": "[encoded data removed]",
      "text/plain": [
       "<matplotlib.figure.Figure at 0x10a98c9b0>"
      ]
     },
     "metadata": {},
     "output_type": "display_data"
    },
    {
     "name": "stdout",
     "output_type": "stream",
     "text": [
      "\n",
      "\tX = SECURITY HABIT VARIABLES\n",
      "\tBest Parameters: {'n_estimators': 5}\n",
      "\tScoring method used: make_scorer(cohen_kappa_score))\n",
      "\tAccuracy on training data: 0.98\n",
      "\tAccuracy on test data:     0.92\n",
      "\tPrecision: 0.87\n",
      "\tRecall: 0.92\n",
      "\tF1 Score: 0.9\n",
      "\tCohen's Kappa: -0.01\n"
     ]
    },
    {
     "data": {
      "image/png": "[encoded data removed]",
      "text/plain": [
       "<matplotlib.figure.Figure at 0x10ad74438>"
      ]
     },
     "metadata": {},
     "output_type": "display_data"
    }
   ],
   "source": [
    "from sklearn.ensemble import RandomForestClassifier\n",
    "\n",
    "dict_params = {'n_estimators': [1, 5, 10, 15, 20]}\n",
    "\n",
    "# set scoring method for cv_optimize (Cohen's Kappa)\n",
    "scorer = metrics.make_scorer(metrics.cohen_kappa_score)\n",
    "\n",
    "# Iterate through security incident columns and perform logistic regression\n",
    "for y_col in sec_cols:\n",
    "\n",
    "    if y_col != 'ID':\n",
    "        \n",
    "        print('\\nY = ' + y_col.upper() + ' (' + dict_sec_cols[y_col] + ')')\n",
    "        \n",
    "        # remove rows where y_col is don't know/refused (0)\n",
    "        #knn_df = df[df[y_col] != 0]\n",
    "        clf_df = df\n",
    "        \n",
    "        # ============= Perform random forests with demographic variables as features ============= #\n",
    "        print('\\n\\tX = DEMOGRAPHIC VARIABLES') \n",
    "        clf, Xtrain, ytrain, Xtest, ytest  = do_classify(clf=RandomForestClassifier(), \n",
    "                                                         parameters=dict_params, \n",
    "                                                         in_df=clf_df,\n",
    "                                                         feature_names=dem_cols,\n",
    "                                                         targetname=y_col,\n",
    "                                                         target1val=1,\n",
    "                                                         standardize=False,\n",
    "                                                         train_size=0.8,\n",
    "                                                         scorer=scorer)\n",
    "        \n",
    "        # ============= Perform random forests with security habit variables as features ============= #\n",
    "        print('\\n\\tX = SECURITY HABIT VARIABLES')\n",
    "        clf, Xtrain, ytrain, Xtest, ytest  = do_classify(clf=RandomForestClassifier(), \n",
    "                                                         parameters=dict_params, \n",
    "                                                         in_df=clf_df,\n",
    "                                                         feature_names=hab_cols,\n",
    "                                                         targetname=y_col,\n",
    "                                                         target1val=1,\n",
    "                                                         standardize=False,\n",
    "                                                         train_size=0.8,\n",
    "                                                         scorer=scorer)"
   ]
  },
  {
   "cell_type": "markdown",
   "metadata": {},
   "source": [
    "<div class=\"alert alert-success\">\n",
    "<h1>SVC</h1>\n",
    "</div>"
   ]
  },
  {
   "cell_type": "markdown",
   "metadata": {
    "collapsed": true
   },
   "source": [
    "SVC models represent data as points in space, mapped so that the data of the different categories are divided by a gap that's as wide as possible \n",
    "* C: parameter for slack variables; trades off misclassification of training examples against simplicity of decision surface (low values = allows more slack, ensures hyperplane won't change dramatically for outliers)\n",
    "* Gamma: how far the influence of a single training sample reaches (low values = 'far')"
   ]
  },
  {
   "cell_type": "code",
   "execution_count": 23,
   "metadata": {
    "collapsed": false,
    "scrolled": false
   },
   "outputs": [
    {
     "name": "stdout",
     "output_type": "stream",
     "text": [
      "\n",
      "Y = SECUR2A (SSN compromised)\n",
      "\n",
      "\tX = DEMOGRAPHIC VARIABLES\n",
      "\tBest Parameters: {'C': 1.2589254117941673, 'gamma': 1}\n",
      "\tScoring method used: make_scorer(cohen_kappa_score))\n",
      "\tAccuracy on training data: 1.00\n",
      "\tAccuracy on test data:     0.81\n",
      "\tPrecision: 0.65\n",
      "\tRecall: 0.81\n",
      "\tF1 Score: 0.72\n",
      "\tCohen's Kappa: 0.0\n"
     ]
    },
    {
     "name": "stderr",
     "output_type": "stream",
     "text": [
      "/Users/Rachel/.pyenv/versions/py36_env/lib/python3.6/site-packages/sklearn/metrics/classification.py:1113: UndefinedMetricWarning: Precision is ill-defined and being set to 0.0 in labels with no predicted samples.\n",
      "  'precision', 'predicted', average, warn_for)\n",
      "/Users/Rachel/.pyenv/versions/py36_env/lib/python3.6/site-packages/sklearn/metrics/classification.py:1113: UndefinedMetricWarning: F-score is ill-defined and being set to 0.0 in labels with no predicted samples.\n",
      "  'precision', 'predicted', average, warn_for)\n"
     ]
    },
    {
     "data": {
      "image/png": "[encoded data removed]",
      "text/plain": [
       "<matplotlib.figure.Figure at 0x10a887860>"
      ]
     },
     "metadata": {},
     "output_type": "display_data"
    },
    {
     "name": "stdout",
     "output_type": "stream",
     "text": [
      "\n",
      "\tX = SECURITY HABIT VARIABLES\n",
      "\tBest Parameters: {'C': 1.2589254117941673, 'gamma': 1}\n",
      "\tScoring method used: make_scorer(cohen_kappa_score))\n",
      "\tAccuracy on training data: 1.00\n",
      "\tAccuracy on test data:     0.83\n",
      "\tPrecision: 0.69\n",
      "\tRecall: 0.83\n",
      "\tF1 Score: 0.76\n",
      "\tCohen's Kappa: 0.0\n"
     ]
    },
    {
     "name": "stderr",
     "output_type": "stream",
     "text": [
      "/Users/Rachel/.pyenv/versions/py36_env/lib/python3.6/site-packages/sklearn/metrics/classification.py:1113: UndefinedMetricWarning: Precision is ill-defined and being set to 0.0 in labels with no predicted samples.\n",
      "  'precision', 'predicted', average, warn_for)\n",
      "/Users/Rachel/.pyenv/versions/py36_env/lib/python3.6/site-packages/sklearn/metrics/classification.py:1113: UndefinedMetricWarning: F-score is ill-defined and being set to 0.0 in labels with no predicted samples.\n",
      "  'precision', 'predicted', average, warn_for)\n"
     ]
    },
    {
     "data": {
      "image/png": "[encoded data removed]",
      "text/plain": [
       "<matplotlib.figure.Figure at 0x10ac796a0>"
      ]
     },
     "metadata": {},
     "output_type": "display_data"
    },
    {
     "name": "stdout",
     "output_type": "stream",
     "text": [
      "\n",
      "Y = SECUR2B (Other sensitive info compromised)\n",
      "\n",
      "\tX = DEMOGRAPHIC VARIABLES\n",
      "\tBest Parameters: {'C': 1.2589254117941673, 'gamma': 1}\n",
      "\tScoring method used: make_scorer(cohen_kappa_score))\n",
      "\tAccuracy on training data: 1.00\n",
      "\tAccuracy on test data:     0.61\n",
      "\tPrecision: 0.37\n",
      "\tRecall: 0.61\n",
      "\tF1 Score: 0.46\n",
      "\tCohen's Kappa: 0.0\n"
     ]
    },
    {
     "name": "stderr",
     "output_type": "stream",
     "text": [
      "/Users/Rachel/.pyenv/versions/py36_env/lib/python3.6/site-packages/sklearn/metrics/classification.py:1113: UndefinedMetricWarning: Precision is ill-defined and being set to 0.0 in labels with no predicted samples.\n",
      "  'precision', 'predicted', average, warn_for)\n",
      "/Users/Rachel/.pyenv/versions/py36_env/lib/python3.6/site-packages/sklearn/metrics/classification.py:1113: UndefinedMetricWarning: F-score is ill-defined and being set to 0.0 in labels with no predicted samples.\n",
      "  'precision', 'predicted', average, warn_for)\n"
     ]
    },
    {
     "data": {
      "image/png": "[encoded data removed]",
      "text/plain": [
       "<matplotlib.figure.Figure at 0x10aedd6a0>"
      ]
     },
     "metadata": {},
     "output_type": "display_data"
    },
    {
     "name": "stdout",
     "output_type": "stream",
     "text": [
      "\n",
      "\tX = SECURITY HABIT VARIABLES\n",
      "\tBest Parameters: {'C': 1.2589254117941673, 'gamma': 1}\n",
      "\tScoring method used: make_scorer(cohen_kappa_score))\n",
      "\tAccuracy on training data: 1.00\n",
      "\tAccuracy on test data:     0.57\n",
      "\tPrecision: 0.33\n",
      "\tRecall: 0.57\n",
      "\tF1 Score: 0.42\n",
      "\tCohen's Kappa: 0.0\n"
     ]
    },
    {
     "name": "stderr",
     "output_type": "stream",
     "text": [
      "/Users/Rachel/.pyenv/versions/py36_env/lib/python3.6/site-packages/sklearn/metrics/classification.py:1113: UndefinedMetricWarning: Precision is ill-defined and being set to 0.0 in labels with no predicted samples.\n",
      "  'precision', 'predicted', average, warn_for)\n",
      "/Users/Rachel/.pyenv/versions/py36_env/lib/python3.6/site-packages/sklearn/metrics/classification.py:1113: UndefinedMetricWarning: F-score is ill-defined and being set to 0.0 in labels with no predicted samples.\n",
      "  'precision', 'predicted', average, warn_for)\n"
     ]
    },
    {
     "data": {
      "image/png": "[encoded data removed]",
      "text/plain": [
       "<matplotlib.figure.Figure at 0x10ac824a8>"
      ]
     },
     "metadata": {},
     "output_type": "display_data"
    },
    {
     "name": "stdout",
     "output_type": "stream",
     "text": [
      "\n",
      "Y = SECUR2C (Fraudulent charges on credit/debit card)\n",
      "\n",
      "\tX = DEMOGRAPHIC VARIABLES\n"
     ]
    },
    {
     "name": "stderr",
     "output_type": "stream",
     "text": [
      "/Users/Rachel/.pyenv/versions/py36_env/lib/python3.6/site-packages/sklearn/model_selection/_split.py:581: Warning: The least populated class in y has only 4 members, which is too few. The minimum number of groups for any class cannot be less than n_splits=5.\n",
      "  % (min_groups, self.n_splits)), Warning)\n"
     ]
    },
    {
     "name": "stdout",
     "output_type": "stream",
     "text": [
      "\tBest Parameters: {'C': 1.2589254117941673, 'gamma': 1}\n",
      "\tScoring method used: make_scorer(cohen_kappa_score))\n",
      "\tAccuracy on training data: 1.00\n",
      "\tAccuracy on test data:     0.53\n",
      "\tPrecision: 0.28\n",
      "\tRecall: 0.53\n",
      "\tF1 Score: 0.37\n",
      "\tCohen's Kappa: 0.0\n"
     ]
    },
    {
     "name": "stderr",
     "output_type": "stream",
     "text": [
      "/Users/Rachel/.pyenv/versions/py36_env/lib/python3.6/site-packages/sklearn/metrics/classification.py:1113: UndefinedMetricWarning: Precision is ill-defined and being set to 0.0 in labels with no predicted samples.\n",
      "  'precision', 'predicted', average, warn_for)\n",
      "/Users/Rachel/.pyenv/versions/py36_env/lib/python3.6/site-packages/sklearn/metrics/classification.py:1113: UndefinedMetricWarning: F-score is ill-defined and being set to 0.0 in labels with no predicted samples.\n",
      "  'precision', 'predicted', average, warn_for)\n"
     ]
    },
    {
     "data": {
      "image/png": "[encoded data removed]",
      "text/plain": [
       "<matplotlib.figure.Figure at 0x10b4e4fd0>"
      ]
     },
     "metadata": {},
     "output_type": "display_data"
    },
    {
     "name": "stdout",
     "output_type": "stream",
     "text": [
      "\n",
      "\tX = SECURITY HABIT VARIABLES\n"
     ]
    },
    {
     "name": "stderr",
     "output_type": "stream",
     "text": [
      "/Users/Rachel/.pyenv/versions/py36_env/lib/python3.6/site-packages/sklearn/model_selection/_split.py:581: Warning: The least populated class in y has only 3 members, which is too few. The minimum number of groups for any class cannot be less than n_splits=5.\n",
      "  % (min_groups, self.n_splits)), Warning)\n"
     ]
    },
    {
     "name": "stdout",
     "output_type": "stream",
     "text": [
      "\tBest Parameters: {'C': 1.2589254117941673, 'gamma': 1}\n",
      "\tScoring method used: make_scorer(cohen_kappa_score))\n",
      "\tAccuracy on training data: 1.00\n",
      "\tAccuracy on test data:     0.54\n",
      "\tPrecision: 0.3\n",
      "\tRecall: 0.54\n",
      "\tF1 Score: 0.38\n",
      "\tCohen's Kappa: 0.0\n"
     ]
    },
    {
     "name": "stderr",
     "output_type": "stream",
     "text": [
      "/Users/Rachel/.pyenv/versions/py36_env/lib/python3.6/site-packages/sklearn/metrics/classification.py:1113: UndefinedMetricWarning: Precision is ill-defined and being set to 0.0 in labels with no predicted samples.\n",
      "  'precision', 'predicted', average, warn_for)\n",
      "/Users/Rachel/.pyenv/versions/py36_env/lib/python3.6/site-packages/sklearn/metrics/classification.py:1113: UndefinedMetricWarning: F-score is ill-defined and being set to 0.0 in labels with no predicted samples.\n",
      "  'precision', 'predicted', average, warn_for)\n"
     ]
    },
    {
     "data": {
      "image/png": "[encoded data removed]",
      "text/plain": [
       "<matplotlib.figure.Figure at 0x10ab22ba8>"
      ]
     },
     "metadata": {},
     "output_type": "display_data"
    },
    {
     "name": "stdout",
     "output_type": "stream",
     "text": [
      "\n",
      "Y = SECUR2D (Someone took over email)\n",
      "\n",
      "\tX = DEMOGRAPHIC VARIABLES\n",
      "\tBest Parameters: {'C': 1.2589254117941673, 'gamma': 1}\n",
      "\tScoring method used: make_scorer(cohen_kappa_score))\n",
      "\tAccuracy on training data: 1.00\n",
      "\tAccuracy on test data:     0.80\n",
      "\tPrecision: 0.64\n",
      "\tRecall: 0.8\n",
      "\tF1 Score: 0.71\n",
      "\tCohen's Kappa: 0.0\n"
     ]
    },
    {
     "name": "stderr",
     "output_type": "stream",
     "text": [
      "/Users/Rachel/.pyenv/versions/py36_env/lib/python3.6/site-packages/sklearn/metrics/classification.py:1113: UndefinedMetricWarning: Precision is ill-defined and being set to 0.0 in labels with no predicted samples.\n",
      "  'precision', 'predicted', average, warn_for)\n",
      "/Users/Rachel/.pyenv/versions/py36_env/lib/python3.6/site-packages/sklearn/metrics/classification.py:1113: UndefinedMetricWarning: F-score is ill-defined and being set to 0.0 in labels with no predicted samples.\n",
      "  'precision', 'predicted', average, warn_for)\n"
     ]
    },
    {
     "data": {
      "image/png": "[encoded data removed]",
      "text/plain": [
       "<matplotlib.figure.Figure at 0x10b51f8d0>"
      ]
     },
     "metadata": {},
     "output_type": "display_data"
    },
    {
     "name": "stdout",
     "output_type": "stream",
     "text": [
      "\n",
      "\tX = SECURITY HABIT VARIABLES\n",
      "\tBest Parameters: {'C': 1.2589254117941673, 'gamma': 1}\n",
      "\tScoring method used: make_scorer(cohen_kappa_score))\n",
      "\tAccuracy on training data: 1.00\n",
      "\tAccuracy on test data:     0.81\n",
      "\tPrecision: 0.66\n",
      "\tRecall: 0.81\n",
      "\tF1 Score: 0.73\n",
      "\tCohen's Kappa: 0.0\n"
     ]
    },
    {
     "name": "stderr",
     "output_type": "stream",
     "text": [
      "/Users/Rachel/.pyenv/versions/py36_env/lib/python3.6/site-packages/sklearn/metrics/classification.py:1113: UndefinedMetricWarning: Precision is ill-defined and being set to 0.0 in labels with no predicted samples.\n",
      "  'precision', 'predicted', average, warn_for)\n",
      "/Users/Rachel/.pyenv/versions/py36_env/lib/python3.6/site-packages/sklearn/metrics/classification.py:1113: UndefinedMetricWarning: F-score is ill-defined and being set to 0.0 in labels with no predicted samples.\n",
      "  'precision', 'predicted', average, warn_for)\n"
     ]
    },
    {
     "data": {
      "image/png": "[encoded data removed]",
      "text/plain": [
       "<matplotlib.figure.Figure at 0x108556cf8>"
      ]
     },
     "metadata": {},
     "output_type": "display_data"
    },
    {
     "name": "stdout",
     "output_type": "stream",
     "text": [
      "\n",
      "Y = SECUR2E (Someone took over social media account)\n",
      "\n",
      "\tX = DEMOGRAPHIC VARIABLES\n",
      "\tBest Parameters: {'C': 1.2589254117941673, 'gamma': 1}\n",
      "\tScoring method used: make_scorer(cohen_kappa_score))\n",
      "\tAccuracy on training data: 1.00\n",
      "\tAccuracy on test data:     0.78\n",
      "\tPrecision: 0.61\n",
      "\tRecall: 0.78\n",
      "\tF1 Score: 0.68\n",
      "\tCohen's Kappa: 0.0\n"
     ]
    },
    {
     "name": "stderr",
     "output_type": "stream",
     "text": [
      "/Users/Rachel/.pyenv/versions/py36_env/lib/python3.6/site-packages/sklearn/metrics/classification.py:1113: UndefinedMetricWarning: Precision is ill-defined and being set to 0.0 in labels with no predicted samples.\n",
      "  'precision', 'predicted', average, warn_for)\n",
      "/Users/Rachel/.pyenv/versions/py36_env/lib/python3.6/site-packages/sklearn/metrics/classification.py:1113: UndefinedMetricWarning: F-score is ill-defined and being set to 0.0 in labels with no predicted samples.\n",
      "  'precision', 'predicted', average, warn_for)\n"
     ]
    },
    {
     "data": {
      "image/png": "[encoded data removed]",
      "text/plain": [
       "<matplotlib.figure.Figure at 0x10b539f28>"
      ]
     },
     "metadata": {},
     "output_type": "display_data"
    },
    {
     "name": "stdout",
     "output_type": "stream",
     "text": [
      "\n",
      "\tX = SECURITY HABIT VARIABLES\n",
      "\tBest Parameters: {'C': 1.2589254117941673, 'gamma': 1}\n",
      "\tScoring method used: make_scorer(cohen_kappa_score))\n",
      "\tAccuracy on training data: 1.00\n",
      "\tAccuracy on test data:     0.81\n",
      "\tPrecision: 0.66\n",
      "\tRecall: 0.81\n",
      "\tF1 Score: 0.73\n",
      "\tCohen's Kappa: 0.0\n"
     ]
    },
    {
     "name": "stderr",
     "output_type": "stream",
     "text": [
      "/Users/Rachel/.pyenv/versions/py36_env/lib/python3.6/site-packages/sklearn/metrics/classification.py:1113: UndefinedMetricWarning: Precision is ill-defined and being set to 0.0 in labels with no predicted samples.\n",
      "  'precision', 'predicted', average, warn_for)\n",
      "/Users/Rachel/.pyenv/versions/py36_env/lib/python3.6/site-packages/sklearn/metrics/classification.py:1113: UndefinedMetricWarning: F-score is ill-defined and being set to 0.0 in labels with no predicted samples.\n",
      "  'precision', 'predicted', average, warn_for)\n"
     ]
    },
    {
     "data": {
      "image/png": "[encoded data removed]",
      "text/plain": [
       "<matplotlib.figure.Figure at 0x106b6bda0>"
      ]
     },
     "metadata": {},
     "output_type": "display_data"
    },
    {
     "name": "stdout",
     "output_type": "stream",
     "text": [
      "\n",
      "Y = SECUR2F (Someone opened line of credit/applied for loan under name)\n",
      "\n",
      "\tX = DEMOGRAPHIC VARIABLES\n",
      "\tBest Parameters: {'C': 1.2589254117941673, 'gamma': 1}\n",
      "\tScoring method used: make_scorer(cohen_kappa_score))\n",
      "\tAccuracy on training data: 1.00\n",
      "\tAccuracy on test data:     0.82\n",
      "\tPrecision: 0.67\n",
      "\tRecall: 0.82\n",
      "\tF1 Score: 0.74\n",
      "\tCohen's Kappa: 0.0\n"
     ]
    },
    {
     "name": "stderr",
     "output_type": "stream",
     "text": [
      "/Users/Rachel/.pyenv/versions/py36_env/lib/python3.6/site-packages/sklearn/metrics/classification.py:1113: UndefinedMetricWarning: Precision is ill-defined and being set to 0.0 in labels with no predicted samples.\n",
      "  'precision', 'predicted', average, warn_for)\n",
      "/Users/Rachel/.pyenv/versions/py36_env/lib/python3.6/site-packages/sklearn/metrics/classification.py:1113: UndefinedMetricWarning: F-score is ill-defined and being set to 0.0 in labels with no predicted samples.\n",
      "  'precision', 'predicted', average, warn_for)\n"
     ]
    },
    {
     "data": {
      "image/png": "[encoded data removed]",
      "text/plain": [
       "<matplotlib.figure.Figure at 0x10a892550>"
      ]
     },
     "metadata": {},
     "output_type": "display_data"
    },
    {
     "name": "stdout",
     "output_type": "stream",
     "text": [
      "\n",
      "\tX = SECURITY HABIT VARIABLES\n",
      "\tBest Parameters: {'C': 1.2589254117941673, 'gamma': 1}\n",
      "\tScoring method used: make_scorer(cohen_kappa_score))\n",
      "\tAccuracy on training data: 1.00\n",
      "\tAccuracy on test data:     0.87\n",
      "\tPrecision: 0.75\n",
      "\tRecall: 0.87\n",
      "\tF1 Score: 0.8\n",
      "\tCohen's Kappa: 0.0\n"
     ]
    },
    {
     "name": "stderr",
     "output_type": "stream",
     "text": [
      "/Users/Rachel/.pyenv/versions/py36_env/lib/python3.6/site-packages/sklearn/metrics/classification.py:1113: UndefinedMetricWarning: Precision is ill-defined and being set to 0.0 in labels with no predicted samples.\n",
      "  'precision', 'predicted', average, warn_for)\n",
      "/Users/Rachel/.pyenv/versions/py36_env/lib/python3.6/site-packages/sklearn/metrics/classification.py:1113: UndefinedMetricWarning: F-score is ill-defined and being set to 0.0 in labels with no predicted samples.\n",
      "  'precision', 'predicted', average, warn_for)\n"
     ]
    },
    {
     "data": {
      "image/png": "[encoded data removed]",
      "text/plain": [
       "<matplotlib.figure.Figure at 0x10a898eb8>"
      ]
     },
     "metadata": {},
     "output_type": "display_data"
    },
    {
     "name": "stdout",
     "output_type": "stream",
     "text": [
      "\n",
      "Y = SECUR2G (Someone received tax refund under name)\n",
      "\n",
      "\tX = DEMOGRAPHIC VARIABLES\n",
      "\tBest Parameters: {'C': 1.2589254117941673, 'gamma': 1}\n",
      "\tScoring method used: make_scorer(cohen_kappa_score))\n",
      "\tAccuracy on training data: 1.00\n",
      "\tAccuracy on test data:     0.94\n",
      "\tPrecision: 0.88\n",
      "\tRecall: 0.94\n",
      "\tF1 Score: 0.91\n",
      "\tCohen's Kappa: 0.0\n"
     ]
    },
    {
     "name": "stderr",
     "output_type": "stream",
     "text": [
      "/Users/Rachel/.pyenv/versions/py36_env/lib/python3.6/site-packages/sklearn/metrics/classification.py:1113: UndefinedMetricWarning: Precision is ill-defined and being set to 0.0 in labels with no predicted samples.\n",
      "  'precision', 'predicted', average, warn_for)\n",
      "/Users/Rachel/.pyenv/versions/py36_env/lib/python3.6/site-packages/sklearn/metrics/classification.py:1113: UndefinedMetricWarning: F-score is ill-defined and being set to 0.0 in labels with no predicted samples.\n",
      "  'precision', 'predicted', average, warn_for)\n"
     ]
    },
    {
     "data": {
      "image/png": "[encoded data removed]",
      "text/plain": [
       "<matplotlib.figure.Figure at 0x10b006470>"
      ]
     },
     "metadata": {},
     "output_type": "display_data"
    },
    {
     "name": "stdout",
     "output_type": "stream",
     "text": [
      "\n",
      "\tX = SECURITY HABIT VARIABLES\n",
      "\tBest Parameters: {'C': 1.2589254117941673, 'gamma': 1}\n",
      "\tScoring method used: make_scorer(cohen_kappa_score))\n",
      "\tAccuracy on training data: 1.00\n",
      "\tAccuracy on test data:     0.94\n",
      "\tPrecision: 0.88\n",
      "\tRecall: 0.94\n",
      "\tF1 Score: 0.91\n",
      "\tCohen's Kappa: 0.0\n"
     ]
    },
    {
     "name": "stderr",
     "output_type": "stream",
     "text": [
      "/Users/Rachel/.pyenv/versions/py36_env/lib/python3.6/site-packages/sklearn/metrics/classification.py:1113: UndefinedMetricWarning: Precision is ill-defined and being set to 0.0 in labels with no predicted samples.\n",
      "  'precision', 'predicted', average, warn_for)\n",
      "/Users/Rachel/.pyenv/versions/py36_env/lib/python3.6/site-packages/sklearn/metrics/classification.py:1113: UndefinedMetricWarning: F-score is ill-defined and being set to 0.0 in labels with no predicted samples.\n",
      "  'precision', 'predicted', average, warn_for)\n"
     ]
    },
    {
     "data": {
      "image/png": "[encoded data removed]",
      "text/plain": [
       "<matplotlib.figure.Figure at 0x10b526d30>"
      ]
     },
     "metadata": {},
     "output_type": "display_data"
    }
   ],
   "source": [
    "from sklearn.svm import SVC\n",
    "\n",
    "# create dictionary of parameters\n",
    "dict_params = {'C': [10**0.1, 10**0, 10**1],\n",
    "               'gamma': [10**0, 10**0.1, 10**1]}\n",
    "\n",
    "# set scoring method for cv_optimize (Cohen's Kappa)\n",
    "scorer = metrics.make_scorer(metrics.cohen_kappa_score)\n",
    "\n",
    "# Iterate through security incident columns and perform logistic regression\n",
    "for y_col in sec_cols:\n",
    "\n",
    "    if y_col != 'ID':\n",
    "        \n",
    "        print('\\nY = ' + y_col.upper() + ' (' + dict_sec_cols[y_col] + ')')\n",
    "        \n",
    "        # remove rows where y_col is don't know/refused (0)\n",
    "        #svm_df = df[df[y_col] != 0]\n",
    "        clf_df = df\n",
    "        \n",
    "        # ============= Perform SVM with demographic variables as features ============= #        \n",
    "        print('\\n\\tX = DEMOGRAPHIC VARIABLES')        \n",
    "        clf, Xtrain, ytrain, Xtest, ytest  = do_classify(clf=SVC(), \n",
    "                                                         parameters=dict_params, \n",
    "                                                         in_df=clf_df,\n",
    "                                                         feature_names=dem_cols,\n",
    "                                                         targetname=y_col,\n",
    "                                                         target1val=1,\n",
    "                                                         standardize=False,\n",
    "                                                         train_size=0.8,\n",
    "                                                         scorer=scorer)\n",
    "        \n",
    "        # ============= Perform SVM with security habit variables as features ============= #\n",
    "        print('\\n\\tX = SECURITY HABIT VARIABLES')\n",
    "        clf, Xtrain, ytrain, Xtest, ytest  = do_classify(clf=SVC(), \n",
    "                                                         parameters=dict_params, \n",
    "                                                         in_df=clf_df,\n",
    "                                                         feature_names=hab_cols,\n",
    "                                                         targetname=y_col,\n",
    "                                                         target1val=1,\n",
    "                                                         standardize=False,\n",
    "                                                         train_size=0.8,\n",
    "                                                         scorer=scorer)"
   ]
  },
  {
   "cell_type": "markdown",
   "metadata": {},
   "source": [
    "<div class=\"alert alert-success\">\n",
    "<h1>CLUSTERING</h1>\n",
    "</div>"
   ]
  },
  {
   "cell_type": "markdown",
   "metadata": {},
   "source": [
    "### Calculate best k function\n",
    "Given a set of columns and a range of k values, performs kmeans clustering, calculates the highest average silhouette score, and return k with largest score"
   ]
  },
  {
   "cell_type": "code",
   "execution_count": 24,
   "metadata": {
    "collapsed": false
   },
   "outputs": [],
   "source": [
    "from sklearn.metrics import silhouette_samples, silhouette_score\n",
    "from sklearn.cluster import KMeans\n",
    "\n",
    "def calc_best_k(x_cols, k_range):\n",
    "    \n",
    "    best_score = -np.inf\n",
    "    best_k = -np.inf\n",
    "    \n",
    "    for k in k_range:\n",
    "        \n",
    "        clusterer = KMeans(n_clusters = k)\n",
    "        cluster_labels = clusterer.fit_predict(x_cols)\n",
    "    \n",
    "        silhouette_avg = silhouette_score(x_cols, cluster_labels)\n",
    "        \n",
    "        if silhouette_avg > best_score:\n",
    "            best_score = silhouette_avg\n",
    "            best_k = k\n",
    "\n",
    "    print('\\tHighest average silhouette score ({:.3f}) was for {:d} clusters'.format(best_score, best_k))\n",
    "    \n",
    "    return best_k"
   ]
  },
  {
   "cell_type": "markdown",
   "metadata": {},
   "source": [
    "### Perform clustering"
   ]
  },
  {
   "cell_type": "code",
   "execution_count": 25,
   "metadata": {
    "collapsed": false,
    "scrolled": false
   },
   "outputs": [
    {
     "name": "stdout",
     "output_type": "stream",
     "text": [
      "\n",
      "Y = SECUR2A (SSN compromised)\n",
      "\n",
      "\tX = DEMOGRAPHIC VARIABLES\n",
      "\tHighest average silhouette score (0.763) was for 2 clusters\n",
      "\tAdjusted Rand Index: -0.013\n",
      "\n",
      "\tX = SECURITY HABIT VARIABLES\n",
      "\tHighest average silhouette score (0.174) was for 4 clusters\n",
      "\tAdjusted Rand Index: -0.009\n",
      "\n",
      "Y = SECUR2B (Other sensitive info compromised)\n",
      "\n",
      "\tX = DEMOGRAPHIC VARIABLES\n",
      "\tHighest average silhouette score (0.763) was for 2 clusters\n",
      "\tAdjusted Rand Index: -0.008\n",
      "\n",
      "\tX = SECURITY HABIT VARIABLES\n",
      "\tHighest average silhouette score (0.174) was for 4 clusters\n",
      "\tAdjusted Rand Index: -0.001\n",
      "\n",
      "Y = SECUR2C (Fraudulent charges on credit/debit card)\n",
      "\n",
      "\tX = DEMOGRAPHIC VARIABLES\n",
      "\tHighest average silhouette score (0.763) was for 2 clusters\n",
      "\tAdjusted Rand Index: 0.001\n",
      "\n",
      "\tX = SECURITY HABIT VARIABLES\n",
      "\tHighest average silhouette score (0.174) was for 4 clusters\n",
      "\tAdjusted Rand Index: 0.009\n",
      "\n",
      "Y = SECUR2D (Someone took over email)\n",
      "\n",
      "\tX = DEMOGRAPHIC VARIABLES\n",
      "\tHighest average silhouette score (0.763) was for 2 clusters\n",
      "\tAdjusted Rand Index: -0.027\n",
      "\n",
      "\tX = SECURITY HABIT VARIABLES\n",
      "\tHighest average silhouette score (0.174) was for 4 clusters\n",
      "\tAdjusted Rand Index: -0.008\n",
      "\n",
      "Y = SECUR2E (Someone took over social media account)\n",
      "\n",
      "\tX = DEMOGRAPHIC VARIABLES\n",
      "\tHighest average silhouette score (0.763) was for 2 clusters\n",
      "\tAdjusted Rand Index: 0.010\n",
      "\n",
      "\tX = SECURITY HABIT VARIABLES\n",
      "\tHighest average silhouette score (0.174) was for 4 clusters\n",
      "\tAdjusted Rand Index: 0.158\n",
      "\n",
      "Y = SECUR2F (Someone opened line of credit/applied for loan under name)\n",
      "\n",
      "\tX = DEMOGRAPHIC VARIABLES\n",
      "\tHighest average silhouette score (0.763) was for 2 clusters\n",
      "\tAdjusted Rand Index: 0.004\n",
      "\n",
      "\tX = SECURITY HABIT VARIABLES\n",
      "\tHighest average silhouette score (0.174) was for 4 clusters\n",
      "\tAdjusted Rand Index: 0.006\n",
      "\n",
      "Y = SECUR2G (Someone received tax refund under name)\n",
      "\n",
      "\tX = DEMOGRAPHIC VARIABLES\n",
      "\tHighest average silhouette score (0.763) was for 2 clusters\n",
      "\tAdjusted Rand Index: -0.019\n",
      "\n",
      "\tX = SECURITY HABIT VARIABLES\n",
      "\tHighest average silhouette score (0.174) was for 4 clusters\n",
      "\tAdjusted Rand Index: 0.006\n"
     ]
    }
   ],
   "source": [
    "from sklearn import metrics\n",
    "from sklearn.cluster import KMeans\n",
    "\n",
    "dict_params = {'k': [2, 3, 4, 5]}\n",
    "\n",
    "# Iterate through security incident columns perform clustering\n",
    "for y_col in sec_cols:\n",
    "\n",
    "    if y_col != 'ID':\n",
    "        \n",
    "        print('\\nY = ' + y_col.upper() + ' (' + dict_sec_cols[y_col] + ')')\n",
    "        \n",
    "        # ============= Perform clustering with demographic variables as features ============= #        \n",
    "        print('\\n\\tX = DEMOGRAPHIC VARIABLES') \n",
    "        \n",
    "        x_cols = np.matrix(df_dem.ix[:, 1:])\n",
    "        k_range = range(2,5)\n",
    "        k = calc_best_k(x_cols, k_range)\n",
    "        \n",
    "        # create model\n",
    "        clusterer = KMeans(n_clusters = k)\n",
    "        cluster_labels = clusterer.fit_predict(x_cols)\n",
    "        \n",
    "        # calculate and print adjusted Rand index\n",
    "        adjrand = metrics.adjusted_rand_score(df[y_col], cluster_labels)\n",
    "        print('\\tAdjusted Rand Index: {:.3f}'.format(adjrand))\n",
    "        \n",
    "        # ============= Perform clustering with security habit variables as features ============= #        \n",
    "        print('\\n\\tX = SECURITY HABIT VARIABLES')\n",
    "        \n",
    "        x_cols = np.matrix(df_hab.ix[:, 1:])\n",
    "        k_range = range(2,5)\n",
    "        k = calc_best_k(x_cols, k_range)\n",
    "        \n",
    "        clusterer = KMeans(n_clusters = k)\n",
    "        cluster_labels = clusterer.fit_predict(x_cols)\n",
    "        n_clusters = len(cluster_labels)\n",
    "        \n",
    "        # calculate and print adjusted Rand index\n",
    "        adjrand = metrics.adjusted_rand_score(df[y_col], cluster_labels)\n",
    "        print('\\tAdjusted Rand Index: {:.3f}'.format(adjrand))"
   ]
  },
  {
   "cell_type": "markdown",
   "metadata": {},
   "source": [
    "<div class=\"alert alert-success\">\n",
    "<h1>DBSCAN</h1>\n",
    "</div>"
   ]
  },
  {
   "cell_type": "markdown",
   "metadata": {},
   "source": [
    "### Calculate best min_samples function\n",
    "Given a set of columns and a range of min_samples, performs DBSCAN, calculates the highest average silhouette score, and return min_samples with largest score"
   ]
  },
  {
   "cell_type": "code",
   "execution_count": 26,
   "metadata": {
    "collapsed": false
   },
   "outputs": [],
   "source": [
    "from sklearn.metrics import silhouette_samples, silhouette_score\n",
    "\n",
    "def calc_best_ms(x_cols, ms_range):\n",
    "    \n",
    "    best_score = -np.inf\n",
    "    best_ms = -np.inf\n",
    "    \n",
    "    for ms in ms_range:\n",
    "        \n",
    "        db = DBSCAN(min_samples = ms)       \n",
    "        labels = db.fit_predict(x_cols)      \n",
    "        silhouette_avg = silhouette_score(x_cols, labels)\n",
    "        \n",
    "        if silhouette_avg > best_score:\n",
    "            best_score = silhouette_avg\n",
    "            best_ms = ms\n",
    "\n",
    "    print('\\tHighest average silhouette score ({:.3f}) was for {:d} min_samples'.format(best_score, best_ms))\n",
    "    \n",
    "    return best_ms"
   ]
  },
  {
   "cell_type": "markdown",
   "metadata": {},
   "source": [
    "### Perform DBSCAN"
   ]
  },
  {
   "cell_type": "code",
   "execution_count": 27,
   "metadata": {
    "collapsed": false,
    "scrolled": false
   },
   "outputs": [
    {
     "name": "stdout",
     "output_type": "stream",
     "text": [
      "\n",
      "Y = SECUR2A (SSN compromised)\n",
      "\n",
      "\tX = SECURITY HABIT VARIABLES\n",
      "\tHighest average silhouette score (0.133) was for 12 min_samples\n",
      "\tEstimated number of clusters: 2\n",
      "\tAdjusted Rand Index: -0.009\n",
      "\n",
      "Y = SECUR2B (Other sensitive info compromised)\n",
      "\n",
      "\tX = SECURITY HABIT VARIABLES\n",
      "\tHighest average silhouette score (0.133) was for 12 min_samples\n",
      "\tEstimated number of clusters: 2\n",
      "\tAdjusted Rand Index: -0.001\n",
      "\n",
      "Y = SECUR2C (Fraudulent charges on credit/debit card)\n",
      "\n",
      "\tX = SECURITY HABIT VARIABLES\n",
      "\tHighest average silhouette score (0.133) was for 12 min_samples\n",
      "\tEstimated number of clusters: 2\n",
      "\tAdjusted Rand Index: 0.008\n",
      "\n",
      "Y = SECUR2D (Someone took over email)\n",
      "\n",
      "\tX = SECURITY HABIT VARIABLES\n",
      "\tHighest average silhouette score (0.133) was for 12 min_samples\n",
      "\tEstimated number of clusters: 2\n",
      "\tAdjusted Rand Index: -0.008\n",
      "\n",
      "Y = SECUR2E (Someone took over social media account)\n",
      "\n",
      "\tX = SECURITY HABIT VARIABLES\n",
      "\tHighest average silhouette score (0.133) was for 12 min_samples\n",
      "\tEstimated number of clusters: 2\n",
      "\tAdjusted Rand Index: 0.158\n",
      "\n",
      "Y = SECUR2F (Someone opened line of credit/applied for loan under name)\n",
      "\n",
      "\tX = SECURITY HABIT VARIABLES\n",
      "\tHighest average silhouette score (0.133) was for 12 min_samples\n",
      "\tEstimated number of clusters: 2\n",
      "\tAdjusted Rand Index: 0.007\n",
      "\n",
      "Y = SECUR2G (Someone received tax refund under name)\n",
      "\n",
      "\tX = SECURITY HABIT VARIABLES\n",
      "\tHighest average silhouette score (0.133) was for 12 min_samples\n",
      "\tEstimated number of clusters: 2\n",
      "\tAdjusted Rand Index: 0.006\n"
     ]
    }
   ],
   "source": [
    "from sklearn.cluster import DBSCAN\n",
    "\n",
    "# Iterate through security incident columns perform clustering\n",
    "for y_col in sec_cols:\n",
    "\n",
    "    if y_col != 'ID':\n",
    "        \n",
    "        print('\\nY = ' + y_col.upper() + ' (' + dict_sec_cols[y_col] + ')')\n",
    "        \n",
    "        # ============= Perform DBSCAN with security habit variables as features ============= #        \n",
    "        print('\\n\\tX = SECURITY HABIT VARIABLES') \n",
    "        \n",
    "        x_cols = np.matrix(df_hab.ix[:, 1:])\n",
    "        ms_range = range(2,20)\n",
    "        ms = calc_best_ms(x_cols, ms_range)\n",
    "        \n",
    "        db = DBSCAN(min_samples = ms)\n",
    "        db.fit(x_cols)\n",
    "        labels = db.labels_\n",
    "        n_clusters_ = len(set(labels)) - (1 if -1 in labels else 0)\n",
    "        print('\\tEstimated number of clusters: %d' % n_clusters_)\n",
    "        \n",
    "        # calculate and print adjusted Rand index\n",
    "        adjrand = metrics.adjusted_rand_score(df[y_col], cluster_labels)\n",
    "        print('\\tAdjusted Rand Index: {:.3f}'.format(adjrand))"
   ]
  },
  {
   "cell_type": "code",
   "execution_count": null,
   "metadata": {
    "collapsed": true
   },
   "outputs": [],
   "source": []
  }
 ],
 "metadata": {
  "kernelspec": {
   "display_name": "Python 3",
   "language": "python",
   "name": "python3"
  },
  "language_info": {
   "codemirror_mode": {
    "name": "ipython",
    "version": 3
   },
   "file_extension": ".py",
   "mimetype": "text/x-python",
   "name": "python",
   "nbconvert_exporter": "python",
   "pygments_lexer": "ipython3",
   "version": "3.6.0"
  }
 },
 "nbformat": 4,
 "nbformat_minor": 2
}
