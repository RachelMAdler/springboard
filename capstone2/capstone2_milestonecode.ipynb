{
 "cells": [
  {
   "cell_type": "markdown",
   "metadata": {},
   "source": [
    "<div class=\"alert alert-success\">\n",
    "<h1>SETUP</h1>\n",
    "</div>"
   ]
  },
  {
   "cell_type": "markdown",
   "metadata": {},
   "source": [
    "## Import libraries"
   ]
  },
  {
   "cell_type": "code",
   "execution_count": 21,
   "metadata": {
    "ExecuteTime": {
     "end_time": "2017-10-19T15:26:48.861846Z",
     "start_time": "2017-10-19T11:26:48.853430-04:00"
    },
    "collapsed": true
   },
   "outputs": [],
   "source": [
    "import pandas as pd\n",
    "import numpy as np\n",
    "import os\n",
    "import re\n",
    "import matplotlib.pyplot as plt\n",
    "%matplotlib inline"
   ]
  },
  {
   "cell_type": "markdown",
   "metadata": {},
   "source": [
    "## Setup input"
   ]
  },
  {
   "cell_type": "code",
   "execution_count": 2,
   "metadata": {
    "ExecuteTime": {
     "end_time": "2017-10-19T15:25:36.227648Z",
     "start_time": "2017-10-19T11:25:36.218489-04:00"
    },
    "collapsed": false
   },
   "outputs": [],
   "source": [
    "def setup_input():\n",
    "\n",
    "    colnames = ['user', 'user_id', 'tweet_id', 'text', 'hashtags',\n",
    "                'tweet_date', 'user_start', 'followers_count',\n",
    "                'friends', 'total_tweets', 'location', 'timezone',\n",
    "                'user_tweet_id', 'sarcasm', 'sarcastic', 'irony',\n",
    "                'ironic', 'happy', 'sad', 'seriously']\n",
    "    \n",
    "    dtypes_file = {'user':str, 'user_id':str, 'tweet_id':str, 'text':str, 'hashtags':str,\n",
    "                'tweet_date':str, 'user_start':str, 'followers_count':str,\n",
    "                'friends':str, 'total_tweets':str, 'location':str, 'timezone':str,\n",
    "                'user_tweet_id':str, 'sarcasm':str, 'sarcastic':str, 'irony':str,\n",
    "                'ironic':str, 'happy':str, 'sad':str, 'seriously':str}\n",
    "    \n",
    "    return colnames, dtypes_file"
   ]
  },
  {
   "cell_type": "markdown",
   "metadata": {},
   "source": [
    "## Read in raw data"
   ]
  },
  {
   "cell_type": "code",
   "execution_count": 3,
   "metadata": {
    "ExecuteTime": {
     "end_time": "2017-10-19T15:25:37.124719Z",
     "start_time": "2017-10-19T11:25:37.101052-04:00"
    },
    "collapsed": false
   },
   "outputs": [],
   "source": [
    "def get_input(path, num_files, hashtags):\n",
    "    \n",
    "    get_time('Start time: ')\n",
    "    \n",
    "    df = pd.DataFrame()\n",
    "    num_file = 0\n",
    "    \n",
    "    # Set up for getting input\n",
    "    colnames, dtypes_file = setup_input()\n",
    "\n",
    "    # Calculate and print total number of folders and files\n",
    "    _, files = get_num_folders_files(path)\n",
    "\n",
    "    # iterate through files (containing tweets) in folder:\n",
    "    for i in next(os.walk(path))[2]:\n",
    "\n",
    "        if not i.startswith('hashtag'):\n",
    "            continue\n",
    "\n",
    "        num_file += 1\n",
    "        \n",
    "        if num_file >= num_files:\n",
    "            break\n",
    "\n",
    "        print_str = 'Importing file: ' + str(i) + ' (#' + str(num_file) + ' of ' + str(files) + '), time: '\n",
    "        get_time(print_str)\n",
    "\n",
    "        fullpath = os.path.join(str(path), str(i))\n",
    "        \n",
    "        df_temp = pd.read_csv(filepath_or_buffer = fullpath, sep = '\\t',\n",
    "                                  names=colnames, error_bad_lines=True,\n",
    "                                  dtype=dtypes_file, encoding='utf-8')\n",
    "        \n",
    "        # clean file\n",
    "        df_temp = clean_file(df_temp, hashtags)\n",
    "\n",
    "        # if first csv in group, save as df:   \n",
    "        if num_file == 1:\n",
    "            df = df_temp\n",
    "        else:\n",
    "            df = df.append(df_temp)\n",
    "                \n",
    "    get_time('\\nDone! End time: ')\n",
    "    \n",
    "    return df"
   ]
  },
  {
   "cell_type": "markdown",
   "metadata": {},
   "source": [
    "## Read in dataframes"
   ]
  },
  {
   "cell_type": "code",
   "execution_count": 4,
   "metadata": {
    "ExecuteTime": {
     "end_time": "2017-10-19T15:25:40.865080Z",
     "start_time": "2017-10-19T11:25:40.837787-04:00"
    },
    "collapsed": false
   },
   "outputs": [],
   "source": [
    "def read_in_dfs(df_list, hashtags):\n",
    "    \n",
    "    colnames = ['user_tweet_id', 'user', 'user_id', 'tweet_id', 'text', 'hashtags',\n",
    "                'tweet_date', 'user_start', 'followers_count',\n",
    "                'friends', 'total_tweets', 'location', 'timezone',\n",
    "                'sarcasm', 'sarcastic', 'irony', 'ironic', 'happy',\n",
    "                'sad', 'seriously', 'num_ht']\n",
    "    \n",
    "    dtypes_file = {'user_tweet_id':str, 'user':str, 'user_id':str, 'tweet_id':str, 'text':str, 'hashtags':str,\n",
    "                'tweet_date':str, 'user_start':str, 'followers_count':str,\n",
    "                'friends':str, 'total_tweets':str, 'location':str, 'timezone':str,\n",
    "                'sarcasm':str, 'sarcastic':str, 'irony':str, 'ironic':str, 'happy':str,\n",
    "                'sad':str, 'seriously':str, 'num_ht': str}\n",
    "    \n",
    "    dict_dfs = {}\n",
    "\n",
    "    for i in range(0, len(df_list)):\n",
    "\n",
    "        key = df_list[i]\n",
    "        path = './hashtag_dfs/' + df_list[i] + '.txt'\n",
    "        df = pd.read_csv(filepath_or_buffer = path, sep = '\\t',\n",
    "                         names = colnames, error_bad_lines = True,\n",
    "                         dtype=dtypes_file, encoding = 'utf-8')\n",
    "        \n",
    "        df = clean_file(df, hashtags)\n",
    "        \n",
    "        value = df\n",
    "        dict_dfs[key] = value \n",
    "        \n",
    "        print('Dataframe ' + df_list[i] + ' loaded, length = {:,}.'.format(len(df)))\n",
    "\n",
    "    return dict_dfs"
   ]
  },
  {
   "cell_type": "markdown",
   "metadata": {},
   "source": [
    "## Clean file"
   ]
  },
  {
   "cell_type": "code",
   "execution_count": 5,
   "metadata": {
    "ExecuteTime": {
     "end_time": "2017-10-19T15:25:42.233696Z",
     "start_time": "2017-10-19T11:25:42.223418-04:00"
    },
    "collapsed": true
   },
   "outputs": [],
   "source": [
    "def clean_file(df, hashtags):\n",
    "    \n",
    "    # Remove first row (duplicate with column names)\n",
    "    df = df.iloc[1:]\n",
    "    \n",
    "    # Convert numeric columns to integers:\n",
    "    pd.to_numeric(df['followers_count'], errors='coerce')\n",
    "    pd.to_numeric(df['friends'], errors='coerce')\n",
    "    pd.to_numeric(df['total_tweets'], errors='coerce')\n",
    "    \n",
    "    df['followers_count'] = df['followers_count'].astype(int)\n",
    "    df['friends'] = df['friends'].astype(int)\n",
    "    df['total_tweets'] = df['total_tweets'].astype(int)\n",
    "    \n",
    "    for ht in hashtags:\n",
    "        pd.to_numeric(df[ht], errors ='coerce')\n",
    "        df[ht] = df[ht].astype(int)\n",
    "        \n",
    "    return df"
   ]
  },
  {
   "cell_type": "markdown",
   "metadata": {},
   "source": [
    "## Get number of folders and files"
   ]
  },
  {
   "cell_type": "code",
   "execution_count": 6,
   "metadata": {
    "ExecuteTime": {
     "end_time": "2017-10-19T15:25:42.588158Z",
     "start_time": "2017-10-19T11:25:42.581514-04:00"
    },
    "collapsed": true
   },
   "outputs": [],
   "source": [
    "def get_num_folders_files(path):\n",
    "    \n",
    "    folders = 0\n",
    "    files = 0\n",
    "\n",
    "    for _, dirnames, filenames in os.walk(path):\n",
    "        folders += len(dirnames)\n",
    "        files += len(filenames)\n",
    "    \n",
    "    print('\\nThere are {:,} total folders and {:,} total files.'.format(folders, files))\n",
    "    \n",
    "    return folders, files"
   ]
  },
  {
   "cell_type": "markdown",
   "metadata": {},
   "source": [
    "## Get time"
   ]
  },
  {
   "cell_type": "code",
   "execution_count": 7,
   "metadata": {
    "ExecuteTime": {
     "end_time": "2017-10-19T15:25:43.216582Z",
     "start_time": "2017-10-19T11:25:43.207528-04:00"
    },
    "collapsed": true
   },
   "outputs": [],
   "source": [
    "import datetime\n",
    "\n",
    "def get_time(print_string):\n",
    "\n",
    "    now = datetime.datetime.now()\n",
    "    hour=int(now.hour)\n",
    "    minute=int(now.minute)\n",
    "    second=int(now.second)\n",
    "    \n",
    "    if(len(str(abs(minute)))) == 1:\n",
    "        minute_str = \"0\" + str(minute)\n",
    "    else:\n",
    "        minute_str = str(minute)    \n",
    "    \n",
    "    if print_string != \"\":\n",
    "        print(print_string + str(hour) + \":\" + str(minute_str) + \":\" + str(second))\n",
    "    else:\n",
    "        return hour, minute_str, second"
   ]
  },
  {
   "cell_type": "markdown",
   "metadata": {},
   "source": [
    "<div class=\"alert alert-success\">\n",
    "<h1>DATA CLEANING</h1>\n",
    "</div>"
   ]
  },
  {
   "cell_type": "markdown",
   "metadata": {},
   "source": [
    "## Clean data\n",
    "Drop rows with missing tweet text and report total number of tweets and users"
   ]
  },
  {
   "cell_type": "code",
   "execution_count": 8,
   "metadata": {
    "ExecuteTime": {
     "end_time": "2017-10-19T15:25:44.301019Z",
     "start_time": "2017-10-19T11:25:44.293591-04:00"
    },
    "collapsed": true
   },
   "outputs": [],
   "source": [
    "def clean_data(df):\n",
    "    \n",
    "    # drop rows with missing tweet text\n",
    "    df = df[~df.text.isnull()]\n",
    "    \n",
    "    # if index hasn't been set already\n",
    "    if df.index.name == None:\n",
    "        # remove duplicate tweets\n",
    "        df = df.drop_duplicates(subset='user_tweet_id', keep = 'first')\n",
    "        # set index to 'user_tweet_id' column\n",
    "        df = df.set_index(['user_tweet_id'])\n",
    "    \n",
    "    # encode tweet text as utf-8\n",
    "    col_text = df.columns.get_loc('text')\n",
    "    for i in range(0,len(df)):\n",
    "        df.iloc[i,col_text].encode('utf-8')\n",
    "\n",
    "    return df"
   ]
  },
  {
   "cell_type": "markdown",
   "metadata": {},
   "source": [
    "## Count total hashtags"
   ]
  },
  {
   "cell_type": "code",
   "execution_count": 9,
   "metadata": {
    "ExecuteTime": {
     "end_time": "2017-10-19T15:25:44.659459Z",
     "start_time": "2017-10-19T11:25:44.655035-04:00"
    },
    "collapsed": true
   },
   "outputs": [],
   "source": [
    "def count_total_ht(df):\n",
    "    \n",
    "    df['num_ht'] = 0\n",
    "    df['num_ht'][df['hashtags'] != '[]'] = df.hashtags.str.count(',')+1\n",
    "\n",
    "    return df"
   ]
  },
  {
   "cell_type": "markdown",
   "metadata": {},
   "source": [
    "## Count hashtags"
   ]
  },
  {
   "cell_type": "code",
   "execution_count": 10,
   "metadata": {
    "ExecuteTime": {
     "end_time": "2017-10-19T15:25:45.478556Z",
     "start_time": "2017-10-19T11:25:45.471929-04:00"
    },
    "collapsed": false
   },
   "outputs": [],
   "source": [
    "def count_ht(df, perform_subset, ht):\n",
    "\n",
    "    if perform_subset == True:\n",
    "        \n",
    "        df = df[df[ht] == 1]\n",
    "    \n",
    "    n_tweets = len(df)\n",
    "    n_users = df.user.unique().size\n",
    "\n",
    "    print('\\nNumber of tweets with {} hashtag: {:,d}'.format(ht, n_tweets))\n",
    "    print('Number of users with {} hashtag: {:,d}'.format(ht, n_users))"
   ]
  },
  {
   "cell_type": "markdown",
   "metadata": {
    "ExecuteTime": {
     "end_time": "2017-10-17T15:29:58.557883Z",
     "start_time": "2017-10-17T11:29:58.551523-04:00"
    }
   },
   "source": [
    "<div class=\"alert alert-success\">\n",
    "<h1>EXPLORATORY DATA ANALYSIS</h1>\n",
    "</div>"
   ]
  },
  {
   "cell_type": "markdown",
   "metadata": {},
   "source": [
    "## Get summary stats by hashtag"
   ]
  },
  {
   "cell_type": "code",
   "execution_count": 11,
   "metadata": {
    "ExecuteTime": {
     "end_time": "2017-10-19T15:25:47.253898Z",
     "start_time": "2017-10-19T11:25:47.245156-04:00"
    },
    "collapsed": true
   },
   "outputs": [],
   "source": [
    "def get_stats(df, ht):\n",
    "    \n",
    "    df = df.drop_duplicates(subset = 'user', keep = 'first')\n",
    "    \n",
    "    print('\\nSUMMARY STATS FOR \"{}\" HASHTAG'.format(ht.upper()))\n",
    "    \n",
    "    cols = ['followers_count', 'friends', 'total_tweets']\n",
    "    \n",
    "    print('\\n\\tTotal users: {:,}'.format(df.user.unique().size))\n",
    "    \n",
    "    for i in cols:\n",
    "        \n",
    "        col = df[i]\n",
    "    \n",
    "        print('\\n\\t{}'.format(i.upper()),\n",
    "              '\\n\\tMean: {:,.1f}'.format(np.mean(col)),\n",
    "              '\\n\\tSD: {:,.1f}'.format(np.std(col)),\n",
    "              '\\n\\tRange: {:,.1f} to {:,.1f}'.format(col.min(), col.max()))"
   ]
  },
  {
   "cell_type": "markdown",
   "metadata": {},
   "source": [
    "## Calculate number of hashtag uses\n",
    "Given a dataframe and a hashtag as input, calculate and display the number of users that used the hashtag"
   ]
  },
  {
   "cell_type": "code",
   "execution_count": 12,
   "metadata": {
    "ExecuteTime": {
     "end_time": "2017-10-19T15:25:47.699860Z",
     "start_time": "2017-10-19T11:25:47.691016-04:00"
    },
    "collapsed": true
   },
   "outputs": [],
   "source": [
    "def calc_num_ht_uses(df, ht):\n",
    "    \n",
    "    # calculate number of tweets each user made\n",
    "    df_counts = df.groupby('user').sum() \n",
    "    \n",
    "    print(\"\\n\\tNumber of users that used '\" + str(ht) + \"' hashtag X times:\")\n",
    "\n",
    "    for i in range(1,6,1):\n",
    "        ct = len(df_counts[(df_counts[ht] == i)])\n",
    "        print('\\tX = ' + str(i) + ' time(s): {:,}'.format(ct))\n",
    "\n",
    "    print(\"\\n\\tNumber of users that used '\" + str(ht) + \"' hashtag more than X times:\")\n",
    "\n",
    "    ct = len(df_counts[(df_counts[ht] > 5)])\n",
    "    print('\\tX > ' + str(5) + ' times: {:,}'.format(ct))"
   ]
  },
  {
   "cell_type": "markdown",
   "metadata": {},
   "source": [
    "## Make histogram"
   ]
  },
  {
   "cell_type": "code",
   "execution_count": 13,
   "metadata": {
    "ExecuteTime": {
     "end_time": "2017-10-19T15:25:48.171599Z",
     "start_time": "2017-10-19T11:25:48.158308-04:00"
    },
    "collapsed": true
   },
   "outputs": [],
   "source": [
    "def make_hist(df, col, num_grps, xlabel, ylabel, title, filename):\n",
    "    \n",
    "    # convert column to string\n",
    "    df[col] = df[col].astype(str)\n",
    "\n",
    "    # remove missing values\n",
    "    df = df[df[col] != 'nan']\n",
    "\n",
    "    df[col].value_counts()[0:num_grps].plot(kind = 'bar')\n",
    "    plt.xlabel(xlabel)\n",
    "    plt.xticks(rotation=0)\n",
    "    plt.ylabel(ylabel)\n",
    "    plt.title(title + '\\n')\n",
    "    plt.xticks(rotation=90)\n",
    "    \n",
    "    # Get current size\n",
    "    fig_size = plt.rcParams[\"figure.figsize\"]    \n",
    "    fig_size[0] = 5\n",
    "    fig_size[1] = 3\n",
    "    plt.rcParams[\"figure.figsize\"] = fig_size\n",
    "    \n",
    "    if filename != '':\n",
    "        filepath = './graphs/' + filename + '.png'\n",
    "        plt.savefig(filepath, bbox_inches='tight')"
   ]
  },
  {
   "cell_type": "markdown",
   "metadata": {},
   "source": [
    "<div class=\"alert alert-success\">\n",
    "<h1>MAIN CODE</h1>\n",
    "</div>"
   ]
  },
  {
   "cell_type": "code",
   "execution_count": 14,
   "metadata": {
    "ExecuteTime": {
     "end_time": "2017-10-19T15:26:09.513784Z",
     "start_time": "2017-10-19T11:26:03.753015-04:00"
    },
    "collapsed": false,
    "scrolled": true
   },
   "outputs": [
    {
     "name": "stdout",
     "output_type": "stream",
     "text": [
      "Dataframes already exist, loading now.\n"
     ]
    },
    {
     "name": "stderr",
     "output_type": "stream",
     "text": [
      "/Users/Rachel/.pyenv/versions/py36_env/lib/python3.6/site-packages/ipykernel_launcher.py:11: SettingWithCopyWarning: \n",
      "A value is trying to be set on a copy of a slice from a DataFrame.\n",
      "Try using .loc[row_indexer,col_indexer] = value instead\n",
      "\n",
      "See the caveats in the documentation: http://pandas.pydata.org/pandas-docs/stable/indexing.html#indexing-view-versus-copy\n",
      "  # This is added back by InteractiveShellApp.init_path()\n",
      "/Users/Rachel/.pyenv/versions/py36_env/lib/python3.6/site-packages/ipykernel_launcher.py:12: SettingWithCopyWarning: \n",
      "A value is trying to be set on a copy of a slice from a DataFrame.\n",
      "Try using .loc[row_indexer,col_indexer] = value instead\n",
      "\n",
      "See the caveats in the documentation: http://pandas.pydata.org/pandas-docs/stable/indexing.html#indexing-view-versus-copy\n",
      "  if sys.path[0] == '':\n",
      "/Users/Rachel/.pyenv/versions/py36_env/lib/python3.6/site-packages/ipykernel_launcher.py:13: SettingWithCopyWarning: \n",
      "A value is trying to be set on a copy of a slice from a DataFrame.\n",
      "Try using .loc[row_indexer,col_indexer] = value instead\n",
      "\n",
      "See the caveats in the documentation: http://pandas.pydata.org/pandas-docs/stable/indexing.html#indexing-view-versus-copy\n",
      "  del sys.path[0]\n",
      "/Users/Rachel/.pyenv/versions/py36_env/lib/python3.6/site-packages/ipykernel_launcher.py:17: SettingWithCopyWarning: \n",
      "A value is trying to be set on a copy of a slice from a DataFrame.\n",
      "Try using .loc[row_indexer,col_indexer] = value instead\n",
      "\n",
      "See the caveats in the documentation: http://pandas.pydata.org/pandas-docs/stable/indexing.html#indexing-view-versus-copy\n"
     ]
    },
    {
     "name": "stdout",
     "output_type": "stream",
     "text": [
      "Dataframe tweets_all loaded, length = 95,860.\n",
      "Dataframe tweets_sarcasm loaded, length = 30,910.\n",
      "Dataframe tweets_sad loaded, length = 40,861.\n",
      "Dataframe tweets_happy loaded, length = 12,639.\n",
      "Dataframe tweets_seriously loaded, length = 11,450.\n"
     ]
    }
   ],
   "source": [
    "input_path = './hashtag_tweets/'\n",
    "\n",
    "num_files = np.inf\n",
    "hashtags = ['sarcasm','sarcastic','irony','ironic','happy','sad','seriously']\n",
    "\n",
    "\"\"\"Check whether hashtag dataframes already exist\"\"\"\n",
    "df_list = ['tweets_all', 'tweets_sarcasm', 'tweets_sad', 'tweets_happy', 'tweets_seriously']\n",
    "\n",
    "for df in df_list:\n",
    "    filepath = './hashtag_dfs/' + df + '.txt'\n",
    "    if not os.path.isfile(filepath):        \n",
    "        dfs_exist = False\n",
    "    else:\n",
    "        dfs_exist = True\n",
    "\n",
    "if dfs_exist == False:\n",
    "    \"\"\"if hashtag dataframes DON'T already exist, get input and create them\"\"\"\n",
    "    \n",
    "    print('Dataframes do not exist, creating now.')\n",
    "    tweets_all = get_input(input_path, num_files, hashtags)\n",
    "else:\n",
    "    \"\"\"if hashtag dataframes DO already exist, load them\"\"\"\n",
    "\n",
    "    print('Dataframes already exist, loading now.')\n",
    "    \n",
    "    dict_dfs = read_in_dfs(df_list, hashtags)\n",
    "    tweets_all = dict_dfs['tweets_all']    \n",
    "    tweets_sarcasm = dict_dfs['tweets_sarcasm']    \n",
    "    tweets_happy = dict_dfs['tweets_happy']    \n",
    "    tweets_sad = dict_dfs['tweets_sad']    \n",
    "    tweets_seriously = dict_dfs['tweets_seriously']"
   ]
  },
  {
   "cell_type": "code",
   "execution_count": 15,
   "metadata": {
    "ExecuteTime": {
     "end_time": "2017-10-19T15:26:11.973405Z",
     "start_time": "2017-10-19T11:26:11.871075-04:00"
    },
    "collapsed": false
   },
   "outputs": [],
   "source": [
    "\"\"\"If dataframes do NOT exist, create them and save them as text files\"\"\"\n",
    "if dfs_exist == False:\n",
    "    \n",
    "    # subset data to tweets with only one hashtag\n",
    "    tweets_all = count_total_ht(tweets_all)\n",
    "    tweets_all = tweets_all[tweets_all.num_ht == 1]\n",
    "    \n",
    "    # remove duplicate tweets & drop rows with no tweet text\n",
    "    tweets_all = clean_data(tweets_all)\n",
    "    \n",
    "    # create subset dataframes\n",
    "    tweets_sarcasm = tweets_all[tweets_all.sarcasm == 1]\n",
    "    tweets_happy = tweets_all[tweets_all.happy == 1]\n",
    "    tweets_sad = tweets_all[tweets_all.sad == 1]\n",
    "    tweets_seriously = tweets_all[tweets_all.seriously == 1]\n",
    "    \n",
    "    # only include tweets with hashtag at end \n",
    "    pattern = r'\\bsarcasm\\b$'\n",
    "    tweets_sarcasm = tweets_sarcasm[(tweets_sarcasm['text'].str.contains(pattern, case=False, na=False, regex=True))]\n",
    "\n",
    "    pattern = r'\\bhappy\\b$'\n",
    "    tweets_happy = tweets_happy[(tweets_happy['text'].str.contains(pattern, case=False, na=False, regex=True))]\n",
    "\n",
    "    pattern = r'\\bsad\\b$'\n",
    "    tweets_sad = tweets_sad[(tweets_sad['text'].str.contains(pattern, case=False, na=False, regex=True))]\n",
    "\n",
    "    pattern = r'\\bseriously\\b$'\n",
    "    tweets_seriously = tweets_seriously[(tweets_seriously['text'].str.contains(pattern, case=False, na=False, regex=True))]\n",
    "    \n",
    "    # remove hashtag from tweet text\n",
    "    tweets_sarcasm['text'] = tweets_sarcasm['text'].str.replace('#sarcasm', '', case=False)\n",
    "    tweets_happy['text'] = tweets_happy['text'].str.replace('#happy', '', case=False)\n",
    "    tweets_sad['text'] = tweets_sad['text'].str.replace('#sad', '', case=False)\n",
    "    tweets_seriously['text'] = tweets_seriously['text'].str.replace('#seriously', '', case=False)\n",
    "    \n",
    "    # remove URLs from tweet text\n",
    "    pattern1 = r'http\\S+'\n",
    "    pattern2 = r'www\\S+'\n",
    "    tweets_sarcasm['text'] = tweets_sarcasm['text'] .str.replace(pattern1, '')\n",
    "    tweets_sarcasm['text'] = tweets_sarcasm['text'] .str.replace(pattern2, '')\n",
    "    tweets_happy['text'] = tweets_happy['text'] .str.replace(pattern1, '')\n",
    "    tweets_happy['text'] = tweets_happy['text'] .str.replace(pattern2, '')\n",
    "    tweets_sad['text'] = tweets_sad['text'] .str.replace(pattern1, '')\n",
    "    tweets_sad['text'] = tweets_sad['text'] .str.replace(pattern2, '')\n",
    "    tweets_seriously['text'] = tweets_seriously['text'] .str.replace(pattern1, '')\n",
    "    tweets_seriously['text'] = tweets_seriously['text'] .str.replace(pattern2, '')\n",
    "\n",
    "    # create new dataframe containing all tweets for above hashtags only\n",
    "    tweets_all = pd.concat([tweets_sarcasm, tweets_happy, tweets_sad, tweets_seriously])\n",
    "    \n",
    "    # save dataframes\n",
    "    filename = 'tweets_all'\n",
    "    filepath = './hashtag_dfs/' + filename + '.txt'\n",
    "\n",
    "    # Save df if file doesn't exist\n",
    "    tweets_all.to_csv(filepath, sep = '\\t', index = True, header = True)\n",
    "\n",
    "    filename = 'tweets_sarcasm'\n",
    "    filepath = './hashtag_dfs/' + filename + '.txt'\n",
    "\n",
    "    # Save df if file doesn't exist\n",
    "    tweets_sarcasm.to_csv(filepath, sep = '\\t', index = True, header = True)\n",
    "\n",
    "    filename = 'tweets_happy'\n",
    "    filepath = './hashtag_dfs/' + filename + '.txt'\n",
    "\n",
    "    # Save df if file doesn't exist\n",
    "    tweets_happy.to_csv(filepath, sep = '\\t', index = True, header = True)\n",
    "\n",
    "    filename = 'tweets_sad'\n",
    "    filepath = './hashtag_dfs/' + filename + '.txt'\n",
    "\n",
    "    # Save df if file doesn't exist\n",
    "    tweets_sad.to_csv(filepath, sep = '\\t', index = True, header = True)\n",
    "\n",
    "    filename = 'tweets_seriously'\n",
    "    filepath = './hashtag_dfs/' + filename + '.txt'\n",
    "\n",
    "    # Save df if file doesn't exist\n",
    "    tweets_seriously.to_csv(filepath, sep = '\\t', index = True, header = True)"
   ]
  },
  {
   "cell_type": "markdown",
   "metadata": {},
   "source": [
    "### Count number of tweets and users"
   ]
  },
  {
   "cell_type": "code",
   "execution_count": 16,
   "metadata": {
    "ExecuteTime": {
     "end_time": "2017-10-19T15:26:13.764442Z",
     "start_time": "2017-10-19T11:26:13.743376-04:00"
    },
    "collapsed": false
   },
   "outputs": [
    {
     "name": "stdout",
     "output_type": "stream",
     "text": [
      "\n",
      "Number of tweets with sarcasm hashtag: 30,910\n",
      "Number of users with sarcasm hashtag: 23,509\n",
      "\n",
      "Number of tweets with happy hashtag: 12,639\n",
      "Number of users with happy hashtag: 10,149\n",
      "\n",
      "Number of tweets with sad hashtag: 40,861\n",
      "Number of users with sad hashtag: 26,456\n",
      "\n",
      "Number of tweets with seriously hashtag: 11,450\n",
      "Number of users with seriously hashtag: 9,033\n"
     ]
    }
   ],
   "source": [
    "count_ht(tweets_sarcasm, False, 'sarcasm')\n",
    "count_ht(tweets_happy, False, 'happy')\n",
    "count_ht(tweets_sad, False, 'sad')\n",
    "count_ht(tweets_seriously, False, 'seriously')"
   ]
  },
  {
   "cell_type": "markdown",
   "metadata": {},
   "source": [
    "### Get stats by hashtag"
   ]
  },
  {
   "cell_type": "code",
   "execution_count": 17,
   "metadata": {
    "ExecuteTime": {
     "end_time": "2017-10-19T15:26:15.761740Z",
     "start_time": "2017-10-19T11:26:15.477273-04:00"
    },
    "collapsed": false,
    "scrolled": false
   },
   "outputs": [
    {
     "name": "stdout",
     "output_type": "stream",
     "text": [
      "\n",
      "SUMMARY STATS FOR \"SARCASM\" HASHTAG\n",
      "\n",
      "\tTotal users: 23,509\n",
      "\n",
      "\tFOLLOWERS_COUNT \n",
      "\tMean: 868.2 \n",
      "\tSD: 35,070.6 \n",
      "\tRange: 0.0 to 5,192,273.0\n",
      "\n",
      "\tFRIENDS \n",
      "\tMean: 629.2 \n",
      "\tSD: 1,671.0 \n",
      "\tRange: 0.0 to 176,631.0\n",
      "\n",
      "\tTOTAL_TWEETS \n",
      "\tMean: 4,295.6 \n",
      "\tSD: 8,341.5 \n",
      "\tRange: 2.0 to 446,022.0\n",
      "\n",
      "\tNumber of users that used 'sarcasm' hashtag X times:\n",
      "\tX = 1 time(s): 19,213\n",
      "\tX = 2 time(s): 2,883\n",
      "\tX = 3 time(s): 773\n",
      "\tX = 4 time(s): 289\n",
      "\tX = 5 time(s): 159\n",
      "\n",
      "\tNumber of users that used 'sarcasm' hashtag more than X times:\n",
      "\tX > 5 times: 192\n",
      "\n",
      "SUMMARY STATS FOR \"HAPPY\" HASHTAG\n",
      "\n",
      "\tTotal users: 10,149\n",
      "\n",
      "\tFOLLOWERS_COUNT \n",
      "\tMean: 812.5 \n",
      "\tSD: 10,361.0 \n",
      "\tRange: 0.0 to 753,605.0\n",
      "\n",
      "\tFRIENDS \n",
      "\tMean: 693.7 \n",
      "\tSD: 2,478.5 \n",
      "\tRange: 0.0 to 223,235.0\n",
      "\n",
      "\tTOTAL_TWEETS \n",
      "\tMean: 3,851.3 \n",
      "\tSD: 5,809.7 \n",
      "\tRange: 1.0 to 175,701.0\n",
      "\n",
      "\tNumber of users that used 'happy' hashtag X times:\n",
      "\tX = 1 time(s): 8,559\n",
      "\tX = 2 time(s): 1,111\n",
      "\tX = 3 time(s): 287\n",
      "\tX = 4 time(s): 103\n",
      "\tX = 5 time(s): 41\n",
      "\n",
      "\tNumber of users that used 'happy' hashtag more than X times:\n",
      "\tX > 5 times: 48\n",
      "\n",
      "SUMMARY STATS FOR \"SAD\" HASHTAG\n",
      "\n",
      "\tTotal users: 26,456\n",
      "\n",
      "\tFOLLOWERS_COUNT \n",
      "\tMean: 1,227.3 \n",
      "\tSD: 24,606.4 \n",
      "\tRange: 0.0 to 2,136,334.0\n",
      "\n",
      "\tFRIENDS \n",
      "\tMean: 772.4 \n",
      "\tSD: 3,451.9 \n",
      "\tRange: 0.0 to 485,012.0\n",
      "\n",
      "\tTOTAL_TWEETS \n",
      "\tMean: 5,015.2 \n",
      "\tSD: 10,008.4 \n",
      "\tRange: 2.0 to 384,987.0\n",
      "\n",
      "\tNumber of users that used 'sad' hashtag X times:\n",
      "\tX = 1 time(s): 21,229\n",
      "\tX = 2 time(s): 3,047\n",
      "\tX = 3 time(s): 995\n",
      "\tX = 4 time(s): 367\n",
      "\tX = 5 time(s): 222\n",
      "\n",
      "\tNumber of users that used 'sad' hashtag more than X times:\n",
      "\tX > 5 times: 596\n",
      "\n",
      "SUMMARY STATS FOR \"SERIOUSLY\" HASHTAG\n",
      "\n",
      "\tTotal users: 9,033\n",
      "\n",
      "\tFOLLOWERS_COUNT \n",
      "\tMean: 754.7 \n",
      "\tSD: 10,321.7 \n",
      "\tRange: 0.0 to 740,765.0\n",
      "\n",
      "\tFRIENDS \n",
      "\tMean: 616.2 \n",
      "\tSD: 950.5 \n",
      "\tRange: 0.0 to 54,592.0\n",
      "\n",
      "\tTOTAL_TWEETS \n",
      "\tMean: 3,850.8 \n",
      "\tSD: 6,309.9 \n",
      "\tRange: 3.0 to 222,174.0\n",
      "\n",
      "\tNumber of users that used 'seriously' hashtag X times:\n",
      "\tX = 1 time(s): 7,692\n",
      "\tX = 2 time(s): 944\n",
      "\tX = 3 time(s): 223\n",
      "\tX = 4 time(s): 87\n",
      "\tX = 5 time(s): 28\n",
      "\n",
      "\tNumber of users that used 'seriously' hashtag more than X times:\n",
      "\tX > 5 times: 59\n"
     ]
    }
   ],
   "source": [
    "get_stats(tweets_sarcasm, 'sarcasm')\n",
    "calc_num_ht_uses(tweets_sarcasm, 'sarcasm')\n",
    "\n",
    "get_stats(tweets_happy, 'happy')\n",
    "calc_num_ht_uses(tweets_happy, 'happy')\n",
    "\n",
    "get_stats(tweets_sad, 'sad')\n",
    "calc_num_ht_uses(tweets_sad, 'sad')\n",
    "\n",
    "get_stats(tweets_seriously, 'seriously')\n",
    "calc_num_ht_uses(tweets_seriously, 'seriously')"
   ]
  },
  {
   "cell_type": "markdown",
   "metadata": {},
   "source": [
    "### Top user locations by hashtag"
   ]
  },
  {
   "cell_type": "code",
   "execution_count": 18,
   "metadata": {
    "ExecuteTime": {
     "end_time": "2017-10-19T15:26:21.441626Z",
     "start_time": "2017-10-19T11:26:21.388062-04:00"
    },
    "collapsed": false
   },
   "outputs": [
    {
     "name": "stdout",
     "output_type": "stream",
     "text": [
      "\n",
      "Sarcasm Hashtag:\n",
      "New York, NY       255\n",
      "Los Angeles, CA    250\n",
      "Chicago, IL        245\n",
      "United States      212\n",
      "Seattle, WA        172\n",
      "Name: location, dtype: int64\n",
      "\n",
      "Happy Hashtag:\n",
      "Los Angeles, CA    141\n",
      "New York, NY       132\n",
      "London             124\n",
      "Chicago, IL        119\n",
      "Washington, DC      95\n",
      "Name: location, dtype: int64\n",
      "\n",
      "Sad Hashtag:\n",
      "United States      624\n",
      "Los Angeles, CA    373\n",
      "New York, NY       352\n",
      "Chicago, IL        311\n",
      "Washington, DC     274\n",
      "Name: location, dtype: int64\n",
      "\n",
      "Seriously Hashtag:\n",
      "Seriously?         171\n",
      "Chicago, IL        126\n",
      "Washington, DC     116\n",
      "New York, NY       113\n",
      "Los Angeles, CA    112\n",
      "Name: location, dtype: int64\n"
     ]
    }
   ],
   "source": [
    "print('\\nSarcasm Hashtag:\\n{}'.format(tweets_sarcasm['location'].value_counts()[0:5]))\n",
    "print('\\nHappy Hashtag:\\n{}'.format(tweets_happy['location'].value_counts()[0:5]))\n",
    "print('\\nSad Hashtag:\\n{}'.format(tweets_sad['location'].value_counts()[0:5]))\n",
    "print('\\nSeriously Hashtag:\\n{}'.format(tweets_seriously['location'].value_counts()[0:5]))"
   ]
  },
  {
   "cell_type": "markdown",
   "metadata": {},
   "source": [
    "### Top timezones by hashtag"
   ]
  },
  {
   "cell_type": "code",
   "execution_count": 19,
   "metadata": {
    "ExecuteTime": {
     "end_time": "2017-10-19T15:26:23.833399Z",
     "start_time": "2017-10-19T11:26:23.813762-04:00"
    },
    "collapsed": false
   },
   "outputs": [
    {
     "name": "stdout",
     "output_type": "stream",
     "text": [
      "\n",
      "Sarcasm Hashtag:\n",
      "Eastern Time (US & Canada)    7334\n",
      "Central Time (US & Canada)    5323\n",
      "Pacific Time (US & Canada)    3552\n",
      "Quito                         1210\n",
      "London                        1088\n",
      "Name: timezone, dtype: int64\n",
      "\n",
      "Happy Hashtag:\n",
      "Eastern Time (US & Canada)    2631\n",
      "Central Time (US & Canada)    1964\n",
      "Pacific Time (US & Canada)    1427\n",
      "London                         779\n",
      "Quito                          662\n",
      "Name: timezone, dtype: int64\n",
      "\n",
      "Sad Hashtag:\n",
      "Eastern Time (US & Canada)    8679\n",
      "Pacific Time (US & Canada)    5107\n",
      "Central Time (US & Canada)    4978\n",
      "Quito                         1516\n",
      "Atlantic Time (Canada)        1229\n",
      "Name: timezone, dtype: int64\n",
      "\n",
      "Seriously Hashtag:\n",
      "Eastern Time (US & Canada)    2809\n",
      "Central Time (US & Canada)    2329\n",
      "Pacific Time (US & Canada)    1190\n",
      "Quito                          678\n",
      "Atlantic Time (Canada)         475\n",
      "Name: timezone, dtype: int64\n"
     ]
    }
   ],
   "source": [
    "print('\\nSarcasm Hashtag:\\n{}'.format(tweets_sarcasm['timezone'].value_counts()[0:5]))\n",
    "print('\\nHappy Hashtag:\\n{}'.format(tweets_happy['timezone'].value_counts()[0:5]))\n",
    "print('\\nSad Hashtag:\\n{}'.format(tweets_sad['timezone'].value_counts()[0:5]))\n",
    "print('\\nSeriously Hashtag:\\n{}'.format(tweets_seriously['timezone'].value_counts()[0:5]))"
   ]
  },
  {
   "cell_type": "code",
   "execution_count": 22,
   "metadata": {
    "ExecuteTime": {
     "end_time": "2017-10-19T15:26:53.828728Z",
     "start_time": "2017-10-19T11:26:53.379202-04:00"
    },
    "collapsed": false
   },
   "outputs": [
    {
     "data": {
      "image/png": "[encoded data removed]",
      "text/plain": [
       "<matplotlib.figure.Figure at 0x11128cdd8>"
      ]
     },
     "metadata": {},
     "output_type": "display_data"
    }
   ],
   "source": [
    "title = 'Number of users by timezone: #sarcasm'\n",
    "xlabel = 'Timezone'\n",
    "ylabel = 'Number of users'\n",
    "filename = 'timezones_sarcasm'\n",
    "make_hist(tweets_sarcasm, 'timezone', 10, xlabel, ylabel, title, filename)"
   ]
  },
  {
   "cell_type": "code",
   "execution_count": 23,
   "metadata": {
    "ExecuteTime": {
     "end_time": "2017-10-19T15:26:54.774539Z",
     "start_time": "2017-10-19T11:26:54.331101-04:00"
    },
    "collapsed": false
   },
   "outputs": [
    {
     "data": {
      "image/png": "[encoded data removed]",
      "text/plain": [
       "<matplotlib.figure.Figure at 0x112cacac8>"
      ]
     },
     "metadata": {},
     "output_type": "display_data"
    }
   ],
   "source": [
    "title = 'Number of users by timezone: #happy'\n",
    "xlabel = 'Timezone'\n",
    "ylabel = 'Number of users'\n",
    "filename = 'timezones_happy'\n",
    "make_hist(tweets_happy, 'timezone', 10, xlabel, ylabel, title, filename)"
   ]
  },
  {
   "cell_type": "code",
   "execution_count": 24,
   "metadata": {
    "ExecuteTime": {
     "end_time": "2017-10-19T15:26:55.269993Z",
     "start_time": "2017-10-19T11:26:54.778716-04:00"
    },
    "collapsed": false
   },
   "outputs": [
    {
     "data": {
      "image/png": "[encoded data removed]",
      "text/plain": [
       "<matplotlib.figure.Figure at 0x1112a7588>"
      ]
     },
     "metadata": {},
     "output_type": "display_data"
    }
   ],
   "source": [
    "title = 'Number of users by timezone: #sad'\n",
    "xlabel = 'Timezone'\n",
    "ylabel = 'Number of users'\n",
    "filename = 'timezones_sad'\n",
    "make_hist(tweets_sad, 'timezone', 10, xlabel, ylabel, title, filename)"
   ]
  },
  {
   "cell_type": "code",
   "execution_count": 25,
   "metadata": {
    "ExecuteTime": {
     "end_time": "2017-10-19T15:26:55.802236Z",
     "start_time": "2017-10-19T11:26:55.272555-04:00"
    },
    "collapsed": false
   },
   "outputs": [
    {
     "data": {
      "image/png": "[encoded data removed]",
      "text/plain": [
       "<matplotlib.figure.Figure at 0x1111fe240>"
      ]
     },
     "metadata": {},
     "output_type": "display_data"
    }
   ],
   "source": [
    "title = 'Number of users by timezone: #seriously'\n",
    "xlabel = 'Timezone'\n",
    "ylabel = 'Number of users'\n",
    "filename = 'timezones_seriously'\n",
    "make_hist(tweets_seriously, 'timezone', 10, xlabel, ylabel, title, filename)"
   ]
  }
 ],
 "metadata": {
  "kernelspec": {
   "display_name": "Python 3",
   "language": "python",
   "name": "python3"
  },
  "language_info": {
   "codemirror_mode": {
    "name": "ipython",
    "version": 3
   },
   "file_extension": ".py",
   "mimetype": "text/x-python",
   "name": "python",
   "nbconvert_exporter": "python",
   "pygments_lexer": "ipython3",
   "version": "3.6.0"
  }
 },
 "nbformat": 4,
 "nbformat_minor": 2
}
