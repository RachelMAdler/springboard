{
 "cells": [
  {
   "cell_type": "markdown",
   "metadata": {},
   "source": [
    "<div class=\"alert alert-success\">\n",
    "<h1>SETUP</h1>\n",
    "</div>"
   ]
  },
  {
   "cell_type": "markdown",
   "metadata": {},
   "source": [
    "## Import libraries"
   ]
  },
  {
   "cell_type": "code",
   "execution_count": 1,
   "metadata": {
    "ExecuteTime": {
     "end_time": "2017-10-24T12:56:00.101501Z",
     "start_time": "2017-10-24T08:55:59.390825-04:00"
    },
    "collapsed": true
   },
   "outputs": [],
   "source": [
    "import pandas as pd\n",
    "import numpy as np\n",
    "import os\n",
    "import re"
   ]
  },
  {
   "cell_type": "markdown",
   "metadata": {},
   "source": [
    "## Setup input"
   ]
  },
  {
   "cell_type": "code",
   "execution_count": 2,
   "metadata": {
    "ExecuteTime": {
     "end_time": "2017-10-24T12:56:00.861909Z",
     "start_time": "2017-10-24T08:56:00.854361-04:00"
    },
    "collapsed": false
   },
   "outputs": [],
   "source": [
    "def setup_input():\n",
    "\n",
    "    colnames = ['user', 'user_id', 'tweet_id', 'text', 'hashtags',\n",
    "                'tweet_date', 'user_start', 'followers_count',\n",
    "                'friends', 'total_tweets', 'location', 'timezone',\n",
    "                'user_tweet_id', 'sarcasm', 'sarcastic', 'irony',\n",
    "                'ironic', 'happy', 'sad', 'seriously']\n",
    "    \n",
    "    dtypes_file = {'user':str, 'user_id':str, 'tweet_id':str, 'text':str, 'hashtags':str,\n",
    "                'tweet_date':str, 'user_start':str, 'followers_count':str,\n",
    "                'friends':str, 'total_tweets':str, 'location':str, 'timezone':str,\n",
    "                'user_tweet_id':str, 'sarcasm':str, 'sarcastic':str, 'irony':str,\n",
    "                'ironic':str, 'happy':str, 'sad':str, 'seriously':str}\n",
    "    \n",
    "    return colnames, dtypes_file"
   ]
  },
  {
   "cell_type": "markdown",
   "metadata": {},
   "source": [
    "## Setup input"
   ]
  },
  {
   "cell_type": "code",
   "execution_count": 3,
   "metadata": {
    "ExecuteTime": {
     "end_time": "2017-10-24T12:56:01.201904Z",
     "start_time": "2017-10-24T08:56:01.193637-04:00"
    },
    "collapsed": true
   },
   "outputs": [],
   "source": [
    "def setup_input2():\n",
    "    \n",
    "    colnames = ['user_tweet_id', 'user', 'user_id', 'tweet_id', 'text',\n",
    "                'hashtags', 'tweet_date', 'user_start', 'followers_count',\n",
    "                'friends', 'total_tweets', 'location', 'timezone',\n",
    "                'sarcasm', 'sarcastic', 'irony', 'ironic', 'happy',\n",
    "                'sad', 'seriously', 'num_ht']\n",
    "\n",
    "    dtypes_file = {'user_tweet_id':str, 'user':str, 'user_id':str, 'tweet_id':str, 'text':str,\n",
    "                   'hashtags':str, 'tweet_date':str, 'user_start':str, 'followers_count':str,\n",
    "                   'friends':str, 'total_tweets':str, 'location':str, 'timezone':str,\n",
    "                   'sarcasm':str, 'sarcastic':str, 'irony':str, 'ironic':str, 'happy':str,\n",
    "                   'sad':str, 'seriously':str, 'num_ht': str}\n",
    "    \n",
    "    return colnames, dtypes_file"
   ]
  },
  {
   "cell_type": "markdown",
   "metadata": {},
   "source": [
    "## Read in raw data"
   ]
  },
  {
   "cell_type": "code",
   "execution_count": 4,
   "metadata": {
    "ExecuteTime": {
     "end_time": "2017-10-24T12:56:01.525016Z",
     "start_time": "2017-10-24T08:56:01.502422-04:00"
    },
    "collapsed": false
   },
   "outputs": [],
   "source": [
    "def get_input(path, num_files, hashtags):\n",
    "    \n",
    "    get_time('Start time: ')\n",
    "    \n",
    "    df = pd.DataFrame()\n",
    "    num_file = 0\n",
    "    \n",
    "    # Set up for getting input\n",
    "    colnames, dtypes_file = setup_input()\n",
    "\n",
    "    # Calculate and print total number of folders and files\n",
    "    _, files = get_num_folders_files(path)\n",
    "\n",
    "    # iterate through files (containing tweets) in folder:\n",
    "    for i in next(os.walk(path))[2]:\n",
    "\n",
    "        if not i.startswith('hashtag'):\n",
    "            continue\n",
    "\n",
    "        num_file += 1\n",
    "        \n",
    "        if num_file >= num_files:\n",
    "            break\n",
    "\n",
    "        print_str = 'Importing file: ' + str(i) + ' (#' + str(num_file) + ' of ' + str(files) + '), time: '\n",
    "        get_time(print_str)\n",
    "\n",
    "        fullpath = os.path.join(str(path), str(i))\n",
    "        \n",
    "        df_temp = pd.read_csv(filepath_or_buffer = fullpath, sep = '\\t',\n",
    "                                  names=colnames, error_bad_lines=True,\n",
    "                                  dtype=dtypes_file, encoding='utf-8')\n",
    "        \n",
    "        # clean file\n",
    "        df_temp = clean_file(df_temp, hashtags)\n",
    "\n",
    "        # if first csv in group, save as df:   \n",
    "        if num_file == 1:\n",
    "            df = df_temp\n",
    "        else:\n",
    "            df = df.append(df_temp)\n",
    "                \n",
    "    get_time('\\nDone! End time: ')\n",
    "    \n",
    "    return df"
   ]
  },
  {
   "cell_type": "markdown",
   "metadata": {},
   "source": [
    "## Read in dataframes"
   ]
  },
  {
   "cell_type": "code",
   "execution_count": 5,
   "metadata": {
    "ExecuteTime": {
     "end_time": "2017-10-24T12:56:01.875858Z",
     "start_time": "2017-10-24T08:56:01.861981-04:00"
    },
    "collapsed": false
   },
   "outputs": [],
   "source": [
    "def read_in_dfs(df_list, hashtags):\n",
    "    \n",
    "    colnames, dtypes_file = setup_input2()\n",
    "    \n",
    "    dict_dfs = {}\n",
    "\n",
    "    for i in range(0, len(df_list)):\n",
    "\n",
    "        key = df_list[i]\n",
    "        path = './hashtag_dfs/' + df_list[i] + '.txt'\n",
    "        df = pd.read_csv(filepath_or_buffer = path, sep = '\\t',\n",
    "                         names = colnames, error_bad_lines = True,\n",
    "                         dtype=dtypes_file, encoding = 'utf-8')\n",
    "        \n",
    "        df = clean_file(df, hashtags)\n",
    "        \n",
    "        value = df\n",
    "        dict_dfs[key] = value \n",
    "        \n",
    "        print('Dataframe ' + df_list[i] + ' loaded, length = {:,}.'.format(len(df)))\n",
    "\n",
    "    return dict_dfs"
   ]
  },
  {
   "cell_type": "markdown",
   "metadata": {},
   "source": [
    "## Clean file"
   ]
  },
  {
   "cell_type": "code",
   "execution_count": 6,
   "metadata": {
    "ExecuteTime": {
     "end_time": "2017-10-24T12:56:02.213056Z",
     "start_time": "2017-10-24T08:56:02.202581-04:00"
    },
    "collapsed": true
   },
   "outputs": [],
   "source": [
    "def clean_file(df, hashtags):\n",
    "    \n",
    "    # Remove first row (duplicate with column names)\n",
    "    df = df.iloc[1:]\n",
    "    \n",
    "    # Convert numeric columns to integers:\n",
    "    pd.to_numeric(df['followers_count'], errors='coerce')\n",
    "    pd.to_numeric(df['friends'], errors='coerce')\n",
    "    pd.to_numeric(df['total_tweets'], errors='coerce')\n",
    "    \n",
    "    df['followers_count'] = df['followers_count'].astype(int)\n",
    "    df['friends'] = df['friends'].astype(int)\n",
    "    df['total_tweets'] = df['total_tweets'].astype(int)\n",
    "    \n",
    "    for ht in hashtags:\n",
    "        pd.to_numeric(df[ht], errors ='coerce')\n",
    "        df[ht] = df[ht].astype(int)\n",
    "        \n",
    "    return df"
   ]
  },
  {
   "cell_type": "markdown",
   "metadata": {},
   "source": [
    "## Get number of folders and files"
   ]
  },
  {
   "cell_type": "code",
   "execution_count": 7,
   "metadata": {
    "ExecuteTime": {
     "end_time": "2017-10-24T12:56:02.620078Z",
     "start_time": "2017-10-24T08:56:02.613431-04:00"
    },
    "collapsed": true
   },
   "outputs": [],
   "source": [
    "def get_num_folders_files(path):\n",
    "    \n",
    "    folders = 0\n",
    "    files = 0\n",
    "\n",
    "    for _, dirnames, filenames in os.walk(path):\n",
    "        folders += len(dirnames)\n",
    "        files += len(filenames)\n",
    "    \n",
    "    print('\\nThere are {:,} total folders and {:,} total files.'.format(folders, files))\n",
    "    \n",
    "    return folders, files"
   ]
  },
  {
   "cell_type": "markdown",
   "metadata": {},
   "source": [
    "## Get time"
   ]
  },
  {
   "cell_type": "code",
   "execution_count": 8,
   "metadata": {
    "ExecuteTime": {
     "end_time": "2017-10-24T12:56:03.013444Z",
     "start_time": "2017-10-24T08:56:03.002410-04:00"
    },
    "collapsed": true
   },
   "outputs": [],
   "source": [
    "import datetime\n",
    "\n",
    "def get_time(print_string):\n",
    "\n",
    "    now = datetime.datetime.now()\n",
    "    hour=int(now.hour)\n",
    "    minute=int(now.minute)\n",
    "    second=int(now.second)\n",
    "    \n",
    "    if(len(str(abs(minute)))) == 1:\n",
    "        minute_str = \"0\" + str(minute)\n",
    "    else:\n",
    "        minute_str = str(minute)    \n",
    "    \n",
    "    if print_string != \"\":\n",
    "        print(print_string + str(hour) + \":\" + str(minute_str) + \":\" + str(second))\n",
    "    else:\n",
    "        return hour, minute_str, second"
   ]
  },
  {
   "cell_type": "markdown",
   "metadata": {},
   "source": [
    "<div class=\"alert alert-success\">\n",
    "<h1>DATA CLEANING</h1>\n",
    "</div>"
   ]
  },
  {
   "cell_type": "markdown",
   "metadata": {},
   "source": [
    "## Clean data\n",
    "Drop rows with missing tweet text and report total number of tweets and users"
   ]
  },
  {
   "cell_type": "code",
   "execution_count": 9,
   "metadata": {
    "ExecuteTime": {
     "end_time": "2017-10-24T12:56:03.564719Z",
     "start_time": "2017-10-24T08:56:03.556689-04:00"
    },
    "collapsed": true
   },
   "outputs": [],
   "source": [
    "def clean_data(df):\n",
    "    \n",
    "    # drop rows with missing tweet text\n",
    "    df = df[~df.text.isnull()]\n",
    "    \n",
    "    # if index hasn't been set already\n",
    "    if df.index.name == None:\n",
    "        # remove duplicate tweets\n",
    "        df = df.drop_duplicates(subset='user_tweet_id', keep = 'first')\n",
    "        # set index to 'user_tweet_id' column\n",
    "        df = df.set_index(['user_tweet_id'])\n",
    "    \n",
    "    # encode tweet text as utf-8\n",
    "    col_text = df.columns.get_loc('text')\n",
    "    for i in range(0,len(df)):\n",
    "        df.iloc[i,col_text].encode('utf-8')\n",
    "\n",
    "    return df"
   ]
  },
  {
   "cell_type": "markdown",
   "metadata": {},
   "source": [
    "## Count total hashtags"
   ]
  },
  {
   "cell_type": "code",
   "execution_count": 10,
   "metadata": {
    "ExecuteTime": {
     "end_time": "2017-10-24T12:56:03.960182Z",
     "start_time": "2017-10-24T08:56:03.955951-04:00"
    },
    "collapsed": true
   },
   "outputs": [],
   "source": [
    "def count_total_ht(df):\n",
    "    \n",
    "    df['num_ht'] = 0\n",
    "    df['num_ht'][df['hashtags'] != '[]'] = df.hashtags.str.count(',')+1\n",
    "\n",
    "    return df"
   ]
  },
  {
   "cell_type": "markdown",
   "metadata": {},
   "source": [
    "## Count hashtags"
   ]
  },
  {
   "cell_type": "code",
   "execution_count": 11,
   "metadata": {
    "ExecuteTime": {
     "end_time": "2017-10-24T12:56:04.293652Z",
     "start_time": "2017-10-24T08:56:04.288342-04:00"
    },
    "collapsed": false
   },
   "outputs": [],
   "source": [
    "def count_ht(df, perform_subset, ht):\n",
    "\n",
    "    if perform_subset == True:\n",
    "        \n",
    "        df = df[df[ht] == 1]\n",
    "    \n",
    "    n_tweets = len(df)\n",
    "    n_users = df.user.unique().size\n",
    "\n",
    "    print('\\nNumber of tweets with {} hashtag: {:,d}'.format(ht, n_tweets))\n",
    "    print('Number of users with {} hashtag: {:,d}'.format(ht, n_users))"
   ]
  },
  {
   "cell_type": "markdown",
   "metadata": {
    "ExecuteTime": {
     "end_time": "2017-10-17T15:29:58.557883Z",
     "start_time": "2017-10-17T11:29:58.551523-04:00"
    }
   },
   "source": [
    "<div class=\"alert alert-success\">\n",
    "<h1>EXPLORATORY DATA ANALYSIS</h1>\n",
    "</div>"
   ]
  },
  {
   "cell_type": "markdown",
   "metadata": {},
   "source": [
    "## Get summary stats by hashtag"
   ]
  },
  {
   "cell_type": "code",
   "execution_count": 12,
   "metadata": {
    "ExecuteTime": {
     "end_time": "2017-10-24T12:56:04.810915Z",
     "start_time": "2017-10-24T08:56:04.801832-04:00"
    },
    "collapsed": true
   },
   "outputs": [],
   "source": [
    "def get_stats(df, ht):\n",
    "    \n",
    "    df = df.drop_duplicates(subset = 'user', keep = 'first')\n",
    "    \n",
    "    print('\\nSUMMARY STATS FOR \"{}\" HASHTAG'.format(ht.upper()))\n",
    "    \n",
    "    cols = ['followers_count', 'friends', 'total_tweets']\n",
    "    \n",
    "    print('\\n\\tTotal users: {:,}'.format(df.user.unique().size))\n",
    "    \n",
    "    for i in cols:\n",
    "        \n",
    "        col = df[i]\n",
    "    \n",
    "        print('\\n\\t{}'.format(i.upper()),\n",
    "              '\\n\\tMean: {:,.1f}'.format(np.mean(col)),\n",
    "              '\\n\\tSD: {:,.1f}'.format(np.std(col)),\n",
    "              '\\n\\tRange: {:,.1f} to {:,.1f}'.format(col.min(), col.max()))"
   ]
  },
  {
   "cell_type": "markdown",
   "metadata": {},
   "source": [
    "## Calculate number of hashtag uses\n",
    "Given a dataframe and a hashtag as input, calculate and display the number of users that used the hashtag"
   ]
  },
  {
   "cell_type": "code",
   "execution_count": 13,
   "metadata": {
    "ExecuteTime": {
     "end_time": "2017-10-24T12:56:05.185747Z",
     "start_time": "2017-10-24T08:56:05.176694-04:00"
    },
    "collapsed": true
   },
   "outputs": [],
   "source": [
    "def calc_num_ht_uses(df, ht):\n",
    "    \n",
    "    # calculate number of tweets each user made\n",
    "    df_counts = df.groupby('user').sum() \n",
    "    \n",
    "    print(\"\\n\\tNumber of users that used '\" + str(ht) + \"' hashtag X times:\")\n",
    "\n",
    "    for i in range(1,6,1):\n",
    "        ct = len(df_counts[(df_counts[ht] == i)])\n",
    "        print('\\tX = ' + str(i) + ' time(s): {:,}'.format(ct))\n",
    "\n",
    "    print(\"\\n\\tNumber of users that used '\" + str(ht) + \"' hashtag more than X times:\")\n",
    "\n",
    "    ct = len(df_counts[(df_counts[ht] > 5)])\n",
    "    print('\\tX > ' + str(5) + ' times: {:,}'.format(ct))"
   ]
  },
  {
   "cell_type": "markdown",
   "metadata": {},
   "source": [
    "## Make histogram"
   ]
  },
  {
   "cell_type": "code",
   "execution_count": 14,
   "metadata": {
    "ExecuteTime": {
     "end_time": "2017-10-24T12:56:05.532009Z",
     "start_time": "2017-10-24T08:56:05.518018-04:00"
    },
    "collapsed": true
   },
   "outputs": [],
   "source": [
    "def make_hist(df, col, num_grps, xlabel, ylabel, title, filename):\n",
    "    \n",
    "    # convert column to string\n",
    "    df[col] = df[col].astype(str)\n",
    "\n",
    "    # remove missing values\n",
    "    df = df[df[col] != 'nan']\n",
    "\n",
    "    df[col].value_counts()[0:num_grps].plot(kind = 'bar')\n",
    "    plt.xlabel(xlabel)\n",
    "    plt.xticks(rotation=0)\n",
    "    plt.ylabel(ylabel)\n",
    "    plt.title(title + '\\n')\n",
    "    plt.xticks(rotation=90)\n",
    "    \n",
    "    # Get current size\n",
    "    fig_size = plt.rcParams[\"figure.figsize\"]    \n",
    "    fig_size[0] = 5\n",
    "    fig_size[1] = 3\n",
    "    plt.rcParams[\"figure.figsize\"] = fig_size\n",
    "    \n",
    "    if filename != '':\n",
    "        filepath = './graphs/' + filename + '.png'\n",
    "        plt.savefig(filepath, bbox_inches='tight')"
   ]
  },
  {
   "cell_type": "markdown",
   "metadata": {
    "collapsed": true
   },
   "source": [
    "<div class=\"alert alert-success\">\n",
    "<h1>TEST-TRAIN SPLIT</h1>\n",
    "</div>"
   ]
  },
  {
   "cell_type": "code",
   "execution_count": 42,
   "metadata": {
    "ExecuteTime": {
     "end_time": "2017-10-24T12:57:24.069838Z",
     "start_time": "2017-10-24T08:57:24.043371-04:00"
    },
    "collapsed": false
   },
   "outputs": [],
   "source": [
    "from sklearn.cross_validation import train_test_split\n",
    "\n",
    "def create_train_test(df, filename_base):\n",
    "    \n",
    "    tt_exist = False\n",
    "\n",
    "    # set file names\n",
    "    mask_file = './training_test_sets/mask_' + filename_base + '.txt'\n",
    "    \n",
    "    \"\"\"If training and test sets exist, load them; otherwise, create them\"\"\"\n",
    "    if os.path.isfile(mask_file):\n",
    "        \n",
    "        tt_exist = True\n",
    "        \n",
    "        print('\\nTraining and test set files already exist, opening now.')\n",
    "        \n",
    "        print('Reading in mask from ' + mask_file)\n",
    "        mask = np.loadtxt(mask_file, delimiter = '\\t')\n",
    "        print('\\nLength of mask: {:,}'.format(len(mask)))\n",
    "        #mask = mask[1:] # remove header row\n",
    "        \n",
    "        mask = mask.astype(bool)\n",
    "        \n",
    "        train_data = df[~mask]\n",
    "        test_data = df[mask]\n",
    "\n",
    "    else: \n",
    "\n",
    "        print('\\nTraining and test set files do not exist, generating now.')\n",
    "\n",
    "        # create training and test sets\n",
    "        # in below, itest is an array containing the row numbers of the test set (which is 30% of the overall dataset)\n",
    "        _, itest = train_test_split(range(df.shape[0]), train_size = 0.7)\n",
    "        mask = np.zeros(df.shape[0], dtype=np.bool)\n",
    "        mask[itest] = True\n",
    "\n",
    "        train_data = df[~mask]\n",
    "        test_data = df[mask]\n",
    "            \n",
    "        print('Saving mask to ' + mask_file)\n",
    "        np.savetxt(fname = mask_file, X = mask, delimiter = '\\t')\n",
    "        \n",
    "    print('Length of test: {:,}'.format(len(test_data)))\n",
    "    print('Length of train: {:,}'.format(len(train_data)))\n",
    "    print('Length of test + train: {:,}'.format(len(test_data) + len(train_data)))\n",
    "\n",
    "    return train_data, test_data, mask"
   ]
  },
  {
   "cell_type": "markdown",
   "metadata": {},
   "source": [
    "<div class=\"alert alert-success\">\n",
    "<h1>MODELING</h1>\n",
    "</div>"
   ]
  },
  {
   "cell_type": "markdown",
   "metadata": {},
   "source": [
    "## Determine most frequent words"
   ]
  },
  {
   "cell_type": "code",
   "execution_count": 108,
   "metadata": {
    "ExecuteTime": {
     "end_time": "2017-10-24T16:45:44.349377Z",
     "start_time": "2017-10-24T12:45:44.335096-04:00"
    },
    "collapsed": false
   },
   "outputs": [],
   "source": [
    "def freq_words(num_words, cv, X, top):\n",
    "\n",
    "    words = np.array(cv.get_feature_names())\n",
    "\n",
    "    # calculate word frequencies\n",
    "    freq = np.asarray(X.sum(axis=0)).ravel()\n",
    "\n",
    "    # sort rows by frequencies (low to high) and return indices:\n",
    "    ind = np.argsort(freq)\n",
    "    \n",
    "    if top == True:\n",
    "        # freq_words = words with highest probability\n",
    "        # below, freq_words represents N words from end (highest freqs)\n",
    "        freq_words = words[ind[-num_words:]]\n",
    "        freq_num = freq[ind[-num_words:]]\n",
    "        \n",
    "        print('Most frequent words\\n')\n",
    "        for w, p in zip(freq_words, freq_num):\n",
    "            print('{:>10,.2f}'.format(p), '{:>10}'.format(w))\n",
    "    else:\n",
    "        # freq_words = words with highest probability\n",
    "        freq_words = words[ind[:num_words]]\n",
    "        freq_num = freq[ind[:num_words]]\n",
    "        print('Least frequent words\\n')\n",
    "        for w, p in zip(freq_words, freq_num):\n",
    "            print('{:>10,.2f}'.format(p), '{:>10}'.format(w))    \n",
    "    \n",
    "    print('\\nTotal # of words in vocabulary: {:,}'.format(len(words)))"
   ]
  },
  {
   "cell_type": "markdown",
   "metadata": {},
   "source": [
    "## Determine most predictive words"
   ]
  },
  {
   "cell_type": "code",
   "execution_count": 17,
   "metadata": {
    "ExecuteTime": {
     "end_time": "2017-10-24T12:56:10.054581Z",
     "start_time": "2017-10-24T08:56:10.037307-04:00"
    },
    "collapsed": true
   },
   "outputs": [],
   "source": [
    "def predictive_words(num_words, cv, clf, Xtest):\n",
    "\n",
    "    words = np.array(cv.get_feature_names())\n",
    "    \n",
    "    # create identity matrix (each row has exactly 1 feature):\n",
    "    x = np.eye(Xtest.shape[1]) \n",
    "\n",
    "    # use trained classifier to make predictions on this matrix:\n",
    "    probs = clf.predict_log_proba(x)[:, 0] \n",
    "\n",
    "    # sort rows by predicted probabilities and return indices:\n",
    "    ind = np.argsort(probs) \n",
    "\n",
    "    # good_words = words with highest probability\n",
    "    good_words = words[ind[:num_words]]\n",
    "\n",
    "    # bad_words = words with lowest probability\n",
    "    bad_words = words[ind[-num_words:]]\n",
    "\n",
    "    good_prob = probs[ind[:num_words]]\n",
    "    bad_prob = probs[ind[-num_words:]]\n",
    "\n",
    "    print('\\nMost predictive words')\n",
    "    print('\\tP(sarcasm | word)')\n",
    "    for w, p in zip(good_words, good_prob):\n",
    "        print('{:>10}'.format(w), '{:>10.2f}'.format(1 - np.exp(p)))\n",
    "\n",
    "    print('\\nLeast predictive words')\n",
    "    print('\\tP(sarcasm | word)')\n",
    "    for w, p in zip(bad_words, bad_prob):\n",
    "        print('{:>10}'.format(w), '{:>10.2f}'.format(1 - np.exp(p))) "
   ]
  },
  {
   "cell_type": "markdown",
   "metadata": {},
   "source": [
    "## Model evaluation"
   ]
  },
  {
   "cell_type": "code",
   "execution_count": 18,
   "metadata": {
    "ExecuteTime": {
     "end_time": "2017-10-24T12:56:10.796908Z",
     "start_time": "2017-10-24T08:56:10.762601-04:00"
    },
    "collapsed": false
   },
   "outputs": [],
   "source": [
    "from sklearn import metrics\n",
    "\n",
    "def model_eval(clf, Xtrain, Xtest, ytrain, ytest):\n",
    "\n",
    "    ypred_test = clf.predict(Xtest)\n",
    "    ypred_train = clf.predict(Xtrain)\n",
    "    ypred_proba = clf.predict_proba(Xtest)\n",
    "\n",
    "    # accuracy\n",
    "    acc_train = round(100*metrics.accuracy_score(ypred_train, ytrain),2)\n",
    "    print('\\nAccuracy for training set = {:.2f}%'.format(acc_train))\n",
    "\n",
    "    acc_test = round(100*metrics.accuracy_score(ypred_test, ytest),2)\n",
    "    print('Accuracy for test set = {:.2f}%'.format(acc_test))\n",
    "\n",
    "    # cohen's kappa\n",
    "    cohenk = metrics.cohen_kappa_score(ytest, ypred_test)\n",
    "    print('Cohen\\'s Kappa = {:.2f}'.format(cohenk))\n",
    "    \n",
    "    # precision (ability of classifier not to label as positive a sample that is negative)\n",
    "    precision = metrics.precision_score(ytest, ypred_test)\n",
    "    print('Precision = {:.2f}'.format(precision))\n",
    "\n",
    "    # AUC\n",
    "    auc = metrics.roc_auc_score(ytest, ypred_proba[:,1])\n",
    "    print('AUC = {:.2f}'.format(auc))\n",
    "    \n",
    "    # create confusion matrix\n",
    "    classes = np.unique(ytest)\n",
    "\n",
    "    cnf_matrix = metrics.confusion_matrix(ytest, ypred_test)\n",
    "    np.set_printoptions(precision=2)\n",
    "\n",
    "    tp = float(cnf_matrix[0][0])/np.sum(cnf_matrix[0])\n",
    "    tn = float(cnf_matrix[1][1])/np.sum(cnf_matrix[1])\n",
    "    \n",
    "    print('True positive rate = {:.2f}'.format(tp))\n",
    "    print('True negative rate = {:.2f}'.format(tn))\n",
    "\n",
    "    plt.figure()\n",
    "    plot_confusion_matrix(cnf_matrix, classes, False)\n",
    "    plt.show()"
   ]
  },
  {
   "cell_type": "markdown",
   "metadata": {},
   "source": [
    "## Create confusion matrix"
   ]
  },
  {
   "cell_type": "code",
   "execution_count": 19,
   "metadata": {
    "ExecuteTime": {
     "end_time": "2017-10-24T12:56:11.377515Z",
     "start_time": "2017-10-24T08:56:11.139867-04:00"
    },
    "collapsed": false
   },
   "outputs": [],
   "source": [
    "import itertools\n",
    "import matplotlib.pyplot as plt\n",
    "%matplotlib inline\n",
    "\n",
    "def plot_confusion_matrix(cm, classes, normalize, cmap=plt.cm.Blues):\n",
    "    \n",
    "    if normalize:\n",
    "        cm = cm.astype('float') / cm.sum(axis=1)[:, np.newaxis]\n",
    "        title = 'Confusion matrix, with normalization'\n",
    "    else:\n",
    "        title = 'Confusion matrix, without normalization'\n",
    "\n",
    "    plt.imshow(cm, interpolation='nearest', cmap=cmap)\n",
    "    plt.title(title)\n",
    "    plt.colorbar()\n",
    "    tick_marks = np.arange(len(classes))\n",
    "    plt.xticks(tick_marks, classes, rotation=45)\n",
    "    plt.yticks(tick_marks, classes)\n",
    "\n",
    "    fmt = '.2f' if normalize else 'd'\n",
    "    thresh = cm.max() / 2.\n",
    "    for i, j in itertools.product(range(cm.shape[0]), range(cm.shape[1])):\n",
    "        plt.text(j, i, format(cm[i, j], fmt),\n",
    "                 horizontalalignment=\"center\",\n",
    "                 color=\"white\" if cm[i, j] > thresh else \"black\")\n",
    "\n",
    "    plt.tight_layout()\n",
    "    plt.ylabel('True label')\n",
    "    plt.xlabel('Predicted label')"
   ]
  },
  {
   "cell_type": "markdown",
   "metadata": {},
   "source": [
    "## Cross-validation"
   ]
  },
  {
   "cell_type": "code",
   "execution_count": 20,
   "metadata": {
    "ExecuteTime": {
     "end_time": "2017-10-24T12:56:11.626392Z",
     "start_time": "2017-10-24T08:56:11.607073-04:00"
    },
    "collapsed": true
   },
   "outputs": [],
   "source": [
    "from sklearn.model_selection import KFold\n",
    "\n",
    "def cv_score(clf, X, y, scorefunc):\n",
    "    result = 0.\n",
    "    nfold = 5\n",
    "    \n",
    "    # split data into train/test groups, 5 times\n",
    "    for train, test in KFold(nfold, shuffle=True).split(X, y):\n",
    "\n",
    "        # fit the classifier, passed is as clf\n",
    "        clf.fit(X[train], y[train]) \n",
    "\n",
    "        # evaluate score function on held-out data\n",
    "        result += scorefunc(clf, X[test], y[test])\n",
    "        \n",
    "    # average score\n",
    "    return result / nfold"
   ]
  },
  {
   "cell_type": "code",
   "execution_count": 21,
   "metadata": {
    "ExecuteTime": {
     "end_time": "2017-10-24T12:56:11.840283Z",
     "start_time": "2017-10-24T08:56:11.836343-04:00"
    },
    "collapsed": true
   },
   "outputs": [],
   "source": [
    "from sklearn.metrics import roc_auc_score\n",
    "\n",
    "def auc(clf, x, y):\n",
    "    \n",
    "    pred = clf.predict_proba(x) \n",
    "    \n",
    "    return roc_auc_score(y, pred[:,1])"
   ]
  },
  {
   "cell_type": "code",
   "execution_count": 22,
   "metadata": {
    "ExecuteTime": {
     "end_time": "2017-10-24T12:56:12.068842Z",
     "start_time": "2017-10-24T08:56:12.063912-04:00"
    },
    "collapsed": false
   },
   "outputs": [],
   "source": [
    "from sklearn.metrics import cohen_kappa_score\n",
    "\n",
    "def cohenk(clf, x, y):\n",
    "    \n",
    "    pred = clf.predict(x)\n",
    "    \n",
    "    return cohen_kappa_score(y, pred)"
   ]
  },
  {
   "cell_type": "code",
   "execution_count": 23,
   "metadata": {
    "ExecuteTime": {
     "end_time": "2017-10-24T12:56:12.300352Z",
     "start_time": "2017-10-24T08:56:12.294302-04:00"
    },
    "collapsed": true
   },
   "outputs": [],
   "source": [
    "def log_likelihood(clf, x, y):\n",
    "    \n",
    "    pred = clf.predict_log_proba(x)\n",
    "    sarcasm = y == 1\n",
    "    not_sarcasm = ~sarcasm\n",
    "    \n",
    "    # add together:\n",
    "    # 1. the log probability of sarcasm samples being labeled 1 (sarcasm)\n",
    "    # 2. the log probability of non-sarcasm samples being labeled 0 (non-sarcasm)\n",
    "    return pred[sarcasm, 1].sum() + pred[not_sarcasm, 0].sum()"
   ]
  },
  {
   "cell_type": "code",
   "execution_count": 96,
   "metadata": {
    "ExecuteTime": {
     "end_time": "2017-10-24T15:21:41.545191Z",
     "start_time": "2017-10-24T11:21:41.503088-04:00"
    },
    "collapsed": true
   },
   "outputs": [],
   "source": [
    "from sklearn.naive_bayes import MultinomialNB\n",
    "from sklearn.feature_extraction.text import CountVectorizer\n",
    "from sklearn.ensemble import RandomForestClassifier\n",
    "from sklearn.feature_extraction.text import TfidfVectorizer\n",
    "\n",
    "def perform_cv_NB(df, mask, alphas, min_dfs, max_dfs, ngrams, score_func, vect_str):    \n",
    "    \n",
    "    best_params = {}\n",
    "    numerator = 0\n",
    "    denominator = len(alphas)\n",
    "    \n",
    "    #Find the best value for alpha and min_df, and the best classifier\n",
    "    max_score=-np.inf\n",
    "    \n",
    "    #mask = mask.astype(int)\n",
    "    \n",
    "    for alpha in alphas:\n",
    "        numerator += 1\n",
    "        for min_df in min_dfs:\n",
    "            for max_df in max_dfs:\n",
    "                for ngram in ngrams:\n",
    "                    \n",
    "                    if vect_str == 'count': \n",
    "                        vectorizer = CountVectorizer(min_df=min_df, max_df=max_df, stop_words = 'english',ngram_range=ngram)       \n",
    "                    elif vect_str == 'tfidf':\n",
    "                        vectorizer = TfidfVectorizer(min_df=min_df, max_df=max_df, stop_words = 'english',ngram_range=ngram)\n",
    "                    else:\n",
    "                        print('Vectorizer not found.')\n",
    "                        break\n",
    "\n",
    "                    Xthis, ythis, _ = make_xy(df, vectorizer)\n",
    "\n",
    "                    if Xthis == None:\n",
    "                        print('After pruning, no terms remain; alpha: {}, min_df: {}, max_df: {}'.\n",
    "                              format(alpha, min_df, max_df))\n",
    "\n",
    "                        continue\n",
    "                    else:\n",
    "                        # only use training data for cross-validation\n",
    "                        Xtrainthis = Xthis[~mask]\n",
    "                        ytrainthis = ythis[~mask]\n",
    "\n",
    "                        clf = MultinomialNB(alpha = alpha)\n",
    "\n",
    "                        score = cv_score(clf, Xtrainthis, ytrainthis, score_func)\n",
    "\n",
    "                        if score > max_score:\n",
    "                            max_score = score\n",
    "                            best_params['score'] = score\n",
    "                            best_params['alpha'] = alpha\n",
    "                            best_params['min_df'] = min_df\n",
    "                            best_params['max_df'] = max_df\n",
    "                            best_params['ngram'] = ngram  \n",
    "                            \n",
    "        print('Progress: {:.0f}%'.format(100*(numerator/denominator)))\n",
    "\n",
    "    print('Score: {:.3}, alpha: {}, min_df: {}, max_df: {}, ngram: {}'.\n",
    "          format(best_params['score'], best_params['alpha'], best_params['min_df'],\n",
    "                 best_params['max_df'], best_params['ngram']))\n",
    "    \n",
    "    return best_params, clf"
   ]
  },
  {
   "cell_type": "code",
   "execution_count": 88,
   "metadata": {
    "ExecuteTime": {
     "end_time": "2017-10-24T14:36:38.368032Z",
     "start_time": "2017-10-24T10:36:38.335353-04:00"
    },
    "collapsed": false
   },
   "outputs": [],
   "source": [
    "def perform_cv_RF(df, mask, min_dfs, max_dfs, ngrams, score_func, n_estimators, min_samples_split):\n",
    "    \n",
    "    best_params = {}\n",
    "    numerator = 0\n",
    "    denominator = len(min_dfs)\n",
    "    \n",
    "    #Find the best value for alpha and min_df, and the best classifier\n",
    "    max_score=-np.inf\n",
    "    \n",
    "    for min_df in min_dfs:\n",
    "        numerator += 1\n",
    "        print('Current min_df = ' + str(min_df))\n",
    "        for max_df in max_dfs:\n",
    "            for ngram in ngrams:\n",
    "\n",
    "                vectorizer = CountVectorizer(min_df=min_df, max_df=max_df, stop_words = 'english',ngram_range=ngram)       \n",
    "                Xthis, ythis, _ = make_xy(df, vectorizer)\n",
    "\n",
    "                if Xthis == None:\n",
    "                    print('After pruning, no terms remain; alpha: {}, min_df: {}, max_df: {}'.\n",
    "                          format(alpha, min_df, max_df))\n",
    "\n",
    "                    continue\n",
    "                else:\n",
    "                    # only use training data for cross-validation\n",
    "                    Xtrainthis = Xthis[~mask]\n",
    "                    ytrainthis = ythis[~mask]\n",
    "\n",
    "                    for n_est in n_estimators:\n",
    "                        for min_split in min_samples_split:\n",
    "                        \n",
    "                            clf = RandomForestClassifier(n_estimators=n_est, min_samples_split=min_split)\n",
    "\n",
    "                            score = cv_score(clf, Xtrainthis, ytrainthis, score_func)\n",
    "\n",
    "                            if score > max_score:\n",
    "                                max_score = score\n",
    "                                best_params['score'] = score\n",
    "                                best_params['min_df'] = min_df\n",
    "                                best_params['max_df'] = max_df\n",
    "                                best_params['ngram'] = ngram      \n",
    "                                best_params['n_est'] = n_est\n",
    "                                best_params['min_samples_split'] = min_split\n",
    "        print('Progress: {:.0f}%'.format(100*(numerator/denominator)))\n",
    "\n",
    "    print('Score: {:.3}, min_df: {}, max_df: {}, ngram: {}, n_estimaors: {}, min_samples_split: {}'.\n",
    "          format(best_params['score'], nest_params['min_df'], best_params['max_df'],\n",
    "                 best_params['ngram'], best_params['n_est'], best_params['min_samples_split']))\n",
    "\n",
    "    return best_params, clf"
   ]
  },
  {
   "cell_type": "markdown",
   "metadata": {},
   "source": [
    "## Make term-document matrix"
   ]
  },
  {
   "cell_type": "code",
   "execution_count": 25,
   "metadata": {
    "ExecuteTime": {
     "end_time": "2017-10-24T12:56:12.993274Z",
     "start_time": "2017-10-24T08:56:12.980863-04:00"
    },
    "collapsed": true
   },
   "outputs": [],
   "source": [
    "def make_xy(df, vectorizer):\n",
    "    \n",
    "    if vectorizer is None:\n",
    "        vectorizer = CountVectorizer()\n",
    "    \n",
    "    # call `fit` to build the vocabulary\n",
    "    try:\n",
    "        vectorizer.fit(df['text'])\n",
    "\n",
    "        # call `transform` to convert text to a bag of words\n",
    "        x = vectorizer.transform(df['text'])\n",
    "\n",
    "        X = x.tocsc()  # some versions of sklearn return COO format\n",
    "\n",
    "        # CountVectorizer uses a sparse array to save memory, but it's easier in this assignment to \n",
    "        # convert back to a \"normal\" numpy array\n",
    "        #X = X.toarray()\n",
    "\n",
    "        # convert sarcasm column to integers\n",
    "        y = (df['sarcasm'] == 1).values.astype(np.int) \n",
    "\n",
    "    except ValueError:\n",
    "    \n",
    "        X = None\n",
    "        y = None\n",
    "        vectorizer = None\n",
    "\n",
    "    return X, y, vectorizer"
   ]
  },
  {
   "cell_type": "markdown",
   "metadata": {},
   "source": [
    "<div class=\"alert alert-success\">\n",
    "<h1>MAIN CODE</h1>\n",
    "</div>"
   ]
  },
  {
   "cell_type": "code",
   "execution_count": 26,
   "metadata": {
    "ExecuteTime": {
     "end_time": "2017-10-24T12:56:19.230665Z",
     "start_time": "2017-10-24T08:56:13.394474-04:00"
    },
    "collapsed": false,
    "scrolled": true
   },
   "outputs": [
    {
     "name": "stdout",
     "output_type": "stream",
     "text": [
      "Dataframes already exist, loading now.\n"
     ]
    },
    {
     "name": "stderr",
     "output_type": "stream",
     "text": [
      "/Users/Rachel/.pyenv/versions/py36_env/lib/python3.6/site-packages/ipykernel_launcher.py:11: SettingWithCopyWarning: \n",
      "A value is trying to be set on a copy of a slice from a DataFrame.\n",
      "Try using .loc[row_indexer,col_indexer] = value instead\n",
      "\n",
      "See the caveats in the documentation: http://pandas.pydata.org/pandas-docs/stable/indexing.html#indexing-view-versus-copy\n",
      "  # This is added back by InteractiveShellApp.init_path()\n",
      "/Users/Rachel/.pyenv/versions/py36_env/lib/python3.6/site-packages/ipykernel_launcher.py:12: SettingWithCopyWarning: \n",
      "A value is trying to be set on a copy of a slice from a DataFrame.\n",
      "Try using .loc[row_indexer,col_indexer] = value instead\n",
      "\n",
      "See the caveats in the documentation: http://pandas.pydata.org/pandas-docs/stable/indexing.html#indexing-view-versus-copy\n",
      "  if sys.path[0] == '':\n",
      "/Users/Rachel/.pyenv/versions/py36_env/lib/python3.6/site-packages/ipykernel_launcher.py:13: SettingWithCopyWarning: \n",
      "A value is trying to be set on a copy of a slice from a DataFrame.\n",
      "Try using .loc[row_indexer,col_indexer] = value instead\n",
      "\n",
      "See the caveats in the documentation: http://pandas.pydata.org/pandas-docs/stable/indexing.html#indexing-view-versus-copy\n",
      "  del sys.path[0]\n",
      "/Users/Rachel/.pyenv/versions/py36_env/lib/python3.6/site-packages/ipykernel_launcher.py:17: SettingWithCopyWarning: \n",
      "A value is trying to be set on a copy of a slice from a DataFrame.\n",
      "Try using .loc[row_indexer,col_indexer] = value instead\n",
      "\n",
      "See the caveats in the documentation: http://pandas.pydata.org/pandas-docs/stable/indexing.html#indexing-view-versus-copy\n"
     ]
    },
    {
     "name": "stdout",
     "output_type": "stream",
     "text": [
      "Dataframe tweets_all loaded, length = 95,860.\n",
      "Dataframe tweets_sarcasm loaded, length = 30,910.\n",
      "Dataframe tweets_sad loaded, length = 40,861.\n",
      "Dataframe tweets_happy loaded, length = 12,639.\n",
      "Dataframe tweets_seriously loaded, length = 11,450.\n"
     ]
    }
   ],
   "source": [
    "input_path = './hashtag_tweets/'\n",
    "\n",
    "num_files = np.inf\n",
    "hashtags = ['sarcasm','sarcastic','irony','ironic','happy','sad','seriously']\n",
    "\n",
    "\"\"\"Check whether hashtag dataframes already exist\"\"\"\n",
    "df_list = ['tweets_all', 'tweets_sarcasm', 'tweets_sad', 'tweets_happy', 'tweets_seriously']\n",
    "\n",
    "for df in df_list:\n",
    "    filepath = './hashtag_dfs/' + df + '.txt'\n",
    "    if not os.path.isfile(filepath):        \n",
    "        dfs_exist = False\n",
    "    else:\n",
    "        dfs_exist = True\n",
    "\n",
    "if dfs_exist == False:\n",
    "    \"\"\"if hashtag dataframes DON'T already exist, get input and create them\"\"\"\n",
    "    \n",
    "    print('Dataframes do not exist, creating now.')\n",
    "    tweets_all = get_input(input_path, num_files, hashtags)\n",
    "else:\n",
    "    \"\"\"if hashtag dataframes DO already exist, load them\"\"\"\n",
    "\n",
    "    print('Dataframes already exist, loading now.')\n",
    "    \n",
    "    dict_dfs = read_in_dfs(df_list, hashtags)\n",
    "    tweets_all = dict_dfs['tweets_all']    \n",
    "    tweets_sarcasm = dict_dfs['tweets_sarcasm']    \n",
    "    tweets_happy = dict_dfs['tweets_happy']    \n",
    "    tweets_sad = dict_dfs['tweets_sad']    \n",
    "    tweets_seriously = dict_dfs['tweets_seriously']"
   ]
  },
  {
   "cell_type": "code",
   "execution_count": 27,
   "metadata": {
    "ExecuteTime": {
     "end_time": "2017-10-24T12:56:19.388546Z",
     "start_time": "2017-10-24T08:56:19.233628-04:00"
    },
    "collapsed": false
   },
   "outputs": [],
   "source": [
    "\"\"\"If dataframes do NOT exist, create them and save them as text files\"\"\"\n",
    "if dfs_exist == False:\n",
    "    \n",
    "    # subset data to tweets with only one hashtag\n",
    "    tweets_all = count_total_ht(tweets_all)\n",
    "    tweets_all = tweets_all[tweets_all.num_ht == 1]\n",
    "    \n",
    "    # remove duplicate tweets & drop rows with no tweet text\n",
    "    tweets_all = clean_data(tweets_all)\n",
    "    \n",
    "    # create subset dataframes\n",
    "    tweets_sarcasm = tweets_all[tweets_all.sarcasm == 1]\n",
    "    tweets_happy = tweets_all[tweets_all.happy == 1]\n",
    "    tweets_sad = tweets_all[tweets_all.sad == 1]\n",
    "    tweets_seriously = tweets_all[tweets_all.seriously == 1]\n",
    "    \n",
    "    # only include tweets with hashtag at end \n",
    "    pattern = r'\\bsarcasm\\b$'\n",
    "    tweets_sarcasm = tweets_sarcasm[(tweets_sarcasm['text'].str.contains(pattern, case=False, na=False, regex=True))]\n",
    "\n",
    "    pattern = r'\\bhappy\\b$'\n",
    "    tweets_happy = tweets_happy[(tweets_happy['text'].str.contains(pattern, case=False, na=False, regex=True))]\n",
    "\n",
    "    pattern = r'\\bsad\\b$'\n",
    "    tweets_sad = tweets_sad[(tweets_sad['text'].str.contains(pattern, case=False, na=False, regex=True))]\n",
    "\n",
    "    pattern = r'\\bseriously\\b$'\n",
    "    tweets_seriously = tweets_seriously[(tweets_seriously['text'].str.contains(pattern, case=False, na=False, regex=True))]\n",
    "    \n",
    "    # remove hashtag from tweet text\n",
    "    tweets_sarcasm['text'] = tweets_sarcasm['text'].str.replace('#sarcasm', '', case=False)\n",
    "    tweets_happy['text'] = tweets_happy['text'].str.replace('#happy', '', case=False)\n",
    "    tweets_sad['text'] = tweets_sad['text'].str.replace('#sad', '', case=False)\n",
    "    tweets_seriously['text'] = tweets_seriously['text'].str.replace('#seriously', '', case=False)\n",
    "    \n",
    "    # remove '(quote)' from tweet text\n",
    "    tweets_sarcasm['text'] = tweets_sarcasm['text'].str.replace('(quote)', '', case=False)\n",
    "    tweets_happy['text'] = tweets_happy['text'].str.replace('(quote)', '', case=False)\n",
    "    tweets_sad['text'] = tweets_sad['text'].str.replace('(quote)', '', case=False)\n",
    "    tweets_seriously['text'] = tweets_seriously['text'].str.replace('(quote)', '', case=False)\n",
    "    \n",
    "    # remove URLs from tweet text\n",
    "    pattern1 = r'http\\S+'\n",
    "    pattern2 = r'www\\S+'\n",
    "    tweets_sarcasm['text'] = tweets_sarcasm['text'] .str.replace(pattern1, '')\n",
    "    tweets_sarcasm['text'] = tweets_sarcasm['text'] .str.replace(pattern2, '')\n",
    "    tweets_happy['text'] = tweets_happy['text'] .str.replace(pattern1, '')\n",
    "    tweets_happy['text'] = tweets_happy['text'] .str.replace(pattern2, '')\n",
    "    tweets_sad['text'] = tweets_sad['text'] .str.replace(pattern1, '')\n",
    "    tweets_sad['text'] = tweets_sad['text'] .str.replace(pattern2, '')\n",
    "    tweets_seriously['text'] = tweets_seriously['text'] .str.replace(pattern1, '')\n",
    "    tweets_seriously['text'] = tweets_seriously['text'] .str.replace(pattern2, '')\n",
    "\n",
    "    # create new dataframe containing all tweets for above hashtags only\n",
    "    tweets_all = pd.concat([tweets_sarcasm, tweets_happy, tweets_sad, tweets_seriously])\n",
    "    \n",
    "    # save dataframes\n",
    "    filename = 'tweets_all'\n",
    "    filepath = './hashtag_dfs/' + filename + '.txt'\n",
    "\n",
    "    # Save df if file doesn't exist\n",
    "    tweets_all.to_csv(filepath, sep = '\\t', index = True, header = True)\n",
    "\n",
    "    filename = 'tweets_sarcasm'\n",
    "    filepath = './hashtag_dfs/' + filename + '.txt'\n",
    "\n",
    "    # Save df if file doesn't exist\n",
    "    tweets_sarcasm.to_csv(filepath, sep = '\\t', index = True, header = True)\n",
    "\n",
    "    filename = 'tweets_happy'\n",
    "    filepath = './hashtag_dfs/' + filename + '.txt'\n",
    "\n",
    "    # Save df if file doesn't exist\n",
    "    tweets_happy.to_csv(filepath, sep = '\\t', index = True, header = True)\n",
    "\n",
    "    filename = 'tweets_sad'\n",
    "    filepath = './hashtag_dfs/' + filename + '.txt'\n",
    "\n",
    "    # Save df if file doesn't exist\n",
    "    tweets_sad.to_csv(filepath, sep = '\\t', index = True, header = True)\n",
    "\n",
    "    filename = 'tweets_seriously'\n",
    "    filepath = './hashtag_dfs/' + filename + '.txt'\n",
    "\n",
    "    # Save df if file doesn't exist\n",
    "    tweets_seriously.to_csv(filepath, sep = '\\t', index = True, header = True)"
   ]
  },
  {
   "cell_type": "markdown",
   "metadata": {},
   "source": [
    "### Count number of tweets and users"
   ]
  },
  {
   "cell_type": "code",
   "execution_count": 28,
   "metadata": {
    "ExecuteTime": {
     "end_time": "2017-10-24T12:56:19.421076Z",
     "start_time": "2017-10-24T08:56:19.391080-04:00"
    },
    "collapsed": false
   },
   "outputs": [
    {
     "name": "stdout",
     "output_type": "stream",
     "text": [
      "\n",
      "Number of tweets with sarcasm hashtag: 30,910\n",
      "Number of users with sarcasm hashtag: 23,509\n",
      "\n",
      "Number of tweets with happy hashtag: 12,639\n",
      "Number of users with happy hashtag: 10,149\n",
      "\n",
      "Number of tweets with sad hashtag: 40,861\n",
      "Number of users with sad hashtag: 26,456\n",
      "\n",
      "Number of tweets with seriously hashtag: 11,450\n",
      "Number of users with seriously hashtag: 9,033\n"
     ]
    }
   ],
   "source": [
    "count_ht(tweets_sarcasm, False, 'sarcasm')\n",
    "count_ht(tweets_happy, False, 'happy')\n",
    "count_ht(tweets_sad, False, 'sad')\n",
    "count_ht(tweets_seriously, False, 'seriously')"
   ]
  },
  {
   "cell_type": "markdown",
   "metadata": {},
   "source": [
    "### Get stats by hashtag"
   ]
  },
  {
   "cell_type": "code",
   "execution_count": 29,
   "metadata": {
    "ExecuteTime": {
     "end_time": "2017-10-24T12:56:28.240240Z",
     "start_time": "2017-10-24T08:56:27.942605-04:00"
    },
    "collapsed": false,
    "scrolled": true
   },
   "outputs": [
    {
     "name": "stdout",
     "output_type": "stream",
     "text": [
      "\n",
      "SUMMARY STATS FOR \"SARCASM\" HASHTAG\n",
      "\n",
      "\tTotal users: 23,509\n",
      "\n",
      "\tFOLLOWERS_COUNT \n",
      "\tMean: 868.2 \n",
      "\tSD: 35,070.6 \n",
      "\tRange: 0.0 to 5,192,273.0\n",
      "\n",
      "\tFRIENDS \n",
      "\tMean: 629.2 \n",
      "\tSD: 1,671.0 \n",
      "\tRange: 0.0 to 176,631.0\n",
      "\n",
      "\tTOTAL_TWEETS \n",
      "\tMean: 4,295.6 \n",
      "\tSD: 8,341.5 \n",
      "\tRange: 2.0 to 446,022.0\n",
      "\n",
      "\tNumber of users that used 'sarcasm' hashtag X times:\n",
      "\tX = 1 time(s): 19,213\n",
      "\tX = 2 time(s): 2,883\n",
      "\tX = 3 time(s): 773\n",
      "\tX = 4 time(s): 289\n",
      "\tX = 5 time(s): 159\n",
      "\n",
      "\tNumber of users that used 'sarcasm' hashtag more than X times:\n",
      "\tX > 5 times: 192\n",
      "\n",
      "SUMMARY STATS FOR \"HAPPY\" HASHTAG\n",
      "\n",
      "\tTotal users: 10,149\n",
      "\n",
      "\tFOLLOWERS_COUNT \n",
      "\tMean: 812.5 \n",
      "\tSD: 10,361.0 \n",
      "\tRange: 0.0 to 753,605.0\n",
      "\n",
      "\tFRIENDS \n",
      "\tMean: 693.7 \n",
      "\tSD: 2,478.5 \n",
      "\tRange: 0.0 to 223,235.0\n",
      "\n",
      "\tTOTAL_TWEETS \n",
      "\tMean: 3,851.3 \n",
      "\tSD: 5,809.7 \n",
      "\tRange: 1.0 to 175,701.0\n",
      "\n",
      "\tNumber of users that used 'happy' hashtag X times:\n",
      "\tX = 1 time(s): 8,559\n",
      "\tX = 2 time(s): 1,111\n",
      "\tX = 3 time(s): 287\n",
      "\tX = 4 time(s): 103\n",
      "\tX = 5 time(s): 41\n",
      "\n",
      "\tNumber of users that used 'happy' hashtag more than X times:\n",
      "\tX > 5 times: 48\n",
      "\n",
      "SUMMARY STATS FOR \"SAD\" HASHTAG\n",
      "\n",
      "\tTotal users: 26,456\n",
      "\n",
      "\tFOLLOWERS_COUNT \n",
      "\tMean: 1,227.3 \n",
      "\tSD: 24,606.4 \n",
      "\tRange: 0.0 to 2,136,334.0\n",
      "\n",
      "\tFRIENDS \n",
      "\tMean: 772.4 \n",
      "\tSD: 3,451.9 \n",
      "\tRange: 0.0 to 485,012.0\n",
      "\n",
      "\tTOTAL_TWEETS \n",
      "\tMean: 5,015.2 \n",
      "\tSD: 10,008.4 \n",
      "\tRange: 2.0 to 384,987.0\n",
      "\n",
      "\tNumber of users that used 'sad' hashtag X times:\n",
      "\tX = 1 time(s): 21,229\n",
      "\tX = 2 time(s): 3,047\n",
      "\tX = 3 time(s): 995\n",
      "\tX = 4 time(s): 367\n",
      "\tX = 5 time(s): 222\n",
      "\n",
      "\tNumber of users that used 'sad' hashtag more than X times:\n",
      "\tX > 5 times: 596\n",
      "\n",
      "SUMMARY STATS FOR \"SERIOUSLY\" HASHTAG\n",
      "\n",
      "\tTotal users: 9,033\n",
      "\n",
      "\tFOLLOWERS_COUNT \n",
      "\tMean: 754.7 \n",
      "\tSD: 10,321.7 \n",
      "\tRange: 0.0 to 740,765.0\n",
      "\n",
      "\tFRIENDS \n",
      "\tMean: 616.2 \n",
      "\tSD: 950.5 \n",
      "\tRange: 0.0 to 54,592.0\n",
      "\n",
      "\tTOTAL_TWEETS \n",
      "\tMean: 3,850.8 \n",
      "\tSD: 6,309.9 \n",
      "\tRange: 3.0 to 222,174.0\n",
      "\n",
      "\tNumber of users that used 'seriously' hashtag X times:\n",
      "\tX = 1 time(s): 7,692\n",
      "\tX = 2 time(s): 944\n",
      "\tX = 3 time(s): 223\n",
      "\tX = 4 time(s): 87\n",
      "\tX = 5 time(s): 28\n",
      "\n",
      "\tNumber of users that used 'seriously' hashtag more than X times:\n",
      "\tX > 5 times: 59\n"
     ]
    }
   ],
   "source": [
    "get_stats(tweets_sarcasm, 'sarcasm')\n",
    "calc_num_ht_uses(tweets_sarcasm, 'sarcasm')\n",
    "\n",
    "get_stats(tweets_happy, 'happy')\n",
    "calc_num_ht_uses(tweets_happy, 'happy')\n",
    "\n",
    "get_stats(tweets_sad, 'sad')\n",
    "calc_num_ht_uses(tweets_sad, 'sad')\n",
    "\n",
    "get_stats(tweets_seriously, 'seriously')\n",
    "calc_num_ht_uses(tweets_seriously, 'seriously')"
   ]
  },
  {
   "cell_type": "markdown",
   "metadata": {},
   "source": [
    "### Top user locations by hashtag"
   ]
  },
  {
   "cell_type": "code",
   "execution_count": 30,
   "metadata": {
    "ExecuteTime": {
     "end_time": "2017-10-24T12:56:31.820474Z",
     "start_time": "2017-10-24T08:56:31.777544-04:00"
    },
    "collapsed": false
   },
   "outputs": [
    {
     "name": "stdout",
     "output_type": "stream",
     "text": [
      "\n",
      "Sarcasm Hashtag:\n",
      "New York, NY       255\n",
      "Los Angeles, CA    250\n",
      "Chicago, IL        245\n",
      "United States      212\n",
      "Seattle, WA        172\n",
      "Name: location, dtype: int64\n",
      "\n",
      "Happy Hashtag:\n",
      "Los Angeles, CA    141\n",
      "New York, NY       132\n",
      "London             124\n",
      "Chicago, IL        119\n",
      "Washington, DC      95\n",
      "Name: location, dtype: int64\n",
      "\n",
      "Sad Hashtag:\n",
      "United States      624\n",
      "Los Angeles, CA    373\n",
      "New York, NY       352\n",
      "Chicago, IL        311\n",
      "Washington, DC     274\n",
      "Name: location, dtype: int64\n",
      "\n",
      "Seriously Hashtag:\n",
      "Seriously?         171\n",
      "Chicago, IL        126\n",
      "Washington, DC     116\n",
      "New York, NY       113\n",
      "Los Angeles, CA    112\n",
      "Name: location, dtype: int64\n"
     ]
    }
   ],
   "source": [
    "print('\\nSarcasm Hashtag:\\n{}'.format(tweets_sarcasm['location'].value_counts()[0:5]))\n",
    "print('\\nHappy Hashtag:\\n{}'.format(tweets_happy['location'].value_counts()[0:5]))\n",
    "print('\\nSad Hashtag:\\n{}'.format(tweets_sad['location'].value_counts()[0:5]))\n",
    "print('\\nSeriously Hashtag:\\n{}'.format(tweets_seriously['location'].value_counts()[0:5]))"
   ]
  },
  {
   "cell_type": "markdown",
   "metadata": {},
   "source": [
    "### Top timezones by hashtag"
   ]
  },
  {
   "cell_type": "code",
   "execution_count": 31,
   "metadata": {
    "ExecuteTime": {
     "end_time": "2017-10-24T12:56:36.157754Z",
     "start_time": "2017-10-24T08:56:36.138536-04:00"
    },
    "collapsed": false
   },
   "outputs": [
    {
     "name": "stdout",
     "output_type": "stream",
     "text": [
      "\n",
      "Sarcasm Hashtag:\n",
      "Eastern Time (US & Canada)    7334\n",
      "Central Time (US & Canada)    5323\n",
      "Pacific Time (US & Canada)    3552\n",
      "Quito                         1210\n",
      "London                        1088\n",
      "Name: timezone, dtype: int64\n",
      "\n",
      "Happy Hashtag:\n",
      "Eastern Time (US & Canada)    2631\n",
      "Central Time (US & Canada)    1964\n",
      "Pacific Time (US & Canada)    1427\n",
      "London                         779\n",
      "Quito                          662\n",
      "Name: timezone, dtype: int64\n",
      "\n",
      "Sad Hashtag:\n",
      "Eastern Time (US & Canada)    8679\n",
      "Pacific Time (US & Canada)    5107\n",
      "Central Time (US & Canada)    4978\n",
      "Quito                         1516\n",
      "Atlantic Time (Canada)        1229\n",
      "Name: timezone, dtype: int64\n",
      "\n",
      "Seriously Hashtag:\n",
      "Eastern Time (US & Canada)    2809\n",
      "Central Time (US & Canada)    2329\n",
      "Pacific Time (US & Canada)    1190\n",
      "Quito                          678\n",
      "Atlantic Time (Canada)         475\n",
      "Name: timezone, dtype: int64\n"
     ]
    }
   ],
   "source": [
    "print('\\nSarcasm Hashtag:\\n{}'.format(tweets_sarcasm['timezone'].value_counts()[0:5]))\n",
    "print('\\nHappy Hashtag:\\n{}'.format(tweets_happy['timezone'].value_counts()[0:5]))\n",
    "print('\\nSad Hashtag:\\n{}'.format(tweets_sad['timezone'].value_counts()[0:5]))\n",
    "print('\\nSeriously Hashtag:\\n{}'.format(tweets_seriously['timezone'].value_counts()[0:5]))"
   ]
  },
  {
   "cell_type": "code",
   "execution_count": 32,
   "metadata": {
    "ExecuteTime": {
     "end_time": "2017-10-24T12:56:39.390269Z",
     "start_time": "2017-10-24T08:56:38.812298-04:00"
    },
    "collapsed": false
   },
   "outputs": [
    {
     "data": {
      "image/png": "[encoded data removed]",
      "text/plain": [
       "<matplotlib.figure.Figure at 0x10a179e80>"
      ]
     },
     "metadata": {},
     "output_type": "display_data"
    }
   ],
   "source": [
    "title = 'Number of users by timezone: #sarcasm'\n",
    "xlabel = 'Timezone'\n",
    "ylabel = 'Number of users'\n",
    "filename = 'timezones_sarcasm'\n",
    "make_hist(tweets_sarcasm, 'timezone', 10, xlabel, ylabel, title, filename)"
   ]
  },
  {
   "cell_type": "code",
   "execution_count": 33,
   "metadata": {
    "ExecuteTime": {
     "end_time": "2017-10-24T12:56:40.404868Z",
     "start_time": "2017-10-24T08:56:39.939241-04:00"
    },
    "collapsed": false
   },
   "outputs": [
    {
     "data": {
      "image/png": "[encoded data removed]",
      "text/plain": [
       "<matplotlib.figure.Figure at 0x114ac02b0>"
      ]
     },
     "metadata": {},
     "output_type": "display_data"
    }
   ],
   "source": [
    "title = 'Number of users by timezone: #happy'\n",
    "xlabel = 'Timezone'\n",
    "ylabel = 'Number of users'\n",
    "filename = 'timezones_happy'\n",
    "make_hist(tweets_happy, 'timezone', 10, xlabel, ylabel, title, filename)"
   ]
  },
  {
   "cell_type": "code",
   "execution_count": 34,
   "metadata": {
    "ExecuteTime": {
     "end_time": "2017-10-24T12:56:40.894643Z",
     "start_time": "2017-10-24T08:56:40.406895-04:00"
    },
    "collapsed": false
   },
   "outputs": [
    {
     "data": {
      "image/png": "[encoded data removed]",
      "text/plain": [
       "<matplotlib.figure.Figure at 0x1032a1e48>"
      ]
     },
     "metadata": {},
     "output_type": "display_data"
    }
   ],
   "source": [
    "title = 'Number of users by timezone: #sad'\n",
    "xlabel = 'Timezone'\n",
    "ylabel = 'Number of users'\n",
    "filename = 'timezones_sad'\n",
    "make_hist(tweets_sad, 'timezone', 10, xlabel, ylabel, title, filename)"
   ]
  },
  {
   "cell_type": "code",
   "execution_count": 35,
   "metadata": {
    "ExecuteTime": {
     "end_time": "2017-10-24T12:56:41.418178Z",
     "start_time": "2017-10-24T08:56:40.897328-04:00"
    },
    "collapsed": false
   },
   "outputs": [
    {
     "data": {
      "image/png": "[encoded data removed]",
      "text/plain": [
       "<matplotlib.figure.Figure at 0x10aed79b0>"
      ]
     },
     "metadata": {},
     "output_type": "display_data"
    }
   ],
   "source": [
    "title = 'Number of users by timezone: #seriously'\n",
    "xlabel = 'Timezone'\n",
    "ylabel = 'Number of users'\n",
    "filename = 'timezones_seriously'\n",
    "make_hist(tweets_seriously, 'timezone', 10, xlabel, ylabel, title, filename)"
   ]
  },
  {
   "cell_type": "markdown",
   "metadata": {},
   "source": [
    "### Create/load subset dataframe\n",
    "Subset dataframe contains 50% sarcastic tweets and 50% other tweets (17% each of sad, happy, and seriously tweets)"
   ]
  },
  {
   "cell_type": "code",
   "execution_count": 36,
   "metadata": {
    "ExecuteTime": {
     "end_time": "2017-10-24T12:56:44.340136Z",
     "start_time": "2017-10-24T08:56:43.006983-04:00"
    },
    "collapsed": false
   },
   "outputs": [
    {
     "name": "stdout",
     "output_type": "stream",
     "text": [
      "Dataframe already exists, loading now.\n"
     ]
    },
    {
     "name": "stderr",
     "output_type": "stream",
     "text": [
      "/Users/Rachel/.pyenv/versions/py36_env/lib/python3.6/site-packages/ipykernel_launcher.py:11: SettingWithCopyWarning: \n",
      "A value is trying to be set on a copy of a slice from a DataFrame.\n",
      "Try using .loc[row_indexer,col_indexer] = value instead\n",
      "\n",
      "See the caveats in the documentation: http://pandas.pydata.org/pandas-docs/stable/indexing.html#indexing-view-versus-copy\n",
      "  # This is added back by InteractiveShellApp.init_path()\n",
      "/Users/Rachel/.pyenv/versions/py36_env/lib/python3.6/site-packages/ipykernel_launcher.py:12: SettingWithCopyWarning: \n",
      "A value is trying to be set on a copy of a slice from a DataFrame.\n",
      "Try using .loc[row_indexer,col_indexer] = value instead\n",
      "\n",
      "See the caveats in the documentation: http://pandas.pydata.org/pandas-docs/stable/indexing.html#indexing-view-versus-copy\n",
      "  if sys.path[0] == '':\n",
      "/Users/Rachel/.pyenv/versions/py36_env/lib/python3.6/site-packages/ipykernel_launcher.py:13: SettingWithCopyWarning: \n",
      "A value is trying to be set on a copy of a slice from a DataFrame.\n",
      "Try using .loc[row_indexer,col_indexer] = value instead\n",
      "\n",
      "See the caveats in the documentation: http://pandas.pydata.org/pandas-docs/stable/indexing.html#indexing-view-versus-copy\n",
      "  del sys.path[0]\n",
      "/Users/Rachel/.pyenv/versions/py36_env/lib/python3.6/site-packages/ipykernel_launcher.py:17: SettingWithCopyWarning: \n",
      "A value is trying to be set on a copy of a slice from a DataFrame.\n",
      "Try using .loc[row_indexer,col_indexer] = value instead\n",
      "\n",
      "See the caveats in the documentation: http://pandas.pydata.org/pandas-docs/stable/indexing.html#indexing-view-versus-copy\n"
     ]
    },
    {
     "name": "stdout",
     "output_type": "stream",
     "text": [
      "Total number of tweets: 61,289\n",
      "Number of sarcastic tweets: 30,728 (50.14%)\n",
      "Number of happy tweets: 10,042 (16.38%)\n",
      "Number of sad tweets: 10,256 (16.73%)\n",
      "Number of seriously tweets: 10,263 (16.75%)\n"
     ]
    }
   ],
   "source": [
    "hashtags = ['sarcasm', 'happy', 'sad', 'seriously']\n",
    "filepath = './hashtag_dfs/tweets_all_sub.txt'\n",
    "\n",
    "\"\"\"Check whether subset hashtag dataframe already exists\"\"\"\n",
    "\n",
    "if not os.path.isfile(filepath):\n",
    "    \n",
    "    \"\"\"if hashtag dataframe DOESN'T already exist, create it\"\"\"\n",
    "    \n",
    "    print('Dataframe does not exist, creating now.')\n",
    "    \n",
    "    onethird_sarcasm = int(sum(tweets_all['sarcasm'])/3)\n",
    "\n",
    "    # randomly sample rows from happy, sad, and seriously tweets\n",
    "    tweets_happy_sub = tweets_happy.sample(n = onethird_sarcasm)\n",
    "    tweets_sad_sub = tweets_sad.sample(n = onethird_sarcasm)\n",
    "    tweets_seriously_sub = tweets_seriously.sample(n = onethird_sarcasm)\n",
    "\n",
    "    # combine the subset dataframes\n",
    "    tweets_all_sub = pd.concat([tweets_sarcasm,\n",
    "                             tweets_happy_sub,\n",
    "                             tweets_sad_sub,\n",
    "                             tweets_seriously_sub])\n",
    "\n",
    "    # remove blanks\n",
    "    tweets_all_sub = tweets_all_sub[pd.notnull(tweets_all_sub['text'])]\n",
    "    \n",
    "    # save file\n",
    "    tweets_all_sub.to_csv(filepath, sep = '\\t', index = True, header = True)\n",
    "    \n",
    "else:\n",
    "    \"\"\"if hashtag dataframe DOES already exist, load it\"\"\"\n",
    "    \n",
    "    print('Dataframe already exists, loading now.')\n",
    "    \n",
    "    colnames, dtypes_file = setup_input2()\n",
    "    \n",
    "    tweets_all_sub = pd.read_csv(filepath_or_buffer = filepath, sep = '\\t',\n",
    "                              names = colnames, error_bad_lines = True,\n",
    "                              dtype=dtypes_file, encoding = 'utf-8')\n",
    "\n",
    "    # clean file\n",
    "    tweets_all_sub = clean_file(tweets_all_sub, hashtags)\n",
    "\n",
    "sar_n = sum(tweets_all_sub['sarcasm'])\n",
    "sad_n = sum(tweets_all_sub['sad'])\n",
    "ser_n = sum(tweets_all_sub['seriously'])\n",
    "hap_n = sum(tweets_all_sub['happy'])\n",
    "total_n = len(tweets_all_sub)\n",
    "\n",
    "print('Total number of tweets: {:,}'.format(total_n))\n",
    "print('Number of sarcastic tweets: {:,} ({:.2f}%)'.format(sar_n, 100*(sar_n/total_n)))\n",
    "print('Number of happy tweets: {:,} ({:.2f}%)'.format(hap_n, 100*(hap_n/total_n)))\n",
    "print('Number of sad tweets: {:,} ({:.2f}%)'.format(sad_n, 100*(sad_n/total_n)))\n",
    "print('Number of seriously tweets: {:,} ({:.2f}%)'.format(ser_n, 100*(ser_n/total_n)))"
   ]
  },
  {
   "cell_type": "markdown",
   "metadata": {},
   "source": [
    "### Create test and training data"
   ]
  },
  {
   "cell_type": "code",
   "execution_count": 43,
   "metadata": {
    "ExecuteTime": {
     "end_time": "2017-10-24T12:57:27.253339Z",
     "start_time": "2017-10-24T08:57:26.910372-04:00"
    },
    "collapsed": false
   },
   "outputs": [
    {
     "name": "stdout",
     "output_type": "stream",
     "text": [
      "\n",
      "Training and test set files already exist, opening now.\n",
      "Reading in mask from ./training_test_sets/mask_sarcasm_happy_sad_seriously.txt\n",
      "\n",
      "Length of mask: 61,289\n",
      "Length of test: 18,387\n",
      "Length of train: 42,902\n",
      "Length of test + train: 61,289\n",
      "\n",
      "Percent of sarcasm in training set: 50.06%\n",
      "Percent of sarcasm in test set: 50.31%\n"
     ]
    }
   ],
   "source": [
    "filename_base = 'sarcasm_happy_sad_seriously'\n",
    "strat = True\n",
    "train, test, mask = create_train_test(tweets_all_sub, filename_base)\n",
    "\n",
    "prop_sarc = sum(train['sarcasm'])/len(train)\n",
    "print('\\nPercent of sarcasm in training set: {:.2f}%'.format(prop_sarc*100))\n",
    "\n",
    "prop_sarc = sum(test['sarcasm'])/len(test)\n",
    "print('Percent of sarcasm in test set: {:.2f}%'.format(prop_sarc*100))"
   ]
  },
  {
   "cell_type": "markdown",
   "metadata": {},
   "source": [
    "### Perform cross-validation"
   ]
  },
  {
   "cell_type": "markdown",
   "metadata": {},
   "source": [
    "#### Naive Bayes with AUC as scoring function & using CountVectorizer"
   ]
  },
  {
   "cell_type": "code",
   "execution_count": 98,
   "metadata": {
    "ExecuteTime": {
     "end_time": "2017-10-24T15:50:14.403288Z",
     "start_time": "2017-10-24T11:38:36.440677-04:00"
    },
    "collapsed": false
   },
   "outputs": [
    {
     "name": "stdout",
     "output_type": "stream",
     "text": [
      "Results for Naive Bayes model using CountVectorizer with AUC as scoring function:\n",
      "Progress: 20%\n",
      "Progress: 40%\n",
      "Progress: 60%\n",
      "Progress: 80%\n",
      "Progress: 100%\n",
      "Score: 0.775, alpha: 5, min_df: 2, max_df: 0.9, ngram: (1, 1)\n"
     ]
    }
   ],
   "source": [
    "alphas = [1, 5, 10, 15, 20]\n",
    "min_dfs = [1, 2, 5, 10, 15]\n",
    "max_dfs = [.6, .7, .8, .9, 1.0]\n",
    "ngrams = [(1,1), (2,2)]\n",
    "score_func = auc # options: log_likelihood, cohenk, auc\n",
    "vect_str = 'count'\n",
    "\n",
    "print('Results for Naive Bayes model using CountVectorizer with AUC as scoring function:\\n')\n",
    "best_params_NB_auc_count, clf_NB_auc_count = perform_cv_NB(tweets_all_sub, mask, alphas, min_dfs, max_dfs, ngrams, score_func, vect_str)"
   ]
  },
  {
   "cell_type": "markdown",
   "metadata": {},
   "source": [
    "#### Naive Bayes with AUC as scoring function & using TF-IDF Vectorizer"
   ]
  },
  {
   "cell_type": "code",
   "execution_count": 99,
   "metadata": {
    "ExecuteTime": {
     "end_time": "2017-10-24T16:02:54.575862Z",
     "start_time": "2017-10-24T11:51:06.977575-04:00"
    },
    "collapsed": false
   },
   "outputs": [
    {
     "name": "stdout",
     "output_type": "stream",
     "text": [
      "Results for Naive Bayes model using TfidfVectorizer with AUC as scoring function:\n",
      "Progress: 20%\n",
      "Progress: 40%\n",
      "Progress: 60%\n",
      "Progress: 80%\n",
      "Progress: 100%\n",
      "Score: 0.777, alpha: 10, min_df: 2, max_df: 1.0, ngram: (1, 1)\n"
     ]
    }
   ],
   "source": [
    "alphas = [1, 5, 10, 15, 20]\n",
    "min_dfs = [1, 2, 5, 10, 15]\n",
    "max_dfs = [.6, .7, .8, .9, 1.0]\n",
    "ngrams = [(1,1), (2,2)]\n",
    "score_func = auc # options: log_likelihood, cohenk, auc\n",
    "vect_str = 'tfidf'\n",
    "\n",
    "print('Results for Naive Bayes model using TfidfVectorizer with AUC as scoring function:\\n')\n",
    "best_params_NB_auc_tfidf, clf_NB_auc_tfidf = perform_cv_NB(tweets_all_sub, mask, alphas, min_dfs, max_dfs, ngrams, score_func, vect_str)"
   ]
  },
  {
   "cell_type": "markdown",
   "metadata": {},
   "source": [
    "#### Naive Bayes with log likelihood as scoring function & using CountVectorizer"
   ]
  },
  {
   "cell_type": "code",
   "execution_count": 100,
   "metadata": {
    "ExecuteTime": {
     "end_time": "2017-10-24T16:25:31.217933Z",
     "start_time": "2017-10-24T12:13:56.152455-04:00"
    },
    "collapsed": false
   },
   "outputs": [
    {
     "name": "stdout",
     "output_type": "stream",
     "text": [
      "Results for Naive Bayes model using CountVectorizer with Log-Likelihood as scoring function:\n",
      "\n",
      "Progress: 20%\n",
      "Progress: 40%\n",
      "Progress: 60%\n",
      "Progress: 80%\n",
      "Progress: 100%\n",
      "Score: -4.91e+03, alpha: 10, min_df: 2, max_df: 0.7, ngram: (1, 1)\n"
     ]
    }
   ],
   "source": [
    "alphas = [1, 5, 10, 15, 20]\n",
    "min_dfs = [1, 2, 5, 10, 15]\n",
    "max_dfs = [.6, .7, .8, .9, 1.0]\n",
    "ngrams = [(1,1), (2,2)]\n",
    "score_func = log_likelihood # options: log_likelihood, cohenk, auc\n",
    "vect_str = 'count'\n",
    "\n",
    "print('Results for Naive Bayes model using CountVectorizer with Log-Likelihood as scoring function:\\n')\n",
    "best_params_NB_ll_count, clf_NB_ll_count = perform_cv_NB(tweets_all_sub, mask, alphas, min_dfs, max_dfs, ngrams, score_func, vect_str)"
   ]
  },
  {
   "cell_type": "markdown",
   "metadata": {},
   "source": [
    "#### Naive Bayes with log likelihood as scoring function & using TF-IDF Vectorizer"
   ]
  },
  {
   "cell_type": "code",
   "execution_count": 101,
   "metadata": {
    "ExecuteTime": {
     "end_time": "2017-10-24T16:39:31.793261Z",
     "start_time": "2017-10-24T12:28:06.646538-04:00"
    },
    "collapsed": false
   },
   "outputs": [
    {
     "name": "stdout",
     "output_type": "stream",
     "text": [
      "Results for Naive Bayes model using TfidfVectorizer with Log-Likelihood as scoring function:\n",
      "\n",
      "Progress: 20%\n",
      "Progress: 40%\n",
      "Progress: 60%\n",
      "Progress: 80%\n",
      "Progress: 100%\n",
      "Score: -5.08e+03, alpha: 1, min_df: 2, max_df: 0.7, ngram: (1, 1)\n"
     ]
    }
   ],
   "source": [
    "alphas = [1, 5, 10, 15, 20]\n",
    "min_dfs = [1, 2, 5, 10, 15]\n",
    "max_dfs = [.6, .7, .8, .9, 1.0]\n",
    "ngrams = [(1,1), (2,2)]\n",
    "score_func = log_likelihood # options: log_likelihood, cohenk, auc\n",
    "vect_str = 'tfidf'\n",
    "\n",
    "print('Results for Naive Bayes model using TfidfVectorizer with Log-Likelihood as scoring function:\\n')\n",
    "best_params_NB_ll_tfidf, clf_NB_ll_tfidft = perform_cv_NB(tweets_all_sub, mask, alphas, min_dfs, max_dfs, ngrams, score_func, vect_str)"
   ]
  },
  {
   "cell_type": "markdown",
   "metadata": {},
   "source": [
    "#### Random Forest with AUC as scoring function"
   ]
  },
  {
   "cell_type": "code",
   "execution_count": 90,
   "metadata": {
    "ExecuteTime": {
     "end_time": "2017-10-24T15:13:24.869811Z",
     "start_time": "2017-10-24T10:48:31.960069-04:00"
    },
    "collapsed": false
   },
   "outputs": [
    {
     "name": "stdout",
     "output_type": "stream",
     "text": [
      "Current min_df = 1\n"
     ]
    },
    {
     "ename": "KeyboardInterrupt",
     "evalue": "",
     "output_type": "error",
     "traceback": [
      "\u001b[0;31m---------------------------------------------------------------------------\u001b[0m",
      "\u001b[0;31mKeyboardInterrupt\u001b[0m                         Traceback (most recent call last)",
      "\u001b[0;32m<ipython-input-90-1db1381502f0>\u001b[0m in \u001b[0;36m<module>\u001b[0;34m()\u001b[0m\n\u001b[1;32m      6\u001b[0m \u001b[0mscore_func\u001b[0m \u001b[0;34m=\u001b[0m \u001b[0mauc\u001b[0m \u001b[0;31m# options: log_likelihood, cohenk, auc\u001b[0m\u001b[0;34m\u001b[0m\u001b[0m\n\u001b[1;32m      7\u001b[0m \u001b[0;34m\u001b[0m\u001b[0m\n\u001b[0;32m----> 8\u001b[0;31m \u001b[0mbest_params_RF_auc\u001b[0m\u001b[0;34m,\u001b[0m \u001b[0mclf_RF_auc\u001b[0m \u001b[0;34m=\u001b[0m \u001b[0mperform_cv_RF\u001b[0m\u001b[0;34m(\u001b[0m\u001b[0mtweets_all_sub\u001b[0m\u001b[0;34m,\u001b[0m \u001b[0mmask\u001b[0m\u001b[0;34m,\u001b[0m \u001b[0mmin_dfs\u001b[0m\u001b[0;34m,\u001b[0m \u001b[0mmax_dfs\u001b[0m\u001b[0;34m,\u001b[0m \u001b[0mngrams\u001b[0m\u001b[0;34m,\u001b[0m \u001b[0mscore_func\u001b[0m\u001b[0;34m,\u001b[0m \u001b[0mn_estimators\u001b[0m\u001b[0;34m,\u001b[0m \u001b[0mmin_samples_split\u001b[0m\u001b[0;34m)\u001b[0m\u001b[0;34m\u001b[0m\u001b[0m\n\u001b[0m",
      "\u001b[0;32m<ipython-input-88-5f890da185f6>\u001b[0m in \u001b[0;36mperform_cv_RF\u001b[0;34m(df, mask, min_dfs, max_dfs, ngrams, score_func, n_estimators, min_samples_split)\u001b[0m\n\u001b[1;32m     32\u001b[0m                             \u001b[0mclf\u001b[0m \u001b[0;34m=\u001b[0m \u001b[0mRandomForestClassifier\u001b[0m\u001b[0;34m(\u001b[0m\u001b[0mn_estimators\u001b[0m\u001b[0;34m=\u001b[0m\u001b[0mn_est\u001b[0m\u001b[0;34m,\u001b[0m \u001b[0mmin_samples_split\u001b[0m\u001b[0;34m=\u001b[0m\u001b[0mmin_split\u001b[0m\u001b[0;34m)\u001b[0m\u001b[0;34m\u001b[0m\u001b[0m\n\u001b[1;32m     33\u001b[0m \u001b[0;34m\u001b[0m\u001b[0m\n\u001b[0;32m---> 34\u001b[0;31m                             \u001b[0mscore\u001b[0m \u001b[0;34m=\u001b[0m \u001b[0mcv_score\u001b[0m\u001b[0;34m(\u001b[0m\u001b[0mclf\u001b[0m\u001b[0;34m,\u001b[0m \u001b[0mXtrainthis\u001b[0m\u001b[0;34m,\u001b[0m \u001b[0mytrainthis\u001b[0m\u001b[0;34m,\u001b[0m \u001b[0mscore_func\u001b[0m\u001b[0;34m)\u001b[0m\u001b[0;34m\u001b[0m\u001b[0m\n\u001b[0m\u001b[1;32m     35\u001b[0m \u001b[0;34m\u001b[0m\u001b[0m\n\u001b[1;32m     36\u001b[0m                             \u001b[0;32mif\u001b[0m \u001b[0mscore\u001b[0m \u001b[0;34m>\u001b[0m \u001b[0mmax_score\u001b[0m\u001b[0;34m:\u001b[0m\u001b[0;34m\u001b[0m\u001b[0m\n",
      "\u001b[0;32m<ipython-input-20-5aa27b2cd617>\u001b[0m in \u001b[0;36mcv_score\u001b[0;34m(clf, X, y, scorefunc)\u001b[0m\n\u001b[1;32m      9\u001b[0m \u001b[0;34m\u001b[0m\u001b[0m\n\u001b[1;32m     10\u001b[0m         \u001b[0;31m# fit the classifier, passed is as clf\u001b[0m\u001b[0;34m\u001b[0m\u001b[0;34m\u001b[0m\u001b[0m\n\u001b[0;32m---> 11\u001b[0;31m         \u001b[0mclf\u001b[0m\u001b[0;34m.\u001b[0m\u001b[0mfit\u001b[0m\u001b[0;34m(\u001b[0m\u001b[0mX\u001b[0m\u001b[0;34m[\u001b[0m\u001b[0mtrain\u001b[0m\u001b[0;34m]\u001b[0m\u001b[0;34m,\u001b[0m \u001b[0my\u001b[0m\u001b[0;34m[\u001b[0m\u001b[0mtrain\u001b[0m\u001b[0;34m]\u001b[0m\u001b[0;34m)\u001b[0m\u001b[0;34m\u001b[0m\u001b[0m\n\u001b[0m\u001b[1;32m     12\u001b[0m \u001b[0;34m\u001b[0m\u001b[0m\n\u001b[1;32m     13\u001b[0m         \u001b[0;31m# evaluate score function on held-out data\u001b[0m\u001b[0;34m\u001b[0m\u001b[0;34m\u001b[0m\u001b[0m\n",
      "\u001b[0;32m/Users/Rachel/.pyenv/versions/py36_env/lib/python3.6/site-packages/sklearn/ensemble/forest.py\u001b[0m in \u001b[0;36mfit\u001b[0;34m(self, X, y, sample_weight)\u001b[0m\n\u001b[1;32m    325\u001b[0m                     \u001b[0mt\u001b[0m\u001b[0;34m,\u001b[0m \u001b[0mself\u001b[0m\u001b[0;34m,\u001b[0m \u001b[0mX\u001b[0m\u001b[0;34m,\u001b[0m \u001b[0my\u001b[0m\u001b[0;34m,\u001b[0m \u001b[0msample_weight\u001b[0m\u001b[0;34m,\u001b[0m \u001b[0mi\u001b[0m\u001b[0;34m,\u001b[0m \u001b[0mlen\u001b[0m\u001b[0;34m(\u001b[0m\u001b[0mtrees\u001b[0m\u001b[0;34m)\u001b[0m\u001b[0;34m,\u001b[0m\u001b[0;34m\u001b[0m\u001b[0m\n\u001b[1;32m    326\u001b[0m                     verbose=self.verbose, class_weight=self.class_weight)\n\u001b[0;32m--> 327\u001b[0;31m                 for i, t in enumerate(trees))\n\u001b[0m\u001b[1;32m    328\u001b[0m \u001b[0;34m\u001b[0m\u001b[0m\n\u001b[1;32m    329\u001b[0m             \u001b[0;31m# Collect newly grown trees\u001b[0m\u001b[0;34m\u001b[0m\u001b[0;34m\u001b[0m\u001b[0m\n",
      "\u001b[0;32m/Users/Rachel/.pyenv/versions/py36_env/lib/python3.6/site-packages/sklearn/externals/joblib/parallel.py\u001b[0m in \u001b[0;36m__call__\u001b[0;34m(self, iterable)\u001b[0m\n\u001b[1;32m    777\u001b[0m             \u001b[0;31m# was dispatched. In particular this covers the edge\u001b[0m\u001b[0;34m\u001b[0m\u001b[0;34m\u001b[0m\u001b[0m\n\u001b[1;32m    778\u001b[0m             \u001b[0;31m# case of Parallel used with an exhausted iterator.\u001b[0m\u001b[0;34m\u001b[0m\u001b[0;34m\u001b[0m\u001b[0m\n\u001b[0;32m--> 779\u001b[0;31m             \u001b[0;32mwhile\u001b[0m \u001b[0mself\u001b[0m\u001b[0;34m.\u001b[0m\u001b[0mdispatch_one_batch\u001b[0m\u001b[0;34m(\u001b[0m\u001b[0miterator\u001b[0m\u001b[0;34m)\u001b[0m\u001b[0;34m:\u001b[0m\u001b[0;34m\u001b[0m\u001b[0m\n\u001b[0m\u001b[1;32m    780\u001b[0m                 \u001b[0mself\u001b[0m\u001b[0;34m.\u001b[0m\u001b[0m_iterating\u001b[0m \u001b[0;34m=\u001b[0m \u001b[0;32mTrue\u001b[0m\u001b[0;34m\u001b[0m\u001b[0m\n\u001b[1;32m    781\u001b[0m             \u001b[0;32melse\u001b[0m\u001b[0;34m:\u001b[0m\u001b[0;34m\u001b[0m\u001b[0m\n",
      "\u001b[0;32m/Users/Rachel/.pyenv/versions/py36_env/lib/python3.6/site-packages/sklearn/externals/joblib/parallel.py\u001b[0m in \u001b[0;36mdispatch_one_batch\u001b[0;34m(self, iterator)\u001b[0m\n\u001b[1;32m    623\u001b[0m                 \u001b[0;32mreturn\u001b[0m \u001b[0;32mFalse\u001b[0m\u001b[0;34m\u001b[0m\u001b[0m\n\u001b[1;32m    624\u001b[0m             \u001b[0;32melse\u001b[0m\u001b[0;34m:\u001b[0m\u001b[0;34m\u001b[0m\u001b[0m\n\u001b[0;32m--> 625\u001b[0;31m                 \u001b[0mself\u001b[0m\u001b[0;34m.\u001b[0m\u001b[0m_dispatch\u001b[0m\u001b[0;34m(\u001b[0m\u001b[0mtasks\u001b[0m\u001b[0;34m)\u001b[0m\u001b[0;34m\u001b[0m\u001b[0m\n\u001b[0m\u001b[1;32m    626\u001b[0m                 \u001b[0;32mreturn\u001b[0m \u001b[0;32mTrue\u001b[0m\u001b[0;34m\u001b[0m\u001b[0m\n\u001b[1;32m    627\u001b[0m \u001b[0;34m\u001b[0m\u001b[0m\n",
      "\u001b[0;32m/Users/Rachel/.pyenv/versions/py36_env/lib/python3.6/site-packages/sklearn/externals/joblib/parallel.py\u001b[0m in \u001b[0;36m_dispatch\u001b[0;34m(self, batch)\u001b[0m\n\u001b[1;32m    586\u001b[0m         \u001b[0mdispatch_timestamp\u001b[0m \u001b[0;34m=\u001b[0m \u001b[0mtime\u001b[0m\u001b[0;34m.\u001b[0m\u001b[0mtime\u001b[0m\u001b[0;34m(\u001b[0m\u001b[0;34m)\u001b[0m\u001b[0;34m\u001b[0m\u001b[0m\n\u001b[1;32m    587\u001b[0m         \u001b[0mcb\u001b[0m \u001b[0;34m=\u001b[0m \u001b[0mBatchCompletionCallBack\u001b[0m\u001b[0;34m(\u001b[0m\u001b[0mdispatch_timestamp\u001b[0m\u001b[0;34m,\u001b[0m \u001b[0mlen\u001b[0m\u001b[0;34m(\u001b[0m\u001b[0mbatch\u001b[0m\u001b[0;34m)\u001b[0m\u001b[0;34m,\u001b[0m \u001b[0mself\u001b[0m\u001b[0;34m)\u001b[0m\u001b[0;34m\u001b[0m\u001b[0m\n\u001b[0;32m--> 588\u001b[0;31m         \u001b[0mjob\u001b[0m \u001b[0;34m=\u001b[0m \u001b[0mself\u001b[0m\u001b[0;34m.\u001b[0m\u001b[0m_backend\u001b[0m\u001b[0;34m.\u001b[0m\u001b[0mapply_async\u001b[0m\u001b[0;34m(\u001b[0m\u001b[0mbatch\u001b[0m\u001b[0;34m,\u001b[0m \u001b[0mcallback\u001b[0m\u001b[0;34m=\u001b[0m\u001b[0mcb\u001b[0m\u001b[0;34m)\u001b[0m\u001b[0;34m\u001b[0m\u001b[0m\n\u001b[0m\u001b[1;32m    589\u001b[0m         \u001b[0mself\u001b[0m\u001b[0;34m.\u001b[0m\u001b[0m_jobs\u001b[0m\u001b[0;34m.\u001b[0m\u001b[0mappend\u001b[0m\u001b[0;34m(\u001b[0m\u001b[0mjob\u001b[0m\u001b[0;34m)\u001b[0m\u001b[0;34m\u001b[0m\u001b[0m\n\u001b[1;32m    590\u001b[0m \u001b[0;34m\u001b[0m\u001b[0m\n",
      "\u001b[0;32m/Users/Rachel/.pyenv/versions/py36_env/lib/python3.6/site-packages/sklearn/externals/joblib/_parallel_backends.py\u001b[0m in \u001b[0;36mapply_async\u001b[0;34m(self, func, callback)\u001b[0m\n\u001b[1;32m    109\u001b[0m     \u001b[0;32mdef\u001b[0m \u001b[0mapply_async\u001b[0m\u001b[0;34m(\u001b[0m\u001b[0mself\u001b[0m\u001b[0;34m,\u001b[0m \u001b[0mfunc\u001b[0m\u001b[0;34m,\u001b[0m \u001b[0mcallback\u001b[0m\u001b[0;34m=\u001b[0m\u001b[0;32mNone\u001b[0m\u001b[0;34m)\u001b[0m\u001b[0;34m:\u001b[0m\u001b[0;34m\u001b[0m\u001b[0m\n\u001b[1;32m    110\u001b[0m         \u001b[0;34m\"\"\"Schedule a func to be run\"\"\"\u001b[0m\u001b[0;34m\u001b[0m\u001b[0m\n\u001b[0;32m--> 111\u001b[0;31m         \u001b[0mresult\u001b[0m \u001b[0;34m=\u001b[0m \u001b[0mImmediateResult\u001b[0m\u001b[0;34m(\u001b[0m\u001b[0mfunc\u001b[0m\u001b[0;34m)\u001b[0m\u001b[0;34m\u001b[0m\u001b[0m\n\u001b[0m\u001b[1;32m    112\u001b[0m         \u001b[0;32mif\u001b[0m \u001b[0mcallback\u001b[0m\u001b[0;34m:\u001b[0m\u001b[0;34m\u001b[0m\u001b[0m\n\u001b[1;32m    113\u001b[0m             \u001b[0mcallback\u001b[0m\u001b[0;34m(\u001b[0m\u001b[0mresult\u001b[0m\u001b[0;34m)\u001b[0m\u001b[0;34m\u001b[0m\u001b[0m\n",
      "\u001b[0;32m/Users/Rachel/.pyenv/versions/py36_env/lib/python3.6/site-packages/sklearn/externals/joblib/_parallel_backends.py\u001b[0m in \u001b[0;36m__init__\u001b[0;34m(self, batch)\u001b[0m\n\u001b[1;32m    330\u001b[0m         \u001b[0;31m# Don't delay the application, to avoid keeping the input\u001b[0m\u001b[0;34m\u001b[0m\u001b[0;34m\u001b[0m\u001b[0m\n\u001b[1;32m    331\u001b[0m         \u001b[0;31m# arguments in memory\u001b[0m\u001b[0;34m\u001b[0m\u001b[0;34m\u001b[0m\u001b[0m\n\u001b[0;32m--> 332\u001b[0;31m         \u001b[0mself\u001b[0m\u001b[0;34m.\u001b[0m\u001b[0mresults\u001b[0m \u001b[0;34m=\u001b[0m \u001b[0mbatch\u001b[0m\u001b[0;34m(\u001b[0m\u001b[0;34m)\u001b[0m\u001b[0;34m\u001b[0m\u001b[0m\n\u001b[0m\u001b[1;32m    333\u001b[0m \u001b[0;34m\u001b[0m\u001b[0m\n\u001b[1;32m    334\u001b[0m     \u001b[0;32mdef\u001b[0m \u001b[0mget\u001b[0m\u001b[0;34m(\u001b[0m\u001b[0mself\u001b[0m\u001b[0;34m)\u001b[0m\u001b[0;34m:\u001b[0m\u001b[0;34m\u001b[0m\u001b[0m\n",
      "\u001b[0;32m/Users/Rachel/.pyenv/versions/py36_env/lib/python3.6/site-packages/sklearn/externals/joblib/parallel.py\u001b[0m in \u001b[0;36m__call__\u001b[0;34m(self)\u001b[0m\n\u001b[1;32m    129\u001b[0m \u001b[0;34m\u001b[0m\u001b[0m\n\u001b[1;32m    130\u001b[0m     \u001b[0;32mdef\u001b[0m \u001b[0m__call__\u001b[0m\u001b[0;34m(\u001b[0m\u001b[0mself\u001b[0m\u001b[0;34m)\u001b[0m\u001b[0;34m:\u001b[0m\u001b[0;34m\u001b[0m\u001b[0m\n\u001b[0;32m--> 131\u001b[0;31m         \u001b[0;32mreturn\u001b[0m \u001b[0;34m[\u001b[0m\u001b[0mfunc\u001b[0m\u001b[0;34m(\u001b[0m\u001b[0;34m*\u001b[0m\u001b[0margs\u001b[0m\u001b[0;34m,\u001b[0m \u001b[0;34m**\u001b[0m\u001b[0mkwargs\u001b[0m\u001b[0;34m)\u001b[0m \u001b[0;32mfor\u001b[0m \u001b[0mfunc\u001b[0m\u001b[0;34m,\u001b[0m \u001b[0margs\u001b[0m\u001b[0;34m,\u001b[0m \u001b[0mkwargs\u001b[0m \u001b[0;32min\u001b[0m \u001b[0mself\u001b[0m\u001b[0;34m.\u001b[0m\u001b[0mitems\u001b[0m\u001b[0;34m]\u001b[0m\u001b[0;34m\u001b[0m\u001b[0m\n\u001b[0m\u001b[1;32m    132\u001b[0m \u001b[0;34m\u001b[0m\u001b[0m\n\u001b[1;32m    133\u001b[0m     \u001b[0;32mdef\u001b[0m \u001b[0m__len__\u001b[0m\u001b[0;34m(\u001b[0m\u001b[0mself\u001b[0m\u001b[0;34m)\u001b[0m\u001b[0;34m:\u001b[0m\u001b[0;34m\u001b[0m\u001b[0m\n",
      "\u001b[0;32m/Users/Rachel/.pyenv/versions/py36_env/lib/python3.6/site-packages/sklearn/externals/joblib/parallel.py\u001b[0m in \u001b[0;36m<listcomp>\u001b[0;34m(.0)\u001b[0m\n\u001b[1;32m    129\u001b[0m \u001b[0;34m\u001b[0m\u001b[0m\n\u001b[1;32m    130\u001b[0m     \u001b[0;32mdef\u001b[0m \u001b[0m__call__\u001b[0m\u001b[0;34m(\u001b[0m\u001b[0mself\u001b[0m\u001b[0;34m)\u001b[0m\u001b[0;34m:\u001b[0m\u001b[0;34m\u001b[0m\u001b[0m\n\u001b[0;32m--> 131\u001b[0;31m         \u001b[0;32mreturn\u001b[0m \u001b[0;34m[\u001b[0m\u001b[0mfunc\u001b[0m\u001b[0;34m(\u001b[0m\u001b[0;34m*\u001b[0m\u001b[0margs\u001b[0m\u001b[0;34m,\u001b[0m \u001b[0;34m**\u001b[0m\u001b[0mkwargs\u001b[0m\u001b[0;34m)\u001b[0m \u001b[0;32mfor\u001b[0m \u001b[0mfunc\u001b[0m\u001b[0;34m,\u001b[0m \u001b[0margs\u001b[0m\u001b[0;34m,\u001b[0m \u001b[0mkwargs\u001b[0m \u001b[0;32min\u001b[0m \u001b[0mself\u001b[0m\u001b[0;34m.\u001b[0m\u001b[0mitems\u001b[0m\u001b[0;34m]\u001b[0m\u001b[0;34m\u001b[0m\u001b[0m\n\u001b[0m\u001b[1;32m    132\u001b[0m \u001b[0;34m\u001b[0m\u001b[0m\n\u001b[1;32m    133\u001b[0m     \u001b[0;32mdef\u001b[0m \u001b[0m__len__\u001b[0m\u001b[0;34m(\u001b[0m\u001b[0mself\u001b[0m\u001b[0;34m)\u001b[0m\u001b[0;34m:\u001b[0m\u001b[0;34m\u001b[0m\u001b[0m\n",
      "\u001b[0;32m/Users/Rachel/.pyenv/versions/py36_env/lib/python3.6/site-packages/sklearn/ensemble/forest.py\u001b[0m in \u001b[0;36m_parallel_build_trees\u001b[0;34m(tree, forest, X, y, sample_weight, tree_idx, n_trees, verbose, class_weight)\u001b[0m\n\u001b[1;32m    118\u001b[0m             \u001b[0mcurr_sample_weight\u001b[0m \u001b[0;34m*=\u001b[0m \u001b[0mcompute_sample_weight\u001b[0m\u001b[0;34m(\u001b[0m\u001b[0;34m'balanced'\u001b[0m\u001b[0;34m,\u001b[0m \u001b[0my\u001b[0m\u001b[0;34m,\u001b[0m \u001b[0mindices\u001b[0m\u001b[0;34m)\u001b[0m\u001b[0;34m\u001b[0m\u001b[0m\n\u001b[1;32m    119\u001b[0m \u001b[0;34m\u001b[0m\u001b[0m\n\u001b[0;32m--> 120\u001b[0;31m         \u001b[0mtree\u001b[0m\u001b[0;34m.\u001b[0m\u001b[0mfit\u001b[0m\u001b[0;34m(\u001b[0m\u001b[0mX\u001b[0m\u001b[0;34m,\u001b[0m \u001b[0my\u001b[0m\u001b[0;34m,\u001b[0m \u001b[0msample_weight\u001b[0m\u001b[0;34m=\u001b[0m\u001b[0mcurr_sample_weight\u001b[0m\u001b[0;34m,\u001b[0m \u001b[0mcheck_input\u001b[0m\u001b[0;34m=\u001b[0m\u001b[0;32mFalse\u001b[0m\u001b[0;34m)\u001b[0m\u001b[0;34m\u001b[0m\u001b[0m\n\u001b[0m\u001b[1;32m    121\u001b[0m     \u001b[0;32melse\u001b[0m\u001b[0;34m:\u001b[0m\u001b[0;34m\u001b[0m\u001b[0m\n\u001b[1;32m    122\u001b[0m         \u001b[0mtree\u001b[0m\u001b[0;34m.\u001b[0m\u001b[0mfit\u001b[0m\u001b[0;34m(\u001b[0m\u001b[0mX\u001b[0m\u001b[0;34m,\u001b[0m \u001b[0my\u001b[0m\u001b[0;34m,\u001b[0m \u001b[0msample_weight\u001b[0m\u001b[0;34m=\u001b[0m\u001b[0msample_weight\u001b[0m\u001b[0;34m,\u001b[0m \u001b[0mcheck_input\u001b[0m\u001b[0;34m=\u001b[0m\u001b[0;32mFalse\u001b[0m\u001b[0;34m)\u001b[0m\u001b[0;34m\u001b[0m\u001b[0m\n",
      "\u001b[0;32m/Users/Rachel/.pyenv/versions/py36_env/lib/python3.6/site-packages/sklearn/tree/tree.py\u001b[0m in \u001b[0;36mfit\u001b[0;34m(self, X, y, sample_weight, check_input, X_idx_sorted)\u001b[0m\n\u001b[1;32m    788\u001b[0m             \u001b[0msample_weight\u001b[0m\u001b[0;34m=\u001b[0m\u001b[0msample_weight\u001b[0m\u001b[0;34m,\u001b[0m\u001b[0;34m\u001b[0m\u001b[0m\n\u001b[1;32m    789\u001b[0m             \u001b[0mcheck_input\u001b[0m\u001b[0;34m=\u001b[0m\u001b[0mcheck_input\u001b[0m\u001b[0;34m,\u001b[0m\u001b[0;34m\u001b[0m\u001b[0m\n\u001b[0;32m--> 790\u001b[0;31m             X_idx_sorted=X_idx_sorted)\n\u001b[0m\u001b[1;32m    791\u001b[0m         \u001b[0;32mreturn\u001b[0m \u001b[0mself\u001b[0m\u001b[0;34m\u001b[0m\u001b[0m\n\u001b[1;32m    792\u001b[0m \u001b[0;34m\u001b[0m\u001b[0m\n",
      "\u001b[0;32m/Users/Rachel/.pyenv/versions/py36_env/lib/python3.6/site-packages/sklearn/tree/tree.py\u001b[0m in \u001b[0;36mfit\u001b[0;34m(self, X, y, sample_weight, check_input, X_idx_sorted)\u001b[0m\n\u001b[1;32m    360\u001b[0m                                            min_impurity_split)\n\u001b[1;32m    361\u001b[0m \u001b[0;34m\u001b[0m\u001b[0m\n\u001b[0;32m--> 362\u001b[0;31m         \u001b[0mbuilder\u001b[0m\u001b[0;34m.\u001b[0m\u001b[0mbuild\u001b[0m\u001b[0;34m(\u001b[0m\u001b[0mself\u001b[0m\u001b[0;34m.\u001b[0m\u001b[0mtree_\u001b[0m\u001b[0;34m,\u001b[0m \u001b[0mX\u001b[0m\u001b[0;34m,\u001b[0m \u001b[0my\u001b[0m\u001b[0;34m,\u001b[0m \u001b[0msample_weight\u001b[0m\u001b[0;34m,\u001b[0m \u001b[0mX_idx_sorted\u001b[0m\u001b[0;34m)\u001b[0m\u001b[0;34m\u001b[0m\u001b[0m\n\u001b[0m\u001b[1;32m    363\u001b[0m \u001b[0;34m\u001b[0m\u001b[0m\n\u001b[1;32m    364\u001b[0m         \u001b[0;32mif\u001b[0m \u001b[0mself\u001b[0m\u001b[0;34m.\u001b[0m\u001b[0mn_outputs_\u001b[0m \u001b[0;34m==\u001b[0m \u001b[0;36m1\u001b[0m\u001b[0;34m:\u001b[0m\u001b[0;34m\u001b[0m\u001b[0m\n",
      "\u001b[0;31mKeyboardInterrupt\u001b[0m: "
     ]
    }
   ],
   "source": [
    "min_dfs = [1, 2]\n",
    "max_dfs = [.8, .9, 1.0]\n",
    "ngrams = [(1,1), (2,2)]\n",
    "n_estimators = [1, 5]\n",
    "min_samples_split = [2, 3]\n",
    "score_func = auc # options: log_likelihood, cohenk, auc\n",
    "\n",
    "best_params_RF_auc, clf_RF_auc = perform_cv_RF(tweets_all_sub, mask, min_dfs, max_dfs, ngrams, score_func, n_estimators, min_samples_split)"
   ]
  },
  {
   "cell_type": "markdown",
   "metadata": {
    "collapsed": true
   },
   "source": [
    "### Model evaluation"
   ]
  },
  {
   "cell_type": "code",
   "execution_count": 109,
   "metadata": {
    "ExecuteTime": {
     "end_time": "2017-10-24T16:45:54.842457Z",
     "start_time": "2017-10-24T12:45:47.969084-04:00"
    },
    "collapsed": false,
    "scrolled": true
   },
   "outputs": [
    {
     "name": "stdout",
     "output_type": "stream",
     "text": [
      "MODEL EVALUATION FOR NAIVE BAYES (AUC) WITH COUNT VECTORIZER\n",
      "Most frequent words\n",
      "\n",
      "  2,097.00       know\n",
      "  2,217.00 realdonaldtrump\n",
      "  2,239.00      great\n",
      "  2,269.00        don\n",
      "  2,452.00     people\n",
      "  2,711.00       good\n",
      "  2,743.00        day\n",
      "  2,808.00       love\n",
      "  3,328.00       like\n",
      "  4,595.00       just\n",
      "\n",
      "Total # of words in vocabulary: 21,106\n",
      "Least frequent words\n",
      "\n",
      "      2.00 kysportsradio\n",
      "      2.00     kickin\n",
      "      2.00     kidero\n",
      "      2.00     kidnap\n",
      "      2.00    kidrock\n",
      "      2.00 kiinnostaa\n",
      "      2.00 killermartinis\n",
      "      2.00     kimchi\n",
      "      2.00 kimguilfoyle\n",
      "      2.00 kindergartners\n",
      "\n",
      "Total # of words in vocabulary: 21,106\n",
      "\n",
      "Most predictive words\n",
      "\tP(sarcasm | word)\n",
      "      dare       0.90\n",
      "   shocked       0.88\n",
      "      glad       0.86\n",
      "      yeah       0.84\n",
      "  shocking       0.84\n",
      "    classy       0.83\n",
      "       gee       0.82\n",
      "   shocker       0.82\n",
      "       fun       0.82\n",
      "        oh       0.81\n",
      "\n",
      "Least predictive words\n",
      "\tP(sarcasm | word)\n",
      "    sister       0.21\n",
      "     smile       0.20\n",
      "  realized       0.19\n",
      "      liar       0.19\n",
      "realdonaldtrump       0.18\n",
      " happiness       0.18\n",
      "   chicken       0.18\n",
      "  pathetic       0.18\n",
      "      wine       0.17\n",
      "  pharrell       0.11\n",
      "\n",
      "Accuracy for training set = 80.67%\n",
      "Accuracy for test set = 69.36%\n",
      "Cohen's Kappa = 0.39\n",
      "Precision = 0.69\n",
      "AUC = 0.76\n",
      "True positive rate = 0.67\n",
      "True negative rate = 0.71\n"
     ]
    },
    {
     "data": {
      "image/png": "[encoded data removed]",
      "text/plain": [
       "<matplotlib.figure.Figure at 0x12aac4fd0>"
      ]
     },
     "metadata": {},
     "output_type": "display_data"
    }
   ],
   "source": [
    "print('MODEL EVALUATION FOR NAIVE BAYES (AUC) WITH COUNT VECTORIZER')\n",
    "\n",
    "best_min_df = best_params_NB_auc_count['min_df']\n",
    "best_max_df = best_params_NB_auc_count['max_df']\n",
    "best_alpha = best_params_NB_auc_count['alpha']\n",
    "best_ngram = best_params_NB_auc_count['ngram']\n",
    "\n",
    "vectorizer = CountVectorizer(min_df=best_min_df, max_df=best_max_df, stop_words='english', ngram_range=best_ngram)\n",
    "\n",
    "if hasattr(vectorizer, 'stop_words_'):\n",
    "    print('Number of terms ignored/excluded from model: {:,}'.format(len(vectorizer.stop_words_)))\n",
    "\n",
    "X, y, _ = make_xy(tweets_all_sub, vectorizer)\n",
    "\n",
    "freq_words(10, vectorizer, X, True)\n",
    "freq_words(10, vectorizer, X, False)\n",
    "\n",
    "Xtrain = X[mask]\n",
    "ytrain = y[mask]\n",
    "Xtest = X[~mask]\n",
    "ytest = y[~mask]\n",
    "\n",
    "clf = MultinomialNB(alpha=best_alpha).fit(Xtrain, ytrain)\n",
    "\n",
    "predictive_words(10, vectorizer, clf, Xtest)\n",
    "\n",
    "model_eval(clf, Xtrain, Xtest, ytrain, ytest)"
   ]
  },
  {
   "cell_type": "code",
   "execution_count": 111,
   "metadata": {
    "ExecuteTime": {
     "end_time": "2017-10-24T16:47:21.954606Z",
     "start_time": "2017-10-24T12:47:16.143738-04:00"
    },
    "collapsed": false,
    "scrolled": true
   },
   "outputs": [
    {
     "name": "stdout",
     "output_type": "stream",
     "text": [
      "MODEL EVALUATION FOR NAIVE BAYES (AUC) WITH TF-IDF VECTORIZER\n",
      "Most frequent words\n",
      "\n",
      "    520.37      today\n",
      "    530.93        don\n",
      "    554.62 realdonaldtrump\n",
      "    556.43     people\n",
      "    601.50      great\n",
      "    680.64       good\n",
      "    693.41       like\n",
      "    720.55       love\n",
      "    731.97        day\n",
      "    898.18       just\n",
      "\n",
      "Total # of words in vocabulary: 21,106\n",
      "Least frequent words\n",
      "\n",
      "      0.50        når\n",
      "      0.50       sirf\n",
      "      0.52       deze\n",
      "      0.52         ti\n",
      "      0.54   momentos\n",
      "      0.54      leuke\n",
      "      0.54        tof\n",
      "      0.55       keer\n",
      "      0.55        naa\n",
      "      0.55       tapa\n",
      "\n",
      "Total # of words in vocabulary: 21,106\n",
      "\n",
      "Most predictive words\n",
      "\tP(sarcasm | word)\n",
      "       fun       0.80\n",
      "      yeah       0.78\n",
      "        oh       0.78\n",
      "      glad       0.77\n",
      "       yay       0.77\n",
      "   shocked       0.76\n",
      "      sure       0.74\n",
      "   totally       0.74\n",
      "      dare       0.73\n",
      "    sounds       0.73\n",
      "\n",
      "Least predictive words\n",
      "\tP(sarcasm | word)\n",
      "       sad       0.33\n",
      " happiness       0.33\n",
      "   finally       0.33\n",
      "     smile       0.33\n",
      "   friends       0.33\n",
      "     happy       0.33\n",
      "      fuck       0.33\n",
      "     potus       0.30\n",
      "  pharrell       0.29\n",
      "realdonaldtrump       0.21\n",
      "\n",
      "Accuracy for training set = 79.40%\n",
      "Accuracy for test set = 69.49%\n",
      "Cohen's Kappa = 0.39\n",
      "Precision = 0.68\n",
      "AUC = 0.76\n",
      "True positive rate = 0.66\n",
      "True negative rate = 0.73\n"
     ]
    },
    {
     "data": {
      "image/png": "[encoded data removed]",
      "text/plain": [
       "<matplotlib.figure.Figure at 0x12020a7b8>"
      ]
     },
     "metadata": {},
     "output_type": "display_data"
    }
   ],
   "source": [
    "print('MODEL EVALUATION FOR NAIVE BAYES (AUC) WITH TF-IDF VECTORIZER')\n",
    "\n",
    "best_min_df = best_params_NB_auc_tfidf['min_df']\n",
    "best_max_df = best_params_NB_auc_tfidf['max_df']\n",
    "best_alpha = best_params_NB_auc_tfidf['alpha']\n",
    "best_ngram = best_params_NB_auc_tfidf['ngram']\n",
    "\n",
    "vectorizer = TfidfVectorizer(min_df=best_min_df, max_df=best_max_df, stop_words='english', ngram_range=best_ngram)\n",
    "\n",
    "if hasattr(vectorizer, 'stop_words_'):\n",
    "    print('Number of terms ignored/excluded from model: {:,}'.format(len(vectorizer.stop_words_)))\n",
    "\n",
    "X, y, _ = make_xy(tweets_all_sub, vectorizer)\n",
    "\n",
    "freq_words(10, vectorizer, X, True)\n",
    "freq_words(10, vectorizer, X, False)\n",
    "\n",
    "Xtrain = X[mask]\n",
    "ytrain = y[mask]\n",
    "Xtest = X[~mask]\n",
    "ytest = y[~mask]\n",
    "\n",
    "clf = MultinomialNB(alpha=best_alpha).fit(Xtrain, ytrain)\n",
    "\n",
    "predictive_words(10, vectorizer, clf, Xtest)\n",
    "\n",
    "model_eval(clf, Xtrain, Xtest, ytrain, ytest)"
   ]
  },
  {
   "cell_type": "code",
   "execution_count": 51,
   "metadata": {
    "ExecuteTime": {
     "end_time": "2017-10-20T17:52:55.198573Z",
     "start_time": "2017-10-20T13:52:48.602077-04:00"
    },
    "collapsed": false,
    "scrolled": true
   },
   "outputs": [
    {
     "name": "stdout",
     "output_type": "stream",
     "text": [
      "MODEL EVALUATION FOR LOG LIKELIHOOD MODEL\n",
      "Most frequent words\n",
      "\n",
      "     2,097       know\n",
      "     2,217 realdonaldtrump\n",
      "     2,239      great\n",
      "     2,269        don\n",
      "     2,452     people\n",
      "     2,711       good\n",
      "     2,743        day\n",
      "     2,808       love\n",
      "     3,328       like\n",
      "     4,595       just\n",
      "\n",
      "Total # of words in vocabulary: 21,106\n",
      "Least frequent words\n",
      "\n",
      "         2 kysportsradio\n",
      "         2     kickin\n",
      "         2     kidero\n",
      "         2     kidnap\n",
      "         2    kidrock\n",
      "         2 kiinnostaa\n",
      "         2 killermartinis\n",
      "         2     kimchi\n",
      "         2 kimguilfoyle\n",
      "         2 kindergartners\n",
      "\n",
      "Total # of words in vocabulary: 21,106\n",
      "\n",
      "Most predictive words\n",
      "\tP(sarcasm | word)\n",
      "      glad       0.84\n",
      "      dare       0.84\n",
      "   shocked       0.83\n",
      "      yeah       0.83\n",
      "       fun       0.81\n",
      "        oh       0.81\n",
      "   totally       0.79\n",
      "       yay       0.79\n",
      "    classy       0.78\n",
      "   clearly       0.78\n",
      "\n",
      "Least predictive words\n",
      "\tP(sarcasm | word)\n",
      "  pathetic       0.26\n",
      "       sad       0.26\n",
      "      beer       0.26\n",
      "   chicken       0.25\n",
      "     smile       0.25\n",
      "     potus       0.24\n",
      " happiness       0.24\n",
      "      wine       0.22\n",
      "realdonaldtrump       0.19\n",
      "  pharrell       0.18\n",
      "\n",
      "Accuracy for training set = 78.63%\n",
      "Accuracy for test set = 69.47%\n",
      "Cohen's Kappa = 0.39\n",
      "Precision = 0.69\n",
      "AUC = 0.76\n",
      "True positive rate = 0.68\n",
      "True negative rate = 0.71\n"
     ]
    },
    {
     "data": {
      "image/png": "[encoded data removed]",
      "text/plain": [
       "<matplotlib.figure.Figure at 0x1173c2dd8>"
      ]
     },
     "metadata": {},
     "output_type": "display_data"
    }
   ],
   "source": [
    "print('MODEL EVALUATION FOR NAIVE BAYES (LOG LIKELIHOOD) WITH COUNT VECTORIZER')\n",
    "\n",
    "best_min_df = best_params_NB_ll_count['min_df']\n",
    "best_max_df = best_params_NB_ll_count['max_df']\n",
    "best_alpha = best_params_NB_ll_count['alpha']\n",
    "best_ngram = best_params_NB_ll_count['ngram']\n",
    "\n",
    "vectorizer = CountVectorizer(min_df=best_min_df, max_df=best_max_df, stop_words='english', ngram_range=best_ngram)\n",
    "\n",
    "if hasattr(vectorizer, 'stop_words_'):\n",
    "    print('Number of terms ignored/excluded from model: {:,}'.format(len(vectorizer.stop_words_)))\n",
    "\n",
    "X, y, _ = make_xy(tweets_all_sub, vectorizer)\n",
    "\n",
    "freq_words(10, vectorizer, X, True)\n",
    "freq_words(10, vectorizer, X, False)\n",
    "\n",
    "Xtrain = X[mask]\n",
    "ytrain = y[mask]\n",
    "Xtest = X[~mask]\n",
    "ytest = y[~mask]\n",
    "\n",
    "clf = MultinomialNB(alpha=best_alpha).fit(Xtrain, ytrain)\n",
    "\n",
    "predictive_words(10, vectorizer, clf, Xtest)\n",
    "\n",
    "model_eval(clf, Xtrain, Xtest, ytrain, ytest)"
   ]
  },
  {
   "cell_type": "code",
   "execution_count": 114,
   "metadata": {
    "ExecuteTime": {
     "end_time": "2017-10-24T16:48:15.928561Z",
     "start_time": "2017-10-24T12:48:10.184681-04:00"
    },
    "collapsed": false,
    "scrolled": true
   },
   "outputs": [
    {
     "name": "stdout",
     "output_type": "stream",
     "text": [
      "MODEL EVALUATION FOR NAIVE BAYES (LOG LIKELIHOOD) WITH TF-IDF VECTORIZER\n",
      "Most frequent words\n",
      "\n",
      "    520.37      today\n",
      "    530.93        don\n",
      "    554.62 realdonaldtrump\n",
      "    556.43     people\n",
      "    601.50      great\n",
      "    680.64       good\n",
      "    693.41       like\n",
      "    720.55       love\n",
      "    731.97        day\n",
      "    898.18       just\n",
      "\n",
      "Total # of words in vocabulary: 21,106\n",
      "Least frequent words\n",
      "\n",
      "      0.50        når\n",
      "      0.50       sirf\n",
      "      0.52       deze\n",
      "      0.52         ti\n",
      "      0.54   momentos\n",
      "      0.54      leuke\n",
      "      0.54        tof\n",
      "      0.55       keer\n",
      "      0.55        naa\n",
      "      0.55       tapa\n",
      "\n",
      "Total # of words in vocabulary: 21,106\n",
      "\n",
      "Most predictive words\n",
      "\tP(sarcasm | word)\n",
      "      dare       0.93\n",
      "   shocked       0.93\n",
      "   shocker       0.90\n",
      "  shocking       0.90\n",
      "       gee       0.89\n",
      "    classy       0.87\n",
      "     tebow       0.86\n",
      "       fun       0.85\n",
      "      glad       0.85\n",
      "profootballtalk       0.85\n",
      "\n",
      "Least predictive words\n",
      "\tP(sarcasm | word)\n",
      "      bday       0.15\n",
      "       ate       0.15\n",
      "      roof       0.15\n",
      "   chicken       0.13\n",
      " happiness       0.13\n",
      "  realized       0.12\n",
      "  pathetic       0.12\n",
      "   smiling       0.12\n",
      "      liar       0.11\n",
      "  pharrell       0.06\n",
      "\n",
      "Accuracy for training set = 84.98%\n",
      "Accuracy for test set = 68.29%\n",
      "Cohen's Kappa = 0.37\n",
      "Precision = 0.68\n",
      "AUC = 0.75\n",
      "True positive rate = 0.66\n",
      "True negative rate = 0.71\n"
     ]
    },
    {
     "data": {
      "image/png": "[encoded data removed]",
      "text/plain": [
       "<matplotlib.figure.Figure at 0x1226ddfd0>"
      ]
     },
     "metadata": {},
     "output_type": "display_data"
    }
   ],
   "source": [
    "print('MODEL EVALUATION FOR NAIVE BAYES (LOG LIKELIHOOD) WITH TF-IDF VECTORIZER')\n",
    "\n",
    "best_min_df = best_params_NB_ll_tfidf['min_df']\n",
    "best_max_df = best_params_NB_ll_tfidf['max_df']\n",
    "best_alpha = best_params_NB_ll_tfidf['alpha']\n",
    "best_ngram = best_params_NB_ll_tfidf['ngram']\n",
    "\n",
    "vectorizer = TfidfVectorizer(min_df=best_min_df, max_df=best_max_df, stop_words='english', ngram_range=best_ngram)\n",
    "\n",
    "if hasattr(vectorizer, 'stop_words_'):\n",
    "    print('Number of terms ignored/excluded from model: {:,}'.format(len(vectorizer.stop_words_)))\n",
    "\n",
    "X, y, _ = make_xy(tweets_all_sub, vectorizer)\n",
    "\n",
    "freq_words(10, vectorizer, X, True)\n",
    "freq_words(10, vectorizer, X, False)\n",
    "\n",
    "Xtrain = X[mask]\n",
    "ytrain = y[mask]\n",
    "Xtest = X[~mask]\n",
    "ytest = y[~mask]\n",
    "\n",
    "clf = MultinomialNB(alpha=best_alpha).fit(Xtrain, ytrain)\n",
    "\n",
    "predictive_words(10, vectorizer, clf, Xtest)\n",
    "\n",
    "model_eval(clf, Xtrain, Xtest, ytrain, ytest)"
   ]
  },
  {
   "cell_type": "markdown",
   "metadata": {
    "collapsed": true
   },
   "source": [
    "### Dimensionality reduction using truncated SVD (aka LSA)"
   ]
  },
  {
   "cell_type": "code",
   "execution_count": 181,
   "metadata": {
    "ExecuteTime": {
     "end_time": "2017-10-24T17:43:33.042267Z",
     "start_time": "2017-10-24T13:43:33.035920-04:00"
    },
    "collapsed": true
   },
   "outputs": [],
   "source": [
    "def create_scatter(graph_df, x_col, y_col, grp_col, num_grps):\n",
    "\n",
    "    import seaborn as sns\n",
    "    \n",
    "    g = sns.lmplot(x=x_col, y=y_col, data=graph_df,\n",
    "                   fit_reg=False, \n",
    "                   palette = 'BrBG',\n",
    "                   hue=grp_col,\n",
    "                   size = 5,\n",
    "                   aspect = 1.5)\n",
    "\n",
    "    g = (g._legend.set_title('Label'))\n",
    "\n",
    "    plt.title('SVD Components\\n')"
   ]
  },
  {
   "cell_type": "code",
   "execution_count": 192,
   "metadata": {
    "ExecuteTime": {
     "end_time": "2017-10-24T17:54:57.909002Z",
     "start_time": "2017-10-24T13:54:53.604456-04:00"
    },
    "collapsed": false
   },
   "outputs": [
    {
     "name": "stderr",
     "output_type": "stream",
     "text": [
      "/Users/Rachel/.pyenv/versions/py36_env/lib/python3.6/site-packages/ipykernel_launcher.py:40: SettingWithCopyWarning: \n",
      "A value is trying to be set on a copy of a slice from a DataFrame.\n",
      "Try using .loc[row_indexer,col_indexer] = value instead\n",
      "\n",
      "See the caveats in the documentation: http://pandas.pydata.org/pandas-docs/stable/indexing.html#indexing-view-versus-copy\n",
      "/Users/Rachel/.pyenv/versions/py36_env/lib/python3.6/site-packages/ipykernel_launcher.py:41: SettingWithCopyWarning: \n",
      "A value is trying to be set on a copy of a slice from a DataFrame.\n",
      "Try using .loc[row_indexer,col_indexer] = value instead\n",
      "\n",
      "See the caveats in the documentation: http://pandas.pydata.org/pandas-docs/stable/indexing.html#indexing-view-versus-copy\n"
     ]
    },
    {
     "name": "stdout",
     "output_type": "stream",
     "text": [
      "When n_components = 2, the explained variance ratio = 0.018\n",
      "When n_components = 3, the explained variance ratio = 0.026\n",
      "When n_components = 4, the explained variance ratio = 0.034\n",
      "When n_components = 5, the explained variance ratio = 0.041\n",
      "When n_components = 6, the explained variance ratio = 0.048\n",
      "When n_components = 7, the explained variance ratio = 0.054\n",
      "When n_components = 8, the explained variance ratio = 0.059\n",
      "When n_components = 9, the explained variance ratio = 0.065\n",
      "\n",
      "Highest total explained variance ratio (0.065) was for 9 components\n"
     ]
    }
   ],
   "source": [
    "# note: trying TruncatedSVD because of message that PCA does not support sparse input\n",
    "\n",
    "from sklearn.decomposition import PCA\n",
    "from sklearn.decomposition import TruncatedSVD\n",
    "\n",
    "n_comp = 4\n",
    "\n",
    "best_min_df = best_params_NB_auc_count['min_df']\n",
    "best_max_df = best_params_NB_auc_count['max_df']\n",
    "best_alpha = best_params_NB_auc_count['alpha']\n",
    "best_ngram = best_params_NB_auc_count['ngram']\n",
    "\n",
    "vectorizer = CountVectorizer(min_df=best_min_df, max_df=best_max_df, stop_words='english', ngram_range=best_ngram)\n",
    "\n",
    "Xthis, ythis, _ = make_xy(tweets_all_sub, vectorizer)\n",
    "\n",
    "Xtestthis = Xthis[mask]\n",
    "ytestthis = ythis[mask]\n",
    "Xtrainthis = Xthis[~mask]\n",
    "ytrainthis = ythis[~mask]\n",
    "\n",
    "best_score = -np.inf\n",
    "\n",
    "for n_comp in range(2,10):\n",
    "    \n",
    "    # create new dataframe to store SVD results\n",
    "    svd_df = tweets_all_sub[mask]\n",
    "\n",
    "    # identify two SVD components and add to dataframe\n",
    "    svd = TruncatedSVD(n_components=n_comp)\n",
    "    \n",
    "    svd.fit(Xtestthis) # should this be training or test set?\n",
    "    components = svd.transform(Xtestthis) # should this be training or test set?\n",
    "\n",
    "    # does the below only work for 2 components?\n",
    "    # (should I have n_component number of X's?)\n",
    "    x = components[:,0]\n",
    "    y = components[:,1]\n",
    "\n",
    "    svd_df['x'] = x \n",
    "    svd_df['y'] = y\n",
    "\n",
    "    svd_df = svd_df[['user_tweet_id', 'sarcasm', 'x', 'y']]\n",
    "\n",
    "    exp_var_rat = svd.explained_variance_ratio_.sum()\n",
    "    \n",
    "    print('When n_components = {}, the explained variance ratio = {:.3f}'.format(n_comp, exp_var_rat))\n",
    "    \n",
    "    if exp_var_rat > best_score:\n",
    "        best_n_comp = n_comp\n",
    "        best_score = exp_var_rat\n",
    "\n",
    "print('\\nHighest total explained variance ratio ({:.3f}) was for {} components'.format(best_score, best_n_comp))"
   ]
  },
  {
   "cell_type": "code",
   "execution_count": 173,
   "metadata": {
    "ExecuteTime": {
     "end_time": "2017-10-24T17:39:16.933227Z",
     "start_time": "2017-10-24T13:39:16.054396-04:00"
    },
    "collapsed": false
   },
   "outputs": [
    {
     "data": {
      "image/png": "[encoded data removed]",
      "text/plain": [
       "<matplotlib.figure.Figure at 0x1159227f0>"
      ]
     },
     "metadata": {},
     "output_type": "display_data"
    }
   ],
   "source": [
    "# Plot SVD components\n",
    "create_scatter(tsvd_df, 'x', 'y', 'sarcasm', 2)"
   ]
  },
  {
   "cell_type": "code",
   "execution_count": 174,
   "metadata": {
    "ExecuteTime": {
     "end_time": "2017-10-24T17:39:21.836705Z",
     "start_time": "2017-10-24T13:39:21.667236-04:00"
    },
    "collapsed": false
   },
   "outputs": [
    {
     "data": {
      "image/png": "[encoded data removed]",
      "text/plain": [
       "<matplotlib.figure.Figure at 0x113e47b00>"
      ]
     },
     "metadata": {},
     "output_type": "display_data"
    }
   ],
   "source": [
    "# Plot explained variance for each number of components\n",
    "plt.plot(range(1,tsvd.components_.shape[0]+1), tsvd.explained_variance_)\n",
    "plt.xlabel('Number of components')\n",
    "plt.ylabel('Explained variance')\n",
    "plt.show()"
   ]
  },
  {
   "cell_type": "code",
   "execution_count": null,
   "metadata": {
    "collapsed": true
   },
   "outputs": [],
   "source": []
  }
 ],
 "metadata": {
  "kernelspec": {
   "display_name": "Python 3",
   "language": "python",
   "name": "python3"
  },
  "language_info": {
   "codemirror_mode": {
    "name": "ipython",
    "version": 3
   },
   "file_extension": ".py",
   "mimetype": "text/x-python",
   "name": "python",
   "nbconvert_exporter": "python",
   "pygments_lexer": "ipython3",
   "version": "3.6.0"
  }
 },
 "nbformat": 4,
 "nbformat_minor": 2
}
