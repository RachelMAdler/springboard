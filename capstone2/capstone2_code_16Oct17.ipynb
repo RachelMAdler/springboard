{
 "cells": [
  {
   "cell_type": "markdown",
   "metadata": {},
   "source": [
    "<div class=\"alert alert-success\">\n",
    "<h1>SETUP</h1>\n",
    "</div>"
   ]
  },
  {
   "cell_type": "markdown",
   "metadata": {},
   "source": [
    "## Import libraries"
   ]
  },
  {
   "cell_type": "code",
   "execution_count": 1,
   "metadata": {
    "ExecuteTime": {
     "end_time": "2017-10-16T23:15:01.254744Z",
     "start_time": "2017-10-16T19:15:00.636832-04:00"
    },
    "collapsed": true
   },
   "outputs": [],
   "source": [
    "import pandas as pd\n",
    "import numpy as np\n",
    "import os\n",
    "import re"
   ]
  },
  {
   "cell_type": "markdown",
   "metadata": {},
   "source": [
    "## Setup input"
   ]
  },
  {
   "cell_type": "code",
   "execution_count": 2,
   "metadata": {
    "ExecuteTime": {
     "end_time": "2017-10-16T23:15:02.039393Z",
     "start_time": "2017-10-16T19:15:02.030717-04:00"
    },
    "collapsed": false
   },
   "outputs": [],
   "source": [
    "def setup_input():\n",
    "\n",
    "    colnames = ['user', 'user_id', 'tweet_id', 'text', 'hashtags',\n",
    "                'tweet_date', 'user_start', 'followers_count',\n",
    "                'friends', 'total_tweets', 'location', 'timezone',\n",
    "                'user_tweet_id', 'sarcasm', 'sarcastic', 'irony',\n",
    "                'ironic', 'happy', 'sad', 'seriously']\n",
    "    \n",
    "    dtypes_file = {'user':str, 'user_id':str, 'tweet_id':str, 'text':str, 'hashtags':str,\n",
    "                'tweet_date':str, 'user_start':str, 'followers_count':str,\n",
    "                'friends':str, 'total_tweets':str, 'location':str, 'timezone':str,\n",
    "                'user_tweet_id':str, 'sarcasm':str, 'sarcastic':str, 'irony':str,\n",
    "                'ironic':str, 'happy':str, 'sad':str, 'seriously':str}\n",
    "    \n",
    "    return colnames, dtypes_file"
   ]
  },
  {
   "cell_type": "markdown",
   "metadata": {},
   "source": [
    "## Read in raw data"
   ]
  },
  {
   "cell_type": "code",
   "execution_count": 3,
   "metadata": {
    "ExecuteTime": {
     "end_time": "2017-10-16T23:15:02.407907Z",
     "start_time": "2017-10-16T19:15:02.380055-04:00"
    },
    "collapsed": false
   },
   "outputs": [],
   "source": [
    "def get_input(path, num_files, hashtags):\n",
    "    \n",
    "    get_time('Start time: ')\n",
    "    \n",
    "    df = pd.DataFrame()\n",
    "    num_file = 0\n",
    "    \n",
    "    # Set up for getting input\n",
    "    colnames, dtypes_file = setup_input()\n",
    "\n",
    "    # Calculate and print total number of folders and files\n",
    "    _, files = get_num_folders_files(path)\n",
    "\n",
    "    # iterate through files (containing tweets) in folder:\n",
    "    for i in next(os.walk(path))[2]:\n",
    "\n",
    "        if not i.startswith('hashtag'):\n",
    "            continue\n",
    "\n",
    "        num_file += 1\n",
    "        \n",
    "        if num_file >= num_files:\n",
    "            break\n",
    "\n",
    "        print_str = 'Importing file: ' + str(i) + ' (#' + str(num_file) + ' of ' + str(files) + '), time: '\n",
    "        get_time(print_str)\n",
    "\n",
    "        fullpath = os.path.join(str(path), str(i))\n",
    "        \n",
    "        df_temp = pd.read_csv(filepath_or_buffer = fullpath, sep = '\\t',\n",
    "                                  names=colnames, error_bad_lines=True,\n",
    "                                  dtype=dtypes_file, encoding='utf-8')\n",
    "        \n",
    "        # clean file\n",
    "        df_temp = clean_file(df_temp, hashtags)\n",
    "\n",
    "        # if first csv in group, save as df:   \n",
    "        if num_file == 1:\n",
    "            df = df_temp\n",
    "        else:\n",
    "            df = df.append(df_temp)\n",
    "                \n",
    "    get_time('\\nDone! End time: ')\n",
    "    \n",
    "    return df"
   ]
  },
  {
   "cell_type": "markdown",
   "metadata": {},
   "source": [
    "## Read in dataframes"
   ]
  },
  {
   "cell_type": "code",
   "execution_count": 4,
   "metadata": {
    "ExecuteTime": {
     "end_time": "2017-10-16T23:15:02.726212Z",
     "start_time": "2017-10-16T19:15:02.705944-04:00"
    },
    "collapsed": false
   },
   "outputs": [],
   "source": [
    "def read_in_dfs(df_list, hashtags):\n",
    "    \n",
    "    colnames = ['user_tweet_id', 'user', 'user_id', 'tweet_id', 'text', 'hashtags',\n",
    "                'tweet_date', 'user_start', 'followers_count',\n",
    "                'friends', 'total_tweets', 'location', 'timezone',\n",
    "                'sarcasm', 'sarcastic', 'irony', 'ironic', 'happy',\n",
    "                'sad', 'seriously', 'num_ht']\n",
    "    \n",
    "    dtypes_file = {'user_tweet_id':str, 'user':str, 'user_id':str, 'tweet_id':str, 'text':str, 'hashtags':str,\n",
    "                'tweet_date':str, 'user_start':str, 'followers_count':str,\n",
    "                'friends':str, 'total_tweets':str, 'location':str, 'timezone':str,\n",
    "                'sarcasm':str, 'sarcastic':str, 'irony':str, 'ironic':str, 'happy':str,\n",
    "                'sad':str, 'seriously':str, 'num_ht': str}\n",
    "    \n",
    "    dict_dfs = {}\n",
    "\n",
    "    for i in range(0, len(df_list)):\n",
    "\n",
    "        key = df_list[i]\n",
    "        path = './hashtag_dfs/' + df_list[i] + '.txt'\n",
    "        df = pd.read_csv(filepath_or_buffer = path, sep = '\\t',\n",
    "                         names = colnames, error_bad_lines = True,\n",
    "                         dtype=dtypes_file, encoding = 'utf-8')\n",
    "        \n",
    "        df = clean_file(df, hashtags)\n",
    "        \n",
    "        value = df\n",
    "        dict_dfs[key] = value \n",
    "        \n",
    "        print('Dataframe ' + df_list[i] + ' loaded, length = {:,}.'.format(len(df)))\n",
    "\n",
    "    return dict_dfs"
   ]
  },
  {
   "cell_type": "markdown",
   "metadata": {},
   "source": [
    "## Clean file"
   ]
  },
  {
   "cell_type": "code",
   "execution_count": 5,
   "metadata": {
    "ExecuteTime": {
     "end_time": "2017-10-16T23:15:03.055323Z",
     "start_time": "2017-10-16T19:15:03.045375-04:00"
    },
    "collapsed": true
   },
   "outputs": [],
   "source": [
    "def clean_file(df, hashtags):\n",
    "    \n",
    "    # Remove first row (duplicate with column names)\n",
    "    df = df.iloc[1:]\n",
    "    \n",
    "    # Convert numeric columns to integers:\n",
    "    pd.to_numeric(df['followers_count'], errors='coerce')\n",
    "    pd.to_numeric(df['friends'], errors='coerce')\n",
    "    pd.to_numeric(df['total_tweets'], errors='coerce')\n",
    "    \n",
    "    df['followers_count'] = df['followers_count'].astype(int)\n",
    "    df['friends'] = df['friends'].astype(int)\n",
    "    df['total_tweets'] = df['total_tweets'].astype(int)\n",
    "    \n",
    "    for ht in hashtags:\n",
    "        pd.to_numeric(df[ht], errors ='coerce')\n",
    "        df[ht] = df[ht].astype(int)\n",
    "        \n",
    "    return df"
   ]
  },
  {
   "cell_type": "markdown",
   "metadata": {},
   "source": [
    "## Get number of folders and files"
   ]
  },
  {
   "cell_type": "code",
   "execution_count": 6,
   "metadata": {
    "ExecuteTime": {
     "end_time": "2017-10-16T23:15:03.365843Z",
     "start_time": "2017-10-16T19:15:03.359457-04:00"
    },
    "collapsed": true
   },
   "outputs": [],
   "source": [
    "def get_num_folders_files(path):\n",
    "    \n",
    "    folders = 0\n",
    "    files = 0\n",
    "\n",
    "    for _, dirnames, filenames in os.walk(path):\n",
    "        folders += len(dirnames)\n",
    "        files += len(filenames)\n",
    "    \n",
    "    print('\\nThere are {:,} total folders and {:,} total files.'.format(folders, files))\n",
    "    \n",
    "    return folders, files"
   ]
  },
  {
   "cell_type": "markdown",
   "metadata": {},
   "source": [
    "## Get time"
   ]
  },
  {
   "cell_type": "code",
   "execution_count": 7,
   "metadata": {
    "ExecuteTime": {
     "end_time": "2017-10-16T23:15:03.717058Z",
     "start_time": "2017-10-16T19:15:03.708506-04:00"
    },
    "collapsed": true
   },
   "outputs": [],
   "source": [
    "import datetime\n",
    "\n",
    "def get_time(print_string):\n",
    "\n",
    "    now = datetime.datetime.now()\n",
    "    hour=int(now.hour)\n",
    "    minute=int(now.minute)\n",
    "    second=int(now.second)\n",
    "    \n",
    "    if(len(str(abs(minute)))) == 1:\n",
    "        minute_str = \"0\" + str(minute)\n",
    "    else:\n",
    "        minute_str = str(minute)    \n",
    "    \n",
    "    if print_string != \"\":\n",
    "        print(print_string + str(hour) + \":\" + str(minute_str) + \":\" + str(second))\n",
    "    else:\n",
    "        return hour, minute_str, second"
   ]
  },
  {
   "cell_type": "markdown",
   "metadata": {},
   "source": [
    "<div class=\"alert alert-success\">\n",
    "<h1>DATA CLEANING</h1>\n",
    "</div>"
   ]
  },
  {
   "cell_type": "markdown",
   "metadata": {},
   "source": [
    "## Clean data\n",
    "Drop rows with missing tweet text and report total number of tweets and users"
   ]
  },
  {
   "cell_type": "code",
   "execution_count": 8,
   "metadata": {
    "ExecuteTime": {
     "end_time": "2017-10-16T23:15:04.256365Z",
     "start_time": "2017-10-16T19:15:04.247871-04:00"
    },
    "collapsed": true
   },
   "outputs": [],
   "source": [
    "def clean_data(df):\n",
    "    \n",
    "    # drop rows with missing tweet text\n",
    "    df = df[~df.text.isnull()]\n",
    "    \n",
    "    # if index hasn't been set already\n",
    "    if df.index.name == None:\n",
    "        # remove duplicate tweets\n",
    "        df = df.drop_duplicates(subset='user_tweet_id', keep = 'first')\n",
    "        # set index to 'user_tweet_id' column\n",
    "        df = df.set_index(['user_tweet_id'])\n",
    "    \n",
    "    # encode tweet text as utf-8\n",
    "    col_text = df.columns.get_loc('text')\n",
    "    for i in range(0,len(df)):\n",
    "        df.iloc[i,col_text].encode('utf-8')\n",
    "\n",
    "    return df"
   ]
  },
  {
   "cell_type": "markdown",
   "metadata": {},
   "source": [
    "## Count total hashtags"
   ]
  },
  {
   "cell_type": "code",
   "execution_count": 9,
   "metadata": {
    "ExecuteTime": {
     "end_time": "2017-10-16T23:15:04.635358Z",
     "start_time": "2017-10-16T19:15:04.631222-04:00"
    },
    "collapsed": true
   },
   "outputs": [],
   "source": [
    "def count_total_ht(df):\n",
    "    \n",
    "    df['num_ht'] = 0\n",
    "    df['num_ht'][df['hashtags'] != '[]'] = df.hashtags.str.count(',')+1\n",
    "\n",
    "    return df"
   ]
  },
  {
   "cell_type": "markdown",
   "metadata": {},
   "source": [
    "## Count hashtags"
   ]
  },
  {
   "cell_type": "code",
   "execution_count": 10,
   "metadata": {
    "ExecuteTime": {
     "end_time": "2017-10-16T23:15:05.003412Z",
     "start_time": "2017-10-16T19:15:04.994923-04:00"
    },
    "collapsed": false
   },
   "outputs": [],
   "source": [
    "def count_ht(df, perform_subset, ht):\n",
    "\n",
    "    if perform_subset == True:\n",
    "        \n",
    "        df = df[df[ht] == 1]\n",
    "    \n",
    "    n_tweets = len(df)\n",
    "    n_users = df.user.unique().size\n",
    "\n",
    "    print('\\nNumber of tweets with {} hashtag: {:,d}'.format(ht, n_tweets))\n",
    "    print('Number of users with {} hashtag: {:,d}'.format(ht, n_users))"
   ]
  },
  {
   "cell_type": "markdown",
   "metadata": {
    "collapsed": true
   },
   "source": [
    "<div class=\"alert alert-success\">\n",
    "<h1>TEST-TRAIN SPLIT</h1>\n",
    "</div>"
   ]
  },
  {
   "cell_type": "code",
   "execution_count": 11,
   "metadata": {
    "ExecuteTime": {
     "end_time": "2017-10-16T23:15:05.949315Z",
     "start_time": "2017-10-16T19:15:05.359297-04:00"
    },
    "collapsed": false
   },
   "outputs": [
    {
     "name": "stderr",
     "output_type": "stream",
     "text": [
      "/Users/Rachel/.pyenv/versions/py36_env/lib/python3.6/site-packages/sklearn/cross_validation.py:41: DeprecationWarning: This module was deprecated in version 0.18 in favor of the model_selection module into which all the refactored classes and functions are moved. Also note that the interface of the new CV iterators are different from that of this module. This module will be removed in 0.20.\n",
      "  \"This module will be removed in 0.20.\", DeprecationWarning)\n"
     ]
    }
   ],
   "source": [
    "from sklearn.cross_validation import train_test_split\n",
    "\n",
    "def create_train_test(df, filename_base):\n",
    "    \n",
    "    tt_exist = False\n",
    "\n",
    "    # set file names\n",
    "    mask_file = './training_test_sets/mask_' + filename_base + '.txt'\n",
    "\n",
    "    \"\"\"If training and test sets exist, load them; otherwise, create them\"\"\"\n",
    "    if os.path.isfile(mask_file):\n",
    "        \n",
    "        tt_exist = True\n",
    "        \n",
    "        print('\\nTraining and test set files already exist, opening now.')\n",
    "        \n",
    "        print('Reading in mask from ' + mask_file)\n",
    "        mask = np.loadtxt(mask_file, delimiter = '\\t')\n",
    "        #mask = mask[1:] # remove header row\n",
    "        \n",
    "        mask = mask.astype(bool)\n",
    "        \n",
    "        train_data = df[~mask]\n",
    "        test_data = df[mask]\n",
    "\n",
    "    else: \n",
    "\n",
    "        print('\\nTraining and test set files do not exist, generating now.')\n",
    "\n",
    "        # create training and test sets\n",
    "        # in below, itest is an array containing the row numbers of the test set (which is 30% of the overall dataset)\n",
    "        _, itest = train_test_split(range(df.shape[0]), train_size = 0.7)\n",
    "        mask = np.zeros(df.shape[0], dtype=np.bool)\n",
    "        mask[itest] = True\n",
    "\n",
    "        train_data = df[~mask]\n",
    "        test_data = df[mask]\n",
    "            \n",
    "        print('Saving mask to ' + mask_file)\n",
    "        np.savetxt(fname = mask_file, X = mask, delimiter = '\\t')\n",
    "        \n",
    "    print('\\nLength of test: {:,}'.format(len(test_data)))\n",
    "    print('Length of train: {:,}'.format(len(train_data)))\n",
    "\n",
    "    return train_data, test_data, mask"
   ]
  },
  {
   "cell_type": "markdown",
   "metadata": {},
   "source": [
    "<div class=\"alert alert-success\">\n",
    "<h1>MODELING</h1>\n",
    "</div>"
   ]
  },
  {
   "cell_type": "markdown",
   "metadata": {},
   "source": [
    "## Determine most frequent words"
   ]
  },
  {
   "cell_type": "code",
   "execution_count": 12,
   "metadata": {
    "ExecuteTime": {
     "end_time": "2017-10-16T23:15:09.673300Z",
     "start_time": "2017-10-16T19:15:09.658453-04:00"
    },
    "collapsed": false
   },
   "outputs": [],
   "source": [
    "def freq_words(num_words, cv, X, top):\n",
    "\n",
    "    words = np.array(cv.get_feature_names())\n",
    "\n",
    "    # calculate word frequencies\n",
    "    freq = np.asarray(X.sum(axis=0)).ravel()\n",
    "\n",
    "    # sort rows by frequencies (low to high) and return indices:\n",
    "    ind = np.argsort(freq)\n",
    "\n",
    "    print('\\nTotal # of words in vocabulary: {:,}'.format(len(words)))\n",
    "    \n",
    "    if top == True:\n",
    "        # freq_words = words with highest probability\n",
    "        # below, freq_words represents N words from end (highest freqs)\n",
    "        freq_words = words[ind[-num_words:]]\n",
    "        freq_num = freq[ind[-num_words:]]\n",
    "        \n",
    "        print('Most frequent words\\n')\n",
    "        for w, p in zip(freq_words, freq_num):\n",
    "            print('{:>5}'.format(p), '{:>10}'.format(w))\n",
    "    else:\n",
    "        # freq_words = words with highest probability\n",
    "        freq_words = words[ind[:num_words]]\n",
    "        freq_num = freq[ind[:num_words]]\n",
    "        print('Least frequent words\\n')\n",
    "        for w, p in zip(freq_words, freq_num):\n",
    "            print('{:>5}'.format(p), '{:>10}'.format(w))    "
   ]
  },
  {
   "cell_type": "markdown",
   "metadata": {},
   "source": [
    "## Determine most predictive words"
   ]
  },
  {
   "cell_type": "code",
   "execution_count": 13,
   "metadata": {
    "ExecuteTime": {
     "end_time": "2017-10-16T23:15:10.620528Z",
     "start_time": "2017-10-16T19:15:10.603891-04:00"
    },
    "collapsed": true
   },
   "outputs": [],
   "source": [
    "def predictive_words(num_words, cv, clf, Xtest):\n",
    "\n",
    "    words = np.array(cv.get_feature_names())\n",
    "    \n",
    "    # create identity matrix (each row has exactly 1 feature):\n",
    "    x = np.eye(Xtest.shape[1]) \n",
    "\n",
    "    # use trained classifier to make predictions on this matrix:\n",
    "    probs = clf.predict_log_proba(x)[:, 0] \n",
    "\n",
    "    # sort rows by predicted probabilities and return indices:\n",
    "    ind = np.argsort(probs) \n",
    "\n",
    "    # good_words = words with highest probability\n",
    "    good_words = words[ind[:num_words]]\n",
    "\n",
    "    # bad_words = words with lowest probability\n",
    "    bad_words = words[ind[-num_words:]]\n",
    "\n",
    "    good_prob = probs[ind[:num_words]]\n",
    "    bad_prob = probs[ind[-num_words:]]\n",
    "\n",
    "    print('\\nMost predictive words')\n",
    "    print('\\tP(sarcasm | word)')\n",
    "    for w, p in zip(good_words, good_prob):\n",
    "        print('{:>15}'.format(w), '{:.2f}'.format(1 - np.exp(p)))\n",
    "\n",
    "    print('\\nLeast predictive words')\n",
    "    print('\\tP(sarcasm | word)')\n",
    "    for w, p in zip(bad_words, bad_prob):\n",
    "        print('{:>15}'.format(w), '{:.2f}'.format(1 - np.exp(p))) "
   ]
  },
  {
   "cell_type": "markdown",
   "metadata": {},
   "source": [
    "## Model evaluation"
   ]
  },
  {
   "cell_type": "code",
   "execution_count": 74,
   "metadata": {
    "ExecuteTime": {
     "end_time": "2017-10-16T23:53:41.721555Z",
     "start_time": "2017-10-16T19:53:41.694332-04:00"
    },
    "collapsed": false
   },
   "outputs": [],
   "source": [
    "from sklearn import metrics\n",
    "\n",
    "def model_eval(clf, Xtrain, Xtest, ytrain, ytest):\n",
    "\n",
    "    ypred_test = clf.predict(Xtest)\n",
    "    ypred_train = clf.predict(Xtrain)\n",
    "    ypred_proba = clf.predict_proba(Xtest)\n",
    "\n",
    "    # accuracy\n",
    "    acc_train = round(100*metrics.accuracy_score(ypred_train, ytrain),2)\n",
    "    print('\\nAccuracy for training set = {:.2f}%'.format(acc_train))\n",
    "\n",
    "    acc_test = round(100*metrics.accuracy_score(ypred_test, ytest),2)\n",
    "    print('Accuracy for test set = {:.2f}%'.format(acc_test))\n",
    "\n",
    "    # cohen's kappa\n",
    "    cohenk = metrics.cohen_kappa_score(ytest, ypred_test)\n",
    "    print('Cohen\\'s Kappa = {:.2f}'.format(cohenk))\n",
    "    \n",
    "    # precision (ability of classifier not to label as positive a sample that is negative)\n",
    "    precision = metrics.precision_score(ytest, ypred_test)\n",
    "    print('Precision = {:.2f}'.format(precision))\n",
    "\n",
    "    # AUC\n",
    "    auc = metrics.roc_auc_score(ytest, ypred_proba[:,1])\n",
    "    print('AUC = {:.2f}'.format(auc))\n",
    "    \n",
    "    # create confusion matrix\n",
    "    classes = np.unique(ytest)\n",
    "\n",
    "    cnf_matrix = metrics.confusion_matrix(ytest, ypred_test)\n",
    "    np.set_printoptions(precision=2)\n",
    "\n",
    "    tp = float(cnf_matrix[0][0])/np.sum(cnf_matrix[0])\n",
    "    tn = float(cnf_matrix[1][1])/np.sum(cnf_matrix[1])\n",
    "    \n",
    "    print('True positive rate = {:.2f}'.format(tp))\n",
    "    print('True negative rate = {:.2f}'.format(tn))\n",
    "\n",
    "    plt.figure()\n",
    "    plot_confusion_matrix(cnf_matrix, classes, False)\n",
    "    plt.show()"
   ]
  },
  {
   "cell_type": "markdown",
   "metadata": {},
   "source": [
    "## Create confusion matrix"
   ]
  },
  {
   "cell_type": "code",
   "execution_count": 15,
   "metadata": {
    "ExecuteTime": {
     "end_time": "2017-10-16T23:15:13.011983Z",
     "start_time": "2017-10-16T19:15:12.786500-04:00"
    },
    "collapsed": false
   },
   "outputs": [],
   "source": [
    "import itertools\n",
    "import matplotlib.pyplot as plt\n",
    "%matplotlib inline\n",
    "\n",
    "def plot_confusion_matrix(cm, classes, normalize, cmap=plt.cm.Blues):\n",
    "    \n",
    "    if normalize:\n",
    "        cm = cm.astype('float') / cm.sum(axis=1)[:, np.newaxis]\n",
    "        title = 'Confusion matrix, with normalization'\n",
    "    else:\n",
    "        title = 'Confusion matrix, without normalization'\n",
    "\n",
    "    plt.imshow(cm, interpolation='nearest', cmap=cmap)\n",
    "    plt.title(title)\n",
    "    plt.colorbar()\n",
    "    tick_marks = np.arange(len(classes))\n",
    "    plt.xticks(tick_marks, classes, rotation=45)\n",
    "    plt.yticks(tick_marks, classes)\n",
    "\n",
    "    fmt = '.2f' if normalize else 'd'\n",
    "    thresh = cm.max() / 2.\n",
    "    for i, j in itertools.product(range(cm.shape[0]), range(cm.shape[1])):\n",
    "        plt.text(j, i, format(cm[i, j], fmt),\n",
    "                 horizontalalignment=\"center\",\n",
    "                 color=\"white\" if cm[i, j] > thresh else \"black\")\n",
    "\n",
    "    plt.tight_layout()\n",
    "    plt.ylabel('True label')\n",
    "    plt.xlabel('Predicted label')"
   ]
  },
  {
   "cell_type": "markdown",
   "metadata": {},
   "source": [
    "## Cross-validation"
   ]
  },
  {
   "cell_type": "code",
   "execution_count": 70,
   "metadata": {
    "ExecuteTime": {
     "end_time": "2017-10-16T23:39:58.749689Z",
     "start_time": "2017-10-16T19:39:58.741608-04:00"
    },
    "collapsed": true
   },
   "outputs": [],
   "source": [
    "from sklearn.model_selection import KFold\n",
    "\n",
    "def cv_score(clf, X, y, scorefunc):\n",
    "    result = 0.\n",
    "    nfold = 5\n",
    "    \n",
    "    # split data into train/test groups, 5 times\n",
    "    for train, test in KFold(nfold, shuffle=True).split(X, y):\n",
    "\n",
    "        # fit the classifier, passed is as clf\n",
    "        clf.fit(X[train], y[train]) \n",
    "\n",
    "        # evaluate score function on held-out data\n",
    "        result += scorefunc(clf, X[test], y[test])\n",
    "        \n",
    "    # average score\n",
    "    return result / nfold"
   ]
  },
  {
   "cell_type": "code",
   "execution_count": 51,
   "metadata": {
    "ExecuteTime": {
     "end_time": "2017-10-16T23:32:51.950185Z",
     "start_time": "2017-10-16T19:32:51.945752-04:00"
    },
    "collapsed": true
   },
   "outputs": [],
   "source": [
    "from sklearn.metrics import roc_auc_score\n",
    "\n",
    "def auc(clf, x, y):\n",
    "    \n",
    "    pred = clf.predict_proba(x) \n",
    "    \n",
    "    return roc_auc_score(y, pred[:,1])"
   ]
  },
  {
   "cell_type": "code",
   "execution_count": 18,
   "metadata": {
    "ExecuteTime": {
     "end_time": "2017-10-16T23:15:16.998454Z",
     "start_time": "2017-10-16T19:15:16.994056-04:00"
    },
    "collapsed": false
   },
   "outputs": [],
   "source": [
    "from sklearn.metrics import cohen_kappa_score\n",
    "\n",
    "def cohenk(clf, x, y):\n",
    "    \n",
    "    pred = clf.predict(x)\n",
    "    \n",
    "    return cohen_kappa_score(y, pred)"
   ]
  },
  {
   "cell_type": "code",
   "execution_count": 19,
   "metadata": {
    "ExecuteTime": {
     "end_time": "2017-10-16T23:15:17.315749Z",
     "start_time": "2017-10-16T19:15:17.310381-04:00"
    },
    "collapsed": true
   },
   "outputs": [],
   "source": [
    "def log_likelihood(clf, x, y):\n",
    "    \n",
    "    pred = clf.predict_log_proba(x)\n",
    "    sarcasm = y == 1\n",
    "    not_sarcasm = ~sarcasm\n",
    "    \n",
    "    # add together:\n",
    "    # 1. the log probability of sarcasm samples being labeled 1 (sarcasm)\n",
    "    # 2. the log probability of non-sarcasm samples being labeled 0 (non-sarcasm)\n",
    "    return pred[sarcasm, 1].sum() + pred[not_sarcasm, 0].sum()"
   ]
  },
  {
   "cell_type": "code",
   "execution_count": 75,
   "metadata": {
    "ExecuteTime": {
     "end_time": "2017-10-16T23:54:17.325616Z",
     "start_time": "2017-10-16T19:54:17.300016-04:00"
    },
    "collapsed": true
   },
   "outputs": [],
   "source": [
    "from sklearn.naive_bayes import MultinomialNB\n",
    "\n",
    "def perform_cv(df, mask, alphas, min_dfs, max_dfs, score_func):\n",
    "    \n",
    "    #Find the best value for alpha and min_df, and the best classifier\n",
    "    max_score=-np.inf\n",
    "    best_alpha=-np.inf\n",
    "    best_min_df=-np.inf\n",
    "    best_max_df=-np.inf\n",
    "    \n",
    "    #mask = mask.astype(int)\n",
    "    \n",
    "    for alpha in alphas:\n",
    "        for min_df in min_dfs:\n",
    "            for max_df in max_dfs:\n",
    "                vectorizer = CountVectorizer(min_df=min_df, max_df=max_df, stop_words = 'english')       \n",
    "                Xthis, ythis, _ = make_xy(df, vectorizer)\n",
    "\n",
    "                if Xthis == None:\n",
    "                    print('After pruning, no terms remain; alpha: {}, min_df: {}, max_df: {}'.\n",
    "                          format(alpha, min_df, max_df))\n",
    "\n",
    "                    continue\n",
    "                else:\n",
    "                    # only use training data for cross-validation\n",
    "                    Xtrainthis = Xthis[~mask]\n",
    "                    ytrainthis = ythis[~mask]\n",
    "\n",
    "                    clf = MultinomialNB(alpha = alpha)\n",
    "                    \n",
    "                    score = cv_score(clf, Xtrainthis, ytrainthis, score_func)\n",
    "\n",
    "                    if score > max_score:\n",
    "                        max_score = score\n",
    "                        best_alpha = alpha\n",
    "                        best_min_df = min_df\n",
    "                        best_max_df = max_df\n",
    "\n",
    "    print('Score: {:.3}, alpha: {}, min_df: {}, max_df: {}'.format(max_score, best_alpha, best_min_df, best_max_df))\n",
    "    \n",
    "    return best_alpha, best_min_df, best_max_df, clf"
   ]
  },
  {
   "cell_type": "markdown",
   "metadata": {},
   "source": [
    "## Make term-document matrix"
   ]
  },
  {
   "cell_type": "code",
   "execution_count": 21,
   "metadata": {
    "ExecuteTime": {
     "end_time": "2017-10-16T23:15:25.078251Z",
     "start_time": "2017-10-16T19:15:25.060497-04:00"
    },
    "collapsed": true
   },
   "outputs": [],
   "source": [
    "from sklearn.feature_extraction.text import CountVectorizer\n",
    "\n",
    "def make_xy(df, vectorizer):\n",
    "    \n",
    "    if vectorizer is None:\n",
    "        vectorizer = CountVectorizer()\n",
    "    \n",
    "    # call `fit` to build the vocabulary\n",
    "    try:\n",
    "        vectorizer.fit(df['text'])\n",
    "\n",
    "        # call `transform` to convert text to a bag of words\n",
    "        x = vectorizer.transform(df['text'])\n",
    "\n",
    "        X = x.tocsc()  # some versions of sklearn return COO format\n",
    "\n",
    "        # CountVectorizer uses a sparse array to save memory, but it's easier in this assignment to \n",
    "        # convert back to a \"normal\" numpy array\n",
    "        #X = X.toarray()\n",
    "\n",
    "        # convert sarcasm column to integers\n",
    "        y = (df['sarcasm'] == 1).values.astype(np.int) \n",
    "\n",
    "    except ValueError:\n",
    "    \n",
    "        X = None\n",
    "        y = None\n",
    "        vectorizer = None\n",
    "\n",
    "    return X, y, vectorizer"
   ]
  },
  {
   "cell_type": "markdown",
   "metadata": {},
   "source": [
    "<div class=\"alert alert-success\">\n",
    "<h1>MAIN CODE</h1>\n",
    "</div>"
   ]
  },
  {
   "cell_type": "code",
   "execution_count": 22,
   "metadata": {
    "ExecuteTime": {
     "end_time": "2017-10-16T23:19:38.388868Z",
     "start_time": "2017-10-16T19:15:38.358463-04:00"
    },
    "collapsed": false,
    "scrolled": true
   },
   "outputs": [
    {
     "name": "stdout",
     "output_type": "stream",
     "text": [
      "Dataframes do not exist, creating now.\n",
      "Start time: 19:15:38\n",
      "\n",
      "There are 0 total folders and 367 total files.\n",
      "Importing file: hashtag_file0_folder11to15_14Oct17.txt (#1 of 367), time: 19:15:38\n"
     ]
    },
    {
     "name": "stderr",
     "output_type": "stream",
     "text": [
      "/Users/Rachel/.pyenv/versions/py36_env/lib/python3.6/site-packages/ipykernel_launcher.py:11: SettingWithCopyWarning: \n",
      "A value is trying to be set on a copy of a slice from a DataFrame.\n",
      "Try using .loc[row_indexer,col_indexer] = value instead\n",
      "\n",
      "See the caveats in the documentation: http://pandas.pydata.org/pandas-docs/stable/indexing.html#indexing-view-versus-copy\n",
      "  # This is added back by InteractiveShellApp.init_path()\n",
      "/Users/Rachel/.pyenv/versions/py36_env/lib/python3.6/site-packages/ipykernel_launcher.py:12: SettingWithCopyWarning: \n",
      "A value is trying to be set on a copy of a slice from a DataFrame.\n",
      "Try using .loc[row_indexer,col_indexer] = value instead\n",
      "\n",
      "See the caveats in the documentation: http://pandas.pydata.org/pandas-docs/stable/indexing.html#indexing-view-versus-copy\n",
      "  if sys.path[0] == '':\n",
      "/Users/Rachel/.pyenv/versions/py36_env/lib/python3.6/site-packages/ipykernel_launcher.py:13: SettingWithCopyWarning: \n",
      "A value is trying to be set on a copy of a slice from a DataFrame.\n",
      "Try using .loc[row_indexer,col_indexer] = value instead\n",
      "\n",
      "See the caveats in the documentation: http://pandas.pydata.org/pandas-docs/stable/indexing.html#indexing-view-versus-copy\n",
      "  del sys.path[0]\n",
      "/Users/Rachel/.pyenv/versions/py36_env/lib/python3.6/site-packages/ipykernel_launcher.py:17: SettingWithCopyWarning: \n",
      "A value is trying to be set on a copy of a slice from a DataFrame.\n",
      "Try using .loc[row_indexer,col_indexer] = value instead\n",
      "\n",
      "See the caveats in the documentation: http://pandas.pydata.org/pandas-docs/stable/indexing.html#indexing-view-versus-copy\n"
     ]
    },
    {
     "name": "stdout",
     "output_type": "stream",
     "text": [
      "Importing file: hashtag_file0_folder16to20_14Oct17.txt (#2 of 367), time: 19:15:38\n",
      "Importing file: hashtag_file0_folder1to10_14Oct17.txt (#3 of 367), time: 19:15:39\n",
      "Importing file: hashtag_file0_folder21to28_14Oct17.txt (#4 of 367), time: 19:15:39\n",
      "Importing file: hashtag_file100_folder1to10_14Oct17.txt (#5 of 367), time: 19:15:40\n",
      "Importing file: hashtag_file100_folder21to28_14Oct17.txt (#6 of 367), time: 19:15:40\n",
      "Importing file: hashtag_file101_folder1to10_14Oct17.txt (#7 of 367), time: 19:15:41\n",
      "Importing file: hashtag_file101_folder21to28_14Oct17.txt (#8 of 367), time: 19:15:41\n",
      "Importing file: hashtag_file102_folder1to10_14Oct17.txt (#9 of 367), time: 19:15:42\n",
      "Importing file: hashtag_file102_folder21to28_14Oct17.txt (#10 of 367), time: 19:15:42\n",
      "Importing file: hashtag_file103_folder1to10_14Oct17.txt (#11 of 367), time: 19:15:43\n",
      "Importing file: hashtag_file103_folder21to28_14Oct17.txt (#12 of 367), time: 19:15:43\n",
      "Importing file: hashtag_file104_folder1to10_14Oct17.txt (#13 of 367), time: 19:15:44\n",
      "Importing file: hashtag_file104_folder21to28_14Oct17.txt (#14 of 367), time: 19:15:44\n",
      "Importing file: hashtag_file105_folder1to10_14Oct17.txt (#15 of 367), time: 19:15:45\n",
      "Importing file: hashtag_file105_folder21to28_14Oct17.txt (#16 of 367), time: 19:15:45\n",
      "Importing file: hashtag_file106_folder1to10_14Oct17.txt (#17 of 367), time: 19:15:46\n",
      "Importing file: hashtag_file106_folder21to28_14Oct17.txt (#18 of 367), time: 19:15:46\n",
      "Importing file: hashtag_file107_folder1to10_14Oct17.txt (#19 of 367), time: 19:15:47\n",
      "Importing file: hashtag_file107_folder21to28_14Oct17.txt (#20 of 367), time: 19:15:47\n",
      "Importing file: hashtag_file108_folder1to10_14Oct17.txt (#21 of 367), time: 19:15:48\n",
      "Importing file: hashtag_file108_folder21to28_14Oct17.txt (#22 of 367), time: 19:15:48\n",
      "Importing file: hashtag_file109_folder1to10_14Oct17.txt (#23 of 367), time: 19:15:48\n",
      "Importing file: hashtag_file109_folder21to28_14Oct17.txt (#24 of 367), time: 19:15:49\n",
      "Importing file: hashtag_file10_folder11to15_14Oct17.txt (#25 of 367), time: 19:15:49\n",
      "Importing file: hashtag_file10_folder16to20_14Oct17.txt (#26 of 367), time: 19:15:50\n",
      "Importing file: hashtag_file10_folder1to10_14Oct17.txt (#27 of 367), time: 19:15:50\n",
      "Importing file: hashtag_file10_folder21to28_14Oct17.txt (#28 of 367), time: 19:15:51\n",
      "Importing file: hashtag_file110_folder1to10_14Oct17.txt (#29 of 367), time: 19:15:51\n",
      "Importing file: hashtag_file110_folder21to28_14Oct17.txt (#30 of 367), time: 19:15:52\n",
      "Importing file: hashtag_file111_folder1to10_14Oct17.txt (#31 of 367), time: 19:15:52\n",
      "Importing file: hashtag_file111_folder21to28_14Oct17.txt (#32 of 367), time: 19:15:53\n",
      "Importing file: hashtag_file112_folder1to10_14Oct17.txt (#33 of 367), time: 19:15:53\n",
      "Importing file: hashtag_file112_folder21to28_14Oct17.txt (#34 of 367), time: 19:15:54\n",
      "Importing file: hashtag_file113_folder1to10_14Oct17.txt (#35 of 367), time: 19:15:54\n",
      "Importing file: hashtag_file113_folder21to28_14Oct17.txt (#36 of 367), time: 19:15:55\n",
      "Importing file: hashtag_file114_folder1to10_14Oct17.txt (#37 of 367), time: 19:15:55\n",
      "Importing file: hashtag_file114_folder21to28_14Oct17.txt (#38 of 367), time: 19:15:56\n",
      "Importing file: hashtag_file115_folder1to10_14Oct17.txt (#39 of 367), time: 19:15:56\n",
      "Importing file: hashtag_file115_folder21to28_14Oct17.txt (#40 of 367), time: 19:15:56\n",
      "Importing file: hashtag_file116_folder1to10_14Oct17.txt (#41 of 367), time: 19:15:57\n",
      "Importing file: hashtag_file116_folder21to28_14Oct17.txt (#42 of 367), time: 19:15:57\n",
      "Importing file: hashtag_file117_folder1to10_14Oct17.txt (#43 of 367), time: 19:15:58\n",
      "Importing file: hashtag_file117_folder21to28_14Oct17.txt (#44 of 367), time: 19:15:58\n",
      "Importing file: hashtag_file118_folder1to10_14Oct17.txt (#45 of 367), time: 19:15:59\n",
      "Importing file: hashtag_file118_folder21to28_14Oct17.txt (#46 of 367), time: 19:15:59\n",
      "Importing file: hashtag_file119_folder1to10_14Oct17.txt (#47 of 367), time: 19:16:0\n",
      "Importing file: hashtag_file119_folder21to28_14Oct17.txt (#48 of 367), time: 19:16:0\n",
      "Importing file: hashtag_file11_folder11to15_14Oct17.txt (#49 of 367), time: 19:16:1\n",
      "Importing file: hashtag_file11_folder16to20_14Oct17.txt (#50 of 367), time: 19:16:1\n",
      "Importing file: hashtag_file11_folder1to10_14Oct17.txt (#51 of 367), time: 19:16:2\n",
      "Importing file: hashtag_file11_folder21to28_14Oct17.txt (#52 of 367), time: 19:16:2\n",
      "Importing file: hashtag_file120_folder1to10_14Oct17.txt (#53 of 367), time: 19:16:3\n",
      "Importing file: hashtag_file120_folder21to28_14Oct17.txt (#54 of 367), time: 19:16:3\n",
      "Importing file: hashtag_file121_folder1to10_14Oct17.txt (#55 of 367), time: 19:16:4\n",
      "Importing file: hashtag_file121_folder21to28_14Oct17.txt (#56 of 367), time: 19:16:4\n",
      "Importing file: hashtag_file122_folder1to10_14Oct17.txt (#57 of 367), time: 19:16:5\n",
      "Importing file: hashtag_file122_folder21to28_14Oct17.txt (#58 of 367), time: 19:16:5\n",
      "Importing file: hashtag_file123_folder21to28_14Oct17.txt (#59 of 367), time: 19:16:6\n",
      "Importing file: hashtag_file124_folder21to28_14Oct17.txt (#60 of 367), time: 19:16:6\n",
      "Importing file: hashtag_file125_folder21to28_14Oct17.txt (#61 of 367), time: 19:16:7\n",
      "Importing file: hashtag_file12_folder11to15_14Oct17.txt (#62 of 367), time: 19:16:7\n",
      "Importing file: hashtag_file12_folder16to20_14Oct17.txt (#63 of 367), time: 19:16:8\n",
      "Importing file: hashtag_file12_folder1to10_14Oct17.txt (#64 of 367), time: 19:16:8\n",
      "Importing file: hashtag_file12_folder21to28_14Oct17.txt (#65 of 367), time: 19:16:9\n",
      "Importing file: hashtag_file13_folder11to15_14Oct17.txt (#66 of 367), time: 19:16:9\n",
      "Importing file: hashtag_file13_folder16to20_14Oct17.txt (#67 of 367), time: 19:16:10\n",
      "Importing file: hashtag_file13_folder1to10_14Oct17.txt (#68 of 367), time: 19:16:10\n",
      "Importing file: hashtag_file13_folder21to28_14Oct17.txt (#69 of 367), time: 19:16:11\n",
      "Importing file: hashtag_file14_folder11to15_14Oct17.txt (#70 of 367), time: 19:16:11\n",
      "Importing file: hashtag_file14_folder16to20_14Oct17.txt (#71 of 367), time: 19:16:12\n",
      "Importing file: hashtag_file14_folder1to10_14Oct17.txt (#72 of 367), time: 19:16:12\n",
      "Importing file: hashtag_file14_folder21to28_14Oct17.txt (#73 of 367), time: 19:16:13\n",
      "Importing file: hashtag_file15_folder11to15_14Oct17.txt (#74 of 367), time: 19:16:13\n",
      "Importing file: hashtag_file15_folder16to20_14Oct17.txt (#75 of 367), time: 19:16:14\n",
      "Importing file: hashtag_file15_folder1to10_14Oct17.txt (#76 of 367), time: 19:16:15\n",
      "Importing file: hashtag_file15_folder21to28_14Oct17.txt (#77 of 367), time: 19:16:15\n",
      "Importing file: hashtag_file16_folder11to15_14Oct17.txt (#78 of 367), time: 19:16:16\n",
      "Importing file: hashtag_file16_folder16to20_14Oct17.txt (#79 of 367), time: 19:16:16\n",
      "Importing file: hashtag_file16_folder1to10_14Oct17.txt (#80 of 367), time: 19:16:17\n",
      "Importing file: hashtag_file16_folder21to28_14Oct17.txt (#81 of 367), time: 19:16:17\n",
      "Importing file: hashtag_file17_folder11to15_14Oct17.txt (#82 of 367), time: 19:16:18\n",
      "Importing file: hashtag_file17_folder16to20_14Oct17.txt (#83 of 367), time: 19:16:18\n",
      "Importing file: hashtag_file17_folder1to10_14Oct17.txt (#84 of 367), time: 19:16:19\n",
      "Importing file: hashtag_file17_folder21to28_14Oct17.txt (#85 of 367), time: 19:16:19\n",
      "Importing file: hashtag_file18_folder11to15_14Oct17.txt (#86 of 367), time: 19:16:20\n",
      "Importing file: hashtag_file18_folder16to20_14Oct17.txt (#87 of 367), time: 19:16:20\n",
      "Importing file: hashtag_file18_folder1to10_14Oct17.txt (#88 of 367), time: 19:16:21\n",
      "Importing file: hashtag_file18_folder21to28_14Oct17.txt (#89 of 367), time: 19:16:21\n",
      "Importing file: hashtag_file19_folder11to15_14Oct17.txt (#90 of 367), time: 19:16:22\n",
      "Importing file: hashtag_file19_folder16to20_14Oct17.txt (#91 of 367), time: 19:16:22\n",
      "Importing file: hashtag_file19_folder1to10_14Oct17.txt (#92 of 367), time: 19:16:23\n",
      "Importing file: hashtag_file19_folder21to28_14Oct17.txt (#93 of 367), time: 19:16:24\n",
      "Importing file: hashtag_file1_folder11to15_14Oct17.txt (#94 of 367), time: 19:16:24\n",
      "Importing file: hashtag_file1_folder16to20_14Oct17.txt (#95 of 367), time: 19:16:25\n",
      "Importing file: hashtag_file1_folder1to10_14Oct17.txt (#96 of 367), time: 19:16:25\n",
      "Importing file: hashtag_file1_folder21to28_14Oct17.txt (#97 of 367), time: 19:16:26\n",
      "Importing file: hashtag_file20_folder11to15_14Oct17.txt (#98 of 367), time: 19:16:26\n",
      "Importing file: hashtag_file20_folder16to20_14Oct17.txt (#99 of 367), time: 19:16:27\n",
      "Importing file: hashtag_file20_folder1to10_14Oct17.txt (#100 of 367), time: 19:16:27\n",
      "Importing file: hashtag_file20_folder21to28_14Oct17.txt (#101 of 367), time: 19:16:28\n",
      "Importing file: hashtag_file21_folder11to15_14Oct17.txt (#102 of 367), time: 19:16:28\n",
      "Importing file: hashtag_file21_folder16to20_14Oct17.txt (#103 of 367), time: 19:16:29\n",
      "Importing file: hashtag_file21_folder1to10_14Oct17.txt (#104 of 367), time: 19:16:30\n",
      "Importing file: hashtag_file21_folder21to28_14Oct17.txt (#105 of 367), time: 19:16:30\n",
      "Importing file: hashtag_file22_folder11to15_14Oct17.txt (#106 of 367), time: 19:16:31\n",
      "Importing file: hashtag_file22_folder16to20_14Oct17.txt (#107 of 367), time: 19:16:31\n",
      "Importing file: hashtag_file22_folder1to10_14Oct17.txt (#108 of 367), time: 19:16:32\n",
      "Importing file: hashtag_file22_folder21to28_14Oct17.txt (#109 of 367), time: 19:16:32\n",
      "Importing file: hashtag_file23_folder11to15_14Oct17.txt (#110 of 367), time: 19:16:33\n",
      "Importing file: hashtag_file23_folder16to20_14Oct17.txt (#111 of 367), time: 19:16:33\n",
      "Importing file: hashtag_file23_folder1to10_14Oct17.txt (#112 of 367), time: 19:16:34\n",
      "Importing file: hashtag_file23_folder21to28_14Oct17.txt (#113 of 367), time: 19:16:35\n",
      "Importing file: hashtag_file24_folder11to15_14Oct17.txt (#114 of 367), time: 19:16:35\n",
      "Importing file: hashtag_file24_folder16to20_14Oct17.txt (#115 of 367), time: 19:16:36\n",
      "Importing file: hashtag_file24_folder1to10_14Oct17.txt (#116 of 367), time: 19:16:36\n",
      "Importing file: hashtag_file24_folder21to28_14Oct17.txt (#117 of 367), time: 19:16:37\n",
      "Importing file: hashtag_file25_folder11to15_14Oct17.txt (#118 of 367), time: 19:16:37\n",
      "Importing file: hashtag_file25_folder16to20_14Oct17.txt (#119 of 367), time: 19:16:38\n",
      "Importing file: hashtag_file25_folder1to10_14Oct17.txt (#120 of 367), time: 19:16:39\n",
      "Importing file: hashtag_file25_folder21to28_14Oct17.txt (#121 of 367), time: 19:16:39\n",
      "Importing file: hashtag_file26_folder11to15_14Oct17.txt (#122 of 367), time: 19:16:40\n",
      "Importing file: hashtag_file26_folder16to20_14Oct17.txt (#123 of 367), time: 19:16:40\n",
      "Importing file: hashtag_file26_folder1to10_14Oct17.txt (#124 of 367), time: 19:16:41\n",
      "Importing file: hashtag_file26_folder21to28_14Oct17.txt (#125 of 367), time: 19:16:41\n",
      "Importing file: hashtag_file27_folder11to15_14Oct17.txt (#126 of 367), time: 19:16:42\n",
      "Importing file: hashtag_file27_folder16to20_14Oct17.txt (#127 of 367), time: 19:16:43\n",
      "Importing file: hashtag_file27_folder1to10_14Oct17.txt (#128 of 367), time: 19:16:43\n",
      "Importing file: hashtag_file27_folder21to28_14Oct17.txt (#129 of 367), time: 19:16:44\n",
      "Importing file: hashtag_file28_folder11to15_14Oct17.txt (#130 of 367), time: 19:16:44\n",
      "Importing file: hashtag_file28_folder16to20_14Oct17.txt (#131 of 367), time: 19:16:45\n",
      "Importing file: hashtag_file28_folder1to10_14Oct17.txt (#132 of 367), time: 19:16:45\n",
      "Importing file: hashtag_file28_folder21to28_14Oct17.txt (#133 of 367), time: 19:16:46\n",
      "Importing file: hashtag_file29_folder11to15_14Oct17.txt (#134 of 367), time: 19:16:47\n",
      "Importing file: hashtag_file29_folder16to20_14Oct17.txt (#135 of 367), time: 19:16:47\n",
      "Importing file: hashtag_file29_folder1to10_14Oct17.txt (#136 of 367), time: 19:16:48\n",
      "Importing file: hashtag_file29_folder21to28_14Oct17.txt (#137 of 367), time: 19:16:48\n",
      "Importing file: hashtag_file2_folder11to15_14Oct17.txt (#138 of 367), time: 19:16:49\n",
      "Importing file: hashtag_file2_folder16to20_14Oct17.txt (#139 of 367), time: 19:16:50\n",
      "Importing file: hashtag_file2_folder1to10_14Oct17.txt (#140 of 367), time: 19:16:50\n",
      "Importing file: hashtag_file2_folder21to28_14Oct17.txt (#141 of 367), time: 19:16:51\n",
      "Importing file: hashtag_file30_folder11to15_14Oct17.txt (#142 of 367), time: 19:16:51\n",
      "Importing file: hashtag_file30_folder16to20_14Oct17.txt (#143 of 367), time: 19:16:52\n",
      "Importing file: hashtag_file30_folder1to10_14Oct17.txt (#144 of 367), time: 19:16:53\n",
      "Importing file: hashtag_file30_folder21to28_14Oct17.txt (#145 of 367), time: 19:16:53\n",
      "Importing file: hashtag_file31_folder11to15_14Oct17.txt (#146 of 367), time: 19:16:54\n",
      "Importing file: hashtag_file31_folder16to20_14Oct17.txt (#147 of 367), time: 19:16:54\n",
      "Importing file: hashtag_file31_folder1to10_14Oct17.txt (#148 of 367), time: 19:16:55\n",
      "Importing file: hashtag_file31_folder21to28_14Oct17.txt (#149 of 367), time: 19:16:56\n",
      "Importing file: hashtag_file32_folder11to15_14Oct17.txt (#150 of 367), time: 19:16:56\n",
      "Importing file: hashtag_file32_folder16to20_14Oct17.txt (#151 of 367), time: 19:16:57\n",
      "Importing file: hashtag_file32_folder1to10_14Oct17.txt (#152 of 367), time: 19:16:58\n",
      "Importing file: hashtag_file32_folder21to28_14Oct17.txt (#153 of 367), time: 19:16:58\n",
      "Importing file: hashtag_file33_folder11to15_14Oct17.txt (#154 of 367), time: 19:16:59\n",
      "Importing file: hashtag_file33_folder16to20_14Oct17.txt (#155 of 367), time: 19:17:0\n",
      "Importing file: hashtag_file33_folder1to10_14Oct17.txt (#156 of 367), time: 19:17:0\n",
      "Importing file: hashtag_file33_folder21to28_14Oct17.txt (#157 of 367), time: 19:17:1\n",
      "Importing file: hashtag_file34_folder11to15_14Oct17.txt (#158 of 367), time: 19:17:1\n",
      "Importing file: hashtag_file34_folder16to20_14Oct17.txt (#159 of 367), time: 19:17:2\n",
      "Importing file: hashtag_file34_folder1to10_14Oct17.txt (#160 of 367), time: 19:17:3\n",
      "Importing file: hashtag_file34_folder21to28_14Oct17.txt (#161 of 367), time: 19:17:3\n",
      "Importing file: hashtag_file35_folder11to15_14Oct17.txt (#162 of 367), time: 19:17:4\n",
      "Importing file: hashtag_file35_folder16to20_14Oct17.txt (#163 of 367), time: 19:17:5\n",
      "Importing file: hashtag_file35_folder1to10_14Oct17.txt (#164 of 367), time: 19:17:5\n",
      "Importing file: hashtag_file35_folder21to28_14Oct17.txt (#165 of 367), time: 19:17:6\n",
      "Importing file: hashtag_file36_folder11to15_14Oct17.txt (#166 of 367), time: 19:17:6\n",
      "Importing file: hashtag_file36_folder16to20_14Oct17.txt (#167 of 367), time: 19:17:7\n",
      "Importing file: hashtag_file36_folder1to10_14Oct17.txt (#168 of 367), time: 19:17:8\n",
      "Importing file: hashtag_file36_folder21to28_14Oct17.txt (#169 of 367), time: 19:17:8\n",
      "Importing file: hashtag_file37_folder11to15_14Oct17.txt (#170 of 367), time: 19:17:9\n",
      "Importing file: hashtag_file37_folder16to20_14Oct17.txt (#171 of 367), time: 19:17:10\n",
      "Importing file: hashtag_file37_folder1to10_14Oct17.txt (#172 of 367), time: 19:17:10\n",
      "Importing file: hashtag_file37_folder21to28_14Oct17.txt (#173 of 367), time: 19:17:11\n",
      "Importing file: hashtag_file38_folder11to15_14Oct17.txt (#174 of 367), time: 19:17:12\n",
      "Importing file: hashtag_file38_folder16to20_14Oct17.txt (#175 of 367), time: 19:17:12\n",
      "Importing file: hashtag_file38_folder1to10_14Oct17.txt (#176 of 367), time: 19:17:13\n",
      "Importing file: hashtag_file38_folder21to28_14Oct17.txt (#177 of 367), time: 19:17:14\n",
      "Importing file: hashtag_file39_folder11to15_14Oct17.txt (#178 of 367), time: 19:17:14\n",
      "Importing file: hashtag_file39_folder16to20_14Oct17.txt (#179 of 367), time: 19:17:15\n",
      "Importing file: hashtag_file39_folder1to10_14Oct17.txt (#180 of 367), time: 19:17:16\n",
      "Importing file: hashtag_file39_folder21to28_14Oct17.txt (#181 of 367), time: 19:17:16\n",
      "Importing file: hashtag_file3_folder11to15_14Oct17.txt (#182 of 367), time: 19:17:17\n",
      "Importing file: hashtag_file3_folder16to20_14Oct17.txt (#183 of 367), time: 19:17:18\n",
      "Importing file: hashtag_file3_folder1to10_14Oct17.txt (#184 of 367), time: 19:17:19\n",
      "Importing file: hashtag_file3_folder21to28_14Oct17.txt (#185 of 367), time: 19:17:19\n",
      "Importing file: hashtag_file40_folder11to15_14Oct17.txt (#186 of 367), time: 19:17:20\n",
      "Importing file: hashtag_file40_folder16to20_14Oct17.txt (#187 of 367), time: 19:17:21\n",
      "Importing file: hashtag_file40_folder1to10_14Oct17.txt (#188 of 367), time: 19:17:22\n",
      "Importing file: hashtag_file40_folder21to28_14Oct17.txt (#189 of 367), time: 19:17:22\n",
      "Importing file: hashtag_file41_folder11to15_14Oct17.txt (#190 of 367), time: 19:17:23\n",
      "Importing file: hashtag_file41_folder16to20_14Oct17.txt (#191 of 367), time: 19:17:24\n",
      "Importing file: hashtag_file41_folder1to10_14Oct17.txt (#192 of 367), time: 19:17:24\n",
      "Importing file: hashtag_file41_folder21to28_14Oct17.txt (#193 of 367), time: 19:17:25\n",
      "Importing file: hashtag_file42_folder11to15_14Oct17.txt (#194 of 367), time: 19:17:26\n",
      "Importing file: hashtag_file42_folder16to20_14Oct17.txt (#195 of 367), time: 19:17:27\n",
      "Importing file: hashtag_file42_folder1to10_14Oct17.txt (#196 of 367), time: 19:17:27\n",
      "Importing file: hashtag_file42_folder21to28_14Oct17.txt (#197 of 367), time: 19:17:28\n",
      "Importing file: hashtag_file43_folder11to15_14Oct17.txt (#198 of 367), time: 19:17:29\n",
      "Importing file: hashtag_file43_folder16to20_14Oct17.txt (#199 of 367), time: 19:17:29\n",
      "Importing file: hashtag_file43_folder1to10_14Oct17.txt (#200 of 367), time: 19:17:30\n",
      "Importing file: hashtag_file43_folder21to28_14Oct17.txt (#201 of 367), time: 19:17:31\n",
      "Importing file: hashtag_file44_folder11to15_14Oct17.txt (#202 of 367), time: 19:17:32\n",
      "Importing file: hashtag_file44_folder16to20_14Oct17.txt (#203 of 367), time: 19:17:33\n",
      "Importing file: hashtag_file44_folder1to10_14Oct17.txt (#204 of 367), time: 19:17:33\n",
      "Importing file: hashtag_file44_folder21to28_14Oct17.txt (#205 of 367), time: 19:17:34\n",
      "Importing file: hashtag_file45_folder11to15_14Oct17.txt (#206 of 367), time: 19:17:35\n",
      "Importing file: hashtag_file45_folder16to20_14Oct17.txt (#207 of 367), time: 19:17:36\n",
      "Importing file: hashtag_file45_folder1to10_14Oct17.txt (#208 of 367), time: 19:17:36\n",
      "Importing file: hashtag_file45_folder21to28_14Oct17.txt (#209 of 367), time: 19:17:37\n",
      "Importing file: hashtag_file46_folder11to15_14Oct17.txt (#210 of 367), time: 19:17:38\n",
      "Importing file: hashtag_file46_folder16to20_14Oct17.txt (#211 of 367), time: 19:17:38\n",
      "Importing file: hashtag_file46_folder1to10_14Oct17.txt (#212 of 367), time: 19:17:39\n",
      "Importing file: hashtag_file46_folder21to28_14Oct17.txt (#213 of 367), time: 19:17:40\n",
      "Importing file: hashtag_file47_folder11to15_14Oct17.txt (#214 of 367), time: 19:17:40\n",
      "Importing file: hashtag_file47_folder16to20_14Oct17.txt (#215 of 367), time: 19:17:41\n",
      "Importing file: hashtag_file47_folder1to10_14Oct17.txt (#216 of 367), time: 19:17:42\n",
      "Importing file: hashtag_file47_folder21to28_14Oct17.txt (#217 of 367), time: 19:17:42\n",
      "Importing file: hashtag_file48_folder11to15_14Oct17.txt (#218 of 367), time: 19:17:43\n",
      "Importing file: hashtag_file48_folder16to20_14Oct17.txt (#219 of 367), time: 19:17:44\n",
      "Importing file: hashtag_file48_folder1to10_14Oct17.txt (#220 of 367), time: 19:17:44\n",
      "Importing file: hashtag_file48_folder21to28_14Oct17.txt (#221 of 367), time: 19:17:45\n",
      "Importing file: hashtag_file49_folder11to15_14Oct17.txt (#222 of 367), time: 19:17:46\n",
      "Importing file: hashtag_file49_folder16to20_14Oct17.txt (#223 of 367), time: 19:17:46\n",
      "Importing file: hashtag_file49_folder1to10_14Oct17.txt (#224 of 367), time: 19:17:47\n",
      "Importing file: hashtag_file49_folder21to28_14Oct17.txt (#225 of 367), time: 19:17:48\n",
      "Importing file: hashtag_file4_folder11to15_14Oct17.txt (#226 of 367), time: 19:17:49\n",
      "Importing file: hashtag_file4_folder16to20_14Oct17.txt (#227 of 367), time: 19:17:49\n",
      "Importing file: hashtag_file4_folder1to10_14Oct17.txt (#228 of 367), time: 19:17:50\n",
      "Importing file: hashtag_file4_folder21to28_14Oct17.txt (#229 of 367), time: 19:17:51\n",
      "Importing file: hashtag_file50_folder16to20_14Oct17.txt (#230 of 367), time: 19:17:51\n",
      "Importing file: hashtag_file50_folder1to10_14Oct17.txt (#231 of 367), time: 19:17:52\n",
      "Importing file: hashtag_file50_folder21to28_14Oct17.txt (#232 of 367), time: 19:17:53\n",
      "Importing file: hashtag_file51_folder16to20_14Oct17.txt (#233 of 367), time: 19:17:53\n",
      "Importing file: hashtag_file51_folder1to10_14Oct17.txt (#234 of 367), time: 19:17:54\n",
      "Importing file: hashtag_file51_folder21to28_14Oct17.txt (#235 of 367), time: 19:17:55\n",
      "Importing file: hashtag_file52_folder16to20_14Oct17.txt (#236 of 367), time: 19:17:55\n",
      "Importing file: hashtag_file52_folder1to10_14Oct17.txt (#237 of 367), time: 19:17:56\n",
      "Importing file: hashtag_file52_folder21to28_14Oct17.txt (#238 of 367), time: 19:17:57\n",
      "Importing file: hashtag_file53_folder16to20_14Oct17.txt (#239 of 367), time: 19:17:58\n",
      "Importing file: hashtag_file53_folder1to10_14Oct17.txt (#240 of 367), time: 19:17:58\n",
      "Importing file: hashtag_file53_folder21to28_14Oct17.txt (#241 of 367), time: 19:17:59\n",
      "Importing file: hashtag_file54_folder16to20_14Oct17.txt (#242 of 367), time: 19:18:0\n",
      "Importing file: hashtag_file54_folder1to10_14Oct17.txt (#243 of 367), time: 19:18:0\n",
      "Importing file: hashtag_file54_folder21to28_14Oct17.txt (#244 of 367), time: 19:18:1\n",
      "Importing file: hashtag_file55_folder16to20_14Oct17.txt (#245 of 367), time: 19:18:2\n",
      "Importing file: hashtag_file55_folder1to10_14Oct17.txt (#246 of 367), time: 19:18:3\n",
      "Importing file: hashtag_file55_folder21to28_14Oct17.txt (#247 of 367), time: 19:18:3\n",
      "Importing file: hashtag_file56_folder16to20_14Oct17.txt (#248 of 367), time: 19:18:4\n",
      "Importing file: hashtag_file56_folder1to10_14Oct17.txt (#249 of 367), time: 19:18:5\n",
      "Importing file: hashtag_file56_folder21to28_14Oct17.txt (#250 of 367), time: 19:18:6\n",
      "Importing file: hashtag_file57_folder16to20_14Oct17.txt (#251 of 367), time: 19:18:6\n",
      "Importing file: hashtag_file57_folder1to10_14Oct17.txt (#252 of 367), time: 19:18:7\n",
      "Importing file: hashtag_file57_folder21to28_14Oct17.txt (#253 of 367), time: 19:18:8\n",
      "Importing file: hashtag_file58_folder16to20_14Oct17.txt (#254 of 367), time: 19:18:9\n",
      "Importing file: hashtag_file58_folder1to10_14Oct17.txt (#255 of 367), time: 19:18:9\n",
      "Importing file: hashtag_file58_folder21to28_14Oct17.txt (#256 of 367), time: 19:18:10\n",
      "Importing file: hashtag_file59_folder16to20_14Oct17.txt (#257 of 367), time: 19:18:11\n",
      "Importing file: hashtag_file59_folder1to10_14Oct17.txt (#258 of 367), time: 19:18:12\n",
      "Importing file: hashtag_file59_folder21to28_14Oct17.txt (#259 of 367), time: 19:18:12\n",
      "Importing file: hashtag_file5_folder11to15_14Oct17.txt (#260 of 367), time: 19:18:13\n",
      "Importing file: hashtag_file5_folder16to20_14Oct17.txt (#261 of 367), time: 19:18:14\n",
      "Importing file: hashtag_file5_folder1to10_14Oct17.txt (#262 of 367), time: 19:18:15\n",
      "Importing file: hashtag_file5_folder21to28_14Oct17.txt (#263 of 367), time: 19:18:15\n",
      "Importing file: hashtag_file60_folder16to20_14Oct17.txt (#264 of 367), time: 19:18:16\n",
      "Importing file: hashtag_file60_folder1to10_14Oct17.txt (#265 of 367), time: 19:18:17\n",
      "Importing file: hashtag_file60_folder21to28_14Oct17.txt (#266 of 367), time: 19:18:18\n",
      "Importing file: hashtag_file61_folder16to20_14Oct17.txt (#267 of 367), time: 19:18:18\n",
      "Importing file: hashtag_file61_folder1to10_14Oct17.txt (#268 of 367), time: 19:18:19\n",
      "Importing file: hashtag_file61_folder21to28_14Oct17.txt (#269 of 367), time: 19:18:20\n",
      "Importing file: hashtag_file62_folder16to20_14Oct17.txt (#270 of 367), time: 19:18:21\n",
      "Importing file: hashtag_file62_folder1to10_14Oct17.txt (#271 of 367), time: 19:18:21\n",
      "Importing file: hashtag_file62_folder21to28_14Oct17.txt (#272 of 367), time: 19:18:22\n",
      "Importing file: hashtag_file63_folder16to20_14Oct17.txt (#273 of 367), time: 19:18:23\n",
      "Importing file: hashtag_file63_folder1to10_14Oct17.txt (#274 of 367), time: 19:18:24\n",
      "Importing file: hashtag_file63_folder21to28_14Oct17.txt (#275 of 367), time: 19:18:24\n",
      "Importing file: hashtag_file64_folder16to20_14Oct17.txt (#276 of 367), time: 19:18:25\n",
      "Importing file: hashtag_file64_folder1to10_14Oct17.txt (#277 of 367), time: 19:18:26\n",
      "Importing file: hashtag_file64_folder21to28_14Oct17.txt (#278 of 367), time: 19:18:27\n",
      "Importing file: hashtag_file65_folder16to20_14Oct17.txt (#279 of 367), time: 19:18:27\n",
      "Importing file: hashtag_file65_folder1to10_14Oct17.txt (#280 of 367), time: 19:18:28\n",
      "Importing file: hashtag_file65_folder21to28_14Oct17.txt (#281 of 367), time: 19:18:29\n",
      "Importing file: hashtag_file66_folder16to20_14Oct17.txt (#282 of 367), time: 19:18:30\n",
      "Importing file: hashtag_file66_folder1to10_14Oct17.txt (#283 of 367), time: 19:18:30\n",
      "Importing file: hashtag_file66_folder21to28_14Oct17.txt (#284 of 367), time: 19:18:31\n",
      "Importing file: hashtag_file67_folder1to10_14Oct17.txt (#285 of 367), time: 19:18:32\n",
      "Importing file: hashtag_file67_folder21to28_14Oct17.txt (#286 of 367), time: 19:18:33\n",
      "Importing file: hashtag_file68_folder1to10_14Oct17.txt (#287 of 367), time: 19:18:34\n",
      "Importing file: hashtag_file68_folder21to28_14Oct17.txt (#288 of 367), time: 19:18:34\n",
      "Importing file: hashtag_file69_folder1to10_14Oct17.txt (#289 of 367), time: 19:18:35\n",
      "Importing file: hashtag_file69_folder21to28_14Oct17.txt (#290 of 367), time: 19:18:36\n",
      "Importing file: hashtag_file6_folder11to15_14Oct17.txt (#291 of 367), time: 19:18:37\n",
      "Importing file: hashtag_file6_folder16to20_14Oct17.txt (#292 of 367), time: 19:18:37\n",
      "Importing file: hashtag_file6_folder1to10_14Oct17.txt (#293 of 367), time: 19:18:38\n",
      "Importing file: hashtag_file6_folder21to28_14Oct17.txt (#294 of 367), time: 19:18:39\n",
      "Importing file: hashtag_file70_folder1to10_14Oct17.txt (#295 of 367), time: 19:18:40\n",
      "Importing file: hashtag_file70_folder21to28_14Oct17.txt (#296 of 367), time: 19:18:40\n",
      "Importing file: hashtag_file71_folder1to10_14Oct17.txt (#297 of 367), time: 19:18:41\n",
      "Importing file: hashtag_file71_folder21to28_14Oct17.txt (#298 of 367), time: 19:18:42\n",
      "Importing file: hashtag_file72_folder1to10_14Oct17.txt (#299 of 367), time: 19:18:43\n",
      "Importing file: hashtag_file72_folder21to28_14Oct17.txt (#300 of 367), time: 19:18:43\n",
      "Importing file: hashtag_file73_folder1to10_14Oct17.txt (#301 of 367), time: 19:18:44\n",
      "Importing file: hashtag_file73_folder21to28_14Oct17.txt (#302 of 367), time: 19:18:45\n",
      "Importing file: hashtag_file74_folder1to10_14Oct17.txt (#303 of 367), time: 19:18:46\n",
      "Importing file: hashtag_file74_folder21to28_14Oct17.txt (#304 of 367), time: 19:18:47\n",
      "Importing file: hashtag_file75_folder1to10_14Oct17.txt (#305 of 367), time: 19:18:47\n",
      "Importing file: hashtag_file75_folder21to28_14Oct17.txt (#306 of 367), time: 19:18:48\n",
      "Importing file: hashtag_file76_folder1to10_14Oct17.txt (#307 of 367), time: 19:18:49\n",
      "Importing file: hashtag_file76_folder21to28_14Oct17.txt (#308 of 367), time: 19:18:50\n",
      "Importing file: hashtag_file77_folder1to10_14Oct17.txt (#309 of 367), time: 19:18:51\n",
      "Importing file: hashtag_file77_folder21to28_14Oct17.txt (#310 of 367), time: 19:18:51\n",
      "Importing file: hashtag_file78_folder1to10_14Oct17.txt (#311 of 367), time: 19:18:52\n",
      "Importing file: hashtag_file78_folder21to28_14Oct17.txt (#312 of 367), time: 19:18:53\n",
      "Importing file: hashtag_file79_folder1to10_14Oct17.txt (#313 of 367), time: 19:18:54\n",
      "Importing file: hashtag_file79_folder21to28_14Oct17.txt (#314 of 367), time: 19:18:54\n",
      "Importing file: hashtag_file7_folder11to15_14Oct17.txt (#315 of 367), time: 19:18:55\n",
      "Importing file: hashtag_file7_folder16to20_14Oct17.txt (#316 of 367), time: 19:18:56\n",
      "Importing file: hashtag_file7_folder1to10_14Oct17.txt (#317 of 367), time: 19:18:57\n",
      "Importing file: hashtag_file7_folder21to28_14Oct17.txt (#318 of 367), time: 19:18:58\n",
      "Importing file: hashtag_file80_folder1to10_14Oct17.txt (#319 of 367), time: 19:18:58\n",
      "Importing file: hashtag_file80_folder21to28_14Oct17.txt (#320 of 367), time: 19:18:59\n",
      "Importing file: hashtag_file81_folder1to10_14Oct17.txt (#321 of 367), time: 19:19:0\n",
      "Importing file: hashtag_file81_folder21to28_14Oct17.txt (#322 of 367), time: 19:19:1\n",
      "Importing file: hashtag_file82_folder1to10_14Oct17.txt (#323 of 367), time: 19:19:2\n",
      "Importing file: hashtag_file82_folder21to28_14Oct17.txt (#324 of 367), time: 19:19:2\n",
      "Importing file: hashtag_file83_folder1to10_14Oct17.txt (#325 of 367), time: 19:19:3\n",
      "Importing file: hashtag_file83_folder21to28_14Oct17.txt (#326 of 367), time: 19:19:4\n",
      "Importing file: hashtag_file84_folder1to10_14Oct17.txt (#327 of 367), time: 19:19:5\n",
      "Importing file: hashtag_file84_folder21to28_14Oct17.txt (#328 of 367), time: 19:19:6\n",
      "Importing file: hashtag_file85_folder1to10_14Oct17.txt (#329 of 367), time: 19:19:6\n",
      "Importing file: hashtag_file85_folder21to28_14Oct17.txt (#330 of 367), time: 19:19:7\n",
      "Importing file: hashtag_file86_folder1to10_14Oct17.txt (#331 of 367), time: 19:19:8\n",
      "Importing file: hashtag_file86_folder21to28_14Oct17.txt (#332 of 367), time: 19:19:9\n",
      "Importing file: hashtag_file87_folder1to10_14Oct17.txt (#333 of 367), time: 19:19:10\n",
      "Importing file: hashtag_file87_folder21to28_14Oct17.txt (#334 of 367), time: 19:19:11\n",
      "Importing file: hashtag_file88_folder1to10_14Oct17.txt (#335 of 367), time: 19:19:11\n",
      "Importing file: hashtag_file88_folder21to28_14Oct17.txt (#336 of 367), time: 19:19:12\n",
      "Importing file: hashtag_file89_folder1to10_14Oct17.txt (#337 of 367), time: 19:19:13\n",
      "Importing file: hashtag_file89_folder21to28_14Oct17.txt (#338 of 367), time: 19:19:14\n",
      "Importing file: hashtag_file8_folder11to15_14Oct17.txt (#339 of 367), time: 19:19:15\n",
      "Importing file: hashtag_file8_folder16to20_14Oct17.txt (#340 of 367), time: 19:19:15\n",
      "Importing file: hashtag_file8_folder1to10_14Oct17.txt (#341 of 367), time: 19:19:16\n",
      "Importing file: hashtag_file8_folder21to28_14Oct17.txt (#342 of 367), time: 19:19:17\n",
      "Importing file: hashtag_file90_folder1to10_14Oct17.txt (#343 of 367), time: 19:19:18\n",
      "Importing file: hashtag_file90_folder21to28_14Oct17.txt (#344 of 367), time: 19:19:19\n",
      "Importing file: hashtag_file91_folder1to10_14Oct17.txt (#345 of 367), time: 19:19:19\n",
      "Importing file: hashtag_file91_folder21to28_14Oct17.txt (#346 of 367), time: 19:19:20\n",
      "Importing file: hashtag_file92_folder1to10_14Oct17.txt (#347 of 367), time: 19:19:21\n",
      "Importing file: hashtag_file92_folder21to28_14Oct17.txt (#348 of 367), time: 19:19:22\n",
      "Importing file: hashtag_file93_folder1to10_14Oct17.txt (#349 of 367), time: 19:19:23\n",
      "Importing file: hashtag_file93_folder21to28_14Oct17.txt (#350 of 367), time: 19:19:24\n",
      "Importing file: hashtag_file94_folder1to10_14Oct17.txt (#351 of 367), time: 19:19:24\n",
      "Importing file: hashtag_file94_folder21to28_14Oct17.txt (#352 of 367), time: 19:19:25\n",
      "Importing file: hashtag_file95_folder1to10_14Oct17.txt (#353 of 367), time: 19:19:26\n",
      "Importing file: hashtag_file95_folder21to28_14Oct17.txt (#354 of 367), time: 19:19:27\n",
      "Importing file: hashtag_file96_folder1to10_14Oct17.txt (#355 of 367), time: 19:19:28\n",
      "Importing file: hashtag_file96_folder21to28_14Oct17.txt (#356 of 367), time: 19:19:29\n",
      "Importing file: hashtag_file97_folder1to10_14Oct17.txt (#357 of 367), time: 19:19:29\n",
      "Importing file: hashtag_file97_folder21to28_14Oct17.txt (#358 of 367), time: 19:19:30\n",
      "Importing file: hashtag_file98_folder1to10_14Oct17.txt (#359 of 367), time: 19:19:31\n",
      "Importing file: hashtag_file98_folder21to28_14Oct17.txt (#360 of 367), time: 19:19:32\n",
      "Importing file: hashtag_file99_folder1to10_14Oct17.txt (#361 of 367), time: 19:19:33\n",
      "Importing file: hashtag_file99_folder21to28_14Oct17.txt (#362 of 367), time: 19:19:33\n",
      "Importing file: hashtag_file9_folder11to15_14Oct17.txt (#363 of 367), time: 19:19:34\n",
      "Importing file: hashtag_file9_folder16to20_14Oct17.txt (#364 of 367), time: 19:19:35\n",
      "Importing file: hashtag_file9_folder1to10_14Oct17.txt (#365 of 367), time: 19:19:36\n",
      "Importing file: hashtag_file9_folder21to28_14Oct17.txt (#366 of 367), time: 19:19:37\n",
      "\n",
      "Done! End time: 19:19:38\n"
     ]
    }
   ],
   "source": [
    "input_path = './hashtag_tweets/'\n",
    "\n",
    "num_files = np.inf\n",
    "hashtags = ['sarcasm','sarcastic','irony','ironic','happy','sad','seriously']\n",
    "\n",
    "\"\"\"Check whether hashtag dataframes already exist\"\"\"\n",
    "df_list = ['tweets_all', 'tweets_sarcasm', 'tweets_sad', 'tweets_happy', 'tweets_seriously']\n",
    "\n",
    "for df in df_list:\n",
    "    filepath = './hashtag_dfs/' + df + '.txt'\n",
    "    if not os.path.isfile(filepath):        \n",
    "        dfs_exist = False\n",
    "    else:\n",
    "        dfs_exist = True\n",
    "\n",
    "if dfs_exist == False:\n",
    "    \"\"\"if hashtag dataframes DON'T already exist, get input and create them\"\"\"\n",
    "    \n",
    "    print('Dataframes do not exist, creating now.')\n",
    "    tweets_all = get_input(input_path, num_files, hashtags)\n",
    "else:\n",
    "    \"\"\"if hashtag dataframes DO already exist, load them\"\"\"\n",
    "\n",
    "    print('Dataframes already exist, loading now.')\n",
    "    \n",
    "    dict_dfs = read_in_dfs(df_list, hashtags)\n",
    "    tweets_all = dict_dfs['tweets_all']    \n",
    "    tweets_sarcasm = dict_dfs['tweets_sarcasm']    \n",
    "    tweets_happy = dict_dfs['tweets_happy']    \n",
    "    tweets_sad = dict_dfs['tweets_sad']    \n",
    "    tweets_seriously = dict_dfs['tweets_seriously']"
   ]
  },
  {
   "cell_type": "code",
   "execution_count": 23,
   "metadata": {
    "ExecuteTime": {
     "end_time": "2017-10-16T23:21:15.713927Z",
     "start_time": "2017-10-16T19:20:37.870111-04:00"
    },
    "collapsed": false
   },
   "outputs": [
    {
     "name": "stderr",
     "output_type": "stream",
     "text": [
      "/Users/Rachel/.pyenv/versions/py36_env/lib/python3.6/site-packages/ipykernel_launcher.py:4: SettingWithCopyWarning: \n",
      "A value is trying to be set on a copy of a slice from a DataFrame\n",
      "\n",
      "See the caveats in the documentation: http://pandas.pydata.org/pandas-docs/stable/indexing.html#indexing-view-versus-copy\n",
      "  after removing the cwd from sys.path.\n"
     ]
    }
   ],
   "source": [
    "\"\"\"If dataframes do NOT exist, create them and save them as text files\"\"\"\n",
    "if dfs_exist == False:\n",
    "    \n",
    "    # subset data to tweets with only one hashtag\n",
    "    tweets_all = count_total_ht(tweets_all)\n",
    "    tweets_all = tweets_all[tweets_all.num_ht == 1]\n",
    "    \n",
    "    # remove duplicate tweets & drop rows with no tweet text\n",
    "    tweets_all = clean_data(tweets_all)\n",
    "    \n",
    "    # create subset dataframes\n",
    "    tweets_sarcasm = tweets_all[tweets_all.sarcasm == 1]\n",
    "    tweets_happy = tweets_all[tweets_all.happy == 1]\n",
    "    tweets_sad = tweets_all[tweets_all.sad == 1]\n",
    "    tweets_seriously = tweets_all[tweets_all.seriously == 1]\n",
    "    \n",
    "    # only include tweets with hashtag at end \n",
    "    pattern = r'\\bsarcasm\\b$'\n",
    "    tweets_sarcasm = tweets_sarcasm[(tweets_sarcasm['text'].str.contains(pattern, case=False, na=False, regex=True))]\n",
    "\n",
    "    pattern = r'\\bhappy\\b$'\n",
    "    tweets_happy = tweets_happy[(tweets_happy['text'].str.contains(pattern, case=False, na=False, regex=True))]\n",
    "\n",
    "    pattern = r'\\bsad\\b$'\n",
    "    tweets_sad = tweets_sad[(tweets_sad['text'].str.contains(pattern, case=False, na=False, regex=True))]\n",
    "\n",
    "    pattern = r'\\bseriously\\b$'\n",
    "    tweets_seriously = tweets_seriously[(tweets_seriously['text'].str.contains(pattern, case=False, na=False, regex=True))]\n",
    "    \n",
    "    # remove hashtag from tweet text\n",
    "    tweets_sarcasm['text'] = tweets_sarcasm['text'].str.replace('#sarcasm', '', case=False)\n",
    "    tweets_happy['text'] = tweets_happy['text'].str.replace('#happy', '', case=False)\n",
    "    tweets_sad['text'] = tweets_sad['text'].str.replace('#sad', '', case=False)\n",
    "    tweets_seriously['text'] = tweets_seriously['text'].str.replace('#seriously', '', case=False)\n",
    "    \n",
    "    # create new dataframe containing all tweets for above hashtags only\n",
    "    tweets_all = pd.concat([tweets_sarcasm, tweets_happy, tweets_sad, tweets_seriously])\n",
    "    \n",
    "    # save dataframes\n",
    "    filename = 'tweets_all'\n",
    "    filepath = './hashtag_dfs/' + filename + '.txt'\n",
    "\n",
    "    # Save df if file doesn't exist\n",
    "    tweets_all.to_csv(filepath, sep = '\\t', index = True, header = True)\n",
    "\n",
    "    filename = 'tweets_sarcasm'\n",
    "    filepath = './hashtag_dfs/' + filename + '.txt'\n",
    "\n",
    "    # Save df if file doesn't exist\n",
    "    tweets_sarcasm.to_csv(filepath, sep = '\\t', index = True, header = True)\n",
    "\n",
    "    filename = 'tweets_happy'\n",
    "    filepath = './hashtag_dfs/' + filename + '.txt'\n",
    "\n",
    "    # Save df if file doesn't exist\n",
    "    tweets_happy.to_csv(filepath, sep = '\\t', index = True, header = True)\n",
    "\n",
    "    filename = 'tweets_sad'\n",
    "    filepath = './hashtag_dfs/' + filename + '.txt'\n",
    "\n",
    "    # Save df if file doesn't exist\n",
    "    tweets_sad.to_csv(filepath, sep = '\\t', index = True, header = True)\n",
    "\n",
    "    filename = 'tweets_seriously'\n",
    "    filepath = './hashtag_dfs/' + filename + '.txt'\n",
    "\n",
    "    # Save df if file doesn't exist\n",
    "    tweets_seriously.to_csv(filepath, sep = '\\t', index = True, header = True)"
   ]
  },
  {
   "cell_type": "markdown",
   "metadata": {},
   "source": [
    "### Count number of tweets and users"
   ]
  },
  {
   "cell_type": "code",
   "execution_count": 24,
   "metadata": {
    "ExecuteTime": {
     "end_time": "2017-10-16T23:24:13.280059Z",
     "start_time": "2017-10-16T19:24:13.250153-04:00"
    },
    "collapsed": false
   },
   "outputs": [
    {
     "name": "stdout",
     "output_type": "stream",
     "text": [
      "\n",
      "Number of tweets with sarcasm hashtag: 30,910\n",
      "Number of users with sarcasm hashtag: 23,509\n",
      "\n",
      "Number of tweets with happy hashtag: 12,639\n",
      "Number of users with happy hashtag: 10,149\n",
      "\n",
      "Number of tweets with sad hashtag: 40,861\n",
      "Number of users with sad hashtag: 26,456\n",
      "\n",
      "Number of tweets with seriously hashtag: 11,450\n",
      "Number of users with seriously hashtag: 9,033\n"
     ]
    }
   ],
   "source": [
    "count_ht(tweets_sarcasm, False, 'sarcasm')\n",
    "count_ht(tweets_happy, False, 'happy')\n",
    "count_ht(tweets_sad, False, 'sad')\n",
    "count_ht(tweets_seriously, False, 'seriously')"
   ]
  },
  {
   "cell_type": "markdown",
   "metadata": {},
   "source": [
    "### Create subset dataframe"
   ]
  },
  {
   "cell_type": "code",
   "execution_count": 27,
   "metadata": {
    "ExecuteTime": {
     "end_time": "2017-10-16T23:24:31.353935Z",
     "start_time": "2017-10-16T19:24:31.307301-04:00"
    },
    "collapsed": false
   },
   "outputs": [],
   "source": [
    "# subset tweets_all to only include happy, sad, and sarcasm\n",
    "tweets_all2 = tweets_all[(tweets_all.sarcasm == 1) |\n",
    "                         (tweets_all.happy == 1)]\n",
    "\n",
    "# remove blanks\n",
    "tweets_all2 = tweets_all2[pd.notnull(tweets_all2['text'])]"
   ]
  },
  {
   "cell_type": "markdown",
   "metadata": {},
   "source": [
    "### Create test and training data"
   ]
  },
  {
   "cell_type": "code",
   "execution_count": 29,
   "metadata": {
    "ExecuteTime": {
     "end_time": "2017-10-16T23:25:20.388861Z",
     "start_time": "2017-10-16T19:25:20.181000-04:00"
    },
    "collapsed": false
   },
   "outputs": [
    {
     "name": "stdout",
     "output_type": "stream",
     "text": [
      "\n",
      "Training and test set files do not exist, generating now.\n",
      "Saving mask to ./training_test_sets/mask_sarcasm_happy2.txt\n",
      "\n",
      "Length of test: 13,065\n",
      "Length of train: 30,484\n",
      "\n",
      "Percent of sarcasm in training set: 70.85%\n",
      "Percent of sarcasm in test set: 71.27%\n"
     ]
    }
   ],
   "source": [
    "filename_base = 'sarcasm_happy2'\n",
    "strat = True\n",
    "train, test, mask = create_train_test(tweets_all2, filename_base)\n",
    "\n",
    "prop_sarc = sum(train['sarcasm'])/len(train)\n",
    "print('\\nPercent of sarcasm in training set: {:.2f}%'.format(prop_sarc*100))\n",
    "\n",
    "prop_sarc = sum(test['sarcasm'])/len(test)\n",
    "print('Percent of sarcasm in test set: {:.2f}%'.format(prop_sarc*100))"
   ]
  },
  {
   "cell_type": "markdown",
   "metadata": {},
   "source": [
    "### Perform cross-validation"
   ]
  },
  {
   "cell_type": "code",
   "execution_count": 71,
   "metadata": {
    "ExecuteTime": {
     "end_time": "2017-10-16T23:44:30.029612Z",
     "start_time": "2017-10-16T19:40:12.595985-04:00"
    },
    "collapsed": false
   },
   "outputs": [
    {
     "name": "stdout",
     "output_type": "stream",
     "text": [
      "Score: 0.8548, alpha: 1, min_df: 5, max_df: 0.8\n"
     ]
    }
   ],
   "source": [
    "alphas = [.001, .01, .1, 1, 5]\n",
    "min_dfs = [1, 2, 5, 10, 15, 20]\n",
    "max_dfs = [.6, .7, .8, .9, 1.0]\n",
    "score_func = auc # options: log_likelihood, cohenk, auc\n",
    "\n",
    "best_alpha, best_min_df, best_max_df, clf = perform_cv(tweets_all2, mask, alphas, min_dfs, max_dfs, score_func)"
   ]
  },
  {
   "cell_type": "code",
   "execution_count": 72,
   "metadata": {
    "ExecuteTime": {
     "end_time": "2017-10-16T23:48:29.433193Z",
     "start_time": "2017-10-16T19:44:56.045674-04:00"
    },
    "collapsed": false
   },
   "outputs": [
    {
     "name": "stdout",
     "output_type": "stream",
     "text": [
      "Score: 0.52, alpha: 1, min_df: 5, max_df: 0.7\n"
     ]
    }
   ],
   "source": [
    "alphas = [.001, .01, .1, 1, 5]\n",
    "min_dfs = [1, 2, 5, 10, 15, 20]\n",
    "max_dfs = [.6, .7, .8, .9, 1.0]\n",
    "score_func = cohenk # options: log_likelihood, cohenk, auc\n",
    "\n",
    "best_alpha, best_min_df, best_max_df, clf = perform_cv(tweets_all2, mask, alphas, min_dfs, max_dfs, score_func)"
   ]
  },
  {
   "cell_type": "code",
   "execution_count": 73,
   "metadata": {
    "ExecuteTime": {
     "end_time": "2017-10-16T23:52:06.625943Z",
     "start_time": "2017-10-16T19:48:37.955164-04:00"
    },
    "collapsed": false
   },
   "outputs": [
    {
     "name": "stdout",
     "output_type": "stream",
     "text": [
      "Score: -2.695e+03, alpha: 5, min_df: 10, max_df: 0.7\n"
     ]
    }
   ],
   "source": [
    "alphas = [.001, .01, .1, 1, 5]\n",
    "min_dfs = [1, 2, 5, 10, 15, 20]\n",
    "max_dfs = [.6, .7, .8, .9, 1.0]\n",
    "score_func = log_likelihood # options: log_likelihood, cohenk, auc\n",
    "\n",
    "best_alpha, best_min_df, best_max_df, clf = perform_cv(tweets_all2, mask, alphas, min_dfs, max_dfs, score_func)"
   ]
  },
  {
   "cell_type": "markdown",
   "metadata": {
    "collapsed": true
   },
   "source": [
    "### Model evaluation"
   ]
  },
  {
   "cell_type": "code",
   "execution_count": 78,
   "metadata": {
    "ExecuteTime": {
     "end_time": "2017-10-16T23:56:00.377393Z",
     "start_time": "2017-10-16T19:55:58.336758-04:00"
    },
    "collapsed": false
   },
   "outputs": [
    {
     "name": "stdout",
     "output_type": "stream",
     "text": [
      "\n",
      "Total # of words in vocabulary: 3,855\n",
      "Most frequent words\n",
      "\n",
      " 1430       time\n",
      " 1465       know\n",
      " 1693      today\n",
      " 2130      great\n",
      " 2219       like\n",
      " 2469       good\n",
      " 2473        day\n",
      " 2599       love\n",
      " 3099       just\n",
      " 4485      quote\n",
      "\n",
      "Total # of words in vocabulary: 3,855\n",
      "Least frequent words\n",
      "\n",
      "   10     makeup\n",
      "   10       rage\n",
      "   10    focused\n",
      "   10      verge\n",
      "   10 appointments\n",
      "   10    puppies\n",
      "   10      squad\n",
      "   10 foxandfriends\n",
      "   10      fraud\n",
      "   10   conflict\n",
      "\n",
      "Most predictive words\n",
      "\tP(sarcasm | word)\n",
      "realdonaldtrump 0.97\n",
      "          trump 0.97\n",
      "          women 0.95\n",
      "           yeah 0.95\n",
      "            isn 0.95\n",
      "        clearly 0.94\n",
      "             oh 0.94\n",
      "           aren 0.94\n",
      "           poor 0.94\n",
      "      obviously 0.94\n",
      "\n",
      "Least predictive words\n",
      "\tP(sarcasm | word)\n",
      "           soul 0.31\n",
      "           mood 0.30\n",
      "           cake 0.29\n",
      "           wine 0.29\n",
      "          dance 0.28\n",
      "        smiling 0.27\n",
      "       gorgeous 0.26\n",
      "      happiness 0.19\n",
      "          smile 0.17\n",
      "       pharrell 0.11\n",
      "\n",
      "Accuracy for training set = 83.16%\n",
      "Accuracy for test set = 79.25%\n",
      "Cohen's Kappa = 0.45\n",
      "Precision = 0.81\n",
      "AUC = 0.83\n",
      "True positive rate = 0.48\n",
      "True negative rate = 0.92\n"
     ]
    },
    {
     "data": {
      "image/png": "[encoded data removed]",
      "text/plain": [
       "<matplotlib.figure.Figure at 0x13a8e9668>"
      ]
     },
     "metadata": {},
     "output_type": "display_data"
    }
   ],
   "source": [
    "from sklearn.feature_extraction.text import CountVectorizer\n",
    "\n",
    "vectorizer = CountVectorizer(min_df=best_min_df, max_df=best_max_df, stop_words = 'english')       \n",
    "\n",
    "X, y, _ = make_xy(tweets_all2, vectorizer)\n",
    "\n",
    "freq_words(10, vectorizer, X, True)\n",
    "freq_words(10, vectorizer, X, False)\n",
    "\n",
    "Xtrain = X[mask]\n",
    "ytrain = y[mask]\n",
    "Xtest = X[~mask]\n",
    "ytest = y[~mask]\n",
    "\n",
    "clf = MultinomialNB(alpha=best_alpha).fit(Xtrain, ytrain)\n",
    "\n",
    "predictive_words(10, vectorizer, clf, Xtest)\n",
    "\n",
    "model_eval(clf, Xtrain, Xtest, ytrain, ytest)"
   ]
  },
  {
   "cell_type": "code",
   "execution_count": null,
   "metadata": {
    "collapsed": true
   },
   "outputs": [],
   "source": []
  }
 ],
 "metadata": {
  "kernelspec": {
   "display_name": "Python 3",
   "language": "python",
   "name": "python3"
  },
  "language_info": {
   "codemirror_mode": {
    "name": "ipython",
    "version": 3
   },
   "file_extension": ".py",
   "mimetype": "text/x-python",
   "name": "python",
   "nbconvert_exporter": "python",
   "pygments_lexer": "ipython3",
   "version": "3.6.0"
  }
 },
 "nbformat": 4,
 "nbformat_minor": 2
}
