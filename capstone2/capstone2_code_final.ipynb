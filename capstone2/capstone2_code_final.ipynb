{
 "cells": [
  {
   "cell_type": "markdown",
   "metadata": {},
   "source": [
    "<div class=\"alert alert-success\">\n",
    "<h1>SETUP</h1>\n",
    "</div>"
   ]
  },
  {
   "cell_type": "markdown",
   "metadata": {},
   "source": [
    "## Import libraries"
   ]
  },
  {
   "cell_type": "code",
   "execution_count": 1,
   "metadata": {
    "ExecuteTime": {
     "end_time": "2017-11-10T12:50:34.281250Z",
     "start_time": "2017-11-10T07:50:33.104495-05:00"
    },
    "collapsed": true,
    "init_cell": true
   },
   "outputs": [],
   "source": [
    "import pandas as pd\n",
    "import numpy as np\n",
    "import os\n",
    "import re\n",
    "from sklearn import metrics"
   ]
  },
  {
   "cell_type": "markdown",
   "metadata": {},
   "source": [
    "## Setup input"
   ]
  },
  {
   "cell_type": "code",
   "execution_count": 2,
   "metadata": {
    "ExecuteTime": {
     "end_time": "2017-11-10T12:50:34.290175Z",
     "start_time": "2017-11-10T07:50:34.283226-05:00"
    },
    "collapsed": true,
    "init_cell": true
   },
   "outputs": [],
   "source": [
    "def setup_input():\n",
    "\n",
    "    colnames = ['user', 'user_id', 'tweet_id', 'text', 'hashtags',\n",
    "                'tweet_date', 'user_start', 'followers_count',\n",
    "                'friends', 'total_tweets', 'location', 'timezone',\n",
    "                'user_tweet_id', 'sarcasm', 'sarcastic', 'irony',\n",
    "                'ironic', 'happy', 'sad', 'seriously']\n",
    "    \n",
    "    dtypes_file = {'user':str, 'user_id':str, 'tweet_id':str, 'text':str, 'hashtags':str,\n",
    "                'tweet_date':str, 'user_start':str, 'followers_count':str,\n",
    "                'friends':str, 'total_tweets':str, 'location':str, 'timezone':str,\n",
    "                'user_tweet_id':str, 'sarcasm':str, 'sarcastic':str, 'irony':str,\n",
    "                'ironic':str, 'happy':str, 'sad':str, 'seriously':str}\n",
    "    \n",
    "    return colnames, dtypes_file"
   ]
  },
  {
   "cell_type": "markdown",
   "metadata": {},
   "source": [
    "## Setup input"
   ]
  },
  {
   "cell_type": "code",
   "execution_count": 3,
   "metadata": {
    "ExecuteTime": {
     "end_time": "2017-11-10T12:50:34.300172Z",
     "start_time": "2017-11-10T07:50:34.292807-05:00"
    },
    "collapsed": true,
    "init_cell": true
   },
   "outputs": [],
   "source": [
    "def setup_input2():\n",
    "    \n",
    "    colnames = ['user_tweet_id', 'user', 'user_id', 'tweet_id', 'text',\n",
    "                'hashtags', 'tweet_date', 'user_start', 'followers_count',\n",
    "                'friends', 'total_tweets', 'location', 'timezone',\n",
    "                'sarcasm', 'sarcastic', 'irony', 'ironic', 'happy',\n",
    "                'sad', 'seriously', 'num_ht']\n",
    "\n",
    "    dtypes_file = {'user_tweet_id':str, 'user':str, 'user_id':str, 'tweet_id':str, 'text':str,\n",
    "                   'hashtags':str, 'tweet_date':str, 'user_start':str, 'followers_count':str,\n",
    "                   'friends':str, 'total_tweets':str, 'location':str, 'timezone':str,\n",
    "                   'sarcasm':str, 'sarcastic':str, 'irony':str, 'ironic':str, 'happy':str,\n",
    "                   'sad':str, 'seriously':str, 'num_ht': str}\n",
    "    \n",
    "    return colnames, dtypes_file"
   ]
  },
  {
   "cell_type": "markdown",
   "metadata": {},
   "source": [
    "## Read in raw data"
   ]
  },
  {
   "cell_type": "code",
   "execution_count": 4,
   "metadata": {
    "ExecuteTime": {
     "end_time": "2017-11-10T12:50:34.328225Z",
     "start_time": "2017-11-10T07:50:34.302923-05:00"
    },
    "collapsed": true,
    "init_cell": true
   },
   "outputs": [],
   "source": [
    "def get_input(path, num_files, hashtags):\n",
    "    \n",
    "    get_time('Start time: ')\n",
    "    \n",
    "    df = pd.DataFrame()\n",
    "    num_file = 0\n",
    "    \n",
    "    # Set up for getting input\n",
    "    colnames, dtypes_file = setup_input()\n",
    "\n",
    "    # Calculate and print total number of folders and files\n",
    "    _, files = get_num_folders_files(path)\n",
    "\n",
    "    # iterate through files (containing tweets) in folder:\n",
    "    for i in next(os.walk(path))[2]:\n",
    "\n",
    "        if not i.startswith('hashtag'):\n",
    "            continue\n",
    "\n",
    "        num_file += 1\n",
    "        \n",
    "        if num_file >= num_files:\n",
    "            break\n",
    "\n",
    "        print_str = 'Importing file: ' + str(i) + ' (#' + str(num_file) + ' of ' + str(files) + '), time: '\n",
    "        get_time(print_str)\n",
    "\n",
    "        fullpath = os.path.join(str(path), str(i))\n",
    "        \n",
    "        df_temp = pd.read_csv(filepath_or_buffer = fullpath, sep = '\\t',\n",
    "                                  names=colnames, error_bad_lines=True,\n",
    "                                  dtype=dtypes_file, encoding='utf-8')\n",
    "        \n",
    "        # clean file\n",
    "        df_temp = clean_file(df_temp, hashtags)\n",
    "\n",
    "        # if first csv in group, save as df:   \n",
    "        if num_file == 1:\n",
    "            df = df_temp\n",
    "        else:\n",
    "            df = df.append(df_temp)\n",
    "                \n",
    "    get_time('\\nDone! End time: ')\n",
    "    \n",
    "    return df"
   ]
  },
  {
   "cell_type": "markdown",
   "metadata": {},
   "source": [
    "## Read in dataframes"
   ]
  },
  {
   "cell_type": "code",
   "execution_count": 5,
   "metadata": {
    "ExecuteTime": {
     "end_time": "2017-11-10T12:50:34.342053Z",
     "start_time": "2017-11-10T07:50:34.331020-05:00"
    },
    "collapsed": true,
    "init_cell": true
   },
   "outputs": [],
   "source": [
    "def read_in_dfs(df_list, hashtags):\n",
    "    \n",
    "    colnames, dtypes_file = setup_input2()\n",
    "    \n",
    "    dict_dfs = {}\n",
    "\n",
    "    for i in range(0, len(df_list)):\n",
    "\n",
    "        key = df_list[i]\n",
    "        path = './hashtag_dfs/' + df_list[i] + '.txt'\n",
    "        df = pd.read_csv(filepath_or_buffer = path, sep = '\\t',\n",
    "                         names = colnames, error_bad_lines = True,\n",
    "                         dtype=dtypes_file, encoding = 'utf-8')\n",
    "        \n",
    "        df = clean_file(df, hashtags)\n",
    "        \n",
    "        value = df\n",
    "        dict_dfs[key] = value \n",
    "        \n",
    "        print('Dataframe ' + df_list[i] + ' loaded, length = {:,}.'.format(len(df)))\n",
    "\n",
    "    return dict_dfs"
   ]
  },
  {
   "cell_type": "markdown",
   "metadata": {},
   "source": [
    "## Clean file"
   ]
  },
  {
   "cell_type": "code",
   "execution_count": 6,
   "metadata": {
    "ExecuteTime": {
     "end_time": "2017-11-10T12:50:34.355984Z",
     "start_time": "2017-11-10T07:50:34.344656-05:00"
    },
    "collapsed": true,
    "init_cell": true
   },
   "outputs": [],
   "source": [
    "def clean_file(df, hashtags):\n",
    "    \n",
    "    # Remove first row (duplicate with column names)\n",
    "    df = df.iloc[1:]\n",
    "    \n",
    "    # Convert numeric columns to integers:\n",
    "    pd.to_numeric(df['followers_count'], errors='coerce')\n",
    "    pd.to_numeric(df['friends'], errors='coerce')\n",
    "    pd.to_numeric(df['total_tweets'], errors='coerce')\n",
    "    \n",
    "    df['followers_count'] = df['followers_count'].astype(int)\n",
    "    df['friends'] = df['friends'].astype(int)\n",
    "    df['total_tweets'] = df['total_tweets'].astype(int)\n",
    "    \n",
    "    for ht in hashtags:\n",
    "        pd.to_numeric(df[ht], errors ='coerce')\n",
    "        df[ht] = df[ht].astype(int)\n",
    "        \n",
    "    return df"
   ]
  },
  {
   "cell_type": "markdown",
   "metadata": {},
   "source": [
    "## Get number of folders and files"
   ]
  },
  {
   "cell_type": "code",
   "execution_count": 7,
   "metadata": {
    "ExecuteTime": {
     "end_time": "2017-11-10T12:50:34.367717Z",
     "start_time": "2017-11-10T07:50:34.358502-05:00"
    },
    "collapsed": true,
    "init_cell": true
   },
   "outputs": [],
   "source": [
    "def get_num_folders_files(path):\n",
    "    \n",
    "    folders = 0\n",
    "    files = 0\n",
    "\n",
    "    for _, dirnames, filenames in os.walk(path):\n",
    "        folders += len(dirnames)\n",
    "        files += len(filenames)\n",
    "    \n",
    "    print('\\nThere are {:,} total folders and {:,} total files.'.format(folders, files))\n",
    "    \n",
    "    return folders, files"
   ]
  },
  {
   "cell_type": "markdown",
   "metadata": {},
   "source": [
    "## Get time"
   ]
  },
  {
   "cell_type": "code",
   "execution_count": 8,
   "metadata": {
    "ExecuteTime": {
     "end_time": "2017-11-10T12:50:34.379635Z",
     "start_time": "2017-11-10T07:50:34.370311-05:00"
    },
    "collapsed": true,
    "init_cell": true
   },
   "outputs": [],
   "source": [
    "import datetime\n",
    "\n",
    "def get_time(print_string):\n",
    "\n",
    "    now = datetime.datetime.now()\n",
    "    hour=int(now.hour)\n",
    "    minute=int(now.minute)\n",
    "    second=int(now.second)\n",
    "    \n",
    "    if(len(str(abs(minute)))) == 1:\n",
    "        minute_str = \"0\" + str(minute)\n",
    "    else:\n",
    "        minute_str = str(minute)    \n",
    "    \n",
    "    if print_string != \"\":\n",
    "        print(print_string + str(hour) + \":\" + str(minute_str) + \":\" + str(second))\n",
    "    else:\n",
    "        return hour, minute_str, second"
   ]
  },
  {
   "cell_type": "markdown",
   "metadata": {},
   "source": [
    "<div class=\"alert alert-success\">\n",
    "<h1>DATA CLEANING</h1>\n",
    "</div>"
   ]
  },
  {
   "cell_type": "markdown",
   "metadata": {},
   "source": [
    "## Clean data\n",
    "Drop rows with missing tweet text and report total number of tweets and users"
   ]
  },
  {
   "cell_type": "code",
   "execution_count": 9,
   "metadata": {
    "ExecuteTime": {
     "end_time": "2017-11-10T12:50:34.391860Z",
     "start_time": "2017-11-10T07:50:34.382467-05:00"
    },
    "collapsed": true,
    "init_cell": true
   },
   "outputs": [],
   "source": [
    "def clean_data(df):\n",
    "    \n",
    "    # drop rows with missing tweet text\n",
    "    df = df[~df.text.isnull()]\n",
    "    \n",
    "    # if index hasn't been set already\n",
    "    if df.index.name == None:\n",
    "        # remove duplicate tweets\n",
    "        df = df.drop_duplicates(subset='user_tweet_id', keep = 'first')\n",
    "        # set index to 'user_tweet_id' column\n",
    "        df = df.set_index(['user_tweet_id'])\n",
    "    \n",
    "    # encode tweet text as utf-8\n",
    "    col_text = df.columns.get_loc('text')\n",
    "    for i in range(0,len(df)):\n",
    "        df.iloc[i,col_text].encode('utf-8')\n",
    "\n",
    "    return df"
   ]
  },
  {
   "cell_type": "markdown",
   "metadata": {},
   "source": [
    "## Count total hashtags"
   ]
  },
  {
   "cell_type": "code",
   "execution_count": 10,
   "metadata": {
    "ExecuteTime": {
     "end_time": "2017-11-10T12:50:34.399290Z",
     "start_time": "2017-11-10T07:50:34.394474-05:00"
    },
    "collapsed": true,
    "init_cell": true
   },
   "outputs": [],
   "source": [
    "def count_total_ht(df):\n",
    "    \n",
    "    df['num_ht'] = 0\n",
    "    df['num_ht'][df['hashtags'] != '[]'] = df.hashtags.str.count(',')+1\n",
    "\n",
    "    return df"
   ]
  },
  {
   "cell_type": "markdown",
   "metadata": {
    "ExecuteTime": {
     "end_time": "2017-10-17T15:29:58.557883Z",
     "start_time": "2017-10-17T11:29:58.551523-04:00"
    }
   },
   "source": [
    "<div class=\"alert alert-success\">\n",
    "<h1>EXPLORATORY DATA ANALYSIS</h1>\n",
    "</div>"
   ]
  },
  {
   "cell_type": "markdown",
   "metadata": {},
   "source": [
    "## Get summary stats by hashtag"
   ]
  },
  {
   "cell_type": "code",
   "execution_count": 11,
   "metadata": {
    "ExecuteTime": {
     "end_time": "2017-11-10T12:50:34.412789Z",
     "start_time": "2017-11-10T07:50:34.402335-05:00"
    },
    "collapsed": true,
    "init_cell": true
   },
   "outputs": [],
   "source": [
    "def get_stats(df, ht):\n",
    "    \n",
    "    from scipy import stats\n",
    "    \n",
    "    df = df.drop_duplicates(subset = 'user', keep = 'first')\n",
    "    \n",
    "    print('\\nSUMMARY STATS FOR \"{}\" HASHTAG'.format(ht.upper()))\n",
    "    \n",
    "    cols = ['followers_count', 'friends', 'total_tweets']\n",
    "    \n",
    "    print('\\n\\tTotal users: {:,}'.format(df.user.unique().size))\n",
    "    \n",
    "    for i in cols:\n",
    "        \n",
    "        col = df[i]\n",
    "    \n",
    "        print('\\n\\t{}'.format(i.upper()),\n",
    "              '\\n\\tMean: {:,.1f}'.format(np.mean(col)),\n",
    "              '\\n\\tMedian: {:,.1f}'.format(np.median(col)),\n",
    "              '\\n\\tSD: {:,.1f}'.format(np.std(col)),\n",
    "              '\\n\\tSEM: {:,.1f}'.format(stats.sem(col)),\n",
    "              '\\n\\tRange: {:,.1f} to {:,.1f}'.format(col.min(), col.max()))"
   ]
  },
  {
   "cell_type": "markdown",
   "metadata": {},
   "source": [
    "## Calculate number of hashtag uses\n",
    "Given a dataframe and a hashtag as input, calculate and display the number of users that used the hashtag"
   ]
  },
  {
   "cell_type": "code",
   "execution_count": 12,
   "metadata": {
    "ExecuteTime": {
     "end_time": "2017-11-10T12:50:34.428994Z",
     "start_time": "2017-11-10T07:50:34.415564-05:00"
    },
    "collapsed": true,
    "init_cell": true
   },
   "outputs": [],
   "source": [
    "def calc_num_ht_uses(df, ht):\n",
    "    \n",
    "    # calculate number of tweets each user made\n",
    "    df_counts = df.groupby('user').sum() \n",
    "    \n",
    "    print(\"\\n\\tNumber of users that used '\" + str(ht) + \"' hashtag X times:\")\n",
    "\n",
    "    for i in range(1,6,1):\n",
    "        ct = len(df_counts[(df_counts[ht] == i)])\n",
    "        print('\\tX = ' + str(i) + ' time(s): {:,}'.format(ct))\n",
    "\n",
    "    print(\"\\n\\tNumber of users that used '\" + str(ht) + \"' hashtag more than X times:\")\n",
    "\n",
    "    ct = len(df_counts[(df_counts[ht] > 5)])\n",
    "    print('\\tX > ' + str(5) + ' times: {:,}'.format(ct))"
   ]
  },
  {
   "cell_type": "markdown",
   "metadata": {},
   "source": [
    "## Make histogram"
   ]
  },
  {
   "cell_type": "code",
   "execution_count": 13,
   "metadata": {
    "ExecuteTime": {
     "end_time": "2017-11-10T12:50:34.451913Z",
     "start_time": "2017-11-10T07:50:34.431768-05:00"
    },
    "collapsed": true,
    "init_cell": true
   },
   "outputs": [],
   "source": [
    "def make_hist(df, col, num_grps, xlabel, ylabel, title, filename):\n",
    "    \n",
    "    # convert column to string\n",
    "    df[col] = df[col].astype(str)\n",
    "\n",
    "    # remove missing values\n",
    "    df = df[df[col] != 'nan']\n",
    "\n",
    "    df[col].value_counts()[0:num_grps].plot(kind = 'bar')\n",
    "    plt.xlabel(xlabel)\n",
    "    plt.xticks(rotation=0)\n",
    "    plt.ylabel(ylabel)\n",
    "    plt.title(title + '\\n')\n",
    "    plt.xticks(rotation=90)\n",
    "    \n",
    "    # Get current size\n",
    "    fig_size = plt.rcParams[\"figure.figsize\"]    \n",
    "    fig_size[0] = 5\n",
    "    fig_size[1] = 3\n",
    "    plt.rcParams[\"figure.figsize\"] = fig_size\n",
    "    \n",
    "    if filename != '':\n",
    "        filepath = './graphs/' + filename + '.png'\n",
    "        plt.savefig(filepath, bbox_inches='tight')"
   ]
  },
  {
   "cell_type": "markdown",
   "metadata": {
    "ExecuteTime": {
     "end_time": "2017-11-10T15:58:24.967769Z",
     "start_time": "2017-11-10T10:58:24.961927-05:00"
    }
   },
   "source": [
    "## Run linear model\n",
    "Given a dataframe, a y column, a set of X columns, and a grouping column, perform an ANOVA to determine whether the groups are significantly different"
   ]
  },
  {
   "cell_type": "code",
   "execution_count": 50,
   "metadata": {
    "ExecuteTime": {
     "end_time": "2017-11-10T15:58:34.700124Z",
     "start_time": "2017-11-10T10:58:34.686200-05:00"
    },
    "collapsed": true
   },
   "outputs": [],
   "source": [
    "def run_lm(df, y, X_cols, inter, aov):\n",
    "    \n",
    "    import statsmodels.api as sm\n",
    "    from statsmodels.formula.api import ols\n",
    "    from statsmodels.regression.linear_model import RegressionResults\n",
    "        \n",
    "    formula = y + ' ~ '\n",
    "    \n",
    "    for i in range(0,len(X_cols)):\n",
    "        if i == len(X_cols) - 1:\n",
    "            formula = formula + X_cols[i]\n",
    "        else:\n",
    "            if inter == True:\n",
    "                formula = formula + X_cols[i] + ' * '\n",
    "            else:\n",
    "                formula = formula + X_cols[i] + ' + '\n",
    "        \n",
    "    m = ols(formula, df).fit()\n",
    "    aov_table = sm.stats.anova_lm(m, typ=2)\n",
    "    \n",
    "    if aov == True:\n",
    "        print(aov_table)\n",
    "    else:\n",
    "        print(m.summary())\n",
    "    \n",
    "    return m"
   ]
  },
  {
   "cell_type": "markdown",
   "metadata": {
    "ExecuteTime": {
     "end_time": "2017-11-10T15:58:43.579508Z",
     "start_time": "2017-11-10T10:58:43.576538-05:00"
    }
   },
   "source": [
    "## Perform Tukey's multiple comparisons test"
   ]
  },
  {
   "cell_type": "code",
   "execution_count": 52,
   "metadata": {
    "ExecuteTime": {
     "end_time": "2017-11-10T15:58:47.424760Z",
     "start_time": "2017-11-10T10:58:47.419406-05:00"
    },
    "collapsed": true
   },
   "outputs": [],
   "source": [
    "def run_multcomp(df, y_col, grp_col):\n",
    "    \n",
    "    from statsmodels.stats.multicomp import pairwise_tukeyhsd\n",
    "    from statsmodels.stats.multicomp import MultiComparison\n",
    "\n",
    "    mc = MultiComparison(df[y_col], df[grp_col])\n",
    "    result = mc.tukeyhsd()\n",
    "\n",
    "    print(result)\n",
    "    print(mc.groupsunique)"
   ]
  },
  {
   "cell_type": "markdown",
   "metadata": {
    "collapsed": true
   },
   "source": [
    "<div class=\"alert alert-success\">\n",
    "<h1>TEST-TRAIN SPLIT</h1>\n",
    "</div>"
   ]
  },
  {
   "cell_type": "code",
   "execution_count": 14,
   "metadata": {
    "ExecuteTime": {
     "end_time": "2017-11-10T12:50:34.505687Z",
     "start_time": "2017-11-10T07:50:34.454533-05:00"
    },
    "init_cell": true
   },
   "outputs": [
    {
     "name": "stderr",
     "output_type": "stream",
     "text": [
      "/Users/Rachel/.pyenv/versions/py36_env/lib/python3.6/site-packages/sklearn/cross_validation.py:41: DeprecationWarning: This module was deprecated in version 0.18 in favor of the model_selection module into which all the refactored classes and functions are moved. Also note that the interface of the new CV iterators are different from that of this module. This module will be removed in 0.20.\n",
      "  \"This module will be removed in 0.20.\", DeprecationWarning)\n"
     ]
    }
   ],
   "source": [
    "from sklearn.cross_validation import train_test_split\n",
    "\n",
    "def create_train_test(df, filename_base):\n",
    "    \n",
    "    tt_exist = False\n",
    "\n",
    "    # set file names\n",
    "    mask_file = './training_test_sets/mask_' + filename_base + '.txt'\n",
    "    \n",
    "    \"\"\"If training and test sets exist, load them; otherwise, create them\"\"\"\n",
    "    if os.path.isfile(mask_file):\n",
    "        \n",
    "        tt_exist = True\n",
    "        \n",
    "        print('\\nTraining and test set files already exist, opening now.')\n",
    "        \n",
    "        print('Reading in mask from ' + mask_file)\n",
    "        mask = np.loadtxt(mask_file, delimiter = '\\t')\n",
    "        print('\\nLength of mask: {:,}'.format(len(mask)))\n",
    "        #mask = mask[1:] # remove header row\n",
    "        \n",
    "        mask = mask.astype(bool)\n",
    "        \n",
    "        train_data = df[~mask]\n",
    "        test_data = df[mask]\n",
    "\n",
    "    else: \n",
    "\n",
    "        print('\\nTraining and test set files do not exist, generating now.')\n",
    "\n",
    "        # create training and test sets\n",
    "        # in below, itest is an array containing the row numbers of the test set (which is 30% of the overall dataset)\n",
    "        _, itest = train_test_split(range(df.shape[0]), train_size = 0.7)\n",
    "        mask = np.zeros(df.shape[0], dtype=np.bool)\n",
    "        mask[itest] = True\n",
    "\n",
    "        train_data = df[~mask]\n",
    "        test_data = df[mask]\n",
    "            \n",
    "        print('Saving mask to ' + mask_file)\n",
    "        np.savetxt(fname = mask_file, X = mask, delimiter = '\\t')\n",
    "        \n",
    "    print('Length of test: {:,}'.format(len(test_data)))\n",
    "    print('Length of train: {:,}'.format(len(train_data)))\n",
    "    print('Length of test + train: {:,}'.format(len(test_data) + len(train_data)))\n",
    "\n",
    "    return train_data, test_data, mask"
   ]
  },
  {
   "cell_type": "markdown",
   "metadata": {},
   "source": [
    "<div class=\"alert alert-success\">\n",
    "<h1>MODELING</h1>\n",
    "</div>"
   ]
  },
  {
   "cell_type": "markdown",
   "metadata": {},
   "source": [
    "## Determine most frequent words"
   ]
  },
  {
   "cell_type": "code",
   "execution_count": 15,
   "metadata": {
    "ExecuteTime": {
     "end_time": "2017-11-10T12:50:34.523849Z",
     "start_time": "2017-11-10T07:50:34.508490-05:00"
    },
    "collapsed": true,
    "init_cell": true
   },
   "outputs": [],
   "source": [
    "def freq_words(num_words, cv, X, top):\n",
    "\n",
    "    words = np.array(cv.get_feature_names())\n",
    "\n",
    "    # calculate word frequencies\n",
    "    freq = np.asarray(X.sum(axis=0)).ravel()\n",
    "\n",
    "    # sort rows by frequencies (low to high) and return indices:\n",
    "    ind = np.argsort(freq)\n",
    "    \n",
    "    if top == True:\n",
    "        # freq_words = words with highest probability\n",
    "        # below, freq_words represents N words from end (highest freqs)\n",
    "        freq_words = words[ind[-num_words:]]\n",
    "        freq_num = freq[ind[-num_words:]]\n",
    "        \n",
    "        print('Most frequent words\\n')\n",
    "        for w, p in zip(freq_words, freq_num):\n",
    "            print('{:>10,.2f}'.format(p), '{:>10}'.format(w))\n",
    "    else:\n",
    "        # freq_words = words with highest probability\n",
    "        freq_words = words[ind[:num_words]]\n",
    "        freq_num = freq[ind[:num_words]]\n",
    "        print('Least frequent words\\n')\n",
    "        for w, p in zip(freq_words, freq_num):\n",
    "            print('{:>10,.2f}'.format(p), '{:>10}'.format(w))    \n",
    "    \n",
    "    print('\\nTotal # of words in vocabulary: {:,}'.format(len(words)))"
   ]
  },
  {
   "cell_type": "markdown",
   "metadata": {},
   "source": [
    "## Determine most predictive words"
   ]
  },
  {
   "cell_type": "code",
   "execution_count": 16,
   "metadata": {
    "ExecuteTime": {
     "end_time": "2017-11-10T12:50:34.543809Z",
     "start_time": "2017-11-10T07:50:34.526425-05:00"
    },
    "collapsed": true,
    "init_cell": true
   },
   "outputs": [],
   "source": [
    "def predictive_words(num_words, cv, clf, Xtest):\n",
    "\n",
    "    words = np.array(cv.get_feature_names())\n",
    "    \n",
    "    # create identity matrix (each row has exactly 1 feature):\n",
    "    x = np.eye(Xtest.shape[1]) \n",
    "\n",
    "    # use trained classifier to make predictions on this matrix:\n",
    "    probs = clf.predict_log_proba(x)[:, 0] \n",
    "\n",
    "    # sort rows by predicted probabilities and return indices:\n",
    "    ind = np.argsort(probs) \n",
    "\n",
    "    # good_words = words with highest probability\n",
    "    good_words = words[ind[:num_words]]\n",
    "\n",
    "    # bad_words = words with lowest probability\n",
    "    bad_words = words[ind[-num_words:]]\n",
    "\n",
    "    good_prob = probs[ind[:num_words]]\n",
    "    bad_prob = probs[ind[-num_words:]]\n",
    "\n",
    "    print('\\nMost predictive words')\n",
    "    print('\\tP(sarcasm | word)')\n",
    "    for w, p in zip(good_words, good_prob):\n",
    "        print('{:>10}'.format(w), '{:>10.2f}'.format(1 - np.exp(p)))\n",
    "\n",
    "    print('\\nLeast predictive words')\n",
    "    print('\\tP(sarcasm | word)')\n",
    "    for w, p in zip(bad_words, bad_prob):\n",
    "        print('{:>10}'.format(w), '{:>10.2f}'.format(1 - np.exp(p))) "
   ]
  },
  {
   "cell_type": "markdown",
   "metadata": {},
   "source": [
    "## Model evaluation"
   ]
  },
  {
   "cell_type": "code",
   "execution_count": 17,
   "metadata": {
    "ExecuteTime": {
     "end_time": "2017-11-10T12:50:34.587726Z",
     "start_time": "2017-11-10T07:50:34.546535-05:00"
    },
    "collapsed": true,
    "init_cell": true
   },
   "outputs": [],
   "source": [
    "from sklearn import metrics\n",
    "\n",
    "def model_eval(clf, Xtrain, Xtest, ytrain, ytest):\n",
    "\n",
    "    ypred_test = clf.predict(Xtest)\n",
    "    ypred_train = clf.predict(Xtrain)\n",
    "    ypred_proba = clf.predict_proba(Xtest)\n",
    "    \n",
    "    # accuracy\n",
    "    acc_train = round(100*metrics.accuracy_score(ypred_train, ytrain),2)\n",
    "    print('\\nAccuracy for training set = {:.2f}%'.format(acc_train))\n",
    "\n",
    "    acc_test = round(100*metrics.accuracy_score(ypred_test, ytest),2)\n",
    "    print('Accuracy for test set = {:.2f}%'.format(acc_test))\n",
    "\n",
    "    # cohen's kappa\n",
    "    cohenk = metrics.cohen_kappa_score(ytest, ypred_test)\n",
    "    print('Cohen\\'s Kappa = {:.2f}'.format(cohenk))\n",
    "    \n",
    "    # precision (ability of classifier not to label as positive a sample that is negative)\n",
    "    precision = metrics.precision_score(ytest, ypred_test)\n",
    "    print('Precision = {:.2f}'.format(precision))\n",
    "    \n",
    "    # recall\n",
    "    recall = metrics.recall_score(ytest, ypred_test)\n",
    "    print('Recall = {:.2f}'.format(recall))\n",
    "\n",
    "    # F1\n",
    "    f1 = metrics.f1_score(ytest, ypred_test)\n",
    "    print('F1 = {:.2f}'.format(f1))\n",
    "    \n",
    "    # AUC\n",
    "    auc = metrics.roc_auc_score(ytest, ypred_proba[:,1])\n",
    "    print('AUC = {:.2f}'.format(auc))\n",
    "    \n",
    "    # create confusion matrix\n",
    "    classes = np.unique(ytest)\n",
    "\n",
    "    cnf_matrix = metrics.confusion_matrix(ytest, ypred_test)\n",
    "    np.set_printoptions(precision=2)\n",
    "\n",
    "    tp = float(cnf_matrix[0][0])/np.sum(cnf_matrix[0])\n",
    "    tn = float(cnf_matrix[1][1])/np.sum(cnf_matrix[1])\n",
    "    \n",
    "    print('True positive rate = {:.2f}'.format(tp))\n",
    "    print('True negative rate = {:.2f}'.format(tn))\n",
    "\n",
    "    plt.figure()\n",
    "    plot_confusion_matrix(cnf_matrix, classes, False)\n",
    "    plt.show()"
   ]
  },
  {
   "cell_type": "markdown",
   "metadata": {},
   "source": [
    "## Create confusion matrix"
   ]
  },
  {
   "cell_type": "code",
   "execution_count": 18,
   "metadata": {
    "ExecuteTime": {
     "end_time": "2017-11-10T12:50:34.808494Z",
     "start_time": "2017-11-10T07:50:34.590166-05:00"
    },
    "collapsed": true,
    "init_cell": true
   },
   "outputs": [],
   "source": [
    "import itertools\n",
    "import matplotlib.pyplot as plt\n",
    "%matplotlib inline\n",
    "\n",
    "def plot_confusion_matrix(cm, classes, normalize, cmap=plt.cm.Blues):\n",
    "    \n",
    "    if normalize:\n",
    "        cm = cm.astype('float') / cm.sum(axis=1)[:, np.newaxis]\n",
    "        title = 'Confusion matrix, with normalization'\n",
    "    else:\n",
    "        title = 'Confusion matrix, without normalization'\n",
    "\n",
    "    plt.imshow(cm, interpolation='nearest', cmap=cmap)\n",
    "    plt.title(title)\n",
    "    plt.colorbar()\n",
    "    tick_marks = np.arange(len(classes))\n",
    "    plt.xticks(tick_marks, classes, rotation=45)\n",
    "    plt.yticks(tick_marks, classes)\n",
    "\n",
    "    fmt = '.2f' if normalize else 'd'\n",
    "    thresh = cm.max() / 2.\n",
    "    for i, j in itertools.product(range(cm.shape[0]), range(cm.shape[1])):\n",
    "        plt.text(j, i, format(cm[i, j], fmt),\n",
    "                 horizontalalignment=\"center\",\n",
    "                 color=\"white\" if cm[i, j] > thresh else \"black\")\n",
    "\n",
    "    plt.tight_layout()\n",
    "    plt.ylabel('True label')\n",
    "    plt.xlabel('Predicted label')"
   ]
  },
  {
   "cell_type": "markdown",
   "metadata": {},
   "source": [
    "## Cross-validation: Naive Bayes"
   ]
  },
  {
   "cell_type": "code",
   "execution_count": 19,
   "metadata": {
    "ExecuteTime": {
     "end_time": "2017-11-10T12:50:34.874424Z",
     "start_time": "2017-11-10T07:50:34.810429-05:00"
    },
    "collapsed": true,
    "init_cell": true
   },
   "outputs": [],
   "source": [
    "from sklearn.model_selection import KFold\n",
    "\n",
    "def cv_score_NB(clf, X, y, scorefunc):\n",
    "    result = 0.\n",
    "    nfold = 5\n",
    "    \n",
    "    # split data into train/test groups, 5 times\n",
    "    for train, test in KFold(nfold, shuffle=True).split(X, y):\n",
    "\n",
    "        # fit the classifier, passed is as clf\n",
    "        clf.fit(X[train], y[train]) \n",
    "\n",
    "        # evaluate score function on held-out data\n",
    "        result += scorefunc(clf, X[test], y[test])\n",
    "        \n",
    "    # average score\n",
    "    return result / nfold"
   ]
  },
  {
   "cell_type": "code",
   "execution_count": 20,
   "metadata": {
    "ExecuteTime": {
     "end_time": "2017-11-10T12:50:34.995448Z",
     "start_time": "2017-11-10T07:50:34.877127-05:00"
    },
    "collapsed": true,
    "init_cell": true
   },
   "outputs": [],
   "source": [
    "from sklearn.naive_bayes import MultinomialNB\n",
    "from sklearn.feature_extraction.text import CountVectorizer\n",
    "from sklearn.ensemble import RandomForestClassifier\n",
    "from sklearn.feature_extraction.text import TfidfVectorizer\n",
    "\n",
    "def perform_cv_NB(df, mask, alphas, min_dfs, max_dfs, ngrams, score_func, vect_str):    \n",
    "    \n",
    "    best_params = {}\n",
    "    numerator = 0\n",
    "    denominator = len(alphas)\n",
    "    \n",
    "    #Find the best value for alpha and min_df, and the best classifier\n",
    "    max_score=-np.inf\n",
    "    \n",
    "    #mask = mask.astype(int)\n",
    "    \n",
    "    for alpha in alphas:\n",
    "        numerator += 1\n",
    "        for min_df in min_dfs:\n",
    "            for max_df in max_dfs:\n",
    "                for ngram in ngrams:\n",
    "                    \n",
    "                    if vect_str == 'count': \n",
    "                        vectorizer = CountVectorizer(min_df=min_df, max_df=max_df, stop_words = 'english',ngram_range=ngram)       \n",
    "                    elif vect_str == 'tfidf':\n",
    "                        vectorizer = TfidfVectorizer(min_df=min_df, max_df=max_df, stop_words = 'english',ngram_range=ngram)\n",
    "                    else:\n",
    "                        print('Vectorizer not found.')\n",
    "                        break\n",
    "\n",
    "                    Xthis, ythis, _ = make_xy(df, vectorizer)\n",
    "\n",
    "                    if Xthis == None:\n",
    "                        print('After pruning, no terms remain; alpha: {}, min_df: {}, max_df: {}'.\n",
    "                              format(alpha, min_df, max_df))\n",
    "\n",
    "                        continue\n",
    "                    else:\n",
    "                        # only use training data for cross-validation\n",
    "                        Xtrainthis = Xthis[~mask]\n",
    "                        ytrainthis = ythis[~mask]\n",
    "\n",
    "                        clf = MultinomialNB(alpha = alpha)\n",
    "\n",
    "                        score = cv_score_NB(clf, Xtrainthis, ytrainthis, score_func)\n",
    "\n",
    "                        if score > max_score:\n",
    "                            max_score = score\n",
    "                            best_params['score'] = score\n",
    "                            best_params['alpha'] = alpha\n",
    "                            best_params['min_df'] = min_df\n",
    "                            best_params['max_df'] = max_df\n",
    "                            best_params['ngram'] = ngram  \n",
    "                            \n",
    "        print('Progress: {:.0f}%'.format(100*(numerator/denominator)))\n",
    "\n",
    "    print('\\nScore: {:.3}, alpha: {}, min_df: {}, max_df: {}, ngram: {}'.\n",
    "          format(best_params['score'], best_params['alpha'], best_params['min_df'],\n",
    "                 best_params['max_df'], best_params['ngram']))\n",
    "    \n",
    "    return best_params, clf"
   ]
  },
  {
   "cell_type": "markdown",
   "metadata": {},
   "source": [
    "## Cross-validation with GridSearch"
   ]
  },
  {
   "cell_type": "code",
   "execution_count": 21,
   "metadata": {
    "ExecuteTime": {
     "end_time": "2017-11-10T12:50:35.007651Z",
     "start_time": "2017-11-10T07:50:34.998030-05:00"
    },
    "collapsed": true,
    "init_cell": true
   },
   "outputs": [],
   "source": [
    "from sklearn.model_selection import GridSearchCV\n",
    "\n",
    "def cv_optimize(clf, dict_params, Xtrain, ytrain, scorer, n_folds):\n",
    "\n",
    "    gs = GridSearchCV(clf,\n",
    "                      param_grid = dict_params,\n",
    "                      cv = n_folds,\n",
    "                      scoring = scorer) \n",
    "    \n",
    "    gs.fit(Xtrain, ytrain)\n",
    "    \n",
    "    print('Cross validation completed.')\n",
    "    print('Best parameters: ' + str(gs.best_params_))\n",
    "    print('Best score: {:.2f}'.format(gs.best_score_))\n",
    "    print('Scoring method used: ' + str(gs.scorer_) + ')')\n",
    "    \n",
    "    return gs.best_estimator_, gs.best_params_"
   ]
  },
  {
   "cell_type": "code",
   "execution_count": 22,
   "metadata": {
    "ExecuteTime": {
     "end_time": "2017-11-10T12:50:35.019598Z",
     "start_time": "2017-11-10T07:50:35.010310-05:00"
    },
    "collapsed": true,
    "init_cell": true
   },
   "outputs": [],
   "source": [
    "from sklearn.model_selection import RandomizedSearchCV\n",
    "\n",
    "def cv_optimize_random(clf, dict_params, Xtrain, ytrain, scorer, n_folds):\n",
    "    \n",
    "    rs = RandomizedSearchCV(clf,\n",
    "                            param_distributions = dict_params,\n",
    "                            scoring = scorer,\n",
    "                            cv = n_folds,\n",
    "                            n_iter=5)\n",
    "    rs.fit(Xtrain, ytrain)\n",
    "    \n",
    "    print('Cross validation completed.')\n",
    "    print('Best parameters: ' + str(rs.best_params_))\n",
    "    print('Best score: {:.2f}'.format(rs.best_score_))\n",
    "    print('Scoring method used: ' + str(rs.scorer_) + ')')\n",
    "    \n",
    "    return rs.best_estimator_, rs.best_params_"
   ]
  },
  {
   "cell_type": "markdown",
   "metadata": {},
   "source": [
    "## Make term-document matrix"
   ]
  },
  {
   "cell_type": "code",
   "execution_count": 23,
   "metadata": {
    "ExecuteTime": {
     "end_time": "2017-11-10T12:50:35.032586Z",
     "start_time": "2017-11-10T07:50:35.021665-05:00"
    },
    "collapsed": true,
    "init_cell": true
   },
   "outputs": [],
   "source": [
    "def make_xy(df, vectorizer):\n",
    "    \n",
    "    if vectorizer is None:\n",
    "        vectorizer = CountVectorizer()\n",
    "    \n",
    "    # call `fit` to build the vocabulary\n",
    "    try:\n",
    "        vectorizer.fit(df['text'])\n",
    "\n",
    "        # call `transform` to convert text to a bag of words\n",
    "        X = vectorizer.transform(df['text'])\n",
    "\n",
    "        # convert sarcasm column to integers\n",
    "        y = (df['sarcasm'] == 1).values.astype(np.int) \n",
    "\n",
    "    except ValueError:\n",
    "    \n",
    "        X = None\n",
    "        y = None\n",
    "        vectorizer = None\n",
    "\n",
    "    return X, y, vectorizer"
   ]
  },
  {
   "cell_type": "markdown",
   "metadata": {},
   "source": [
    "## Graph feature importances"
   ]
  },
  {
   "cell_type": "code",
   "execution_count": 24,
   "metadata": {
    "ExecuteTime": {
     "end_time": "2017-11-10T12:50:35.060945Z",
     "start_time": "2017-11-10T07:50:35.035320-05:00"
    },
    "collapsed": true,
    "init_cell": true
   },
   "outputs": [],
   "source": [
    "def graph_feature_import(clf, features, Xtest, y_col, prop_feats_to_show):\n",
    "    \n",
    "    coefs = np.std(Xtest, 0)*clf.coef_[0,0:]\n",
    "\n",
    "    df_graph = pd.DataFrame({'Feature': features,\n",
    "                             'Coefficient': coefs,\n",
    "                             'Coeff_AV': abs(coefs)})\n",
    "\n",
    "    # sort dataframe by absolute value of coefficients\n",
    "    df_graph2 = df_graph.sort_values(by = 'Coeff_AV', ascending = False)\n",
    "\n",
    "    print('\\t\\nStandardized coefficients for ' + str(y_col) + '\\n')\n",
    "    print(df_graph2)\n",
    "    \n",
    "    feats_to_show = int(df_graph2.shape[0]*prop_feats_to_show)\n",
    "\n",
    "    #x = range(df_graph2.shape[0])\n",
    "    x = range(feats_to_show)\n",
    "    y = df_graph2['Coeff_AV'][0:feats_to_show]\n",
    "    \n",
    "    plt.figure(figsize=(20,5))\n",
    "    plt.bar(x, y, align='center')\n",
    "    plt.xticks(np.arange(min(x), max(x)+1, 1))    \n",
    "    plt.xticks(x, df_graph2['Feature'], rotation='vertical')\n",
    "    plt.xlabel('Feature')\n",
    "    plt.ylabel('Absolute Value of Standardized Coefficient')\n",
    "    title = 'Absolute Value of Standardized Coefficients for Top {} features'.format(feats_to_show)\n",
    "    plt.title(title)\n",
    "\n",
    "    plt.show()\n",
    "    \n",
    "    return df_graph2"
   ]
  },
  {
   "cell_type": "markdown",
   "metadata": {},
   "source": [
    "<div class=\"alert alert-success\">\n",
    "<h1>DIMENSIONALITY REDUCTION (LSI)</h1>\n",
    "</div>"
   ]
  },
  {
   "cell_type": "code",
   "execution_count": 25,
   "metadata": {
    "ExecuteTime": {
     "end_time": "2017-11-10T12:50:35.079214Z",
     "start_time": "2017-11-10T07:50:35.063201-05:00"
    },
    "collapsed": true,
    "init_cell": true
   },
   "outputs": [],
   "source": [
    "def get_vocab(path, df):\n",
    "\n",
    "    fullpath_vocab = os.path.join(path, 'vocab.txt')\n",
    "\n",
    "    # if vocab doesn't already exist, create it:\n",
    "    if not os.path.isfile(fullpath_vocab):\n",
    "        print('\\tVocabulary dictionary does not already exist, creating now.')\n",
    "\n",
    "        vocab = Dictionary(df.text.str.split())\n",
    "\n",
    "        # filter tokens that are very rare or too common from\n",
    "        # the dictionary (filter_extremes) and reassign integer ids (compactify)\n",
    "        vocab.filter_extremes(no_below=10, no_above=0.4)\n",
    "        vocab.compactify()\n",
    "\n",
    "        # save vocab dictionary\n",
    "        vocab.save(fullpath_vocab)\n",
    "\n",
    "        print('\\tVocabulary dictionary successfully created!')\n",
    "    else:\n",
    "        # load the finished dictionary from disk\n",
    "        vocab = Dictionary.load(fullpath_vocab)\n",
    "\n",
    "        print('\\tVocabulary dictionary successfully loaded from disk.')\n",
    "\n",
    "    #print(vocab)\n",
    "    return vocab"
   ]
  },
  {
   "cell_type": "code",
   "execution_count": 26,
   "metadata": {
    "ExecuteTime": {
     "end_time": "2017-11-10T12:50:35.095077Z",
     "start_time": "2017-11-10T07:50:35.083313-05:00"
    },
    "collapsed": true,
    "init_cell": true
   },
   "outputs": [],
   "source": [
    "def create_bow(path, df, vocab):\n",
    "    \n",
    "    fullpath_bows = os.path.join(path, 'bows.mm')\n",
    "\n",
    "    # if bows doesn't already exist, create it\n",
    "    if not os.path.isfile(fullpath_bows):\n",
    "        print('\\tBOWs model does not already exist, creating now.')\n",
    "        bows = [vocab.doc2bow(text) for text in df.text.str.split()]\n",
    "        MmCorpus.serialize(fullpath_bows, bows) # store to disk, for later use\n",
    "        print('\\tBOWs model successfull created!')\n",
    "    else:\n",
    "        bows = MmCorpus(fullpath_bows)\n",
    "        print('\\tBOWs successfully loaded from disk.')\n",
    "        \n",
    "    return bows"
   ]
  },
  {
   "cell_type": "code",
   "execution_count": 27,
   "metadata": {
    "ExecuteTime": {
     "end_time": "2017-11-10T12:50:35.113003Z",
     "start_time": "2017-11-10T07:50:35.098121-05:00"
    },
    "collapsed": true,
    "init_cell": true
   },
   "outputs": [],
   "source": [
    "def generate_LSI(path, num_topics, vocab, bows, tfidf):\n",
    "    \n",
    "    filename = 'lsi_' + str(num_topics) + '.lsi'\n",
    "    fullpath_lsi = os.path.join(path, filename)\n",
    "\n",
    "    # if LSI model doesn't already exist, create it\n",
    "    if not os.path.isfile(fullpath_lsi):\n",
    "        print('\\tLSI model does not already exist, creating it now.')\n",
    "        lsi = LsiModel(tfidf[bows],\n",
    "                       num_topics=num_topics,\n",
    "                       id2word=vocab,\n",
    "                       extra_samples=100,\n",
    "                       power_iters=2)\n",
    "        lsi.save(fullpath_lsi)\n",
    "        print('\\tLSI model with {} topics successfully created!'.format(num_topics))\n",
    "    else:    \n",
    "        # load the finished LSI model from disk\n",
    "        lsi = LsiModel.load(fullpath_lsi)\n",
    "        print('\\tLSI model with {} topics successfully loaded from disk.'.format(num_topics))\n",
    "    \n",
    "    return lsi"
   ]
  },
  {
   "cell_type": "code",
   "execution_count": 28,
   "metadata": {
    "ExecuteTime": {
     "end_time": "2017-11-10T12:50:35.146919Z",
     "start_time": "2017-11-10T07:50:35.115402-05:00"
    },
    "collapsed": true,
    "init_cell": true
   },
   "outputs": [],
   "source": [
    "def add_LSI_to_df(path, num_topics, bows, lsi, df):\n",
    "    \n",
    "    filename = 'lsi_df_' + str(num_topics) + '.txt'\n",
    "    fullpath_lsi_df = os.path.join(path, filename)\n",
    "\n",
    "    # if LSI model df doesn't already exist, create it\n",
    "    if not os.path.isfile(fullpath_lsi_df):\n",
    "        print('\\tLSI model dataframe does not already exist, creating it now.')\n",
    "        tweetids = pd.Series(range(len(bows)))\n",
    "        topicids = pd.Series(range(lsi.num_topics))\n",
    "\n",
    "        # `dict()` keeps track of the columns for each topic, in case the lsi model shuffles\n",
    "        # or skips topics for odd tweets\n",
    "        df_lsi = pd.DataFrame([pd.Series(dict(lsi[bows[i]]), name='tweet') for i in tweetids],\n",
    "                              columns=topicids,\n",
    "                              index=tweetids)\n",
    "\n",
    "        # create dictionary of sarcasm column and user_tweet_id\n",
    "        dict_sar = df.set_index('user_tweet_id')['sarcasm'].to_dict()\n",
    "        \n",
    "        if df.index.name == None:\n",
    "            df = df.set_index('user_tweet_id')\n",
    "\n",
    "        # add 'user_tweet_id' and sarcasm label\n",
    "        df_lsi['user_tweet_id'] = df.index.values\n",
    "        df_lsi['sarcasm'] = df_lsi['user_tweet_id'].map(dict_sar)\n",
    "\n",
    "        # set index to 'user_tweet_id' column\n",
    "        df_lsi.set_index(['user_tweet_id'], inplace=True)\n",
    "\n",
    "        # save LSI dataframe\n",
    "        df_lsi.to_csv(fullpath_lsi_df, sep = '\\t', index = True, header = True)\n",
    "\n",
    "        print('\\tLSI model dataframe created!')\n",
    "    else:\n",
    "        # load the LSI df from disk\n",
    "        df_lsi = pd.read_csv(filepath_or_buffer = fullpath_lsi_df,\n",
    "                             sep = '\\t',\n",
    "                             encoding='utf-8',\n",
    "                             index_col='user_tweet_id')\n",
    "\n",
    "        print('\\tLSI model dataframe successfully loaded from disk.')\n",
    "\n",
    "    return df_lsi"
   ]
  },
  {
   "cell_type": "code",
   "execution_count": 29,
   "metadata": {
    "ExecuteTime": {
     "end_time": "2017-11-10T12:50:35.159418Z",
     "start_time": "2017-11-10T07:50:35.149078-05:00"
    },
    "collapsed": true,
    "init_cell": true
   },
   "outputs": [],
   "source": [
    "def LSI_model(df, num_topics):\n",
    "    \n",
    "    print('Generating/loading LSI model, please wait.')\n",
    "    \n",
    "    # set path to save gensim results\n",
    "    path = './gensim/'\n",
    "    \n",
    "    # create/load vocab (dictionary of all words in tweets)\n",
    "    vocab = get_vocab(path, df)\n",
    "    \n",
    "    # create TF-IDF model of tweets\n",
    "    tfidf = TfidfModel(id2word=vocab, dictionary=vocab)\n",
    "    print('\\tTF-IDF model successful generated; total documents in model: {:,}'.format(tfidf.num_docs))\n",
    "    \n",
    "    # create/load bag of words representation of tweets\n",
    "    bows = create_bow(path, df, vocab)\n",
    "    \n",
    "    # create LSI model with inputted number of topics\n",
    "    lsi = generate_LSI(path, num_topics, vocab, bows, tfidf)\n",
    "    \n",
    "    # add LSI components to original dataframe\n",
    "    df_lsi = add_LSI_to_df(path, num_topics, bows, lsi, df)\n",
    "    \n",
    "    return df_lsi, lsi, tfidf, bows, vocab"
   ]
  },
  {
   "cell_type": "code",
   "execution_count": 30,
   "metadata": {
    "ExecuteTime": {
     "end_time": "2017-11-10T12:50:35.169407Z",
     "start_time": "2017-11-10T07:50:35.162230-05:00"
    },
    "collapsed": true,
    "init_cell": true
   },
   "outputs": [],
   "source": [
    "def explore_topic(lsi_model, topic_number, topn):\n",
    "    \"\"\"\n",
    "    accept a user-supplied topic number and\n",
    "    print out a formatted list of the top terms\n",
    "    \"\"\"\n",
    "        \n",
    "    print('{:20} {}'.format('term', 'frequency') + '\\n')\n",
    "\n",
    "    for term, frequency in lsi_model.show_topic(topic_number, topn):\n",
    "        print('{:20} {:.2f}'.format(term, frequency, 2))"
   ]
  },
  {
   "cell_type": "markdown",
   "metadata": {},
   "source": [
    "<div class=\"alert alert-success\">\n",
    "<h1>MAIN CODE</h1>\n",
    "</div>"
   ]
  },
  {
   "cell_type": "markdown",
   "metadata": {},
   "source": [
    "<div class=\"alert alert-warning\">\n",
    "<h3>Setup</h3>\n",
    "</div>"
   ]
  },
  {
   "cell_type": "code",
   "execution_count": 31,
   "metadata": {
    "ExecuteTime": {
     "end_time": "2017-11-10T12:50:51.004820Z",
     "start_time": "2017-11-10T07:50:44.987738-05:00"
    },
    "scrolled": true
   },
   "outputs": [
    {
     "name": "stdout",
     "output_type": "stream",
     "text": [
      "Dataframes already exist, loading now.\n"
     ]
    },
    {
     "name": "stderr",
     "output_type": "stream",
     "text": [
      "/Users/Rachel/.pyenv/versions/py36_env/lib/python3.6/site-packages/ipykernel_launcher.py:11: SettingWithCopyWarning: \n",
      "A value is trying to be set on a copy of a slice from a DataFrame.\n",
      "Try using .loc[row_indexer,col_indexer] = value instead\n",
      "\n",
      "See the caveats in the documentation: http://pandas.pydata.org/pandas-docs/stable/indexing.html#indexing-view-versus-copy\n",
      "  # This is added back by InteractiveShellApp.init_path()\n",
      "/Users/Rachel/.pyenv/versions/py36_env/lib/python3.6/site-packages/ipykernel_launcher.py:12: SettingWithCopyWarning: \n",
      "A value is trying to be set on a copy of a slice from a DataFrame.\n",
      "Try using .loc[row_indexer,col_indexer] = value instead\n",
      "\n",
      "See the caveats in the documentation: http://pandas.pydata.org/pandas-docs/stable/indexing.html#indexing-view-versus-copy\n",
      "  if sys.path[0] == '':\n",
      "/Users/Rachel/.pyenv/versions/py36_env/lib/python3.6/site-packages/ipykernel_launcher.py:13: SettingWithCopyWarning: \n",
      "A value is trying to be set on a copy of a slice from a DataFrame.\n",
      "Try using .loc[row_indexer,col_indexer] = value instead\n",
      "\n",
      "See the caveats in the documentation: http://pandas.pydata.org/pandas-docs/stable/indexing.html#indexing-view-versus-copy\n",
      "  del sys.path[0]\n",
      "/Users/Rachel/.pyenv/versions/py36_env/lib/python3.6/site-packages/ipykernel_launcher.py:17: SettingWithCopyWarning: \n",
      "A value is trying to be set on a copy of a slice from a DataFrame.\n",
      "Try using .loc[row_indexer,col_indexer] = value instead\n",
      "\n",
      "See the caveats in the documentation: http://pandas.pydata.org/pandas-docs/stable/indexing.html#indexing-view-versus-copy\n"
     ]
    },
    {
     "name": "stdout",
     "output_type": "stream",
     "text": [
      "Dataframe tweets_all loaded, length = 95,860.\n",
      "Dataframe tweets_sarcasm loaded, length = 30,910.\n",
      "Dataframe tweets_sad loaded, length = 40,861.\n",
      "Dataframe tweets_happy loaded, length = 12,639.\n",
      "Dataframe tweets_seriously loaded, length = 11,450.\n"
     ]
    }
   ],
   "source": [
    "input_path = './hashtag_tweets/'\n",
    "\n",
    "num_files = np.inf\n",
    "hashtags = ['sarcasm','sarcastic','irony','ironic','happy','sad','seriously']\n",
    "\n",
    "\"\"\"Check whether hashtag dataframes already exist\"\"\"\n",
    "df_list = ['tweets_all', 'tweets_sarcasm', 'tweets_sad', 'tweets_happy', 'tweets_seriously']\n",
    "\n",
    "for df in df_list:\n",
    "    filepath = './hashtag_dfs/' + df + '.txt'\n",
    "    if not os.path.isfile(filepath):        \n",
    "        dfs_exist = False\n",
    "    else:\n",
    "        dfs_exist = True\n",
    "\n",
    "if dfs_exist == False:\n",
    "    \"\"\"if hashtag dataframes DON'T already exist, get input and create them\"\"\"\n",
    "    \n",
    "    print('Dataframes do not exist, creating now.')\n",
    "    tweets_all = get_input(input_path, num_files, hashtags)\n",
    "else:\n",
    "    \"\"\"if hashtag dataframes DO already exist, load them\"\"\"\n",
    "\n",
    "    print('Dataframes already exist, loading now.')\n",
    "    \n",
    "    dict_dfs = read_in_dfs(df_list, hashtags)\n",
    "    tweets_all = dict_dfs['tweets_all']    \n",
    "    tweets_sarcasm = dict_dfs['tweets_sarcasm']    \n",
    "    tweets_happy = dict_dfs['tweets_happy']    \n",
    "    tweets_sad = dict_dfs['tweets_sad']    \n",
    "    tweets_seriously = dict_dfs['tweets_seriously']"
   ]
  },
  {
   "cell_type": "code",
   "execution_count": 32,
   "metadata": {
    "ExecuteTime": {
     "end_time": "2017-11-10T12:50:52.473399Z",
     "start_time": "2017-11-10T07:50:52.367364-05:00"
    },
    "collapsed": true
   },
   "outputs": [],
   "source": [
    "\"\"\"If dataframes do NOT exist, create them and save them as text files\"\"\"\n",
    "if dfs_exist == False:\n",
    "    \n",
    "    # subset data to tweets with only one hashtag\n",
    "    tweets_all = count_total_ht(tweets_all)\n",
    "    tweets_all = tweets_all[tweets_all.num_ht == 1]\n",
    "    \n",
    "    # remove duplicate tweets & drop rows with no tweet text\n",
    "    tweets_all = clean_data(tweets_all)\n",
    "    \n",
    "    # create subset dataframes\n",
    "    tweets_sarcasm = tweets_all[tweets_all.sarcasm == 1]\n",
    "    tweets_happy = tweets_all[tweets_all.happy == 1]\n",
    "    tweets_sad = tweets_all[tweets_all.sad == 1]\n",
    "    tweets_seriously = tweets_all[tweets_all.seriously == 1]\n",
    "    \n",
    "    # only include tweets with hashtag at end \n",
    "    pattern = r'\\bsarcasm\\b$'\n",
    "    tweets_sarcasm = tweets_sarcasm[(tweets_sarcasm['text'].str.contains(pattern, case=False, na=False, regex=True))]\n",
    "\n",
    "    pattern = r'\\bhappy\\b$'\n",
    "    tweets_happy = tweets_happy[(tweets_happy['text'].str.contains(pattern, case=False, na=False, regex=True))]\n",
    "\n",
    "    pattern = r'\\bsad\\b$'\n",
    "    tweets_sad = tweets_sad[(tweets_sad['text'].str.contains(pattern, case=False, na=False, regex=True))]\n",
    "\n",
    "    pattern = r'\\bseriously\\b$'\n",
    "    tweets_seriously = tweets_seriously[(tweets_seriously['text'].str.contains(pattern, case=False, na=False, regex=True))]\n",
    "    \n",
    "    # remove hashtag from tweet text\n",
    "    tweets_sarcasm['text'] = tweets_sarcasm['text'].str.replace('#sarcasm', '', case=False)\n",
    "    tweets_happy['text'] = tweets_happy['text'].str.replace('#happy', '', case=False)\n",
    "    tweets_sad['text'] = tweets_sad['text'].str.replace('#sad', '', case=False)\n",
    "    tweets_seriously['text'] = tweets_seriously['text'].str.replace('#seriously', '', case=False)\n",
    "    \n",
    "    # remove '(quote)' from tweet text\n",
    "    tweets_sarcasm['text'] = tweets_sarcasm['text'].str.replace('(quote)', '', case=False)\n",
    "    tweets_happy['text'] = tweets_happy['text'].str.replace('(quote)', '', case=False)\n",
    "    tweets_sad['text'] = tweets_sad['text'].str.replace('(quote)', '', case=False)\n",
    "    tweets_seriously['text'] = tweets_seriously['text'].str.replace('(quote)', '', case=False)\n",
    "    \n",
    "    # remove URLs from tweet text\n",
    "    pattern1 = r'http\\S+'\n",
    "    pattern2 = r'www\\S+'\n",
    "    tweets_sarcasm['text'] = tweets_sarcasm['text'] .str.replace(pattern1, '')\n",
    "    tweets_sarcasm['text'] = tweets_sarcasm['text'] .str.replace(pattern2, '')\n",
    "    tweets_happy['text'] = tweets_happy['text'] .str.replace(pattern1, '')\n",
    "    tweets_happy['text'] = tweets_happy['text'] .str.replace(pattern2, '')\n",
    "    tweets_sad['text'] = tweets_sad['text'] .str.replace(pattern1, '')\n",
    "    tweets_sad['text'] = tweets_sad['text'] .str.replace(pattern2, '')\n",
    "    tweets_seriously['text'] = tweets_seriously['text'] .str.replace(pattern1, '')\n",
    "    tweets_seriously['text'] = tweets_seriously['text'] .str.replace(pattern2, '')\n",
    "\n",
    "    # create new dataframe containing all tweets for above hashtags only\n",
    "    tweets_all = pd.concat([tweets_sarcasm, tweets_happy, tweets_sad, tweets_seriously])\n",
    "    \n",
    "    # save dataframes\n",
    "    filename = 'tweets_all'\n",
    "    filepath = './hashtag_dfs/' + filename + '.txt'\n",
    "\n",
    "    # Save df if file doesn't exist\n",
    "    tweets_all.to_csv(filepath, sep = '\\t', index = True, header = True)\n",
    "\n",
    "    filename = 'tweets_sarcasm'\n",
    "    filepath = './hashtag_dfs/' + filename + '.txt'\n",
    "\n",
    "    # Save df if file doesn't exist\n",
    "    tweets_sarcasm.to_csv(filepath, sep = '\\t', index = True, header = True)\n",
    "\n",
    "    filename = 'tweets_happy'\n",
    "    filepath = './hashtag_dfs/' + filename + '.txt'\n",
    "\n",
    "    # Save df if file doesn't exist\n",
    "    tweets_happy.to_csv(filepath, sep = '\\t', index = True, header = True)\n",
    "\n",
    "    filename = 'tweets_sad'\n",
    "    filepath = './hashtag_dfs/' + filename + '.txt'\n",
    "\n",
    "    # Save df if file doesn't exist\n",
    "    tweets_sad.to_csv(filepath, sep = '\\t', index = True, header = True)\n",
    "\n",
    "    filename = 'tweets_seriously'\n",
    "    filepath = './hashtag_dfs/' + filename + '.txt'\n",
    "\n",
    "    # Save df if file doesn't exist\n",
    "    tweets_seriously.to_csv(filepath, sep = '\\t', index = True, header = True)"
   ]
  },
  {
   "cell_type": "markdown",
   "metadata": {
    "ExecuteTime": {
     "end_time": "2017-10-25T14:51:31.289746Z",
     "start_time": "2017-10-25T10:51:31.284464-04:00"
    }
   },
   "source": [
    "<div class=\"alert alert-warning\">\n",
    "<h3>Modeling: Setup</h3>\n",
    "</div>"
   ]
  },
  {
   "cell_type": "markdown",
   "metadata": {},
   "source": [
    "### Create/load subset dataframe\n",
    "Subset dataframe contains 50% sarcastic tweets and 50% other tweets (17% each of sad, happy, and seriously tweets)"
   ]
  },
  {
   "cell_type": "code",
   "execution_count": 33,
   "metadata": {
    "ExecuteTime": {
     "end_time": "2017-11-10T12:50:55.125607Z",
     "start_time": "2017-11-10T07:50:53.709348-05:00"
    }
   },
   "outputs": [
    {
     "name": "stdout",
     "output_type": "stream",
     "text": [
      "Dataframe already exists, loading now.\n"
     ]
    },
    {
     "name": "stderr",
     "output_type": "stream",
     "text": [
      "/Users/Rachel/.pyenv/versions/py36_env/lib/python3.6/site-packages/ipykernel_launcher.py:11: SettingWithCopyWarning: \n",
      "A value is trying to be set on a copy of a slice from a DataFrame.\n",
      "Try using .loc[row_indexer,col_indexer] = value instead\n",
      "\n",
      "See the caveats in the documentation: http://pandas.pydata.org/pandas-docs/stable/indexing.html#indexing-view-versus-copy\n",
      "  # This is added back by InteractiveShellApp.init_path()\n",
      "/Users/Rachel/.pyenv/versions/py36_env/lib/python3.6/site-packages/ipykernel_launcher.py:12: SettingWithCopyWarning: \n",
      "A value is trying to be set on a copy of a slice from a DataFrame.\n",
      "Try using .loc[row_indexer,col_indexer] = value instead\n",
      "\n",
      "See the caveats in the documentation: http://pandas.pydata.org/pandas-docs/stable/indexing.html#indexing-view-versus-copy\n",
      "  if sys.path[0] == '':\n",
      "/Users/Rachel/.pyenv/versions/py36_env/lib/python3.6/site-packages/ipykernel_launcher.py:13: SettingWithCopyWarning: \n",
      "A value is trying to be set on a copy of a slice from a DataFrame.\n",
      "Try using .loc[row_indexer,col_indexer] = value instead\n",
      "\n",
      "See the caveats in the documentation: http://pandas.pydata.org/pandas-docs/stable/indexing.html#indexing-view-versus-copy\n",
      "  del sys.path[0]\n",
      "/Users/Rachel/.pyenv/versions/py36_env/lib/python3.6/site-packages/ipykernel_launcher.py:17: SettingWithCopyWarning: \n",
      "A value is trying to be set on a copy of a slice from a DataFrame.\n",
      "Try using .loc[row_indexer,col_indexer] = value instead\n",
      "\n",
      "See the caveats in the documentation: http://pandas.pydata.org/pandas-docs/stable/indexing.html#indexing-view-versus-copy\n"
     ]
    }
   ],
   "source": [
    "hashtags = ['sarcasm', 'happy', 'sad', 'seriously']\n",
    "filepath = './hashtag_dfs/tweets_all_sub.txt'\n",
    "\n",
    "\"\"\"Check whether subset hashtag dataframe already exists\"\"\"\n",
    "\n",
    "if not os.path.isfile(filepath):\n",
    "    \n",
    "    \"\"\"if hashtag dataframe DOESN'T already exist, create it\"\"\"\n",
    "    \n",
    "    print('Dataframe does not exist, creating now.')\n",
    "    \n",
    "    onethird_sarcasm = int(sum(tweets_all['sarcasm'])/3)\n",
    "\n",
    "    # randomly sample rows from happy, sad, and seriously tweets\n",
    "    tweets_happy_sub = tweets_happy.sample(n = onethird_sarcasm)\n",
    "    tweets_sad_sub = tweets_sad.sample(n = onethird_sarcasm)\n",
    "    tweets_seriously_sub = tweets_seriously.sample(n = onethird_sarcasm)\n",
    "\n",
    "    # combine the subset dataframes\n",
    "    tweets_all_sub = pd.concat([tweets_sarcasm,\n",
    "                             tweets_happy_sub,\n",
    "                             tweets_sad_sub,\n",
    "                             tweets_seriously_sub])\n",
    "\n",
    "    # remove blanks\n",
    "    tweets_all_sub = tweets_all_sub[pd.notnull(tweets_all_sub['text'])]\n",
    "    \n",
    "    # save file\n",
    "    tweets_all_sub.to_csv(filepath, sep = '\\t', index = True, header = True)\n",
    "    \n",
    "else:\n",
    "    \"\"\"if hashtag dataframe DOES already exist, load it\"\"\"\n",
    "    \n",
    "    print('Dataframe already exists, loading now.')\n",
    "    \n",
    "    colnames, dtypes_file = setup_input2()\n",
    "    \n",
    "    tweets_all_sub = pd.read_csv(filepath_or_buffer = filepath, sep = '\\t',\n",
    "                              names = colnames, error_bad_lines = True,\n",
    "                              dtype=dtypes_file, encoding = 'utf-8')\n",
    "\n",
    "# clean file\n",
    "tweets_all_sub = clean_file(tweets_all_sub, hashtags)\n",
    "    \n",
    "# convert tweet text to lowercase\n",
    "tweets_all_sub['text'] = tweets_all_sub['text'].str.lower()"
   ]
  },
  {
   "cell_type": "markdown",
   "metadata": {},
   "source": [
    "### Count number of tweets and users"
   ]
  },
  {
   "cell_type": "code",
   "execution_count": 34,
   "metadata": {
    "ExecuteTime": {
     "end_time": "2017-11-10T12:50:56.751571Z",
     "start_time": "2017-11-10T07:50:56.704098-05:00"
    }
   },
   "outputs": [
    {
     "name": "stdout",
     "output_type": "stream",
     "text": [
      "Total number of tweets: 61,301\n",
      "\n",
      "Number of tweets with sarcasm hashtag: 30,728 (50.13%)\n",
      "Number of users with sarcasm hashtag: 23,368\n",
      "\n",
      "Number of tweets with happy hashtag: 10,040 (16.38%)\n",
      "Number of users with happy hashtag: 8,314\n",
      "\n",
      "Number of tweets with sad hashtag: 10,271 (16.76%)\n",
      "Number of users with sad hashtag: 8,149\n",
      "\n",
      "Number of tweets with seriously hashtag: 10,262 (16.74%)\n",
      "Number of users with seriously hashtag: 8,215\n"
     ]
    }
   ],
   "source": [
    "hashtags = ['sarcasm','happy','sad','seriously']\n",
    "\n",
    "total_n = len(tweets_all_sub)\n",
    "print('Total number of tweets: {:,}'.format(total_n))\n",
    "\n",
    "for ht in hashtags:\n",
    "        \n",
    "    temp_df = tweets_all_sub[tweets_all_sub[ht] == 1]\n",
    "    \n",
    "    n_tweets = len(temp_df)\n",
    "    n_users = temp_df.user.unique().size\n",
    "\n",
    "    print('\\nNumber of tweets with {} hashtag: {:,d} ({:.2f}%)'.format(ht, n_tweets, 100*(n_tweets/total_n)))\n",
    "    print('Number of users with {} hashtag: {:,d}'.format(ht, n_users))"
   ]
  },
  {
   "cell_type": "markdown",
   "metadata": {},
   "source": [
    "<div class=\"alert alert-warning\">\n",
    "<h3>Modeling: Create Train and Test Sets</h3>\n",
    "</div>"
   ]
  },
  {
   "cell_type": "markdown",
   "metadata": {},
   "source": [
    "### Create test and training data"
   ]
  },
  {
   "cell_type": "code",
   "execution_count": 35,
   "metadata": {
    "ExecuteTime": {
     "end_time": "2017-11-10T12:50:58.891949Z",
     "start_time": "2017-11-10T07:50:58.533485-05:00"
    }
   },
   "outputs": [
    {
     "name": "stdout",
     "output_type": "stream",
     "text": [
      "\n",
      "Training and test set files already exist, opening now.\n",
      "Reading in mask from ./training_test_sets/mask_sarcasm_happy_sad_seriously.txt\n",
      "\n",
      "Length of mask: 61,301\n",
      "Length of test: 18,391\n",
      "Length of train: 42,910\n",
      "Length of test + train: 61,301\n",
      "\n",
      "Percent of sarcasm in training set: 50.15%\n",
      "Percent of sarcasm in test set: 50.07%\n"
     ]
    }
   ],
   "source": [
    "filename_base = 'sarcasm_happy_sad_seriously'\n",
    "strat = True\n",
    "train, test, mask = create_train_test(tweets_all_sub, filename_base)\n",
    "\n",
    "prop_sarc = sum(train['sarcasm'])/len(train)\n",
    "print('\\nPercent of sarcasm in training set: {:.2f}%'.format(prop_sarc*100))\n",
    "\n",
    "prop_sarc = sum(test['sarcasm'])/len(test)\n",
    "print('Percent of sarcasm in test set: {:.2f}%'.format(prop_sarc*100))"
   ]
  },
  {
   "cell_type": "markdown",
   "metadata": {},
   "source": [
    "<div class=\"alert alert-warning\">\n",
    "<h3>Exploratory Data Analysis</h3>\n",
    "</div>"
   ]
  },
  {
   "cell_type": "markdown",
   "metadata": {},
   "source": [
    "### Get stats by hashtag"
   ]
  },
  {
   "cell_type": "code",
   "execution_count": 66,
   "metadata": {
    "ExecuteTime": {
     "end_time": "2017-11-09T22:09:24.317248Z",
     "start_time": "2017-11-09T17:09:24.026578-05:00"
    },
    "scrolled": true
   },
   "outputs": [
    {
     "name": "stdout",
     "output_type": "stream",
     "text": [
      "\n",
      "SUMMARY STATS FOR \"SARCASM\" HASHTAG\n",
      "\n",
      "\tTotal users: 23,509\n",
      "\n",
      "\tFOLLOWERS_COUNT \n",
      "\tMean: 868.2 \n",
      "\tMedian: 173.0 \n",
      "\tSD: 35,070.6 \n",
      "\tSEM: 228.7 \n",
      "\tRange: 0.0 to 5,192,273.0\n",
      "\n",
      "\tFRIENDS \n",
      "\tMean: 629.2 \n",
      "\tMedian: 423.0 \n",
      "\tSD: 1,671.0 \n",
      "\tSEM: 10.9 \n",
      "\tRange: 0.0 to 176,631.0\n",
      "\n",
      "\tTOTAL_TWEETS \n",
      "\tMean: 4,295.6 \n",
      "\tMedian: 2,440.0 \n",
      "\tSD: 8,341.5 \n",
      "\tSEM: 54.4 \n",
      "\tRange: 2.0 to 446,022.0\n",
      "\n",
      "\tNumber of users that used 'sarcasm' hashtag X times:\n",
      "\tX = 1 time(s): 19,213\n",
      "\tX = 2 time(s): 2,883\n",
      "\tX = 3 time(s): 773\n",
      "\tX = 4 time(s): 289\n",
      "\tX = 5 time(s): 159\n",
      "\n",
      "\tNumber of users that used 'sarcasm' hashtag more than X times:\n",
      "\tX > 5 times: 192\n",
      "\n",
      "SUMMARY STATS FOR \"HAPPY\" HASHTAG\n",
      "\n",
      "\tTotal users: 10,149\n",
      "\n",
      "\tFOLLOWERS_COUNT \n",
      "\tMean: 812.5 \n",
      "\tMedian: 218.0 \n",
      "\tSD: 10,361.0 \n",
      "\tSEM: 102.9 \n",
      "\tRange: 0.0 to 753,605.0\n",
      "\n",
      "\tFRIENDS \n",
      "\tMean: 693.7 \n",
      "\tMedian: 433.0 \n",
      "\tSD: 2,478.5 \n",
      "\tSEM: 24.6 \n",
      "\tRange: 0.0 to 223,235.0\n",
      "\n",
      "\tTOTAL_TWEETS \n",
      "\tMean: 3,851.3 \n",
      "\tMedian: 2,487.0 \n",
      "\tSD: 5,809.7 \n",
      "\tSEM: 57.7 \n",
      "\tRange: 1.0 to 175,701.0\n",
      "\n",
      "\tNumber of users that used 'happy' hashtag X times:\n",
      "\tX = 1 time(s): 8,559\n",
      "\tX = 2 time(s): 1,111\n",
      "\tX = 3 time(s): 287\n",
      "\tX = 4 time(s): 103\n",
      "\tX = 5 time(s): 41\n",
      "\n",
      "\tNumber of users that used 'happy' hashtag more than X times:\n",
      "\tX > 5 times: 48\n",
      "\n",
      "SUMMARY STATS FOR \"SAD\" HASHTAG\n",
      "\n",
      "\tTotal users: 26,456\n",
      "\n",
      "\tFOLLOWERS_COUNT \n",
      "\tMean: 1,227.3 \n",
      "\tMedian: 191.0 \n",
      "\tSD: 24,606.4 \n",
      "\tSEM: 151.3 \n",
      "\tRange: 0.0 to 2,136,334.0\n",
      "\n",
      "\tFRIENDS \n",
      "\tMean: 772.4 \n",
      "\tMedian: 454.0 \n",
      "\tSD: 3,451.9 \n",
      "\tSEM: 21.2 \n",
      "\tRange: 0.0 to 485,012.0\n",
      "\n",
      "\tTOTAL_TWEETS \n",
      "\tMean: 5,015.2 \n",
      "\tMedian: 2,519.0 \n",
      "\tSD: 10,008.4 \n",
      "\tSEM: 61.5 \n",
      "\tRange: 2.0 to 384,987.0\n",
      "\n",
      "\tNumber of users that used 'sad' hashtag X times:\n",
      "\tX = 1 time(s): 21,229\n",
      "\tX = 2 time(s): 3,047\n",
      "\tX = 3 time(s): 995\n",
      "\tX = 4 time(s): 367\n",
      "\tX = 5 time(s): 222\n",
      "\n",
      "\tNumber of users that used 'sad' hashtag more than X times:\n",
      "\tX > 5 times: 596\n",
      "\n",
      "SUMMARY STATS FOR \"SERIOUSLY\" HASHTAG\n",
      "\n",
      "\tTotal users: 9,033\n",
      "\n",
      "\tFOLLOWERS_COUNT \n",
      "\tMean: 754.7 \n",
      "\tMedian: 203.0 \n",
      "\tSD: 10,321.7 \n",
      "\tSEM: 108.6 \n",
      "\tRange: 0.0 to 740,765.0\n",
      "\n",
      "\tFRIENDS \n",
      "\tMean: 616.2 \n",
      "\tMedian: 413.0 \n",
      "\tSD: 950.5 \n",
      "\tSEM: 10.0 \n",
      "\tRange: 0.0 to 54,592.0\n",
      "\n",
      "\tTOTAL_TWEETS \n",
      "\tMean: 3,850.8 \n",
      "\tMedian: 2,519.0 \n",
      "\tSD: 6,309.9 \n",
      "\tSEM: 66.4 \n",
      "\tRange: 3.0 to 222,174.0\n",
      "\n",
      "\tNumber of users that used 'seriously' hashtag X times:\n",
      "\tX = 1 time(s): 7,692\n",
      "\tX = 2 time(s): 944\n",
      "\tX = 3 time(s): 223\n",
      "\tX = 4 time(s): 87\n",
      "\tX = 5 time(s): 28\n",
      "\n",
      "\tNumber of users that used 'seriously' hashtag more than X times:\n",
      "\tX > 5 times: 59\n"
     ]
    }
   ],
   "source": [
    "get_stats(tweets_sarcasm, 'sarcasm')\n",
    "calc_num_ht_uses(tweets_sarcasm, 'sarcasm')\n",
    "\n",
    "get_stats(tweets_happy, 'happy')\n",
    "calc_num_ht_uses(tweets_happy, 'happy')\n",
    "\n",
    "get_stats(tweets_sad, 'sad')\n",
    "calc_num_ht_uses(tweets_sad, 'sad')\n",
    "\n",
    "get_stats(tweets_seriously, 'seriously')\n",
    "calc_num_ht_uses(tweets_seriously, 'seriously')"
   ]
  },
  {
   "cell_type": "markdown",
   "metadata": {},
   "source": [
    "### Top user locations by hashtag"
   ]
  },
  {
   "cell_type": "code",
   "execution_count": 54,
   "metadata": {
    "ExecuteTime": {
     "end_time": "2017-11-08T09:01:58.280284Z",
     "start_time": "2017-11-08T09:01:58.246281Z"
    }
   },
   "outputs": [
    {
     "name": "stdout",
     "output_type": "stream",
     "text": [
      "\n",
      "Sarcasm Hashtag:\n",
      "New York, NY       255\n",
      "Los Angeles, CA    250\n",
      "Chicago, IL        245\n",
      "United States      212\n",
      "Seattle, WA        172\n",
      "Name: location, dtype: int64\n",
      "\n",
      "Happy Hashtag:\n",
      "Los Angeles, CA    141\n",
      "New York, NY       132\n",
      "London             124\n",
      "Chicago, IL        119\n",
      "Washington, DC      95\n",
      "Name: location, dtype: int64\n",
      "\n",
      "Sad Hashtag:\n",
      "United States      624\n",
      "Los Angeles, CA    373\n",
      "New York, NY       352\n",
      "Chicago, IL        311\n",
      "Washington, DC     274\n",
      "Name: location, dtype: int64\n",
      "\n",
      "Seriously Hashtag:\n",
      "Seriously?         171\n",
      "Chicago, IL        126\n",
      "Washington, DC     116\n",
      "New York, NY       113\n",
      "Los Angeles, CA    112\n",
      "Name: location, dtype: int64\n"
     ]
    }
   ],
   "source": [
    "print('\\nSarcasm Hashtag:\\n{}'.format(tweets_sarcasm['location'].value_counts()[0:5]))\n",
    "print('\\nHappy Hashtag:\\n{}'.format(tweets_happy['location'].value_counts()[0:5]))\n",
    "print('\\nSad Hashtag:\\n{}'.format(tweets_sad['location'].value_counts()[0:5]))\n",
    "print('\\nSeriously Hashtag:\\n{}'.format(tweets_seriously['location'].value_counts()[0:5]))"
   ]
  },
  {
   "cell_type": "markdown",
   "metadata": {},
   "source": [
    "### Top timezones by hashtag"
   ]
  },
  {
   "cell_type": "code",
   "execution_count": 55,
   "metadata": {
    "ExecuteTime": {
     "end_time": "2017-11-08T09:01:59.071943Z",
     "start_time": "2017-11-08T09:01:59.031939Z"
    }
   },
   "outputs": [
    {
     "name": "stdout",
     "output_type": "stream",
     "text": [
      "\n",
      "Sarcasm Hashtag:\n",
      "Eastern Time (US & Canada)    7334\n",
      "Central Time (US & Canada)    5323\n",
      "Pacific Time (US & Canada)    3552\n",
      "Quito                         1210\n",
      "London                        1088\n",
      "Name: timezone, dtype: int64\n",
      "\n",
      "Happy Hashtag:\n",
      "Eastern Time (US & Canada)    2631\n",
      "Central Time (US & Canada)    1964\n",
      "Pacific Time (US & Canada)    1427\n",
      "London                         779\n",
      "Quito                          662\n",
      "Name: timezone, dtype: int64\n",
      "\n",
      "Sad Hashtag:\n",
      "Eastern Time (US & Canada)    8679\n",
      "Pacific Time (US & Canada)    5107\n",
      "Central Time (US & Canada)    4978\n",
      "Quito                         1516\n",
      "Atlantic Time (Canada)        1229\n",
      "Name: timezone, dtype: int64\n",
      "\n",
      "Seriously Hashtag:\n",
      "Eastern Time (US & Canada)    2809\n",
      "Central Time (US & Canada)    2329\n",
      "Pacific Time (US & Canada)    1190\n",
      "Quito                          678\n",
      "Atlantic Time (Canada)         475\n",
      "Name: timezone, dtype: int64\n"
     ]
    }
   ],
   "source": [
    "print('\\nSarcasm Hashtag:\\n{}'.format(tweets_sarcasm['timezone'].value_counts()[0:5]))\n",
    "print('\\nHappy Hashtag:\\n{}'.format(tweets_happy['timezone'].value_counts()[0:5]))\n",
    "print('\\nSad Hashtag:\\n{}'.format(tweets_sad['timezone'].value_counts()[0:5]))\n",
    "print('\\nSeriously Hashtag:\\n{}'.format(tweets_seriously['timezone'].value_counts()[0:5]))"
   ]
  },
  {
   "cell_type": "code",
   "execution_count": 56,
   "metadata": {
    "ExecuteTime": {
     "end_time": "2017-11-08T09:01:59.616393Z",
     "start_time": "2017-11-08T09:01:59.244961Z"
    }
   },
   "outputs": [
    {
     "data": {
      "image/png": "[encoded data removed]",
      "text/plain": [
       "<matplotlib.figure.Figure at 0x17e776a0>"
      ]
     },
     "metadata": {},
     "output_type": "display_data"
    }
   ],
   "source": [
    "title = 'Number of users by timezone: #sarcasm'\n",
    "xlabel = 'Timezone'\n",
    "ylabel = 'Number of users'\n",
    "filename = 'timezones_sarcasm'\n",
    "make_hist(tweets_sarcasm, 'timezone', 10, xlabel, ylabel, title, filename)"
   ]
  },
  {
   "cell_type": "code",
   "execution_count": 57,
   "metadata": {
    "ExecuteTime": {
     "end_time": "2017-11-08T09:01:59.950617Z",
     "start_time": "2017-11-08T09:01:59.616393Z"
    }
   },
   "outputs": [
    {
     "data": {
      "image/png": "[encoded data removed]",
      "text/plain": [
       "<matplotlib.figure.Figure at 0x17f8ba90>"
      ]
     },
     "metadata": {},
     "output_type": "display_data"
    }
   ],
   "source": [
    "title = 'Number of users by timezone: #happy'\n",
    "xlabel = 'Timezone'\n",
    "ylabel = 'Number of users'\n",
    "filename = 'timezones_happy'\n",
    "make_hist(tweets_happy, 'timezone', 10, xlabel, ylabel, title, filename)"
   ]
  },
  {
   "cell_type": "code",
   "execution_count": 58,
   "metadata": {
    "ExecuteTime": {
     "end_time": "2017-11-08T09:02:00.290651Z",
     "start_time": "2017-11-08T09:01:59.950617Z"
    }
   },
   "outputs": [
    {
     "data": {
      "image/png": "[encoded data removed]",
      "text/plain": [
       "<matplotlib.figure.Figure at 0x12c74dd8>"
      ]
     },
     "metadata": {},
     "output_type": "display_data"
    }
   ],
   "source": [
    "title = 'Number of users by timezone: #sad'\n",
    "xlabel = 'Timezone'\n",
    "ylabel = 'Number of users'\n",
    "filename = 'timezones_sad'\n",
    "make_hist(tweets_sad, 'timezone', 10, xlabel, ylabel, title, filename)"
   ]
  },
  {
   "cell_type": "code",
   "execution_count": 59,
   "metadata": {
    "ExecuteTime": {
     "end_time": "2017-11-08T09:02:00.605683Z",
     "start_time": "2017-11-08T09:02:00.291651Z"
    }
   },
   "outputs": [
    {
     "data": {
      "image/png": "[encoded data removed]",
      "text/plain": [
       "<matplotlib.figure.Figure at 0x17ed7278>"
      ]
     },
     "metadata": {},
     "output_type": "display_data"
    }
   ],
   "source": [
    "title = 'Number of users by timezone: #seriously'\n",
    "xlabel = 'Timezone'\n",
    "ylabel = 'Number of users'\n",
    "filename = 'timezones_seriously'\n",
    "make_hist(tweets_seriously, 'timezone', 10, xlabel, ylabel, title, filename)"
   ]
  },
  {
   "cell_type": "markdown",
   "metadata": {},
   "source": [
    "### Statistically compare friends, followers, and total tweets"
   ]
  },
  {
   "cell_type": "code",
   "execution_count": 54,
   "metadata": {
    "ExecuteTime": {
     "end_time": "2017-11-10T15:59:19.032235Z",
     "start_time": "2017-11-10T10:59:18.789433-05:00"
    },
    "collapsed": true
   },
   "outputs": [],
   "source": [
    "# add column to represent hashtag as string\n",
    "temp_col = np.where(tweets_all['sarcasm'] == 1, 'sarcasm','')\n",
    "temp_col = np.where(tweets_all['happy'] == 1, 'happy', temp_col)\n",
    "temp_col = np.where(tweets_all['sad'] == 1, 'sad', temp_col)\n",
    "temp_col = np.where(tweets_all['seriously'] == 1, 'seriously', temp_col)\n",
    "tweets_all['ht'] = temp_col"
   ]
  },
  {
   "cell_type": "code",
   "execution_count": 55,
   "metadata": {
    "ExecuteTime": {
     "end_time": "2017-11-10T15:59:21.304034Z",
     "start_time": "2017-11-10T10:59:19.624810-05:00"
    }
   },
   "outputs": [
    {
     "name": "stdout",
     "output_type": "stream",
     "text": [
      "\n",
      "=====================================\n",
      "ANOVA: FRIENDS\n",
      "=====================================\n",
      "\n",
      "                sum_sq       df          F        PR(>F)\n",
      "ht        4.206106e+08      3.0  14.797238  1.252158e-09\n",
      "Residual  9.082336e+11  95856.0        NaN           NaN\n",
      "\n",
      "=====================================\n",
      "PAIRWISE COMPARISONS: FRIENDS\n",
      "=====================================\n",
      "\n",
      "  Multiple Comparison of Means - Tukey HSD,FWER=0.05 \n",
      "=====================================================\n",
      " group1   group2   meandiff   lower    upper   reject\n",
      "-----------------------------------------------------\n",
      " happy     sad     58.8559   -21.6318 139.3436 False \n",
      " happy   sarcasm   -65.6765 -149.1689 17.8158  False \n",
      " happy  seriously -116.4726 -218.4993 -14.4459  True \n",
      "  sad    sarcasm  -124.5325 -184.1445 -64.9204  True \n",
      "  sad   seriously -175.3285 -258.9471 -91.7099  True \n",
      "sarcasm seriously  -50.796  -137.3106 35.7185  False \n",
      "-----------------------------------------------------\n",
      "['happy' 'sad' 'sarcasm' 'seriously']\n",
      "\n",
      "=====================================\n",
      "ANOVA: FOLLOWERS_COUNT\n",
      "=====================================\n",
      "\n",
      "                sum_sq       df         F    PR(>F)\n",
      "ht        1.608514e+09      3.0  1.059745  0.364813\n",
      "Residual  4.849773e+13  95856.0       NaN       NaN\n",
      "\n",
      "=====================================\n",
      "PAIRWISE COMPARISONS: FOLLOWERS_COUNT\n",
      "=====================================\n",
      "\n",
      "  Multiple Comparison of Means - Tukey HSD,FWER=0.05 \n",
      "=====================================================\n",
      " group1   group2   meandiff   lower    upper   reject\n",
      "-----------------------------------------------------\n",
      " happy     sad     212.0271 -376.1275 800.1817 False \n",
      " happy   sarcasm    6.6975  -603.4133 616.8083 False \n",
      " happy  seriously -158.8573 -904.4055 586.6909 False \n",
      "  sad    sarcasm  -205.3296 -640.9377 230.2786 False \n",
      "  sad   seriously -370.8844 -981.9175 240.1487 False \n",
      "sarcasm seriously -165.5548  -797.75  466.6404 False \n",
      "-----------------------------------------------------\n",
      "['happy' 'sad' 'sarcasm' 'seriously']\n",
      "\n",
      "=====================================\n",
      "ANOVA: TOTAL_TWEETS\n",
      "=====================================\n",
      "\n",
      "                sum_sq       df          F        PR(>F)\n",
      "ht        3.596462e+10      3.0  153.01128  6.205100e-99\n",
      "Residual  7.510175e+12  95856.0        NaN           NaN\n",
      "\n",
      "=====================================\n",
      "PAIRWISE COMPARISONS: TOTAL_TWEETS\n",
      "=====================================\n",
      "\n",
      "    Multiple Comparison of Means - Tukey HSD,FWER=0.05   \n",
      "=========================================================\n",
      " group1   group2   meandiff    lower      upper    reject\n",
      "---------------------------------------------------------\n",
      " happy     sad    1505.6214  1274.1722  1737.0707   True \n",
      " happy   sarcasm   618.361    378.2716   858.4505   True \n",
      " happy  seriously  34.5993   -258.7872   327.9858  False \n",
      "  sad    sarcasm  -887.2604  -1058.6799 -715.8409   True \n",
      "  sad   seriously -1471.0221 -1711.4745 -1230.5698  True \n",
      "sarcasm seriously -583.7617  -832.5418  -334.9817   True \n",
      "---------------------------------------------------------\n",
      "['happy' 'sad' 'sarcasm' 'seriously']\n"
     ]
    }
   ],
   "source": [
    "cols = ['friends','followers_count','total_tweets']\n",
    "for col in cols:\n",
    "\n",
    "    line_break = '\\n=====================================\\n'\n",
    "    print('{}ANOVA: {}{}'.format(line_break, col.upper(), line_break))\n",
    "    run_lm(tweets_all, col, ['ht'], True, True)\n",
    "\n",
    "    print('{}PAIRWISE COMPARISONS: {}{}'.format(line_break, col.upper(), line_break))\n",
    "    run_multcomp(tweets_all, col, 'ht')"
   ]
  },
  {
   "cell_type": "markdown",
   "metadata": {},
   "source": [
    "<div class=\"alert alert-warning\">\n",
    "<h3>Modeling: Cross-Validation for Naive Bayes</h3>\n",
    "</div>"
   ]
  },
  {
   "cell_type": "markdown",
   "metadata": {},
   "source": [
    "### Perform cross-validation"
   ]
  },
  {
   "cell_type": "markdown",
   "metadata": {},
   "source": [
    "#### Naive Bayes with AUC as scoring function & using CountVectorizer"
   ]
  },
  {
   "cell_type": "code",
   "execution_count": 62,
   "metadata": {
    "ExecuteTime": {
     "end_time": "2017-11-08T09:27:25.276856Z",
     "start_time": "2017-11-08T09:13:31.628015Z"
    }
   },
   "outputs": [
    {
     "name": "stdout",
     "output_type": "stream",
     "text": [
      "Results for Naive Bayes model using CountVectorizer with AUC as scoring function:\n",
      "\n",
      "Progress: 20%\n",
      "Progress: 40%\n",
      "Progress: 60%\n",
      "Progress: 80%\n",
      "Progress: 100%\n",
      "\n",
      "Score: 1.0, alpha: 1, min_df: 10, max_df: 0.7, ngram: (2, 2)\n"
     ]
    }
   ],
   "source": [
    "alphas = [1, 5, 10, 15, 20]\n",
    "min_dfs = [1, 2, 3, 4, 5, 10, 15, 20]\n",
    "max_dfs = [.6, .7, .8, .9, 1.0]\n",
    "ngrams = [(1,1), (2,2)]\n",
    "score_func = metrics.make_scorer(metrics.auc) # scoring method for cv_optimize\n",
    "vect_str = 'count'\n",
    "\n",
    "print('Results for Naive Bayes model using CountVectorizer with AUC as scoring function:\\n')\n",
    "best_params_NB_auc_count, clf_NB_auc_count = perform_cv_NB(tweets_all_sub, mask, alphas, min_dfs, max_dfs, ngrams, score_func, vect_str)"
   ]
  },
  {
   "cell_type": "markdown",
   "metadata": {},
   "source": [
    "#### Naive Bayes with AUC as scoring function & using TF-IDF Vectorizer"
   ]
  },
  {
   "cell_type": "code",
   "execution_count": 63,
   "metadata": {
    "ExecuteTime": {
     "end_time": "2017-11-08T09:36:17.477845Z",
     "start_time": "2017-11-08T09:27:30.932872Z"
    }
   },
   "outputs": [
    {
     "name": "stdout",
     "output_type": "stream",
     "text": [
      "Results for Naive Bayes model using TfidfVectorizer with AUC as scoring function:\n",
      "\n",
      "Progress: 20%\n",
      "Progress: 40%\n",
      "Progress: 60%\n",
      "Progress: 80%\n",
      "Progress: 100%\n",
      "\n",
      "Score: 1.0, alpha: 1, min_df: 15, max_df: 0.6, ngram: (2, 2)\n"
     ]
    }
   ],
   "source": [
    "alphas = [1, 5, 10, 15, 20]\n",
    "min_dfs = [1, 2, 5, 10, 15]\n",
    "max_dfs = [.6, .7, .8, .9, 1.0]\n",
    "ngrams = [(1,1), (2,2)]\n",
    "score_func = metrics.make_scorer(metrics.auc) # options: log_likelihood, cohenk, auc\n",
    "vect_str = 'tfidf'\n",
    "\n",
    "print('Results for Naive Bayes model using TfidfVectorizer with AUC as scoring function:\\n')\n",
    "best_params_NB_auc_tfidf, clf_NB_auc_tfidf = perform_cv_NB(tweets_all_sub, mask, alphas, min_dfs, max_dfs, ngrams, score_func, vect_str)"
   ]
  },
  {
   "cell_type": "markdown",
   "metadata": {},
   "source": [
    "<div class=\"alert alert-warning\">\n",
    "<h3>Modeling: Evaluation for Naive Bayes Models</h3>\n",
    "</div>"
   ]
  },
  {
   "cell_type": "markdown",
   "metadata": {
    "collapsed": true
   },
   "source": [
    "### Model evaluation"
   ]
  },
  {
   "cell_type": "code",
   "execution_count": 64,
   "metadata": {
    "ExecuteTime": {
     "end_time": "2017-11-08T09:36:26.015545Z",
     "start_time": "2017-11-08T09:36:23.041264Z"
    },
    "scrolled": false
   },
   "outputs": [
    {
     "name": "stdout",
     "output_type": "stream",
     "text": [
      "MODEL EVALUATION FOR NAIVE BAYES (AUC) WITH COUNT VECTORIZER\n",
      "Most frequent words\n",
      "\n",
      "    140.00 looking forward\n",
      "    145.00 sounds like\n",
      "    161.00  great day\n",
      "    169.00   just got\n",
      "    178.00   good day\n",
      "    189.00  just love\n",
      "    191.00 looks like\n",
      "    205.00  feel like\n",
      "    222.00 good thing\n",
      "    271.00   don know\n",
      "\n",
      "Total # of words in vocabulary: 1,138\n",
      "Least frequent words\n",
      "\n",
      "     10.00 like tweet\n",
      "     10.00   guess ll\n",
      "     10.00 thing world\n",
      "     10.00 thing love\n",
      "     10.00 thing going\n",
      "     10.00 doesn need\n",
      "     10.00 doesn sound\n",
      "     10.00 doesn understand\n",
      "     10.00   news day\n",
      "     10.00 thehill realdonaldtrump\n",
      "\n",
      "Total # of words in vocabulary: 1,138\n",
      "\n",
      "Most predictive words\n",
      "\tP(sarcasm | word)\n",
      "love people       0.95\n",
      "really glad       0.93\n",
      "better better       0.93\n",
      "didn coming       0.93\n",
      " just love       0.92\n",
      " good know       0.92\n",
      "  good job       0.92\n",
      "   oh good       0.92\n",
      " wait hear       0.91\n",
      "favorite thing       0.91\n",
      "\n",
      "Least predictive words\n",
      "\tP(sarcasm | word)\n",
      "doesn know       0.10\n",
      "just bought       0.09\n",
      "sun shining       0.09\n",
      " just said       0.09\n",
      "old friends       0.08\n",
      " like room       0.07\n",
      " room roof       0.07\n",
      "happy happy       0.06\n",
      " life good       0.06\n",
      "  don care       0.05\n",
      "\n",
      "Accuracy for training set = 57.05%\n",
      "Accuracy for test set = 54.12%\n",
      "Cohen's Kappa = 0.08\n",
      "Precision = 0.53\n",
      "Recall = 0.89\n",
      "F1 = 0.66\n",
      "AUC = 0.59\n",
      "True positive rate = 0.19\n",
      "True negative rate = 0.89\n"
     ]
    },
    {
     "data": {
      "image/png": "[encoded data removed]",
      "text/plain": [
       "<matplotlib.figure.Figure at 0x1cec8f98>"
      ]
     },
     "metadata": {},
     "output_type": "display_data"
    }
   ],
   "source": [
    "print('MODEL EVALUATION FOR NAIVE BAYES (AUC) WITH COUNT VECTORIZER')\n",
    "\n",
    "best_min_df = best_params_NB_auc_count['min_df']\n",
    "best_max_df = best_params_NB_auc_count['max_df']\n",
    "best_alpha = best_params_NB_auc_count['alpha']\n",
    "best_ngram = best_params_NB_auc_count['ngram']\n",
    "\n",
    "vectorizer = CountVectorizer(min_df=best_min_df, max_df=best_max_df, stop_words='english', ngram_range=best_ngram)\n",
    "\n",
    "if hasattr(vectorizer, 'stop_words_'):\n",
    "    print('Number of terms ignored/excluded from model: {:,}'.format(len(vectorizer.stop_words_)))\n",
    "\n",
    "X, y, _ = make_xy(tweets_all_sub, vectorizer)\n",
    "\n",
    "freq_words(10, vectorizer, X, True)\n",
    "freq_words(10, vectorizer, X, False)\n",
    "\n",
    "Xtrain = X[mask]\n",
    "ytrain = y[mask]\n",
    "Xtest = X[~mask]\n",
    "ytest = y[~mask]\n",
    "\n",
    "clf = MultinomialNB(alpha=best_alpha).fit(Xtrain, ytrain)\n",
    "\n",
    "predictive_words(10, vectorizer, clf, Xtest)\n",
    "\n",
    "model_eval(clf, Xtrain, Xtest, ytrain, ytest)"
   ]
  },
  {
   "cell_type": "code",
   "execution_count": 65,
   "metadata": {
    "ExecuteTime": {
     "end_time": "2017-11-08T09:36:37.245458Z",
     "start_time": "2017-11-08T09:36:34.210350Z"
    },
    "scrolled": false
   },
   "outputs": [
    {
     "name": "stdout",
     "output_type": "stream",
     "text": [
      "MODEL EVALUATION FOR NAIVE BAYES (AUC) WITH TF-IDF VECTORIZER\n",
      "Most frequent words\n",
      "\n",
      "    122.66 looking forward\n",
      "    123.66 sounds like\n",
      "    128.24  great day\n",
      "    135.04   good day\n",
      "    142.76   just got\n",
      "    147.76  just love\n",
      "    159.73  feel like\n",
      "    165.79 looks like\n",
      "    201.75 good thing\n",
      "    226.56   don know\n",
      "\n",
      "Total # of words in vocabulary: 580\n",
      "Least frequent words\n",
      "\n",
      "     10.66 today really\n",
      "     11.40   like don\n",
      "     11.57  work just\n",
      "     11.62  start new\n",
      "     11.88 news today\n",
      "     11.97 know talking\n",
      "     12.05  just fine\n",
      "     12.07   10 years\n",
      "     12.07 night just\n",
      "     12.11  like know\n",
      "\n",
      "Total # of words in vocabulary: 580\n",
      "\n",
      "Most predictive words\n",
      "\tP(sarcasm | word)\n",
      "love people       0.94\n",
      "didn coming       0.92\n",
      "really glad       0.92\n",
      " just love       0.91\n",
      "good thing       0.91\n",
      " good know       0.91\n",
      " wait hear       0.91\n",
      "  good job       0.91\n",
      "   oh good       0.91\n",
      "favorite thing       0.91\n",
      "\n",
      "Least predictive words\n",
      "\tP(sarcasm | word)\n",
      "good friends       0.11\n",
      " long time       0.10\n",
      " need stop       0.10\n",
      "stop smiling       0.10\n",
      "doesn know       0.10\n",
      "sun shining       0.09\n",
      " just said       0.09\n",
      "just bought       0.09\n",
      " life good       0.07\n",
      "  don care       0.05\n",
      "\n",
      "Accuracy for training set = 54.97%\n",
      "Accuracy for test set = 53.41%\n",
      "Cohen's Kappa = 0.07\n",
      "Precision = 0.52\n",
      "Recall = 0.92\n",
      "F1 = 0.66\n",
      "AUC = 0.57\n",
      "True positive rate = 0.15\n",
      "True negative rate = 0.92\n"
     ]
    },
    {
     "data": {
      "image/png": "[encoded data removed]",
      "text/plain": [
       "<matplotlib.figure.Figure at 0x14a51710>"
      ]
     },
     "metadata": {},
     "output_type": "display_data"
    }
   ],
   "source": [
    "print('MODEL EVALUATION FOR NAIVE BAYES (AUC) WITH TF-IDF VECTORIZER')\n",
    "\n",
    "best_min_df = best_params_NB_auc_tfidf['min_df']\n",
    "best_max_df = best_params_NB_auc_tfidf['max_df']\n",
    "best_alpha = best_params_NB_auc_tfidf['alpha']\n",
    "best_ngram = best_params_NB_auc_tfidf['ngram']\n",
    "\n",
    "vectorizer = TfidfVectorizer(min_df=best_min_df, max_df=best_max_df, stop_words='english', ngram_range=best_ngram)\n",
    "\n",
    "if hasattr(vectorizer, 'stop_words_'):\n",
    "    print('Number of terms ignored/excluded from model: {:,}'.format(len(vectorizer.stop_words_)))\n",
    "\n",
    "X, y, _ = make_xy(tweets_all_sub, vectorizer)\n",
    "\n",
    "freq_words(10, vectorizer, X, True)\n",
    "freq_words(10, vectorizer, X, False)\n",
    "\n",
    "Xtrain = X[mask]\n",
    "ytrain = y[mask]\n",
    "Xtest = X[~mask]\n",
    "ytest = y[~mask]\n",
    "\n",
    "clf = MultinomialNB(alpha=best_alpha).fit(Xtrain, ytrain)\n",
    "\n",
    "predictive_words(10, vectorizer, clf, Xtest)\n",
    "\n",
    "model_eval(clf, Xtrain, Xtest, ytrain, ytest)"
   ]
  },
  {
   "cell_type": "markdown",
   "metadata": {},
   "source": [
    "<div class=\"alert alert-warning\">\n",
    "<h3>Modeling: Topic Modeling with LSI (200 Topics)</h3>\n",
    "</div>"
   ]
  },
  {
   "cell_type": "markdown",
   "metadata": {},
   "source": [
    "### Setup"
   ]
  },
  {
   "cell_type": "code",
   "execution_count": 66,
   "metadata": {
    "ExecuteTime": {
     "end_time": "2017-11-08T18:41:14.869490Z",
     "start_time": "2017-11-08T13:41:14.659435-05:00"
    },
    "collapsed": true
   },
   "outputs": [],
   "source": [
    "from gensim.corpora import Dictionary, MmCorpus\n",
    "from gensim.models import TfidfModel\n",
    "from gensim.models import LsiModel\n",
    "from gensim.models import LdaModel\n",
    "from gensim.models.word2vec import LineSentence"
   ]
  },
  {
   "cell_type": "code",
   "execution_count": 67,
   "metadata": {
    "ExecuteTime": {
     "end_time": "2017-11-08T18:41:15.359791Z",
     "start_time": "2017-11-08T13:41:15.349297-05:00"
    }
   },
   "outputs": [
    {
     "name": "stdout",
     "output_type": "stream",
     "text": [
      "Number of tweets: 61,301\n"
     ]
    }
   ],
   "source": [
    "# create subset dataframe\n",
    "df = tweets_all_sub[['user_tweet_id', 'text','sarcasm']]\n",
    "print('Number of tweets: {:,}'.format(len(df)))\n",
    "\n",
    "# set path to save gensim results\n",
    "path = './gensim/'\n",
    "\n",
    "# set number of topics to use when generating LSI/LDA model\n",
    "num_topics = 200"
   ]
  },
  {
   "cell_type": "markdown",
   "metadata": {},
   "source": [
    "### Generate LSI model"
   ]
  },
  {
   "cell_type": "code",
   "execution_count": 68,
   "metadata": {
    "ExecuteTime": {
     "end_time": "2017-11-08T18:41:24.292776Z",
     "start_time": "2017-11-08T13:41:18.993506-05:00"
    },
    "scrolled": true
   },
   "outputs": [
    {
     "name": "stderr",
     "output_type": "stream",
     "text": [
      "/Users/Rachel/.pyenv/versions/py36_env/lib/python3.6/site-packages/ipykernel_launcher.py:5: SettingWithCopyWarning: \n",
      "A value is trying to be set on a copy of a slice from a DataFrame.\n",
      "Try using .loc[row_indexer,col_indexer] = value instead\n",
      "\n",
      "See the caveats in the documentation: http://pandas.pydata.org/pandas-docs/stable/indexing.html#indexing-view-versus-copy\n",
      "  \"\"\"\n"
     ]
    },
    {
     "name": "stdout",
     "output_type": "stream",
     "text": [
      "Generating/loading LSI model, please wait.\n",
      "\tVocabulary dictionary successfully loaded from disk.\n",
      "\tTF-IDF model successful generated; total documents in model: 61,301\n",
      "\tBOWs successfully loaded from disk.\n",
      "\tLSI model with 200 topics successfully loaded from disk.\n",
      "\tLSI model dataframe successfully loaded from disk.\n"
     ]
    }
   ],
   "source": [
    "# convert tweet text to lowercase\n",
    "df['text'] = df['text'].str.lower()\n",
    "\n",
    "# generate lsi with num_topics\n",
    "df_lsi_200, lsi, tfidf, bows, vocab = LSI_model(df, num_topics)"
   ]
  },
  {
   "cell_type": "markdown",
   "metadata": {},
   "source": [
    "<div class=\"alert alert-warning\">\n",
    "<h3>Modeling: Classification with LSI Model (200 Topics)</h3>\n",
    "</div>"
   ]
  },
  {
   "cell_type": "markdown",
   "metadata": {},
   "source": [
    "### Setup"
   ]
  },
  {
   "cell_type": "code",
   "execution_count": 69,
   "metadata": {
    "ExecuteTime": {
     "end_time": "2017-11-08T18:41:26.693306Z",
     "start_time": "2017-11-08T13:41:26.115823-05:00"
    }
   },
   "outputs": [
    {
     "name": "stderr",
     "output_type": "stream",
     "text": [
      "/Users/Rachel/.pyenv/versions/py36_env/lib/python3.6/site-packages/ipykernel_launcher.py:8: SettingWithCopyWarning: \n",
      "A value is trying to be set on a copy of a slice from a DataFrame\n",
      "\n",
      "See the caveats in the documentation: http://pandas.pydata.org/pandas-docs/stable/indexing.html#indexing-view-versus-copy\n",
      "  \n",
      "/Users/Rachel/.pyenv/versions/py36_env/lib/python3.6/site-packages/ipykernel_launcher.py:9: SettingWithCopyWarning: \n",
      "A value is trying to be set on a copy of a slice from a DataFrame\n",
      "\n",
      "See the caveats in the documentation: http://pandas.pydata.org/pandas-docs/stable/indexing.html#indexing-view-versus-copy\n",
      "  if __name__ == '__main__':\n"
     ]
    }
   ],
   "source": [
    "df_mod_200 = df_lsi_200.copy()\n",
    "Xcols = df_mod_200.columns.values[0:num_topics]\n",
    "\n",
    "test_data = df_mod_200[~mask]\n",
    "train_data = df_mod_200[mask]\n",
    "\n",
    "# drop rows with NaNs\n",
    "test_data.dropna(how='any', inplace=True)\n",
    "train_data.dropna(how='any', inplace=True)\n",
    "\n",
    "Xtest_200 = test_data[Xcols]\n",
    "ytest_200 = test_data['sarcasm']\n",
    "Xtrain_200 = train_data[Xcols]\n",
    "ytrain_200 = train_data['sarcasm']"
   ]
  },
  {
   "cell_type": "markdown",
   "metadata": {},
   "source": [
    "### Random Forest with LSI components (200)"
   ]
  },
  {
   "cell_type": "code",
   "execution_count": 71,
   "metadata": {
    "ExecuteTime": {
     "end_time": "2017-11-08T10:06:38.908671Z",
     "start_time": "2017-11-08T09:38:45.246439Z"
    }
   },
   "outputs": [
    {
     "name": "stdout",
     "output_type": "stream",
     "text": [
      "Cross validation completed.\n",
      "Best parameters: {'min_samples_split': 5, 'n_estimators': 80}\n",
      "Best score: 0.90\n",
      "Scoring method used: make_scorer(auc))\n",
      "\n",
      "Accuracy for training set = 99.70%\n",
      "Accuracy for test set = 62.57%\n",
      "Cohen's Kappa = 0.25\n",
      "Precision = 0.63\n",
      "Recall = 0.60\n",
      "F1 = 0.62\n",
      "AUC = 0.67\n",
      "True positive rate = 0.65\n",
      "True negative rate = 0.60\n"
     ]
    },
    {
     "data": {
      "image/png": "[encoded data removed]",
      "text/plain": [
       "<matplotlib.figure.Figure at 0x14750940>"
      ]
     },
     "metadata": {},
     "output_type": "display_data"
    }
   ],
   "source": [
    "from sklearn.ensemble import RandomForestClassifier\n",
    "\n",
    "clf = RandomForestClassifier()\n",
    "dict_params = {'n_estimators': list(np.arange(10, 90, 10)),\n",
    "               'min_samples_split': [2, 3, 4, 5, 6]}\n",
    "\n",
    "scorer = metrics.make_scorer(metrics.auc) # scoring method for cv_optimize\n",
    "\n",
    "clf_lsi_RF_200, best_params_lsi_RF = cv_optimize(clf, dict_params, Xtrain_200, ytrain_200, scorer, n_folds=5)\n",
    "\n",
    "model_eval(clf_lsi_RF_200, Xtrain_200, Xtest_200, ytrain_200, ytest_200)"
   ]
  },
  {
   "cell_type": "markdown",
   "metadata": {},
   "source": [
    "### XGB classifier with LSI components (200)"
   ]
  },
  {
   "cell_type": "code",
   "execution_count": 70,
   "metadata": {
    "ExecuteTime": {
     "end_time": "2017-11-08T20:05:19.365779Z",
     "start_time": "2017-11-08T13:41:29.252467-05:00"
    }
   },
   "outputs": [
    {
     "name": "stdout",
     "output_type": "stream",
     "text": [
      "Cross validation completed.\n",
      "Best parameters: {'gamma': 0.001, 'learning_rate': 0.0001, 'n_estimators': 10}\n",
      "Best score: 0.90\n",
      "Scoring method used: make_scorer(auc))\n",
      "\n",
      "Accuracy for training set = 55.97%\n",
      "Accuracy for test set = 54.81%\n",
      "Cohen's Kappa = 0.10\n",
      "Precision = 0.53\n",
      "Recall = 0.88\n",
      "F1 = 0.66\n",
      "AUC = 0.55\n",
      "True positive rate = 0.22\n",
      "True negative rate = 0.88\n"
     ]
    },
    {
     "data": {
      "image/png": "[encoded data removed]",
      "text/plain": [
       "<matplotlib.figure.Figure at 0x133b74780>"
      ]
     },
     "metadata": {},
     "output_type": "display_data"
    }
   ],
   "source": [
    "from xgboost import XGBClassifier\n",
    "\n",
    "clf = XGBClassifier()\n",
    "dict_params = {'learning_rate': [0.0001, 0.001, 0.01, 0.1],\n",
    "               'n_estimators': list(np.arange(10, 110, 10)),\n",
    "               'gamma': [.001, .01, .1, 1., 5., 10.]}\n",
    "\n",
    "scorer = metrics.make_scorer(metrics.auc) # scoring method for cv_optimize\n",
    "\n",
    "clf_lsi_XGB_200, best_params_lsi_XGB = cv_optimize(clf, dict_params, Xtrain_200, ytrain_200, scorer, n_folds=5)\n",
    "\n",
    "model_eval(clf_lsi_XGB_200, Xtrain_200, Xtest_200, ytrain_200, ytest_200)"
   ]
  },
  {
   "cell_type": "markdown",
   "metadata": {},
   "source": [
    "### Logistic regression with LSI components (200)"
   ]
  },
  {
   "cell_type": "code",
   "execution_count": 72,
   "metadata": {
    "ExecuteTime": {
     "end_time": "2017-11-08T20:12:43.255778Z",
     "start_time": "2017-11-08T15:12:30.050271-05:00"
    }
   },
   "outputs": [
    {
     "name": "stdout",
     "output_type": "stream",
     "text": [
      "Cross validation completed.\n",
      "Best parameters: {'C': 1.0, 'class_weight': 'balanced', 'fit_intercept': False}\n",
      "Best score: 0.50\n",
      "Scoring method used: make_scorer(auc))\n",
      "\n",
      "Accuracy for training set = 66.95%\n",
      "Accuracy for test set = 66.15%\n",
      "Cohen's Kappa = 0.32\n",
      "Precision = 0.67\n",
      "Recall = 0.63\n",
      "F1 = 0.65\n",
      "AUC = 0.72\n",
      "True positive rate = 0.69\n",
      "True negative rate = 0.63\n"
     ]
    },
    {
     "data": {
      "image/png": "[encoded data removed]",
      "text/plain": [
       "<matplotlib.figure.Figure at 0x11a48df28>"
      ]
     },
     "metadata": {},
     "output_type": "display_data"
    }
   ],
   "source": [
    "from sklearn.linear_model import LogisticRegression\n",
    "\n",
    "clf = LogisticRegression()\n",
    "\n",
    "# create dictionary of parameters\n",
    "dict_params = {'C': [1., 2., 3.], # lower values = stronger regularization\n",
    "               'class_weight': ['balanced'],\n",
    "               'fit_intercept': [False]}\n",
    "\n",
    "scorer = metrics.make_scorer(metrics.auc) # scoring method for cv_optimize\n",
    "\n",
    "clf_lsi_LR_200, best_params_lsi_LR = cv_optimize(clf, dict_params, Xtrain_200, ytrain_200, scorer, n_folds=5)\n",
    "\n",
    "model_eval(clf_lsi_LR_200, Xtrain_200, Xtest_200, ytrain_200, ytest_200)"
   ]
  },
  {
   "cell_type": "markdown",
   "metadata": {},
   "source": [
    "<div class=\"alert alert-warning\">\n",
    "<h3>Modeling: Topic Modeling with LSI (300 Topics)</h3>\n",
    "</div>"
   ]
  },
  {
   "cell_type": "markdown",
   "metadata": {},
   "source": [
    "### Setup"
   ]
  },
  {
   "cell_type": "code",
   "execution_count": 38,
   "metadata": {
    "ExecuteTime": {
     "end_time": "2017-11-10T12:51:44.774506Z",
     "start_time": "2017-11-10T07:51:44.555073-05:00"
    },
    "collapsed": true
   },
   "outputs": [],
   "source": [
    "from gensim.corpora import Dictionary, MmCorpus\n",
    "from gensim.models import TfidfModel\n",
    "from gensim.models import LsiModel\n",
    "from gensim.models import LdaModel\n",
    "from gensim.models.word2vec import LineSentence"
   ]
  },
  {
   "cell_type": "code",
   "execution_count": 68,
   "metadata": {
    "ExecuteTime": {
     "end_time": "2017-11-09T22:09:51.173163Z",
     "start_time": "2017-11-09T17:09:51.163354-05:00"
    }
   },
   "outputs": [
    {
     "name": "stdout",
     "output_type": "stream",
     "text": [
      "Number of tweets: 61,301\n"
     ]
    }
   ],
   "source": [
    "# create subset dataframe\n",
    "df = tweets_all_sub[['user_tweet_id', 'text','sarcasm']]\n",
    "print('Number of tweets: {:,}'.format(len(df)))\n",
    "\n",
    "# set path to save gensim results\n",
    "path = './gensim/'\n",
    "\n",
    "# set number of topics to use when generating LSI/LDA model\n",
    "num_topics = 300"
   ]
  },
  {
   "cell_type": "markdown",
   "metadata": {},
   "source": [
    "### Generate LSI model"
   ]
  },
  {
   "cell_type": "code",
   "execution_count": 69,
   "metadata": {
    "ExecuteTime": {
     "end_time": "2017-11-09T22:10:00.831859Z",
     "start_time": "2017-11-09T17:09:53.794928-05:00"
    },
    "scrolled": false
   },
   "outputs": [
    {
     "name": "stderr",
     "output_type": "stream",
     "text": [
      "/Users/Rachel/.pyenv/versions/py36_env/lib/python3.6/site-packages/ipykernel_launcher.py:2: SettingWithCopyWarning: \n",
      "A value is trying to be set on a copy of a slice from a DataFrame.\n",
      "Try using .loc[row_indexer,col_indexer] = value instead\n",
      "\n",
      "See the caveats in the documentation: http://pandas.pydata.org/pandas-docs/stable/indexing.html#indexing-view-versus-copy\n",
      "  \n"
     ]
    },
    {
     "name": "stdout",
     "output_type": "stream",
     "text": [
      "Generating/loading LSI model, please wait.\n",
      "\tVocabulary dictionary successfully loaded from disk.\n",
      "\tTF-IDF model successful generated; total documents in model: 61,301\n",
      "\tBOWs successfully loaded from disk.\n",
      "\tLSI model with 300 topics successfully loaded from disk.\n",
      "\tLSI model dataframe successfully loaded from disk.\n"
     ]
    }
   ],
   "source": [
    "# convert tweet text to lowercase\n",
    "df['text'] = df['text'].str.lower()\n",
    "\n",
    "# generate lsi with num_topics\n",
    "df_lsi_300, lsi, tfidf, bows, vocab = LSI_model(df, num_topics)"
   ]
  },
  {
   "cell_type": "markdown",
   "metadata": {},
   "source": [
    "### Setup"
   ]
  },
  {
   "cell_type": "code",
   "execution_count": 70,
   "metadata": {
    "ExecuteTime": {
     "end_time": "2017-11-09T22:10:01.638800Z",
     "start_time": "2017-11-09T17:10:00.834260-05:00"
    }
   },
   "outputs": [
    {
     "name": "stderr",
     "output_type": "stream",
     "text": [
      "/Users/Rachel/.pyenv/versions/py36_env/lib/python3.6/site-packages/ipykernel_launcher.py:8: SettingWithCopyWarning: \n",
      "A value is trying to be set on a copy of a slice from a DataFrame\n",
      "\n",
      "See the caveats in the documentation: http://pandas.pydata.org/pandas-docs/stable/indexing.html#indexing-view-versus-copy\n",
      "  \n",
      "/Users/Rachel/.pyenv/versions/py36_env/lib/python3.6/site-packages/ipykernel_launcher.py:9: SettingWithCopyWarning: \n",
      "A value is trying to be set on a copy of a slice from a DataFrame\n",
      "\n",
      "See the caveats in the documentation: http://pandas.pydata.org/pandas-docs/stable/indexing.html#indexing-view-versus-copy\n",
      "  if __name__ == '__main__':\n"
     ]
    }
   ],
   "source": [
    "df_mod_300 = df_lsi_300.copy()\n",
    "Xcols = df_mod_300.columns.values[0:num_topics]\n",
    "\n",
    "test_data = df_mod_300[~mask]\n",
    "train_data = df_mod_300[mask]\n",
    "\n",
    "# drop rows with NaNs\n",
    "test_data.dropna(how='any', inplace=True)\n",
    "train_data.dropna(how='any', inplace=True)\n",
    "\n",
    "Xtest_300 = test_data[Xcols]\n",
    "ytest_300 = test_data['sarcasm']\n",
    "Xtrain_300 = train_data[Xcols]\n",
    "ytrain_300 = train_data['sarcasm']"
   ]
  },
  {
   "cell_type": "markdown",
   "metadata": {},
   "source": [
    "### Random Forest with LSI components (300)"
   ]
  },
  {
   "cell_type": "code",
   "execution_count": 71,
   "metadata": {
    "ExecuteTime": {
     "end_time": "2017-11-09T22:51:11.428130Z",
     "start_time": "2017-11-09T17:10:09.175090-05:00"
    },
    "scrolled": true
   },
   "outputs": [
    {
     "name": "stdout",
     "output_type": "stream",
     "text": [
      "Cross validation completed.\n",
      "Best parameters: {'min_samples_split': 3, 'n_estimators': 40}\n",
      "Best score: 0.70\n",
      "Scoring method used: make_scorer(auc))\n",
      "\n",
      "Accuracy for training set = 99.71%\n",
      "Accuracy for test set = 60.80%\n",
      "Cohen's Kappa = 0.22\n",
      "Precision = 0.62\n",
      "Recall = 0.57\n",
      "F1 = 0.59\n",
      "AUC = 0.65\n",
      "True positive rate = 0.65\n",
      "True negative rate = 0.57\n"
     ]
    },
    {
     "data": {
      "image/png": "[encoded data removed]",
      "text/plain": [
       "<matplotlib.figure.Figure at 0x11b7c0160>"
      ]
     },
     "metadata": {},
     "output_type": "display_data"
    }
   ],
   "source": [
    "from sklearn.ensemble import RandomForestClassifier\n",
    "\n",
    "clf = RandomForestClassifier()\n",
    "dict_params = {'n_estimators': list(np.arange(10, 90, 10)),\n",
    "               'min_samples_split': [2, 3, 4, 5, 6]}\n",
    "\n",
    "scorer = metrics.make_scorer(metrics.auc) # scoring method for cv_optimize\n",
    "\n",
    "clf_lsi_RF_300, best_params_lsi_RF = cv_optimize(clf, dict_params, Xtrain_300, ytrain_300, scorer, n_folds=5)\n",
    "\n",
    "model_eval(clf_lsi_RF_300, Xtrain_300, Xtest_300, ytrain_300, ytest_300)"
   ]
  },
  {
   "cell_type": "markdown",
   "metadata": {},
   "source": [
    "### XGB classifier with LSI components (300)"
   ]
  },
  {
   "cell_type": "code",
   "execution_count": 72,
   "metadata": {
    "ExecuteTime": {
     "end_time": "2017-11-10T01:04:01.099482Z",
     "start_time": "2017-11-09T18:11:42.887742-05:00"
    }
   },
   "outputs": [
    {
     "name": "stdout",
     "output_type": "stream",
     "text": [
      "Cross validation completed.\n",
      "Best parameters: {'gamma': 0.001, 'learning_rate': 0.0001, 'n_estimators': 10}\n",
      "Best score: 0.90\n",
      "Scoring method used: make_scorer(auc))\n",
      "\n",
      "Accuracy for training set = 57.24%\n",
      "Accuracy for test set = 55.75%\n",
      "Cohen's Kappa = 0.12\n",
      "Precision = 0.54\n",
      "Recall = 0.72\n",
      "F1 = 0.62\n",
      "AUC = 0.57\n",
      "True positive rate = 0.40\n",
      "True negative rate = 0.72\n"
     ]
    },
    {
     "data": {
      "image/png": "[encoded data removed]",
      "text/plain": [
       "<matplotlib.figure.Figure at 0x11b535d68>"
      ]
     },
     "metadata": {},
     "output_type": "display_data"
    }
   ],
   "source": [
    "from xgboost import XGBClassifier\n",
    "\n",
    "clf = XGBClassifier()\n",
    "dict_params = {'learning_rate': [0.0001, 0.001, 0.01, 0.1],\n",
    "               'n_estimators': list(np.arange(10, 110, 10)),\n",
    "               'gamma': [.001, .01, .1, 1., 5., 10.]}\n",
    "\n",
    "scorer = metrics.make_scorer(metrics.auc) # scoring method for cv_optimize\n",
    "\n",
    "clf_lsi_XGB_300, best_params_lsi_XGB = cv_optimize(clf, dict_params, Xtrain_300, ytrain_300, scorer, n_folds=5)\n",
    "\n",
    "model_eval(clf_lsi_XGB_300, Xtrain_300, Xtest_300, ytrain_300, ytest_300)"
   ]
  },
  {
   "cell_type": "markdown",
   "metadata": {},
   "source": [
    "### Logistic regression with LSI components (300)"
   ]
  },
  {
   "cell_type": "code",
   "execution_count": 72,
   "metadata": {
    "ExecuteTime": {
     "end_time": "2017-11-09T21:17:53.397883Z",
     "start_time": "2017-11-09T16:17:31.133298-05:00"
    }
   },
   "outputs": [
    {
     "name": "stdout",
     "output_type": "stream",
     "text": [
      "Cross validation completed.\n",
      "Best parameters: {'C': 1.0, 'class_weight': 'balanced', 'fit_intercept': False}\n",
      "Best score: 0.30\n",
      "Scoring method used: make_scorer(auc))\n",
      "\n",
      "Accuracy for training set = 69.13%\n",
      "Accuracy for test set = 67.33%\n",
      "Cohen's Kappa = 0.35\n",
      "Precision = 0.68\n",
      "Recall = 0.65\n",
      "F1 = 0.66\n",
      "AUC = 0.74\n",
      "True positive rate = 0.70\n",
      "True negative rate = 0.65\n"
     ]
    },
    {
     "data": {
      "image/png": "[encoded data removed]",
      "text/plain": [
       "<matplotlib.figure.Figure at 0x10778d9e8>"
      ]
     },
     "metadata": {},
     "output_type": "display_data"
    }
   ],
   "source": [
    "from sklearn.linear_model import LogisticRegression\n",
    "\n",
    "clf = LogisticRegression()\n",
    "\n",
    "# create dictionary of parameters\n",
    "dict_params = {'C': [1., 2., 3.], # lower values = stronger regularization\n",
    "               'class_weight': ['balanced'],\n",
    "               'fit_intercept': [False]}\n",
    "\n",
    "scorer = metrics.make_scorer(metrics.auc) # scoring method for cv_optimize\n",
    "\n",
    "clf_lsi_LR_300, best_params_lsi_LR = cv_optimize(clf, dict_params, Xtrain_300, ytrain_300, scorer, n_folds=5)\n",
    "\n",
    "model_eval(clf_lsi_LR_300, Xtrain_300, Xtest_300, ytrain_300, ytest_300)"
   ]
  },
  {
   "cell_type": "markdown",
   "metadata": {},
   "source": [
    "<div class=\"alert alert-warning\">\n",
    "<h3>Modeling: Topic Modeling with LSI (400 Topics)</h3>\n",
    "</div>"
   ]
  },
  {
   "cell_type": "markdown",
   "metadata": {},
   "source": [
    "### Setup"
   ]
  },
  {
   "cell_type": "code",
   "execution_count": 39,
   "metadata": {
    "ExecuteTime": {
     "end_time": "2017-11-10T12:51:48.645272Z",
     "start_time": "2017-11-10T07:51:48.635320-05:00"
    }
   },
   "outputs": [
    {
     "name": "stdout",
     "output_type": "stream",
     "text": [
      "Number of tweets: 61,301\n"
     ]
    }
   ],
   "source": [
    "# create subset dataframe\n",
    "df = tweets_all_sub[['user_tweet_id', 'text','sarcasm']]\n",
    "print('Number of tweets: {:,}'.format(len(df)))\n",
    "\n",
    "# set path to save gensim results\n",
    "path = './gensim/'\n",
    "\n",
    "# set number of topics to use when generating LSI/LDA model\n",
    "num_topics = 400"
   ]
  },
  {
   "cell_type": "markdown",
   "metadata": {},
   "source": [
    "### Generate LSI model"
   ]
  },
  {
   "cell_type": "code",
   "execution_count": 40,
   "metadata": {
    "ExecuteTime": {
     "end_time": "2017-11-10T12:51:58.230872Z",
     "start_time": "2017-11-10T07:51:49.590187-05:00"
    },
    "scrolled": false
   },
   "outputs": [
    {
     "name": "stderr",
     "output_type": "stream",
     "text": [
      "/Users/Rachel/.pyenv/versions/py36_env/lib/python3.6/site-packages/ipykernel_launcher.py:2: SettingWithCopyWarning: \n",
      "A value is trying to be set on a copy of a slice from a DataFrame.\n",
      "Try using .loc[row_indexer,col_indexer] = value instead\n",
      "\n",
      "See the caveats in the documentation: http://pandas.pydata.org/pandas-docs/stable/indexing.html#indexing-view-versus-copy\n",
      "  \n"
     ]
    },
    {
     "name": "stdout",
     "output_type": "stream",
     "text": [
      "Generating/loading LSI model, please wait.\n",
      "\tVocabulary dictionary successfully loaded from disk.\n",
      "\tTF-IDF model successful generated; total documents in model: 61,301\n",
      "\tBOWs successfully loaded from disk.\n",
      "\tLSI model with 400 topics successfully loaded from disk.\n",
      "\tLSI model dataframe successfully loaded from disk.\n"
     ]
    }
   ],
   "source": [
    "# convert tweet text to lowercase\n",
    "df['text'] = df['text'].str.lower()\n",
    "\n",
    "# generate lsi with num_topics\n",
    "df_lsi_400, lsi, tfidf, bows, vocab = LSI_model(df, num_topics)"
   ]
  },
  {
   "cell_type": "markdown",
   "metadata": {},
   "source": [
    "### Setup"
   ]
  },
  {
   "cell_type": "code",
   "execution_count": 41,
   "metadata": {
    "ExecuteTime": {
     "end_time": "2017-11-10T12:52:05.509687Z",
     "start_time": "2017-11-10T07:52:04.476538-05:00"
    },
    "scrolled": true
   },
   "outputs": [
    {
     "name": "stderr",
     "output_type": "stream",
     "text": [
      "/Users/Rachel/.pyenv/versions/py36_env/lib/python3.6/site-packages/ipykernel_launcher.py:8: SettingWithCopyWarning: \n",
      "A value is trying to be set on a copy of a slice from a DataFrame\n",
      "\n",
      "See the caveats in the documentation: http://pandas.pydata.org/pandas-docs/stable/indexing.html#indexing-view-versus-copy\n",
      "  \n",
      "/Users/Rachel/.pyenv/versions/py36_env/lib/python3.6/site-packages/ipykernel_launcher.py:9: SettingWithCopyWarning: \n",
      "A value is trying to be set on a copy of a slice from a DataFrame\n",
      "\n",
      "See the caveats in the documentation: http://pandas.pydata.org/pandas-docs/stable/indexing.html#indexing-view-versus-copy\n",
      "  if __name__ == '__main__':\n"
     ]
    }
   ],
   "source": [
    "df_mod_400 = df_lsi_400.copy()\n",
    "Xcols = df_mod_400.columns.values[0:num_topics]\n",
    "\n",
    "test_data = df_mod_400[~mask]\n",
    "train_data = df_mod_400[mask]\n",
    "\n",
    "# drop rows with NaNs\n",
    "test_data.dropna(how='any', inplace=True)\n",
    "train_data.dropna(how='any', inplace=True)\n",
    "\n",
    "Xtest_400 = test_data[Xcols]\n",
    "ytest_400 = test_data['sarcasm']\n",
    "Xtrain_400 = train_data[Xcols]\n",
    "ytrain_400 = train_data['sarcasm']"
   ]
  },
  {
   "cell_type": "markdown",
   "metadata": {},
   "source": [
    "### Random Forest with LSI components (400)"
   ]
  },
  {
   "cell_type": "code",
   "execution_count": 86,
   "metadata": {
    "ExecuteTime": {
     "end_time": "2017-11-10T02:06:58.494111Z",
     "start_time": "2017-11-09T20:18:33.759733-05:00"
    },
    "scrolled": true
   },
   "outputs": [
    {
     "name": "stdout",
     "output_type": "stream",
     "text": [
      "Cross validation completed.\n",
      "Best parameters: {'min_samples_split': 3, 'n_estimators': 50}\n",
      "Best score: 0.70\n",
      "Scoring method used: make_scorer(auc))\n",
      "\n",
      "Accuracy for training set = 99.71%\n",
      "Accuracy for test set = 60.78%\n",
      "Cohen's Kappa = 0.22\n",
      "Precision = 0.61\n",
      "Recall = 0.57\n",
      "F1 = 0.59\n",
      "AUC = 0.65\n",
      "True positive rate = 0.64\n",
      "True negative rate = 0.57\n"
     ]
    },
    {
     "data": {
      "image/png": "[encoded data removed]",
      "text/plain": [
       "<matplotlib.figure.Figure at 0x11d544e10>"
      ]
     },
     "metadata": {},
     "output_type": "display_data"
    }
   ],
   "source": [
    "from sklearn.ensemble import RandomForestClassifier\n",
    "\n",
    "clf = RandomForestClassifier()\n",
    "dict_params = {'n_estimators': list(np.arange(10, 90, 10)),\n",
    "               'min_samples_split': [2, 3, 4, 5, 6]}\n",
    "\n",
    "scorer = metrics.make_scorer(metrics.auc) # scoring method for cv_optimize\n",
    "\n",
    "clf_lsi_RF_400, best_params_lsi_RF = cv_optimize(clf, dict_params, Xtrain_400, ytrain_400, scorer, n_folds=5)\n",
    "\n",
    "model_eval(clf_lsi_RF_400, Xtrain_400, Xtest_400, ytrain_400, ytest_400)"
   ]
  },
  {
   "cell_type": "markdown",
   "metadata": {},
   "source": [
    "### XGB classifier with LSI components (400)"
   ]
  },
  {
   "cell_type": "code",
   "execution_count": 42,
   "metadata": {
    "ExecuteTime": {
     "end_time": "2017-11-10T15:34:31.486707Z",
     "start_time": "2017-11-10T07:52:09.900091-05:00"
    }
   },
   "outputs": [
    {
     "name": "stdout",
     "output_type": "stream",
     "text": [
      "Cross validation completed.\n",
      "Best parameters: {'gamma': 0.001, 'learning_rate': 0.01, 'n_estimators': 90}\n",
      "Best score: 1.00\n",
      "Scoring method used: make_scorer(auc))\n",
      "\n",
      "Accuracy for training set = 59.62%\n",
      "Accuracy for test set = 57.86%\n",
      "Cohen's Kappa = 0.16\n",
      "Precision = 0.57\n",
      "Recall = 0.67\n",
      "F1 = 0.61\n",
      "AUC = 0.61\n",
      "True positive rate = 0.49\n",
      "True negative rate = 0.67\n"
     ]
    },
    {
     "data": {
      "image/png": "[encoded data removed]",
      "text/plain": [
       "<matplotlib.figure.Figure at 0x134c82e48>"
      ]
     },
     "metadata": {},
     "output_type": "display_data"
    }
   ],
   "source": [
    "from xgboost import XGBClassifier\n",
    "\n",
    "clf = XGBClassifier()\n",
    "dict_params = {'learning_rate': [0.0001, 0.001, 0.01, 0.1],\n",
    "               'n_estimators': list(np.arange(10, 110, 10)),\n",
    "               'gamma': [.001, .01, .1, 1., 5., 10.]}\n",
    "\n",
    "scorer = metrics.make_scorer(metrics.auc) # scoring method for cv_optimize\n",
    "\n",
    "clf_lsi_XGB_400, best_params_lsi_XGB = cv_optimize(clf, dict_params, Xtrain_400, ytrain_400, scorer, n_folds=5)\n",
    "\n",
    "model_eval(clf_lsi_XGB_400, Xtrain_400, Xtest_400, ytrain_400, ytest_400)"
   ]
  },
  {
   "cell_type": "markdown",
   "metadata": {},
   "source": [
    "### Logistic regression with LSI components (400)"
   ]
  },
  {
   "cell_type": "code",
   "execution_count": 43,
   "metadata": {
    "ExecuteTime": {
     "end_time": "2017-11-10T15:51:11.452549Z",
     "start_time": "2017-11-10T10:50:38.903496-05:00"
    }
   },
   "outputs": [
    {
     "name": "stdout",
     "output_type": "stream",
     "text": [
      "Cross validation completed.\n",
      "Best parameters: {'C': 1.0, 'class_weight': 'balanced', 'fit_intercept': False}\n",
      "Best score: 0.20\n",
      "Scoring method used: make_scorer(auc))\n",
      "\n",
      "Accuracy for training set = 70.04%\n",
      "Accuracy for test set = 67.70%\n",
      "Cohen's Kappa = 0.35\n",
      "Precision = 0.68\n",
      "Recall = 0.65\n",
      "F1 = 0.67\n",
      "AUC = 0.74\n",
      "True positive rate = 0.70\n",
      "True negative rate = 0.65\n"
     ]
    },
    {
     "data": {
      "image/png": "[encoded data removed]",
      "text/plain": [
       "<matplotlib.figure.Figure at 0x127736390>"
      ]
     },
     "metadata": {},
     "output_type": "display_data"
    }
   ],
   "source": [
    "from sklearn.linear_model import LogisticRegression\n",
    "\n",
    "clf = LogisticRegression()\n",
    "\n",
    "# create dictionary of parameters\n",
    "dict_params = {'C': [1., 2., 3.], # lower values = stronger regularization\n",
    "               'class_weight': ['balanced'],\n",
    "               'fit_intercept': [False]}\n",
    "\n",
    "scorer = metrics.make_scorer(metrics.auc) # scoring method for cv_optimize\n",
    "\n",
    "clf_lsi_LR_400, best_params_lsi_LR_400 = cv_optimize(clf, dict_params, Xtrain_400, ytrain_400, scorer, n_folds=5)\n",
    "\n",
    "model_eval(clf_lsi_LR_400, Xtrain_400, Xtest_400, ytrain_400, ytest_400)"
   ]
  },
  {
   "cell_type": "code",
   "execution_count": 45,
   "metadata": {
    "ExecuteTime": {
     "end_time": "2017-11-10T15:51:38.439570Z",
     "start_time": "2017-11-10T10:51:37.604978-05:00"
    }
   },
   "outputs": [
    {
     "name": "stdout",
     "output_type": "stream",
     "text": [
      "\t\n",
      "Standardized coefficients for sarcasm\n",
      "\n",
      "     Coeff_AV  Coefficient Feature\n",
      "9    0.494364    -0.494364       9\n",
      "11   0.381449     0.381449      11\n",
      "44   0.344495    -0.344495      44\n",
      "7    0.323437    -0.323437       7\n",
      "14   0.264873    -0.264873      14\n",
      "33   0.257437    -0.257437      33\n",
      "3    0.248882     0.248882       3\n",
      "68   0.242246    -0.242246      68\n",
      "32   0.240177     0.240177      32\n",
      "17   0.237120    -0.237120      17\n",
      "85   0.176489     0.176489      85\n",
      "77   0.175069     0.175069      77\n",
      "62   0.173112    -0.173112      62\n",
      "24   0.170950     0.170950      24\n",
      "46   0.168894    -0.168894      46\n",
      "8    0.162355     0.162355       8\n",
      "1    0.160901    -0.160901       1\n",
      "164  0.152633     0.152633     164\n",
      "0    0.148922     0.148922       0\n",
      "72   0.146977     0.146977      72\n",
      "73   0.139915    -0.139915      73\n",
      "69   0.138572     0.138572      69\n",
      "13   0.136113    -0.136113      13\n",
      "4    0.135085     0.135085       4\n",
      "156  0.130151     0.130151     156\n",
      "216  0.128210    -0.128210     216\n",
      "170  0.127725    -0.127725     170\n",
      "199  0.127168     0.127168     199\n",
      "41   0.125843     0.125843      41\n",
      "2    0.125200     0.125200       2\n",
      "..        ...          ...     ...\n",
      "287  0.003576    -0.003576     287\n",
      "303  0.003397    -0.003397     303\n",
      "339  0.003079     0.003079     339\n",
      "383  0.003000     0.003000     383\n",
      "93   0.002840     0.002840      93\n",
      "229  0.002732     0.002732     229\n",
      "233  0.002695     0.002695     233\n",
      "299  0.002694     0.002694     299\n",
      "207  0.002647     0.002647     207\n",
      "384  0.002556    -0.002556     384\n",
      "371  0.002543    -0.002543     371\n",
      "99   0.002440    -0.002440      99\n",
      "344  0.002284    -0.002284     344\n",
      "132  0.002193     0.002193     132\n",
      "322  0.002159     0.002159     322\n",
      "319  0.002140     0.002140     319\n",
      "232  0.002057    -0.002057     232\n",
      "189  0.001966    -0.001966     189\n",
      "342  0.001954     0.001954     342\n",
      "396  0.001731     0.001731     396\n",
      "209  0.001571     0.001571     209\n",
      "306  0.001435    -0.001435     306\n",
      "218  0.001302     0.001302     218\n",
      "65   0.001218    -0.001218      65\n",
      "227  0.001099     0.001099     227\n",
      "105  0.000965     0.000965     105\n",
      "98   0.000347     0.000347      98\n",
      "222  0.000297    -0.000297     222\n",
      "338  0.000270     0.000270     338\n",
      "212  0.000224    -0.000224     212\n",
      "\n",
      "[400 rows x 3 columns]\n"
     ]
    },
    {
     "data": {
      "image/png": "[encoded data removed]",
      "text/plain": [
       "<matplotlib.figure.Figure at 0x124529438>"
      ]
     },
     "metadata": {},
     "output_type": "display_data"
    }
   ],
   "source": [
    "feature_names = Xcols\n",
    "y_col = 'sarcasm'\n",
    "prop_feats_to_show = .1\n",
    "df_graph2 = graph_feature_import(clf_lsi_LR_400, feature_names, Xtest_400, y_col, prop_feats_to_show)"
   ]
  },
  {
   "cell_type": "code",
   "execution_count": 48,
   "metadata": {
    "ExecuteTime": {
     "end_time": "2017-11-10T15:52:32.543632Z",
     "start_time": "2017-11-10T10:52:32.535990-05:00"
    }
   },
   "outputs": [
    {
     "name": "stdout",
     "output_type": "stream",
     "text": [
      "term                 frequency\n",
      "\n",
      "for                  -0.66\n",
      "my                   0.39\n",
      "thanks               -0.31\n",
      "are                  0.21\n",
      "just                 0.20\n",
      "love                 -0.16\n",
      "and                  0.14\n",
      "was                  0.13\n",
      "the                  -0.12\n",
      "great                -0.12\n",
      "with                 0.12\n",
      "on                   0.10\n",
      "that                 0.10\n",
      "this                 -0.10\n",
      "so                   -0.09\n"
     ]
    }
   ],
   "source": [
    "# explore topics with largest standardized coefficients\n",
    "explore_topic(lsi, 9, 15)"
   ]
  }
 ],
 "metadata": {
  "_draft": {
   "nbviewer_url": "https://gist.github.com/fb6b1562862f5998b701b4c7578fc677"
  },
  "gist": {
   "data": {
    "description": "PythonNotebooks/springboard/capstone2/capstone2_code_29Oct17.ipynb",
    "public": false
   },
   "id": "fb6b1562862f5998b701b4c7578fc677"
  },
  "kernelspec": {
   "display_name": "Python 3",
   "language": "python",
   "name": "python3"
  },
  "language_info": {
   "codemirror_mode": {
    "name": "ipython",
    "version": 3
   },
   "file_extension": ".py",
   "mimetype": "text/x-python",
   "name": "python",
   "nbconvert_exporter": "python",
   "pygments_lexer": "ipython3",
   "version": "3.6.0"
  },
  "notify_time": "0",
  "toc": {
   "nav_menu": {},
   "number_sections": true,
   "sideBar": true,
   "skip_h1_title": false,
   "toc_cell": false,
   "toc_position": {},
   "toc_section_display": "block",
   "toc_window_display": false
  }
 },
 "nbformat": 4,
 "nbformat_minor": 2
}
