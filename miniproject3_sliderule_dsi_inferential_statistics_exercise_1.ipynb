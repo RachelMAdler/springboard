{
 "cells": [
  {
   "cell_type": "markdown",
   "metadata": {},
   "source": [
    "# What is the True Normal Human Body Temperature? \n",
    "\n",
    "### Background\n",
    "\n",
    "The mean normal body temperature was held to be 37$^{\\circ}$C or 98.6$^{\\circ}$F for more than 120 years since it was first conceptualized and reported by Carl Wunderlich in a famous 1868 book. But, is this value statistically correct?\n",
    "\n",
    "### Exercises\n",
    "In this exercise, you will analyze a dataset of human body temperatures and employ the concepts of hypothesis testing, confidence intervals, and statistical significance.\n",
    "\n",
    "#### 1. Is the distribution of body temperatures normal? \n",
    "\n",
    "* Although this is not a requirement for CLT to hold (read CLT carefully), it gives us some peace of mind that the population may also be normally distributed if we assume that this sample is representative of the population.\n",
    "\n",
    "#### 2. Is the sample size large? Are the observations independent?\n",
    "* Remember that this is a condition for the CLT, and hence the statistical tests we are using, to apply.\n",
    "\n",
    "#### 3. Is the true population mean really 98.6 degrees F?\n",
    "* Would you use a one-sample or two-sample test? Why?\n",
    "* In this situation, is it appropriate to use the $t$ or $z$ statistic? \n",
    "* Now try using the other test. How is the result be different? Why?\n",
    "\n",
    "#### 4. At what temperature should we consider someone's temperature to be \"abnormal\"?\n",
    "* Start by computing the margin of error and confidence interval.\n",
    "\n",
    "#### 5. Is there a significant difference between males and females in normal temperature?\n",
    "* What test did you use and why?\n",
    "* Write a story with your conclusion in the context of the original problem.\n",
    "\n",
    "### Resources\n",
    "\n",
    "* http://www.amstat.org/publications/jse/datasets/normtemp.txt\n",
    "* http://www.amstat.org/publications/jse/jse_data_archive.htm"
   ]
  },
  {
   "cell_type": "code",
   "execution_count": 1,
   "metadata": {
    "collapsed": false
   },
   "outputs": [],
   "source": [
    "import pandas as pd\n",
    "import matplotlib.pyplot as plt\n",
    "import numpy as np\n",
    "import scipy.stats as stats\n",
    "import seaborn as sns\n",
    "from statsmodels.stats.weightstats import ztest\n",
    "%matplotlib inline\n",
    "\n",
    "df = pd.read_csv('data/human_body_temperature.csv')"
   ]
  },
  {
   "cell_type": "code",
   "execution_count": 2,
   "metadata": {
    "collapsed": false
   },
   "outputs": [
    {
     "data": {
      "text/html": [
       "<div>\n",
       "<table border=\"1\" class=\"dataframe\">\n",
       "  <thead>\n",
       "    <tr style=\"text-align: right;\">\n",
       "      <th></th>\n",
       "      <th>temperature</th>\n",
       "      <th>gender</th>\n",
       "      <th>heart_rate</th>\n",
       "    </tr>\n",
       "  </thead>\n",
       "  <tbody>\n",
       "    <tr>\n",
       "      <th>0</th>\n",
       "      <td>99.3</td>\n",
       "      <td>F</td>\n",
       "      <td>68.0</td>\n",
       "    </tr>\n",
       "    <tr>\n",
       "      <th>1</th>\n",
       "      <td>98.4</td>\n",
       "      <td>F</td>\n",
       "      <td>81.0</td>\n",
       "    </tr>\n",
       "    <tr>\n",
       "      <th>2</th>\n",
       "      <td>97.8</td>\n",
       "      <td>M</td>\n",
       "      <td>73.0</td>\n",
       "    </tr>\n",
       "    <tr>\n",
       "      <th>3</th>\n",
       "      <td>99.2</td>\n",
       "      <td>F</td>\n",
       "      <td>66.0</td>\n",
       "    </tr>\n",
       "    <tr>\n",
       "      <th>4</th>\n",
       "      <td>98.0</td>\n",
       "      <td>F</td>\n",
       "      <td>73.0</td>\n",
       "    </tr>\n",
       "  </tbody>\n",
       "</table>\n",
       "</div>"
      ],
      "text/plain": [
       "   temperature gender  heart_rate\n",
       "0         99.3      F        68.0\n",
       "1         98.4      F        81.0\n",
       "2         97.8      M        73.0\n",
       "3         99.2      F        66.0\n",
       "4         98.0      F        73.0"
      ]
     },
     "execution_count": 2,
     "metadata": {},
     "output_type": "execute_result"
    }
   ],
   "source": [
    "df.head()"
   ]
  },
  {
   "cell_type": "markdown",
   "metadata": {
    "collapsed": false
   },
   "source": [
    "# 1. Is the distribution of body temperatures normal?"
   ]
  },
  {
   "cell_type": "code",
   "execution_count": 3,
   "metadata": {
    "collapsed": false
   },
   "outputs": [
    {
     "data": {
      "image/png": "[encoded data removed]",
      "text/plain": [
       "<matplotlib.figure.Figure at 0x1198d5c90>"
      ]
     },
     "metadata": {},
     "output_type": "display_data"
    }
   ],
   "source": [
    "plt.title('Number of individuals by body temperature\\n')\n",
    "plt.xlabel('Body temperature')\n",
    "plt.ylabel('Number of individuals')\n",
    "\n",
    "plt.hist(df.temperature, bins = 15, alpha=0.5)\n",
    "plt.show()"
   ]
  },
  {
   "cell_type": "code",
   "execution_count": 4,
   "metadata": {
    "collapsed": false
   },
   "outputs": [
    {
     "data": {
      "image/png": "[encoded data removed]",
      "text/plain": [
       "<matplotlib.figure.Figure at 0x10f5c1b90>"
      ]
     },
     "metadata": {},
     "output_type": "display_data"
    }
   ],
   "source": [
    "M = df[df.gender == 'M']\n",
    "F = df[df.gender == 'F']\n",
    "\n",
    "plt.title('Number of individuals by body temperature and gender\\n')\n",
    "plt.xlabel('Body temperature')\n",
    "plt.ylabel('Number of individuals')\n",
    "\n",
    "plt.hist(M.temperature, bins = 15, alpha=0.5, label='Male', color = 'blue')\n",
    "plt.hist(F.temperature, bins = 15, alpha=0.5, label='Female', color = 'red')\n",
    "plt.legend(loc='upper right')\n",
    "plt.show()"
   ]
  },
  {
   "cell_type": "code",
   "execution_count": 5,
   "metadata": {
    "collapsed": false
   },
   "outputs": [
    {
     "name": "stdout",
     "output_type": "stream",
     "text": [
      "p = 0.2332\n"
     ]
    }
   ],
   "source": [
    "W, pval = stats.shapiro(df.temperature)\n",
    "print('p = ' + str(round(pval,4)))"
   ]
  },
  {
   "cell_type": "markdown",
   "metadata": {},
   "source": [
    "No, the distribution is *not* normal. While the above results from the Shapiro-Wilk test for normality indicate that the data *are* (normally distributed (p = .23), the histograms reveal they are not. A histogram of the data shows that the left tail is relatively heavy. Furthermore, when the distribution is grouped by gender, it looks bimodal. Overall, body temperatures for women appear to be slightly higher than body temperatures for men. The distribution for men appears to be slightly more normally distributed than the distribution for women. "
   ]
  },
  {
   "cell_type": "markdown",
   "metadata": {},
   "source": [
    "# 2. Is the sample size large? Are the observations independent?"
   ]
  },
  {
   "cell_type": "code",
   "execution_count": 6,
   "metadata": {
    "collapsed": false
   },
   "outputs": [
    {
     "data": {
      "text/plain": [
       "130"
      ]
     },
     "execution_count": 6,
     "metadata": {},
     "output_type": "execute_result"
    }
   ],
   "source": [
    "len(df.temperature)"
   ]
  },
  {
   "cell_type": "markdown",
   "metadata": {},
   "source": [
    "The sample size is 130, which is relatively large.  Because each observation is drawn from a different individual, they are independent."
   ]
  },
  {
   "cell_type": "markdown",
   "metadata": {},
   "source": [
    "# 3. Is the true population mean really 98.6 degrees F?"
   ]
  },
  {
   "cell_type": "code",
   "execution_count": 7,
   "metadata": {
    "collapsed": false
   },
   "outputs": [
    {
     "name": "stdout",
     "output_type": "stream",
     "text": [
      "p = 5e-08\n"
     ]
    }
   ],
   "source": [
    "test_stat, pval = ztest(x1 = df.temperature, value = 98.6, alternative = 'two-sided')\n",
    "print('p = ' + str(round(pval,8)))"
   ]
  },
  {
   "cell_type": "markdown",
   "metadata": {},
   "source": [
    "The sample mean is significantly different from 98.6 (p < .001), so I reject the hypothesis that the true population mean is 98.6."
   ]
  },
  {
   "cell_type": "markdown",
   "metadata": {},
   "source": [
    "## 3A. Would you use a one-sample or two-sample test? Why?"
   ]
  },
  {
   "cell_type": "markdown",
   "metadata": {},
   "source": [
    "I'd use a one-sample test because the goal is to compare the provided data (the sample) to a hypothesized average value (98.6).  A two-sample test is used when comparing two samples of data to one another (e.g., males vs. females)."
   ]
  },
  {
   "cell_type": "markdown",
   "metadata": {},
   "source": [
    "## 3B. In this situation, is it appropriate to use the $t$ or $z$ statistic? "
   ]
  },
  {
   "cell_type": "markdown",
   "metadata": {},
   "source": [
    "Because the goal is to compare the mean of one group to a hypothesized mean, and the sample size is greater than 30, the z-statistic is appropriate."
   ]
  },
  {
   "cell_type": "markdown",
   "metadata": {},
   "source": [
    "## 3C. Now try using the other test. How is the result be different? Why?"
   ]
  },
  {
   "cell_type": "code",
   "execution_count": 8,
   "metadata": {
    "collapsed": false
   },
   "outputs": [
    {
     "name": "stdout",
     "output_type": "stream",
     "text": [
      "p = 2.4e-07\n"
     ]
    }
   ],
   "source": [
    "test_stat, pval = stats.ttest_1samp(df['temperature'], 98.6)\n",
    "print('p = ' + str(round(pval,8)))"
   ]
  },
  {
   "cell_type": "markdown",
   "metadata": {},
   "source": [
    "Even when using a t-test, the sample mean is significantly different from 98.6 (p < .001), so I reject the hypothesis that the true population mean is 98.6."
   ]
  },
  {
   "cell_type": "markdown",
   "metadata": {},
   "source": [
    "# 4. At what temperature should we consider someone's temperature to be \"abnormal\"?"
   ]
  },
  {
   "cell_type": "code",
   "execution_count": 9,
   "metadata": {
    "collapsed": false
   },
   "outputs": [
    {
     "name": "stdout",
     "output_type": "stream",
     "text": [
      "[96.82, 99.68]\n"
     ]
    }
   ],
   "source": [
    "mean = np.mean(df.temperature)\n",
    "me = 1.96 * np.std(df.temperature) # margin of error\n",
    "CI = [round(mean-me,2), round(mean+me,2)]\n",
    "print(CI)"
   ]
  },
  {
   "cell_type": "markdown",
   "metadata": {
    "collapsed": true
   },
   "source": [
    "The 95% confidence interval is (96.82, 99.68), so any temperature below 96.82 or above 99.68 should be considered \"abnormal\". However, because body temperatures for men and women appear to differ, a 95% confidence interval should be calculated for each (see code below). The 95% CI for men is (96.75, 99.46), and the 95% CI for women is (96.95, 99.84)."
   ]
  },
  {
   "cell_type": "code",
   "execution_count": 10,
   "metadata": {
    "collapsed": false
   },
   "outputs": [
    {
     "name": "stdout",
     "output_type": "stream",
     "text": [
      "[96.75, 99.46]\n"
     ]
    }
   ],
   "source": [
    "mean_M = np.mean(M.temperature)\n",
    "me_M = 1.96 * np.std(M.temperature) # margin of error\n",
    "CI_M = [round(mean_M - me_M,2), round(mean_M + me_M,2)]\n",
    "print(CI_M)"
   ]
  },
  {
   "cell_type": "code",
   "execution_count": 11,
   "metadata": {
    "collapsed": false
   },
   "outputs": [
    {
     "name": "stdout",
     "output_type": "stream",
     "text": [
      "[96.95, 99.84]\n"
     ]
    }
   ],
   "source": [
    "mean_F = np.mean(F.temperature)\n",
    "me_F = 1.96 * np.std(F.temperature) # margin of error\n",
    "CI_F = [round(mean_F - me_F,2), round(mean_F + me_F,2)]\n",
    "print(CI_F)"
   ]
  },
  {
   "cell_type": "markdown",
   "metadata": {},
   "source": [
    "# 5. Is there a significant difference between males and females in normal temperature?"
   ]
  },
  {
   "cell_type": "code",
   "execution_count": 12,
   "metadata": {
    "collapsed": false
   },
   "outputs": [
    {
     "name": "stdout",
     "output_type": "stream",
     "text": [
      "p = 0.0239\n"
     ]
    }
   ],
   "source": [
    "temp_M = df[df.gender == \"M\"].temperature\n",
    "temp_F = df[df.gender == \"F\"].temperature\n",
    "\n",
    "test_stat, pval = stats.ttest_ind(temp_M, temp_F)\n",
    "print('p = ' + str(round(pval,4)))"
   ]
  },
  {
   "cell_type": "markdown",
   "metadata": {},
   "source": [
    "Yes, there is a statistically significant difference (p < .05) between male and female body temperatures.  To determine this, I used a t-test, which allows you to test for a difference in means between two independent samples."
   ]
  },
  {
   "cell_type": "markdown",
   "metadata": {},
   "source": [
    "# Summary"
   ]
  },
  {
   "cell_type": "code",
   "execution_count": 13,
   "metadata": {
    "collapsed": false
   },
   "outputs": [
    {
     "name": "stdout",
     "output_type": "stream",
     "text": [
      "Overall mean: 98.25\n",
      "Male mean: 98.1\n",
      "Female mean: 98.39\n"
     ]
    }
   ],
   "source": [
    "print('Overall mean: ' + str(round(np.mean(df.temperature),2)))\n",
    "print('Male mean: ' + str(round(np.mean(temp_M),2)))\n",
    "print('Female mean: ' + str(round(np.mean(temp_F),2)))"
   ]
  },
  {
   "cell_type": "markdown",
   "metadata": {},
   "source": [
    "While the generally accepted normal body temperature is 98.6$^{\\circ}$F, the data analyzed here suggest that this value may not be accurate.  The mean temperature in this dataset (98.25$^{\\circ}$F) is significantly different from 98.6$^{\\circ}$F.  Furthermore, there appears to be a statistically significant difference between the average male body temperature (98.10$^{\\circ}$F) and the average female body temperature (98.39$^{\\circ}$F).  This suggests that the generally-reported normal body temperature may need to be adjusted to take gender into account."
   ]
  },
  {
   "cell_type": "code",
   "execution_count": null,
   "metadata": {
    "collapsed": true
   },
   "outputs": [],
   "source": []
  }
 ],
 "metadata": {
  "kernelspec": {
   "display_name": "Python 2",
   "language": "python",
   "name": "python2"
  },
  "language_info": {
   "codemirror_mode": {
    "name": "ipython",
    "version": 2
   },
   "file_extension": ".py",
   "mimetype": "text/x-python",
   "name": "python",
   "nbconvert_exporter": "python",
   "pygments_lexer": "ipython2",
   "version": "2.7.13"
  }
 },
 "nbformat": 4,
 "nbformat_minor": 0
}
